{
 "cells": [
  {
   "cell_type": "code",
   "execution_count": 1,
   "metadata": {},
   "outputs": [],
   "source": [
    "from azureml.core import Workspace, Experiment, Dataset, Datastore, Model\n",
    "from azureml.core.compute import ComputeTarget, AmlCompute\n",
    "from azureml.core.compute_target import ComputeTargetException\n",
    "from azureml.widgets import RunDetails\n",
    "from azureml.data.dataset_factory import TabularDatasetFactory\n",
    "from azureml.train.automl import AutoMLConfig\n",
    "from azureml.core.environment import Environment\n",
    "import pandas as pd\n",
    "import numpy as np\n",
    "import joblib"
   ]
  },
  {
   "cell_type": "code",
   "execution_count": 2,
   "metadata": {},
   "outputs": [],
   "source": [
    "ws = Workspace.from_config()\n",
    "experiment_name = 'california-housing-onnx'\n",
    "experiment=Experiment(ws, experiment_name)"
   ]
  },
  {
   "cell_type": "code",
   "execution_count": 3,
   "metadata": {},
   "outputs": [
    {
     "name": "stdout",
     "output_type": "stream",
     "text": [
      "Requirement already satisfied: onnxruntime in /anaconda/envs/azureml_py36/lib/python3.6/site-packages (1.3.0)\r\n",
      "Requirement already satisfied: protobuf in /anaconda/envs/azureml_py36/lib/python3.6/site-packages (from onnxruntime) (3.14.0)\r\n",
      "Requirement already satisfied: onnx>=1.2.3 in /anaconda/envs/azureml_py36/lib/python3.6/site-packages (from onnxruntime) (1.7.0)\r\n",
      "Requirement already satisfied: numpy>=1.16.6 in /anaconda/envs/azureml_py36/lib/python3.6/site-packages (from onnxruntime) (1.19.5)\r\n",
      "Requirement already satisfied: six>=1.9 in /anaconda/envs/azureml_py36/lib/python3.6/site-packages (from protobuf->onnxruntime) (1.15.0)\r\n",
      "Requirement already satisfied: typing-extensions>=3.6.2.1 in /anaconda/envs/azureml_py36/lib/python3.6/site-packages (from onnx>=1.2.3->onnxruntime) (3.7.4.3)\r\n"
     ]
    }
   ],
   "source": [
    "!pip install onnxruntime\n",
    "import onnxruntime\n",
    "from azureml.automl.runtime.onnx_convert import OnnxConverter"
   ]
  },
  {
   "cell_type": "code",
   "execution_count": 4,
   "metadata": {},
   "outputs": [
    {
     "name": "stdout",
     "output_type": "stream",
     "text": [
      "Using existing compute target.\n",
      "Succeeded\n",
      "AmlCompute wait for completion finished\n",
      "\n",
      "Minimum number of nodes requested have been provisioned\n"
     ]
    }
   ],
   "source": [
    "compute_name = \"nuria-p3\"\n",
    "try:\n",
    "    compute_target = ComputeTarget(workspace=ws, name=compute_name)\n",
    "    print('Using existing compute target.')\n",
    "except ComputeTargetException:\n",
    "    print('Creating compute target.')\n",
    "    cluster_type = 1\n",
    "    provisioning_config = AmlCompute.provisioning_configuration(vm_size='Standard_D12_V2', min_nodes=1, max_nodes=5)\n",
    "    compute_target = ComputeTarget.create(ws, compute_name, provisioning_config)\n",
    "\n",
    "compute_target.wait_for_completion(show_output=True)"
   ]
  },
  {
   "cell_type": "code",
   "execution_count": 5,
   "metadata": {},
   "outputs": [],
   "source": [
    "def create_datasets(x,y):\n",
    "    columns_x = ['MedInc','HouseAge','AveRooms','AveBedrms','Population','AveOccup','Latitude','Longitude']\n",
    "    x_df = pd.DataFrame(x,columns=columns_x)  \n",
    "    columns_y = ['MedHouseVal']\n",
    "    y_df = pd.DataFrame(y,columns=columns_y)  \n",
    "    \n",
    "    x_tr,x_test,y_tr,y_test = train_test_split(x_df,y_df, test_size = 20, random_state=0)\n",
    "\n",
    "    return x_tr,x_test,y_tr,y_test"
   ]
  },
  {
   "cell_type": "code",
   "execution_count": 6,
   "metadata": {},
   "outputs": [],
   "source": [
    "# load data and create datasets for training and testing\n",
    "from sklearn.datasets import fetch_california_housing\n",
    "from sklearn.model_selection import train_test_split\n",
    "  \n",
    "x,y = fetch_california_housing(return_X_y=True)\n",
    "x_train,x_test,y_train,y_test = create_datasets(x,y)\n",
    "data = pd.concat([x_train,y_train], axis=1)"
   ]
  },
  {
   "cell_type": "code",
   "execution_count": 7,
   "metadata": {},
   "outputs": [],
   "source": [
    "# Check if train dataset is already registered, if not, register it.\n",
    "found = False\n",
    "datastore=ws.get_default_datastore() \n",
    "if 'data' in ws.datasets.keys(): \n",
    "        found = True\n",
    "if not found:\n",
    "        TabularDatasetFactory.register_pandas_dataframe(data, datastore,'data')\n",
    "ds = Dataset.get_by_name(ws,'data')"
   ]
  },
  {
   "cell_type": "code",
   "execution_count": 8,
   "metadata": {},
   "outputs": [],
   "source": [
    "# TODO: Put your automl settings here\n",
    "automl_settings = { \"experiment_timeout_minutes\": 20,\n",
    "                    \"max_concurrent_iterations\": 5,\n",
    "                    \"primary_metric\" : 'r2_score'}      \n",
    "\n",
    "# TODO: Put your automl config here\n",
    "automl_config = AutoMLConfig(compute_target=compute_target,\n",
    "                             task = 'regression',\n",
    "                             training_data = ds,\n",
    "                             label_column_name ='MedHouseVal',   \n",
    "                             path = './automl',\n",
    "                             enable_early_stopping = True,\n",
    "                             featurization = 'auto',\n",
    "                             validation_size = 0.2,\n",
    "                             debug_log = 'automl_errors.log',\n",
    "                             enable_onnx_compatible_models = True,\n",
    "                             model_explainability=True,\n",
    "                             **automl_settings)"
   ]
  },
  {
   "cell_type": "code",
   "execution_count": 9,
   "metadata": {},
   "outputs": [
    {
     "name": "stdout",
     "output_type": "stream",
     "text": [
      "Running on remote.\n"
     ]
    }
   ],
   "source": [
    "# TODO: Submit your experiment\n",
    "remote_run = experiment.submit(automl_config)"
   ]
  },
  {
   "cell_type": "code",
   "execution_count": 10,
   "metadata": {},
   "outputs": [
    {
     "data": {
      "application/vnd.jupyter.widget-view+json": {
       "model_id": "1c84f610e08d4b689203b4a232610125",
       "version_major": 2,
       "version_minor": 0
      },
      "text/plain": [
       "_AutoMLWidget(widget_settings={'childWidgetDisplay': 'popup', 'send_telemetry': False, 'log_level': 'INFO', 's…"
      ]
     },
     "metadata": {},
     "output_type": "display_data"
    },
    {
     "data": {
      "application/aml.mini.widget.v1": "{\"status\": \"Completed\", \"workbench_run_details_uri\": \"https://ml.azure.com/experiments/california-housing-onnx/runs/AutoML_261eca2c-e7de-4823-892a-927f1066071f?wsid=/subscriptions/9a7511b8-150f-4a58-8528-3e7d50216c31/resourcegroups/aml-quickstarts-136165/workspaces/quick-starts-ws-136165\", \"run_id\": \"AutoML_261eca2c-e7de-4823-892a-927f1066071f\", \"run_properties\": {\"run_id\": \"AutoML_261eca2c-e7de-4823-892a-927f1066071f\", \"created_utc\": \"2021-01-26T19:13:37.317429Z\", \"properties\": {\"num_iterations\": \"1000\", \"training_type\": \"TrainFull\", \"acquisition_function\": \"EI\", \"primary_metric\": \"r2_score\", \"train_split\": \"0.2\", \"acquisition_parameter\": \"0\", \"num_cross_validation\": null, \"target\": \"nuria-p3\", \"AMLSettingsJsonString\": \"{\\\"path\\\":null,\\\"name\\\":\\\"california-housing-onnx\\\",\\\"subscription_id\\\":\\\"9a7511b8-150f-4a58-8528-3e7d50216c31\\\",\\\"resource_group\\\":\\\"aml-quickstarts-136165\\\",\\\"workspace_name\\\":\\\"quick-starts-ws-136165\\\",\\\"region\\\":\\\"southcentralus\\\",\\\"compute_target\\\":\\\"nuria-p3\\\",\\\"spark_service\\\":null,\\\"azure_service\\\":\\\"remote\\\",\\\"many_models\\\":false,\\\"pipeline_fetch_max_batch_size\\\":1,\\\"iterations\\\":1000,\\\"primary_metric\\\":\\\"r2_score\\\",\\\"task_type\\\":\\\"regression\\\",\\\"data_script\\\":null,\\\"validation_size\\\":0.2,\\\"n_cross_validations\\\":null,\\\"y_min\\\":null,\\\"y_max\\\":null,\\\"num_classes\\\":null,\\\"featurization\\\":\\\"auto\\\",\\\"_ignore_package_version_incompatibilities\\\":false,\\\"is_timeseries\\\":false,\\\"max_cores_per_iteration\\\":1,\\\"max_concurrent_iterations\\\":5,\\\"iteration_timeout_minutes\\\":null,\\\"mem_in_mb\\\":null,\\\"enforce_time_on_windows\\\":false,\\\"experiment_timeout_minutes\\\":20,\\\"experiment_exit_score\\\":null,\\\"whitelist_models\\\":null,\\\"blacklist_algos\\\":[\\\"TensorFlowDNN\\\",\\\"TensorFlowLinearRegressor\\\"],\\\"supported_models\\\":[\\\"XGBoostRegressor\\\",\\\"FastLinearRegressor\\\",\\\"KNN\\\",\\\"TensorFlowLinearRegressor\\\",\\\"ElasticNet\\\",\\\"GradientBoosting\\\",\\\"RandomForest\\\",\\\"ExtremeRandomTrees\\\",\\\"TensorFlowDNN\\\",\\\"OnlineGradientDescentRegressor\\\",\\\"DecisionTree\\\",\\\"LassoLars\\\",\\\"SGD\\\",\\\"LightGBM\\\"],\\\"auto_blacklist\\\":true,\\\"blacklist_samples_reached\\\":false,\\\"exclude_nan_labels\\\":true,\\\"verbosity\\\":20,\\\"_debug_log\\\":\\\"azureml_automl.log\\\",\\\"show_warnings\\\":false,\\\"model_explainability\\\":true,\\\"service_url\\\":null,\\\"sdk_url\\\":null,\\\"sdk_packages\\\":null,\\\"enable_onnx_compatible_models\\\":true,\\\"enable_split_onnx_featurizer_estimator_models\\\":false,\\\"vm_type\\\":\\\"STANDARD_D12_V2\\\",\\\"telemetry_verbosity\\\":20,\\\"send_telemetry\\\":true,\\\"enable_dnn\\\":false,\\\"scenario\\\":\\\"SDK-1.13.0\\\",\\\"environment_label\\\":null,\\\"force_text_dnn\\\":false,\\\"enable_feature_sweeping\\\":false,\\\"enable_early_stopping\\\":true,\\\"early_stopping_n_iters\\\":10,\\\"metrics\\\":null,\\\"enable_ensembling\\\":true,\\\"enable_stack_ensembling\\\":false,\\\"ensemble_iterations\\\":15,\\\"enable_tf\\\":false,\\\"enable_subsampling\\\":null,\\\"subsample_seed\\\":null,\\\"enable_nimbusml\\\":false,\\\"enable_streaming\\\":false,\\\"force_streaming\\\":false,\\\"track_child_runs\\\":true,\\\"allowed_private_models\\\":[],\\\"label_column_name\\\":\\\"MedHouseVal\\\",\\\"weight_column_name\\\":null,\\\"cv_split_column_names\\\":null,\\\"enable_local_managed\\\":false,\\\"_local_managed_run_id\\\":null,\\\"cost_mode\\\":1,\\\"lag_length\\\":0,\\\"metric_operation\\\":\\\"maximize\\\",\\\"preprocess\\\":true}\", \"DataPrepJsonString\": \"{\\\\\\\"training_data\\\\\\\": \\\\\\\"{\\\\\\\\\\\\\\\"blocks\\\\\\\\\\\\\\\": [{\\\\\\\\\\\\\\\"id\\\\\\\\\\\\\\\": \\\\\\\\\\\\\\\"b39e2ffd-80c7-426a-a522-1852e2dead89\\\\\\\\\\\\\\\", \\\\\\\\\\\\\\\"type\\\\\\\\\\\\\\\": \\\\\\\\\\\\\\\"Microsoft.DPrep.GetDatastoreFilesBlock\\\\\\\\\\\\\\\", \\\\\\\\\\\\\\\"arguments\\\\\\\\\\\\\\\": {\\\\\\\\\\\\\\\"datastores\\\\\\\\\\\\\\\": [{\\\\\\\\\\\\\\\"datastoreName\\\\\\\\\\\\\\\": \\\\\\\\\\\\\\\"workspaceblobstore\\\\\\\\\\\\\\\", \\\\\\\\\\\\\\\"path\\\\\\\\\\\\\\\": \\\\\\\\\\\\\\\"managed-dataset/93d95790-2319-4202-854e-e99533b8ab7f/\\\\\\\\\\\\\\\", \\\\\\\\\\\\\\\"resourceGroup\\\\\\\\\\\\\\\": \\\\\\\\\\\\\\\"aml-quickstarts-136165\\\\\\\\\\\\\\\", \\\\\\\\\\\\\\\"subscription\\\\\\\\\\\\\\\": \\\\\\\\\\\\\\\"9a7511b8-150f-4a58-8528-3e7d50216c31\\\\\\\\\\\\\\\", \\\\\\\\\\\\\\\"workspaceName\\\\\\\\\\\\\\\": \\\\\\\\\\\\\\\"quick-starts-ws-136165\\\\\\\\\\\\\\\"}]}, \\\\\\\\\\\\\\\"localData\\\\\\\\\\\\\\\": {}, \\\\\\\\\\\\\\\"isEnabled\\\\\\\\\\\\\\\": true, \\\\\\\\\\\\\\\"name\\\\\\\\\\\\\\\": null, \\\\\\\\\\\\\\\"annotation\\\\\\\\\\\\\\\": null}, {\\\\\\\\\\\\\\\"id\\\\\\\\\\\\\\\": \\\\\\\\\\\\\\\"f6919b46-286b-41a8-bc34-88d7a7e42317\\\\\\\\\\\\\\\", \\\\\\\\\\\\\\\"type\\\\\\\\\\\\\\\": \\\\\\\\\\\\\\\"Microsoft.DPrep.ReadParquetFileBlock\\\\\\\\\\\\\\\", \\\\\\\\\\\\\\\"arguments\\\\\\\\\\\\\\\": {\\\\\\\\\\\\\\\"preview\\\\\\\\\\\\\\\": false}, \\\\\\\\\\\\\\\"localData\\\\\\\\\\\\\\\": {}, \\\\\\\\\\\\\\\"isEnabled\\\\\\\\\\\\\\\": true, \\\\\\\\\\\\\\\"name\\\\\\\\\\\\\\\": null, \\\\\\\\\\\\\\\"annotation\\\\\\\\\\\\\\\": null}, {\\\\\\\\\\\\\\\"id\\\\\\\\\\\\\\\": \\\\\\\\\\\\\\\"e361e130-7285-4b2e-b9be-9e81cf31be41\\\\\\\\\\\\\\\", \\\\\\\\\\\\\\\"type\\\\\\\\\\\\\\\": \\\\\\\\\\\\\\\"Microsoft.DPrep.DropColumnsBlock\\\\\\\\\\\\\\\", \\\\\\\\\\\\\\\"arguments\\\\\\\\\\\\\\\": {\\\\\\\\\\\\\\\"columns\\\\\\\\\\\\\\\": {\\\\\\\\\\\\\\\"type\\\\\\\\\\\\\\\": 0, \\\\\\\\\\\\\\\"details\\\\\\\\\\\\\\\": {\\\\\\\\\\\\\\\"selectedColumns\\\\\\\\\\\\\\\": [\\\\\\\\\\\\\\\"Path\\\\\\\\\\\\\\\"]}}}, \\\\\\\\\\\\\\\"localData\\\\\\\\\\\\\\\": {}, \\\\\\\\\\\\\\\"isEnabled\\\\\\\\\\\\\\\": true, \\\\\\\\\\\\\\\"name\\\\\\\\\\\\\\\": null, \\\\\\\\\\\\\\\"annotation\\\\\\\\\\\\\\\": null}], \\\\\\\\\\\\\\\"inspectors\\\\\\\\\\\\\\\": [], \\\\\\\\\\\\\\\"meta\\\\\\\\\\\\\\\": {\\\\\\\\\\\\\\\"savedDatasetId\\\\\\\\\\\\\\\": \\\\\\\\\\\\\\\"1d1d5304-91d4-44e8-8c48-7709de50bf5f\\\\\\\\\\\\\\\", \\\\\\\\\\\\\\\"datasetType\\\\\\\\\\\\\\\": \\\\\\\\\\\\\\\"tabular\\\\\\\\\\\\\\\", \\\\\\\\\\\\\\\"subscriptionId\\\\\\\\\\\\\\\": \\\\\\\\\\\\\\\"9a7511b8-150f-4a58-8528-3e7d50216c31\\\\\\\\\\\\\\\", \\\\\\\\\\\\\\\"workspaceId\\\\\\\\\\\\\\\": \\\\\\\\\\\\\\\"4d9755f0-99dd-479d-b69a-9df297d99555\\\\\\\\\\\\\\\", \\\\\\\\\\\\\\\"workspaceLocation\\\\\\\\\\\\\\\": \\\\\\\\\\\\\\\"southcentralus\\\\\\\\\\\\\\\"}}\\\\\\\", \\\\\\\"activities\\\\\\\": 0}\", \"EnableSubsampling\": null, \"runTemplate\": \"AutoML\", \"azureml.runsource\": \"automl\", \"display_task_type\": \"regression\", \"dependencies_versions\": \"{\\\"azureml-widgets\\\": \\\"1.21.0\\\", \\\"azureml-train\\\": \\\"1.21.0\\\", \\\"azureml-train-restclients-hyperdrive\\\": \\\"1.21.0\\\", \\\"azureml-train-core\\\": \\\"1.21.0\\\", \\\"azureml-train-automl\\\": \\\"1.21.0\\\", \\\"azureml-train-automl-runtime\\\": \\\"1.21.0\\\", \\\"azureml-train-automl-client\\\": \\\"1.21.0\\\", \\\"azureml-tensorboard\\\": \\\"1.20.0\\\", \\\"azureml-telemetry\\\": \\\"1.21.0\\\", \\\"azureml-sdk\\\": \\\"1.21.0\\\", \\\"azureml-samples\\\": \\\"0+unknown\\\", \\\"azureml-pipeline\\\": \\\"1.21.0\\\", \\\"azureml-pipeline-steps\\\": \\\"1.21.0\\\", \\\"azureml-pipeline-core\\\": \\\"1.21.0\\\", \\\"azureml-opendatasets\\\": \\\"1.20.0\\\", \\\"azureml-model-management-sdk\\\": \\\"1.0.1b6.post1\\\", \\\"azureml-mlflow\\\": \\\"1.20.0.post1\\\", \\\"azureml-interpret\\\": \\\"1.21.0\\\", \\\"azureml-explain-model\\\": \\\"1.20.0\\\", \\\"azureml-defaults\\\": \\\"1.21.0\\\", \\\"azureml-dataset-runtime\\\": \\\"1.21.0\\\", \\\"azureml-dataprep\\\": \\\"2.8.2\\\", \\\"azureml-dataprep-rslex\\\": \\\"1.6.0\\\", \\\"azureml-dataprep-native\\\": \\\"28.0.0\\\", \\\"azureml-datadrift\\\": \\\"1.20.0\\\", \\\"azureml-core\\\": \\\"1.21.0.post1\\\", \\\"azureml-contrib-services\\\": \\\"1.20.0\\\", \\\"azureml-contrib-server\\\": \\\"1.20.0\\\", \\\"azureml-contrib-reinforcementlearning\\\": \\\"1.20.0\\\", \\\"azureml-contrib-pipeline-steps\\\": \\\"1.20.0\\\", \\\"azureml-contrib-notebook\\\": \\\"1.21.0\\\", \\\"azureml-contrib-interpret\\\": \\\"1.20.0\\\", \\\"azureml-contrib-gbdt\\\": \\\"1.20.0\\\", \\\"azureml-contrib-fairness\\\": \\\"1.20.0\\\", \\\"azureml-contrib-dataset\\\": \\\"1.20.0\\\", \\\"azureml-cli-common\\\": \\\"1.20.0\\\", \\\"azureml-automl-runtime\\\": \\\"1.21.0\\\", \\\"azureml-automl-core\\\": \\\"1.21.0\\\", \\\"azureml-accel-models\\\": \\\"1.20.0\\\"}\", \"_aml_system_scenario_identification\": \"Remote.Parent\", \"ClientType\": \"SDK\", \"environment_cpu_name\": \"AzureML-AutoML\", \"environment_cpu_label\": \"prod\", \"environment_gpu_name\": \"AzureML-AutoML-GPU\", \"environment_gpu_label\": \"prod\", \"root_attribution\": \"automl\", \"attribution\": \"AutoML\", \"Orchestrator\": \"AutoML\", \"CancelUri\": \"https://southcentralus.experiments.azureml.net/jasmine/v1.0/subscriptions/9a7511b8-150f-4a58-8528-3e7d50216c31/resourceGroups/aml-quickstarts-136165/providers/Microsoft.MachineLearningServices/workspaces/quick-starts-ws-136165/experimentids/0a663ffc-89da-4560-aad2-9754125f94dd/cancel/AutoML_261eca2c-e7de-4823-892a-927f1066071f\", \"ClientSdkVersion\": \"1.20.0.post1\", \"snapshotId\": \"00000000-0000-0000-0000-000000000000\", \"SetupRunId\": \"AutoML_261eca2c-e7de-4823-892a-927f1066071f_setup\", \"SetupRunContainerId\": \"dcid.AutoML_261eca2c-e7de-4823-892a-927f1066071f_setup\", \"FeaturizationRunJsonPath\": \"featurizer_container.json\", \"FeaturizationRunId\": \"AutoML_261eca2c-e7de-4823-892a-927f1066071f_featurize\", \"ProblemInfoJsonString\": \"{\\\"dataset_num_categorical\\\": 0, \\\"is_sparse\\\": false, \\\"subsampling\\\": false, \\\"dataset_classes\\\": 3659, \\\"dataset_features\\\": 8, \\\"dataset_samples\\\": 16496, \\\"single_frequency_class_detected\\\": false}\", \"ModelExplainRunId\": \"AutoML_261eca2c-e7de-4823-892a-927f1066071f_ModelExplain\"}, \"tags\": {\"model_explain_run\": \"best_run\", \"_aml_system_azureml.automlComponent\": \"AutoML\", \"pipeline_id\": \"\", \"score\": \"\", \"predicted_cost\": \"\", \"fit_time\": \"\", \"training_percent\": \"\", \"iteration\": \"\", \"run_preprocessor\": \"\", \"run_algorithm\": \"\", \"dynamic_whitelisting_iterations\": \"<25>;<30>;<35>;\", \"automl_best_child_run_id\": \"AutoML_261eca2c-e7de-4823-892a-927f1066071f_38\", \"model_explain_best_run_child_id\": \"AutoML_261eca2c-e7de-4823-892a-927f1066071f_38\"}, \"end_time_utc\": \"2021-01-26T19:37:20.858015Z\", \"status\": \"Completed\", \"log_files\": {}, \"log_groups\": [], \"run_duration\": \"0:23:43\", \"run_number\": \"2\", \"run_queued_details\": {\"status\": \"Completed\", \"details\": null}}, \"child_runs\": [{\"run_id\": \"AutoML_261eca2c-e7de-4823-892a-927f1066071f_1\", \"run_number\": 6, \"metric\": null, \"status\": \"Completed\", \"run_type\": \"azureml.scriptrun\", \"training_percent\": \"100\", \"start_time\": \"2021-01-26T19:20:08.022227Z\", \"end_time\": \"2021-01-26T19:21:09.917405Z\", \"created_time\": \"2021-01-26T19:18:02.842274Z\", \"created_time_dt\": \"2021-01-26T19:18:02.842274Z\", \"duration\": \"0:03:07\", \"iteration\": \"1\", \"goal\": \"r2_score_max\", \"run_name\": \"MaxAbsScaler, XGBoostRegressor\", \"run_properties\": \"copy=True\", \"primary_metric\": 0.79454155, \"best_metric\": 0.8418665}, {\"run_id\": \"AutoML_261eca2c-e7de-4823-892a-927f1066071f_3\", \"run_number\": 7, \"metric\": null, \"status\": \"Completed\", \"run_type\": \"azureml.scriptrun\", \"training_percent\": \"100\", \"start_time\": \"2021-01-26T19:19:06.058772Z\", \"end_time\": \"2021-01-26T19:22:10.489633Z\", \"created_time\": \"2021-01-26T19:18:02.908847Z\", \"created_time_dt\": \"2021-01-26T19:18:02.908847Z\", \"duration\": \"0:04:07\", \"iteration\": \"3\", \"goal\": \"r2_score_max\", \"run_name\": \"MaxAbsScaler, RandomForest\", \"run_properties\": \"copy=True\", \"primary_metric\": 0.73806825, \"best_metric\": 0.8418665}, {\"run_id\": \"AutoML_261eca2c-e7de-4823-892a-927f1066071f_4\", \"run_number\": 8, \"metric\": null, \"status\": \"Completed\", \"run_type\": \"azureml.scriptrun\", \"training_percent\": \"100\", \"start_time\": \"2021-01-26T19:20:44.798028Z\", \"end_time\": \"2021-01-26T19:21:33.571613Z\", \"created_time\": \"2021-01-26T19:18:02.921819Z\", \"created_time_dt\": \"2021-01-26T19:18:02.921819Z\", \"duration\": \"0:03:30\", \"iteration\": \"4\", \"goal\": \"r2_score_max\", \"run_name\": \"StandardScalerWrapper, XGBoostRegressor\", \"run_properties\": \"<azureml.automl.runtime.shared.model_wrappers.StandardScalerWrapper object at 0x7f7a81658d68\", \"primary_metric\": 0.84854969, \"best_metric\": 0.84854969}, {\"run_id\": \"AutoML_261eca2c-e7de-4823-892a-927f1066071f_2\", \"run_number\": 9, \"metric\": null, \"status\": \"Completed\", \"run_type\": \"azureml.scriptrun\", \"training_percent\": \"100\", \"start_time\": \"2021-01-26T19:19:47.243645Z\", \"end_time\": \"2021-01-26T19:20:39.352713Z\", \"created_time\": \"2021-01-26T19:18:03.190648Z\", \"created_time_dt\": \"2021-01-26T19:18:03.190648Z\", \"duration\": \"0:02:36\", \"iteration\": \"2\", \"goal\": \"r2_score_max\", \"run_name\": \"SparseNormalizer, XGBoostRegressor\", \"run_properties\": \"<azureml.automl.runtime.shared.model_wrappers.SparseNormalizer object at 0x7f29309fbd68\", \"primary_metric\": 0.65800568, \"best_metric\": 0.8418665}, {\"run_id\": \"AutoML_261eca2c-e7de-4823-892a-927f1066071f_0\", \"run_number\": 10, \"metric\": null, \"status\": \"Completed\", \"run_type\": \"azureml.scriptrun\", \"training_percent\": \"100\", \"start_time\": \"2021-01-26T19:21:10.255574Z\", \"end_time\": \"2021-01-26T19:21:52.207381Z\", \"created_time\": \"2021-01-26T19:18:02.842255Z\", \"created_time_dt\": \"2021-01-26T19:18:02.842255Z\", \"duration\": \"0:03:49\", \"iteration\": \"0\", \"goal\": \"r2_score_max\", \"run_name\": \"MaxAbsScaler, LightGBM\", \"run_properties\": \"copy=True\", \"primary_metric\": 0.8418665, \"best_metric\": 0.8418665}, {\"run_id\": \"AutoML_261eca2c-e7de-4823-892a-927f1066071f_5\", \"run_number\": 11, \"metric\": null, \"status\": \"Completed\", \"run_type\": \"azureml.scriptrun\", \"training_percent\": \"100\", \"start_time\": \"2021-01-26T19:22:09.280659Z\", \"end_time\": \"2021-01-26T19:22:54.674888Z\", \"created_time\": \"2021-01-26T19:20:42.773359Z\", \"created_time_dt\": \"2021-01-26T19:20:42.773359Z\", \"duration\": \"0:02:11\", \"iteration\": \"5\", \"goal\": \"r2_score_max\", \"run_name\": \"MaxAbsScaler, ElasticNet\", \"run_properties\": \"copy=True\", \"primary_metric\": 0.56449708, \"best_metric\": 0.84854969}, {\"run_id\": \"AutoML_261eca2c-e7de-4823-892a-927f1066071f_6\", \"run_number\": 12, \"metric\": null, \"status\": \"Completed\", \"run_type\": \"azureml.scriptrun\", \"training_percent\": \"100\", \"start_time\": \"2021-01-26T19:22:09.943617Z\", \"end_time\": \"2021-01-26T19:23:20.129089Z\", \"created_time\": \"2021-01-26T19:21:26.129161Z\", \"created_time_dt\": \"2021-01-26T19:21:26.129161Z\", \"duration\": \"0:01:53\", \"iteration\": \"6\", \"goal\": \"r2_score_max\", \"run_name\": \"MinMaxScaler, RandomForest\", \"run_properties\": \"copy=True, feature_range=(0, 1\", \"primary_metric\": 0.6977741, \"best_metric\": 0.84854969}, {\"run_id\": \"AutoML_261eca2c-e7de-4823-892a-927f1066071f_7\", \"run_number\": 13, \"metric\": null, \"status\": \"Completed\", \"run_type\": \"azureml.scriptrun\", \"training_percent\": \"100\", \"start_time\": \"2021-01-26T19:22:26.68186Z\", \"end_time\": \"2021-01-26T19:23:13.436518Z\", \"created_time\": \"2021-01-26T19:21:36.798489Z\", \"created_time_dt\": \"2021-01-26T19:21:36.798489Z\", \"duration\": \"0:01:36\", \"iteration\": \"7\", \"goal\": \"r2_score_max\", \"run_name\": \"StandardScalerWrapper, XGBoostRegressor\", \"run_properties\": \"<azureml.automl.runtime.shared.model_wrappers.StandardScalerWrapper object at 0x7f0957267860\", \"primary_metric\": 0.8430163, \"best_metric\": 0.84854969}, {\"run_id\": \"AutoML_261eca2c-e7de-4823-892a-927f1066071f_8\", \"run_number\": 14, \"metric\": null, \"status\": \"Completed\", \"run_type\": \"azureml.scriptrun\", \"training_percent\": \"100\", \"start_time\": \"2021-01-26T19:22:59.740412Z\", \"end_time\": \"2021-01-26T19:23:53.828105Z\", \"created_time\": \"2021-01-26T19:21:55.706442Z\", \"created_time_dt\": \"2021-01-26T19:21:55.706442Z\", \"duration\": \"0:01:58\", \"iteration\": \"8\", \"goal\": \"r2_score_max\", \"run_name\": \"MinMaxScaler, ExtremeRandomTrees\", \"run_properties\": \"copy=True, feature_range=(0, 1\", \"primary_metric\": 0.71234533, \"best_metric\": 0.84854969}, {\"run_id\": \"AutoML_261eca2c-e7de-4823-892a-927f1066071f_9\", \"run_number\": 15, \"metric\": null, \"status\": \"Completed\", \"run_type\": \"azureml.scriptrun\", \"training_percent\": \"100\", \"start_time\": \"2021-01-26T19:23:05.001932Z\", \"end_time\": \"2021-01-26T19:23:45.486625Z\", \"created_time\": \"2021-01-26T19:22:13.669388Z\", \"created_time_dt\": \"2021-01-26T19:22:13.669388Z\", \"duration\": \"0:01:31\", \"iteration\": \"9\", \"goal\": \"r2_score_max\", \"run_name\": \"StandardScalerWrapper, ElasticNet\", \"run_properties\": \"<azureml.automl.runtime.shared.model_wrappers.StandardScalerWrapper object at 0x7f2653b6e6d8\", \"primary_metric\": 0.56630309, \"best_metric\": 0.84854969}, {\"run_id\": \"AutoML_261eca2c-e7de-4823-892a-927f1066071f_10\", \"run_number\": 16, \"metric\": null, \"status\": \"Completed\", \"run_type\": \"azureml.scriptrun\", \"training_percent\": \"100\", \"start_time\": \"2021-01-26T19:23:47.419561Z\", \"end_time\": \"2021-01-26T19:25:07.516785Z\", \"created_time\": \"2021-01-26T19:22:58.107025Z\", \"created_time_dt\": \"2021-01-26T19:22:58.107025Z\", \"duration\": \"0:02:09\", \"iteration\": \"10\", \"goal\": \"r2_score_max\", \"run_name\": \"MinMaxScaler, RandomForest\", \"run_properties\": \"copy=True, feature_range=(0, 1\", \"primary_metric\": 0.77267437, \"best_metric\": 0.84854969}, {\"run_id\": \"AutoML_261eca2c-e7de-4823-892a-927f1066071f_11\", \"run_number\": 17, \"metric\": null, \"status\": \"Completed\", \"run_type\": \"azureml.scriptrun\", \"training_percent\": \"100\", \"start_time\": \"2021-01-26T19:24:08.530151Z\", \"end_time\": \"2021-01-26T19:24:52.609181Z\", \"created_time\": \"2021-01-26T19:23:16.968988Z\", \"created_time_dt\": \"2021-01-26T19:23:16.968988Z\", \"duration\": \"0:01:35\", \"iteration\": \"11\", \"goal\": \"r2_score_max\", \"run_name\": \"MinMaxScaler, RandomForest\", \"run_properties\": \"copy=True, feature_range=(0, 1\", \"primary_metric\": 0.7368195, \"best_metric\": 0.84854969}, {\"run_id\": \"AutoML_261eca2c-e7de-4823-892a-927f1066071f_12\", \"run_number\": 18, \"metric\": null, \"status\": \"Completed\", \"run_type\": \"azureml.scriptrun\", \"training_percent\": \"100\", \"start_time\": \"2021-01-26T19:24:29.326427Z\", \"end_time\": \"2021-01-26T19:25:17.165637Z\", \"created_time\": \"2021-01-26T19:23:23.491914Z\", \"created_time_dt\": \"2021-01-26T19:23:23.491914Z\", \"duration\": \"0:01:53\", \"iteration\": \"12\", \"goal\": \"r2_score_max\", \"run_name\": \"StandardScalerWrapper, XGBoostRegressor\", \"run_properties\": \"<azureml.automl.runtime.shared.model_wrappers.StandardScalerWrapper object at 0x7f966472f5f8\", \"primary_metric\": 0.78302028, \"best_metric\": 0.84854969}, {\"run_id\": \"AutoML_261eca2c-e7de-4823-892a-927f1066071f_13\", \"run_number\": 19, \"metric\": null, \"status\": \"Completed\", \"run_type\": \"azureml.scriptrun\", \"training_percent\": \"100\", \"start_time\": \"2021-01-26T19:24:44.091946Z\", \"end_time\": \"2021-01-26T19:25:32.932685Z\", \"created_time\": \"2021-01-26T19:23:48.880991Z\", \"created_time_dt\": \"2021-01-26T19:23:48.880991Z\", \"duration\": \"0:01:44\", \"iteration\": \"13\", \"goal\": \"r2_score_max\", \"run_name\": \"RobustScaler, LassoLars\", \"run_properties\": \"copy=True, quantile_range=[10, 90], with_centering=False,\\n             with_scaling=True\", \"primary_metric\": 0.60841254, \"best_metric\": 0.84854969}, {\"run_id\": \"AutoML_261eca2c-e7de-4823-892a-927f1066071f_14\", \"run_number\": 20, \"metric\": null, \"status\": \"Completed\", \"run_type\": \"azureml.scriptrun\", \"training_percent\": \"100\", \"start_time\": \"2021-01-26T19:24:56.206225Z\", \"end_time\": \"2021-01-26T19:25:48.43222Z\", \"created_time\": \"2021-01-26T19:23:57.426195Z\", \"created_time_dt\": \"2021-01-26T19:23:57.426195Z\", \"duration\": \"0:01:51\", \"iteration\": \"14\", \"goal\": \"r2_score_max\", \"run_name\": \"MinMaxScaler, ExtremeRandomTrees\", \"run_properties\": \"copy=True, feature_range=(0, 1\", \"primary_metric\": 0.72141176, \"best_metric\": 0.84854969}, {\"run_id\": \"AutoML_261eca2c-e7de-4823-892a-927f1066071f_15\", \"run_number\": 21, \"metric\": null, \"status\": \"Completed\", \"run_type\": \"azureml.scriptrun\", \"training_percent\": \"100\", \"start_time\": \"2021-01-26T19:25:48.70139Z\", \"end_time\": \"2021-01-26T19:26:30.426823Z\", \"created_time\": \"2021-01-26T19:24:56.096988Z\", \"created_time_dt\": \"2021-01-26T19:24:56.096988Z\", \"duration\": \"0:01:34\", \"iteration\": \"15\", \"goal\": \"r2_score_max\", \"run_name\": \"MaxAbsScaler, ExtremeRandomTrees\", \"run_properties\": \"copy=True\", \"primary_metric\": 0.42587201, \"best_metric\": 0.84854969}, {\"run_id\": \"AutoML_261eca2c-e7de-4823-892a-927f1066071f_16\", \"run_number\": 22, \"metric\": null, \"status\": \"Completed\", \"run_type\": \"azureml.scriptrun\", \"training_percent\": \"100\", \"start_time\": \"2021-01-26T19:26:02.719882Z\", \"end_time\": \"2021-01-26T19:26:57.557148Z\", \"created_time\": \"2021-01-26T19:25:10.761956Z\", \"created_time_dt\": \"2021-01-26T19:25:10.761956Z\", \"duration\": \"0:01:46\", \"iteration\": \"16\", \"goal\": \"r2_score_max\", \"run_name\": \"MinMaxScaler, ExtremeRandomTrees\", \"run_properties\": \"copy=True, feature_range=(0, 1\", \"primary_metric\": 0.70559856, \"best_metric\": 0.84854969}, {\"run_id\": \"AutoML_261eca2c-e7de-4823-892a-927f1066071f_17\", \"run_number\": 23, \"metric\": null, \"status\": \"Completed\", \"run_type\": \"azureml.scriptrun\", \"training_percent\": \"100\", \"start_time\": \"2021-01-26T19:26:17.688814Z\", \"end_time\": \"2021-01-26T19:27:03.458984Z\", \"created_time\": \"2021-01-26T19:25:20.495425Z\", \"created_time_dt\": \"2021-01-26T19:25:20.495425Z\", \"duration\": \"0:01:42\", \"iteration\": \"17\", \"goal\": \"r2_score_max\", \"run_name\": \"MaxAbsScaler, ElasticNet\", \"run_properties\": \"copy=True\", \"primary_metric\": 0.53021921, \"best_metric\": 0.84854969}, {\"run_id\": \"AutoML_261eca2c-e7de-4823-892a-927f1066071f_18\", \"run_number\": 24, \"metric\": null, \"status\": \"Completed\", \"run_type\": \"azureml.scriptrun\", \"training_percent\": \"100\", \"start_time\": \"2021-01-26T19:26:38.4349Z\", \"end_time\": \"2021-01-26T19:27:24.695273Z\", \"created_time\": \"2021-01-26T19:25:36.328492Z\", \"created_time_dt\": \"2021-01-26T19:25:36.328492Z\", \"duration\": \"0:01:48\", \"iteration\": \"18\", \"goal\": \"r2_score_max\", \"run_name\": \"MinMaxScaler, RandomForest\", \"run_properties\": \"copy=True, feature_range=(0, 1\", \"primary_metric\": 0.59512826, \"best_metric\": 0.84854969}, {\"run_id\": \"AutoML_261eca2c-e7de-4823-892a-927f1066071f_19\", \"run_number\": 25, \"metric\": null, \"status\": \"Completed\", \"run_type\": \"azureml.scriptrun\", \"training_percent\": \"100\", \"start_time\": \"2021-01-26T19:26:49.791909Z\", \"end_time\": \"2021-01-26T19:27:39.223795Z\", \"created_time\": \"2021-01-26T19:25:51.590776Z\", \"created_time_dt\": \"2021-01-26T19:25:51.590776Z\", \"duration\": \"0:01:47\", \"iteration\": \"19\", \"goal\": \"r2_score_max\", \"run_name\": \"MaxAbsScaler, RandomForest\", \"run_properties\": \"copy=True\", \"primary_metric\": 0.66440996, \"best_metric\": 0.84854969}, {\"run_id\": \"AutoML_261eca2c-e7de-4823-892a-927f1066071f_20\", \"run_number\": 26, \"metric\": null, \"status\": \"Completed\", \"run_type\": \"azureml.scriptrun\", \"training_percent\": \"100\", \"start_time\": \"2021-01-26T19:27:24.856612Z\", \"end_time\": \"2021-01-26T19:28:16.141374Z\", \"created_time\": \"2021-01-26T19:26:33.830227Z\", \"created_time_dt\": \"2021-01-26T19:26:33.830227Z\", \"duration\": \"0:01:42\", \"iteration\": \"20\", \"goal\": \"r2_score_max\", \"run_name\": \"RobustScaler, ElasticNet\", \"run_properties\": \"copy=True, quantile_range=[10, 90], with_centering=True,\\n             with_scaling=False\", \"primary_metric\": 0.6082913, \"best_metric\": 0.84854969}, {\"run_id\": \"AutoML_261eca2c-e7de-4823-892a-927f1066071f_21\", \"run_number\": 27, \"metric\": null, \"status\": \"Completed\", \"run_type\": \"azureml.scriptrun\", \"training_percent\": \"100\", \"start_time\": \"2021-01-26T19:27:46.627352Z\", \"end_time\": \"2021-01-26T19:28:36.570542Z\", \"created_time\": \"2021-01-26T19:27:01.538563Z\", \"created_time_dt\": \"2021-01-26T19:27:01.538563Z\", \"duration\": \"0:01:35\", \"iteration\": \"21\", \"goal\": \"r2_score_max\", \"run_name\": \"StandardScalerWrapper, RandomForest\", \"run_properties\": \"<azureml.automl.runtime.shared.model_wrappers.StandardScalerWrapper object at 0x7f0d80e1bda0\", \"primary_metric\": 0.55943387, \"best_metric\": 0.84854969}, {\"run_id\": \"AutoML_261eca2c-e7de-4823-892a-927f1066071f_22\", \"run_number\": 28, \"metric\": null, \"status\": \"Completed\", \"run_type\": \"azureml.scriptrun\", \"training_percent\": \"100\", \"start_time\": \"2021-01-26T19:27:56.115731Z\", \"end_time\": \"2021-01-26T19:28:46.829511Z\", \"created_time\": \"2021-01-26T19:27:07.163101Z\", \"created_time_dt\": \"2021-01-26T19:27:07.163101Z\", \"duration\": \"0:01:39\", \"iteration\": \"22\", \"goal\": \"r2_score_max\", \"run_name\": \"MaxAbsScaler, ElasticNet\", \"run_properties\": \"copy=True\", \"primary_metric\": 0.53341579, \"best_metric\": 0.84854969}, {\"run_id\": \"AutoML_261eca2c-e7de-4823-892a-927f1066071f_23\", \"run_number\": 29, \"metric\": null, \"status\": \"Completed\", \"run_type\": \"azureml.scriptrun\", \"training_percent\": \"100\", \"start_time\": \"2021-01-26T19:28:23.048034Z\", \"end_time\": \"2021-01-26T19:29:10.847195Z\", \"created_time\": \"2021-01-26T19:27:28.12054Z\", \"created_time_dt\": \"2021-01-26T19:27:28.12054Z\", \"duration\": \"0:01:42\", \"iteration\": \"23\", \"goal\": \"r2_score_max\", \"run_name\": \"MinMaxScaler, LightGBM\", \"run_properties\": \"copy=True, feature_range=(0, 1\", \"primary_metric\": 0.80018121, \"best_metric\": 0.84854969}, {\"run_id\": \"AutoML_261eca2c-e7de-4823-892a-927f1066071f_24\", \"run_number\": 30, \"metric\": null, \"status\": \"Completed\", \"run_type\": \"azureml.scriptrun\", \"training_percent\": \"100\", \"start_time\": \"2021-01-26T19:28:35.301586Z\", \"end_time\": \"2021-01-26T19:29:19.59491Z\", \"created_time\": \"2021-01-26T19:27:42.47565Z\", \"created_time_dt\": \"2021-01-26T19:27:42.47565Z\", \"duration\": \"0:01:37\", \"iteration\": \"24\", \"goal\": \"r2_score_max\", \"run_name\": \"StandardScalerWrapper, XGBoostRegressor\", \"run_properties\": \"<azureml.automl.runtime.shared.model_wrappers.StandardScalerWrapper object at 0x7f68e74702e8\", \"primary_metric\": 0.79582633, \"best_metric\": 0.84854969}, {\"run_id\": \"AutoML_261eca2c-e7de-4823-892a-927f1066071f_25\", \"run_number\": 31, \"metric\": null, \"status\": \"Completed\", \"run_type\": \"azureml.scriptrun\", \"training_percent\": \"100\", \"start_time\": \"2021-01-26T19:29:04.30499Z\", \"end_time\": \"2021-01-26T19:30:21.998852Z\", \"created_time\": \"2021-01-26T19:28:21.75964Z\", \"created_time_dt\": \"2021-01-26T19:28:21.75964Z\", \"duration\": \"0:02:00\", \"iteration\": \"25\", \"goal\": \"r2_score_max\", \"run_name\": \"SparseNormalizer, XGBoostRegressor\", \"run_properties\": \"<azureml.automl.runtime.shared.model_wrappers.SparseNormalizer object at 0x7f8e033c5828\", \"primary_metric\": 0.6550749, \"best_metric\": 0.84854969}, {\"run_id\": \"AutoML_261eca2c-e7de-4823-892a-927f1066071f_26\", \"run_number\": 32, \"metric\": null, \"status\": \"Completed\", \"run_type\": \"azureml.scriptrun\", \"training_percent\": \"100\", \"start_time\": \"2021-01-26T19:29:14.707746Z\", \"end_time\": \"2021-01-26T19:30:07.509166Z\", \"created_time\": \"2021-01-26T19:28:39.134437Z\", \"created_time_dt\": \"2021-01-26T19:28:39.134437Z\", \"duration\": \"0:01:28\", \"iteration\": \"26\", \"goal\": \"r2_score_max\", \"run_name\": \"SparseNormalizer, XGBoostRegressor\", \"run_properties\": \"<azureml.automl.runtime.shared.model_wrappers.SparseNormalizer object at 0x7fc9872fe828\", \"primary_metric\": 0.49752084, \"best_metric\": 0.84854969}, {\"run_id\": \"AutoML_261eca2c-e7de-4823-892a-927f1066071f_27\", \"run_number\": 33, \"metric\": null, \"status\": \"Completed\", \"run_type\": \"azureml.scriptrun\", \"training_percent\": \"100\", \"start_time\": \"2021-01-26T19:29:22.892916Z\", \"end_time\": \"2021-01-26T19:30:20.642365Z\", \"created_time\": \"2021-01-26T19:28:48.864455Z\", \"created_time_dt\": \"2021-01-26T19:28:48.864455Z\", \"duration\": \"0:01:31\", \"iteration\": \"27\", \"goal\": \"r2_score_max\", \"run_name\": \"StandardScalerWrapper, RandomForest\", \"run_properties\": \"<azureml.automl.runtime.shared.model_wrappers.StandardScalerWrapper object at 0x7f52af3d1f98\", \"primary_metric\": 0.58715155, \"best_metric\": 0.84854969}, {\"run_id\": \"AutoML_261eca2c-e7de-4823-892a-927f1066071f_28\", \"run_number\": 34, \"metric\": null, \"status\": \"Completed\", \"run_type\": \"azureml.scriptrun\", \"training_percent\": \"100\", \"start_time\": \"2021-01-26T19:30:08.56242Z\", \"end_time\": \"2021-01-26T19:30:58.230831Z\", \"created_time\": \"2021-01-26T19:29:13.076906Z\", \"created_time_dt\": \"2021-01-26T19:29:13.076906Z\", \"duration\": \"0:01:45\", \"iteration\": \"28\", \"goal\": \"r2_score_max\", \"run_name\": \"StandardScalerWrapper, XGBoostRegressor\", \"run_properties\": \"<azureml.automl.runtime.shared.model_wrappers.StandardScalerWrapper object at 0x7f5c0650cef0\", \"primary_metric\": 0.7591379, \"best_metric\": 0.84854969}, {\"run_id\": \"AutoML_261eca2c-e7de-4823-892a-927f1066071f_29\", \"run_number\": 35, \"metric\": null, \"status\": \"Canceled\", \"run_type\": \"azureml.scriptrun\", \"training_percent\": \"100\", \"start_time\": \"2021-01-26T19:30:26.447505Z\", \"end_time\": \"2021-01-26T19:35:38.606351Z\", \"created_time\": \"2021-01-26T19:29:52.709607Z\", \"created_time_dt\": \"2021-01-26T19:29:52.709607Z\", \"duration\": \"0:05:45\", \"iteration\": \"29\", \"goal\": null, \"run_name\": \"RobustScaler, ExtremeRandomTrees\", \"run_properties\": null}, {\"run_id\": \"AutoML_261eca2c-e7de-4823-892a-927f1066071f_30\", \"run_number\": 36, \"metric\": null, \"status\": \"Completed\", \"run_type\": \"azureml.scriptrun\", \"training_percent\": \"100\", \"start_time\": \"2021-01-26T19:31:06.948229Z\", \"end_time\": \"2021-01-26T19:31:48.519962Z\", \"created_time\": \"2021-01-26T19:30:10.806542Z\", \"created_time_dt\": \"2021-01-26T19:30:10.806542Z\", \"duration\": \"0:01:37\", \"iteration\": \"30\", \"goal\": \"r2_score_max\", \"run_name\": \"PCA, XGBoostRegressor\", \"run_properties\": \"copy=True, iterated_power='auto', n_components=0.8015789473684211,\\n    random_state=None, svd_solver='auto', tol=0.0, whiten=False\", \"primary_metric\": -0.00939854, \"best_metric\": 0.84854969}, {\"run_id\": \"AutoML_261eca2c-e7de-4823-892a-927f1066071f_31\", \"run_number\": 37, \"metric\": null, \"status\": \"Completed\", \"run_type\": \"azureml.scriptrun\", \"training_percent\": \"100\", \"start_time\": \"2021-01-26T19:31:12.985393Z\", \"end_time\": \"2021-01-26T19:32:43.153247Z\", \"created_time\": \"2021-01-26T19:30:22.744619Z\", \"created_time_dt\": \"2021-01-26T19:30:22.744619Z\", \"duration\": \"0:02:20\", \"iteration\": \"31\", \"goal\": \"r2_score_max\", \"run_name\": \"StandardScalerWrapper, RandomForest\", \"run_properties\": \"<azureml.automl.runtime.shared.model_wrappers.StandardScalerWrapper object at 0x7f45e701eb70\", \"primary_metric\": 0.78152693, \"best_metric\": 0.84854969}, {\"run_id\": \"AutoML_261eca2c-e7de-4823-892a-927f1066071f_32\", \"run_number\": 38, \"metric\": null, \"status\": \"Completed\", \"run_type\": \"azureml.scriptrun\", \"training_percent\": \"100\", \"start_time\": \"2021-01-26T19:31:34.317937Z\", \"end_time\": \"2021-01-26T19:32:46.033306Z\", \"created_time\": \"2021-01-26T19:30:26.672943Z\", \"created_time_dt\": \"2021-01-26T19:30:26.672943Z\", \"duration\": \"0:02:19\", \"iteration\": \"32\", \"goal\": \"r2_score_max\", \"run_name\": \"StandardScalerWrapper, XGBoostRegressor\", \"run_properties\": \"<azureml.automl.runtime.shared.model_wrappers.StandardScalerWrapper object at 0x7f73fe247550\", \"primary_metric\": 0.84518818, \"best_metric\": 0.84854969}, {\"run_id\": \"AutoML_261eca2c-e7de-4823-892a-927f1066071f_33\", \"run_number\": 39, \"metric\": null, \"status\": \"Completed\", \"run_type\": \"azureml.scriptrun\", \"training_percent\": \"100\", \"start_time\": \"2021-01-26T19:32:47.338647Z\", \"end_time\": \"2021-01-26T19:33:40.556689Z\", \"created_time\": \"2021-01-26T19:31:00.405288Z\", \"created_time_dt\": \"2021-01-26T19:31:00.405288Z\", \"duration\": \"0:02:40\", \"iteration\": \"33\", \"goal\": \"r2_score_max\", \"run_name\": \"MaxAbsScaler, ExtremeRandomTrees\", \"run_properties\": \"copy=True\", \"primary_metric\": 0.49686653, \"best_metric\": 0.84854969}, {\"run_id\": \"AutoML_261eca2c-e7de-4823-892a-927f1066071f_34\", \"run_number\": 40, \"metric\": null, \"status\": \"Canceled\", \"run_type\": \"azureml.scriptrun\", \"training_percent\": \"100\", \"start_time\": \"2021-01-26T19:33:31.384826Z\", \"end_time\": \"2021-01-26T19:35:41.778646Z\", \"created_time\": \"2021-01-26T19:31:50.535059Z\", \"created_time_dt\": \"2021-01-26T19:31:50.535059Z\", \"duration\": \"0:03:51\", \"iteration\": \"34\", \"goal\": null, \"run_name\": \"StandardScalerWrapper, RandomForest\", \"run_properties\": null}, {\"run_id\": \"AutoML_261eca2c-e7de-4823-892a-927f1066071f_35\", \"run_number\": 41, \"metric\": null, \"status\": \"Canceled\", \"run_type\": \"azureml.scriptrun\", \"training_percent\": \"100\", \"start_time\": \"2021-01-26T19:34:42.063194Z\", \"end_time\": \"2021-01-26T19:35:32.156055Z\", \"created_time\": \"2021-01-26T19:32:46.07359Z\", \"created_time_dt\": \"2021-01-26T19:32:46.07359Z\", \"duration\": \"0:02:46\", \"iteration\": \"35\", \"goal\": \"r2_score_max\", \"run_name\": \"StandardScalerWrapper, XGBoostRegressor\", \"run_properties\": \"<azureml.automl.runtime.shared.model_wrappers.StandardScalerWrapper object at 0x7fc237e85c88\", \"primary_metric\": 0.10956726, \"best_metric\": 0.84854969}, {\"run_id\": \"AutoML_261eca2c-e7de-4823-892a-927f1066071f_36\", \"run_number\": 42, \"metric\": null, \"status\": \"Completed\", \"run_type\": \"azureml.scriptrun\", \"training_percent\": \"100\", \"start_time\": \"2021-01-26T19:34:40.860838Z\", \"end_time\": \"2021-01-26T19:35:29.759115Z\", \"created_time\": \"2021-01-26T19:32:49.103679Z\", \"created_time_dt\": \"2021-01-26T19:32:49.103679Z\", \"duration\": \"0:02:40\", \"iteration\": \"36\", \"goal\": \"r2_score_max\", \"run_name\": \"SparseNormalizer, XGBoostRegressor\", \"run_properties\": \"<azureml.automl.runtime.shared.model_wrappers.SparseNormalizer object at 0x7f41a7415dd8\", \"primary_metric\": 0.49980776, \"best_metric\": 0.84854969}, {\"run_id\": \"AutoML_261eca2c-e7de-4823-892a-927f1066071f_37\", \"run_number\": 43, \"metric\": null, \"status\": \"Canceled\", \"run_type\": \"azureml.scriptrun\", \"training_percent\": \"100\", \"start_time\": \"2021-01-26T19:34:53.936252Z\", \"end_time\": \"2021-01-26T19:35:40.741909Z\", \"created_time\": \"2021-01-26T19:33:42.716808Z\", \"created_time_dt\": \"2021-01-26T19:33:42.716808Z\", \"duration\": \"0:01:58\", \"iteration\": \"37\", \"goal\": null, \"run_name\": \"StandardScalerWrapper, RandomForest\", \"run_properties\": null}, {\"run_id\": \"AutoML_261eca2c-e7de-4823-892a-927f1066071f_38\", \"run_number\": 44, \"metric\": null, \"status\": \"Completed\", \"run_type\": \"azureml.scriptrun\", \"training_percent\": \"100\", \"start_time\": \"2021-01-26T19:35:56.02456Z\", \"end_time\": \"2021-01-26T19:37:13.999618Z\", \"created_time\": \"2021-01-26T19:35:44.009195Z\", \"created_time_dt\": \"2021-01-26T19:35:44.009195Z\", \"duration\": \"0:01:29\", \"iteration\": \"38\", \"goal\": \"r2_score_max\", \"run_name\": \"VotingEnsemble\", \"run_properties\": \"estimators=[('4',\\n                                          Pipeline(memory=None,\\n                                                   steps=[('standardscalerwrapper',\\n                                                           <azureml.automl.runtime.shared.model_wrappers.StandardScalerWrapper object at 0x7f8c503eba90>\", \"primary_metric\": 0.85536257, \"best_metric\": 0.85536257}], \"children_metrics\": {\"categories\": [0], \"series\": {\"normalized_median_absolute_error\": [{\"categories\": [\"0\", \"1\", \"2\", \"3\", \"4\", \"5\", \"6\", \"7\", \"8\", \"9\", \"10\", \"11\", \"12\", \"13\", \"14\", \"15\", \"16\", \"17\", \"18\", \"19\", \"20\", \"21\", \"22\", \"23\", \"24\", \"25\", \"26\", \"27\", \"28\", \"30\", \"31\", \"32\", \"33\", \"35\", \"36\", \"38\"], \"mode\": \"markers\", \"name\": \"normalized_median_absolute_error\", \"stepped\": false, \"type\": \"scatter\", \"data\": [0.04174430298778793, 0.052503247024517474, 0.07688395945096883, 0.06463436623857345, 0.04008738219008744, 0.09210966213097439, 0.06771307825532603, 0.04145753095028286, 0.06597587257066931, 0.09291014661710803, 0.05800574733914118, 0.0661266893156458, 0.048837261408067614, 0.08530754531798783, 0.06259911663523345, 0.11578968416874652, 0.06791922847057888, 0.0981891509505824, 0.08774389203907738, 0.07278058616443658, 0.08547997623612613, 0.09595194196282639, 0.09728578636305789, 0.052315243173196684, 0.05251928242768321, 0.07487408269836532, 0.09928604092957936, 0.09279281629247325, 0.054126584138232785, 0.15630088503982376, 0.05420596217428366, 0.03889152121508196, 0.11158990210721574, 0.10554494868838865, 0.10666572316310399, 0.03760923100147248]}, {\"categories\": [\"0\", \"1\", \"2\", \"3\", \"4\", \"5\", \"6\", \"7\", \"8\", \"9\", \"10\", \"11\", \"12\", \"13\", \"14\", \"15\", \"16\", \"17\", \"18\", \"19\", \"20\", \"21\", \"22\", \"23\", \"24\", \"25\", \"26\", \"27\", \"28\", \"30\", \"31\", \"32\", \"33\", \"35\", \"36\", \"38\"], \"mode\": \"lines\", \"name\": \"normalized_median_absolute_error_min\", \"stepped\": true, \"type\": \"scatter\", \"data\": [0.04174430298778793, 0.04174430298778793, 0.04174430298778793, 0.04174430298778793, 0.04008738219008744, 0.04008738219008744, 0.04008738219008744, 0.04008738219008744, 0.04008738219008744, 0.04008738219008744, 0.04008738219008744, 0.04008738219008744, 0.04008738219008744, 0.04008738219008744, 0.04008738219008744, 0.04008738219008744, 0.04008738219008744, 0.04008738219008744, 0.04008738219008744, 0.04008738219008744, 0.04008738219008744, 0.04008738219008744, 0.04008738219008744, 0.04008738219008744, 0.04008738219008744, 0.04008738219008744, 0.04008738219008744, 0.04008738219008744, 0.04008738219008744, 0.04008738219008744, 0.04008738219008744, 0.03889152121508196, 0.03889152121508196, 0.03889152121508196, 0.03889152121508196, 0.03760923100147248]}], \"spearman_correlation\": [{\"categories\": [\"0\", \"1\", \"2\", \"3\", \"4\", \"5\", \"6\", \"7\", \"8\", \"9\", \"10\", \"11\", \"12\", \"13\", \"14\", \"15\", \"16\", \"17\", \"18\", \"19\", \"20\", \"21\", \"22\", \"23\", \"24\", \"25\", \"26\", \"27\", \"28\", \"30\", \"31\", \"32\", \"33\", \"35\", \"36\", \"38\"], \"mode\": \"markers\", \"name\": \"spearman_correlation\", \"stepped\": false, \"type\": \"scatter\", \"data\": [0.9183534497241314, 0.8925237916623209, 0.7915668220963913, 0.8695115310980945, 0.9241635922353263, 0.7583699951857704, 0.8393000917743877, 0.919759558208345, 0.8581964041556053, 0.7649424140387077, 0.8906646966727956, 0.8704967480860225, 0.8962958051272281, 0.8102281125120212, 0.8577244139749889, 0.7793427978834464, 0.8552275855998847, 0.7241422275840058, 0.774126954851078, 0.821085194743395, 0.8107410509278663, 0.8194432688475742, 0.7270738148606636, 0.8965914845082802, 0.8930146148625939, 0.791865207713329, 0.7152603414588348, 0.8284419975170236, 0.8947126793141139, 0.03249139506731861, 0.8924248203007156, 0.9243886231741001, 0.8344995963999216, 0.6594911004659737, 0.7079582440780487, 0.9290035362293845]}, {\"categories\": [\"0\", \"1\", \"2\", \"3\", \"4\", \"5\", \"6\", \"7\", \"8\", \"9\", \"10\", \"11\", \"12\", \"13\", \"14\", \"15\", \"16\", \"17\", \"18\", \"19\", \"20\", \"21\", \"22\", \"23\", \"24\", \"25\", \"26\", \"27\", \"28\", \"30\", \"31\", \"32\", \"33\", \"35\", \"36\", \"38\"], \"mode\": \"lines\", \"name\": \"spearman_correlation_max\", \"stepped\": true, \"type\": \"scatter\", \"data\": [0.9183534497241314, 0.9183534497241314, 0.9183534497241314, 0.9183534497241314, 0.9241635922353263, 0.9241635922353263, 0.9241635922353263, 0.9241635922353263, 0.9241635922353263, 0.9241635922353263, 0.9241635922353263, 0.9241635922353263, 0.9241635922353263, 0.9241635922353263, 0.9241635922353263, 0.9241635922353263, 0.9241635922353263, 0.9241635922353263, 0.9241635922353263, 0.9241635922353263, 0.9241635922353263, 0.9241635922353263, 0.9241635922353263, 0.9241635922353263, 0.9241635922353263, 0.9241635922353263, 0.9241635922353263, 0.9241635922353263, 0.9241635922353263, 0.9241635922353263, 0.9241635922353263, 0.9243886231741001, 0.9243886231741001, 0.9243886231741001, 0.9243886231741001, 0.9290035362293845]}], \"root_mean_squared_log_error\": [{\"categories\": [\"0\", \"1\", \"2\", \"3\", \"4\", \"5\", \"6\", \"7\", \"8\", \"9\", \"10\", \"11\", \"12\", \"13\", \"14\", \"15\", \"16\", \"17\", \"18\", \"19\", \"20\", \"21\", \"22\", \"23\", \"24\", \"25\", \"26\", \"27\", \"28\", \"30\", \"31\", \"32\", \"33\", \"35\", \"36\", \"38\"], \"mode\": \"markers\", \"name\": \"root_mean_squared_log_error\", \"stepped\": false, \"type\": \"scatter\", \"data\": [0.1391963312397669, 0.15923396671720388, 0.2137657771432958, 0.18008633342400543, 0.13490572995163563, 0.23422572185290758, 0.1929585632375762, 0.13832398832954876, 0.1853282504878951, 0.23372648875509947, 0.16693712816687586, 0.1811622315411297, 0.15729842077134285, NaN, 0.18275073759417804, 0.2666426726552018, 0.18767795770794043, 0.24598451831590512, 0.22638623070478256, 0.20241563607070018, NaN, 0.23840624365092564, 0.24472005943555067, 0.15895458460330383, 0.15885890206267125, 0.21290579830640044, 0.24971163062788077, 0.23095673259184213, 0.16361314782752553, 0.36145526483200324, 0.16261301708345588, 0.13520774629748358, 0.2549193645052374, 0.3108054941015074, 0.2575366374798231, 0.13101593608885115]}, {\"categories\": [\"0\", \"1\", \"2\", \"3\", \"4\", \"5\", \"6\", \"7\", \"8\", \"9\", \"10\", \"11\", \"12\", \"13\", \"14\", \"15\", \"16\", \"17\", \"18\", \"19\", \"20\", \"21\", \"22\", \"23\", \"24\", \"25\", \"26\", \"27\", \"28\", \"30\", \"31\", \"32\", \"33\", \"35\", \"36\", \"38\"], \"mode\": \"lines\", \"name\": \"root_mean_squared_log_error_min\", \"stepped\": true, \"type\": \"scatter\", \"data\": [0.1391963312397669, 0.1391963312397669, 0.1391963312397669, 0.1391963312397669, 0.13490572995163563, 0.13490572995163563, 0.13490572995163563, 0.13490572995163563, 0.13490572995163563, 0.13490572995163563, 0.13490572995163563, 0.13490572995163563, 0.13490572995163563, 0.13490572995163563, 0.13490572995163563, 0.13490572995163563, 0.13490572995163563, 0.13490572995163563, 0.13490572995163563, 0.13490572995163563, 0.13490572995163563, 0.13490572995163563, 0.13490572995163563, 0.13490572995163563, 0.13490572995163563, 0.13490572995163563, 0.13490572995163563, 0.13490572995163563, 0.13490572995163563, 0.13490572995163563, 0.13490572995163563, 0.13490572995163563, 0.13490572995163563, 0.13490572995163563, 0.13490572995163563, 0.13101593608885115]}], \"normalized_mean_absolute_error\": [{\"categories\": [\"0\", \"1\", \"2\", \"3\", \"4\", \"5\", \"6\", \"7\", \"8\", \"9\", \"10\", \"11\", \"12\", \"13\", \"14\", \"15\", \"16\", \"17\", \"18\", \"19\", \"20\", \"21\", \"22\", \"23\", \"24\", \"25\", \"26\", \"27\", \"28\", \"30\", \"31\", \"32\", \"33\", \"35\", \"36\", \"38\"], \"mode\": \"markers\", \"name\": \"normalized_mean_absolute_error\", \"stepped\": false, \"type\": \"scatter\", \"data\": [0.06303260906401381, 0.0739285395505017, 0.10108901578517404, 0.08636063359559047, 0.06098979929486689, 0.11542725546508877, 0.092553315309171, 0.062452009641458216, 0.08918391411514241, 0.11550495740933175, 0.07887703905075318, 0.08683666198116936, 0.07367360902360885, 0.1081747872826163, 0.08703278626091561, 0.13760513720501036, 0.09064449341296714, 0.12108897188536073, 0.11266319853508625, 0.09820679598137727, 0.10827824618086186, 0.11780298254818938, 0.12051605062365557, 0.07325945667176986, 0.07338819504300995, 0.10046817349500396, 0.12557382223441999, 0.11387222227723069, 0.07900895682694939, 0.18606111638995865, 0.07587386406280837, 0.06014459016355187, 0.12951801484609413, 0.1580571980332833, 0.1281405996840781, 0.058592725786155174]}, {\"categories\": [\"0\", \"1\", \"2\", \"3\", \"4\", \"5\", \"6\", \"7\", \"8\", \"9\", \"10\", \"11\", \"12\", \"13\", \"14\", \"15\", \"16\", \"17\", \"18\", \"19\", \"20\", \"21\", \"22\", \"23\", \"24\", \"25\", \"26\", \"27\", \"28\", \"30\", \"31\", \"32\", \"33\", \"35\", \"36\", \"38\"], \"mode\": \"lines\", \"name\": \"normalized_mean_absolute_error_min\", \"stepped\": true, \"type\": \"scatter\", \"data\": [0.06303260906401381, 0.06303260906401381, 0.06303260906401381, 0.06303260906401381, 0.06098979929486689, 0.06098979929486689, 0.06098979929486689, 0.06098979929486689, 0.06098979929486689, 0.06098979929486689, 0.06098979929486689, 0.06098979929486689, 0.06098979929486689, 0.06098979929486689, 0.06098979929486689, 0.06098979929486689, 0.06098979929486689, 0.06098979929486689, 0.06098979929486689, 0.06098979929486689, 0.06098979929486689, 0.06098979929486689, 0.06098979929486689, 0.06098979929486689, 0.06098979929486689, 0.06098979929486689, 0.06098979929486689, 0.06098979929486689, 0.06098979929486689, 0.06098979929486689, 0.06098979929486689, 0.06014459016355187, 0.06014459016355187, 0.06014459016355187, 0.06014459016355187, 0.058592725786155174]}], \"mean_absolute_error\": [{\"categories\": [\"0\", \"1\", \"2\", \"3\", \"4\", \"5\", \"6\", \"7\", \"8\", \"9\", \"10\", \"11\", \"12\", \"13\", \"14\", \"15\", \"16\", \"17\", \"18\", \"19\", \"20\", \"21\", \"22\", \"23\", \"24\", \"25\", \"26\", \"27\", \"28\", \"30\", \"31\", \"32\", \"33\", \"35\", \"36\", \"38\"], \"mode\": \"markers\", \"name\": \"mean_absolute_error\", \"stepped\": false, \"type\": \"scatter\", \"data\": [0.3057094146126483, 0.35855489539072427, 0.49028374833840976, 0.4188508001512857, 0.2958017463760903, 0.5598244975507898, 0.44888543031578554, 0.3028934958012652, 0.432543767136723, 0.5602013535344071, 0.3825552169369339, 0.421159547341911, 0.3573184772366834, 0.5246498818164347, 0.4221107540211659, 0.6673876675470443, 0.43962760594275885, 0.5872839354234373, 0.546418766159139, 0.47630492464559937, 0.5251516595421036, 0.5713468214183695, 0.584505255845742, 0.3553098300472173, 0.3559342137224991, 0.4872726508142391, 0.6090355493133816, 0.5522825554890144, 0.3831950207898411, 0.9024001357136272, 0.3679897581819018, 0.29170246518502985, 0.6281649623638534, 0.7665805716053846, 0.6214844712797724, 0.2841758919173683]}, {\"categories\": [\"0\", \"1\", \"2\", \"3\", \"4\", \"5\", \"6\", \"7\", \"8\", \"9\", \"10\", \"11\", \"12\", \"13\", \"14\", \"15\", \"16\", \"17\", \"18\", \"19\", \"20\", \"21\", \"22\", \"23\", \"24\", \"25\", \"26\", \"27\", \"28\", \"30\", \"31\", \"32\", \"33\", \"35\", \"36\", \"38\"], \"mode\": \"lines\", \"name\": \"mean_absolute_error_min\", \"stepped\": true, \"type\": \"scatter\", \"data\": [0.3057094146126483, 0.3057094146126483, 0.3057094146126483, 0.3057094146126483, 0.2958017463760903, 0.2958017463760903, 0.2958017463760903, 0.2958017463760903, 0.2958017463760903, 0.2958017463760903, 0.2958017463760903, 0.2958017463760903, 0.2958017463760903, 0.2958017463760903, 0.2958017463760903, 0.2958017463760903, 0.2958017463760903, 0.2958017463760903, 0.2958017463760903, 0.2958017463760903, 0.2958017463760903, 0.2958017463760903, 0.2958017463760903, 0.2958017463760903, 0.2958017463760903, 0.2958017463760903, 0.2958017463760903, 0.2958017463760903, 0.2958017463760903, 0.2958017463760903, 0.2958017463760903, 0.29170246518502985, 0.29170246518502985, 0.29170246518502985, 0.29170246518502985, 0.2841758919173683]}], \"explained_variance\": [{\"categories\": [\"0\", \"1\", \"2\", \"3\", \"4\", \"5\", \"6\", \"7\", \"8\", \"9\", \"10\", \"11\", \"12\", \"13\", \"14\", \"15\", \"16\", \"17\", \"18\", \"19\", \"20\", \"21\", \"22\", \"23\", \"24\", \"25\", \"26\", \"27\", \"28\", \"30\", \"31\", \"32\", \"33\", \"35\", \"36\", \"38\"], \"mode\": \"markers\", \"name\": \"explained_variance\", \"stepped\": false, \"type\": \"scatter\", \"data\": [0.8419237981095516, 0.7947674471064814, 0.6580622967878317, 0.7384322521696867, 0.8485874666006845, 0.564750028772069, 0.6984306626799164, 0.843072717504792, 0.712627674357718, 0.5665648246118155, 0.7728974773030368, 0.7370981691772982, 0.7917593485322802, 0.6086037389201338, 0.7216274151312384, 0.426023385509973, 0.7059007682859866, 0.5304681715506162, 0.5960856743103053, 0.6651263021203466, 0.6084821435377137, 0.5597010979478672, 0.5336693186580597, 0.8004111357615601, 0.796014079471328, 0.6551675323441244, 0.5064976858797469, 0.587380594667529, 0.7679010014165372, -0.009279863347055217, 0.7817925197045241, 0.8451889266290185, 0.49700035453099134, 0.3303493329049454, 0.4998177390527878, 0.8553811876248657]}, {\"categories\": [\"0\", \"1\", \"2\", \"3\", \"4\", \"5\", \"6\", \"7\", \"8\", \"9\", \"10\", \"11\", \"12\", \"13\", \"14\", \"15\", \"16\", \"17\", \"18\", \"19\", \"20\", \"21\", \"22\", \"23\", \"24\", \"25\", \"26\", \"27\", \"28\", \"30\", \"31\", \"32\", \"33\", \"35\", \"36\", \"38\"], \"mode\": \"lines\", \"name\": \"explained_variance_max\", \"stepped\": true, \"type\": \"scatter\", \"data\": [0.8419237981095516, 0.8419237981095516, 0.8419237981095516, 0.8419237981095516, 0.8485874666006845, 0.8485874666006845, 0.8485874666006845, 0.8485874666006845, 0.8485874666006845, 0.8485874666006845, 0.8485874666006845, 0.8485874666006845, 0.8485874666006845, 0.8485874666006845, 0.8485874666006845, 0.8485874666006845, 0.8485874666006845, 0.8485874666006845, 0.8485874666006845, 0.8485874666006845, 0.8485874666006845, 0.8485874666006845, 0.8485874666006845, 0.8485874666006845, 0.8485874666006845, 0.8485874666006845, 0.8485874666006845, 0.8485874666006845, 0.8485874666006845, 0.8485874666006845, 0.8485874666006845, 0.8485874666006845, 0.8485874666006845, 0.8485874666006845, 0.8485874666006845, 0.8553811876248657]}], \"r2_score\": [{\"categories\": [\"0\", \"1\", \"2\", \"3\", \"4\", \"5\", \"6\", \"7\", \"8\", \"9\", \"10\", \"11\", \"12\", \"13\", \"14\", \"15\", \"16\", \"17\", \"18\", \"19\", \"20\", \"21\", \"22\", \"23\", \"24\", \"25\", \"26\", \"27\", \"28\", \"30\", \"31\", \"32\", \"33\", \"35\", \"36\", \"38\"], \"mode\": \"markers\", \"name\": \"r2_score\", \"stepped\": false, \"type\": \"scatter\", \"data\": [0.841866504256535, 0.7945415457798124, 0.6580056803206555, 0.738068249332308, 0.84854969316053, 0.5644970846837554, 0.6977740985778471, 0.8430163001141958, 0.712345330223717, 0.5663030906914182, 0.7726743740698783, 0.7368195018633652, 0.783020275551774, 0.6084125424314998, 0.7214117618817997, 0.4258720082348457, 0.705598557964362, 0.5302192082135053, 0.5951282550422077, 0.6644099617480298, 0.6082912953839973, 0.5594338720042764, 0.5334157860681635, 0.8001812085731232, 0.7958263256651362, 0.6550748965459192, 0.4975208364740734, 0.5871515504110698, 0.7591379034363799, -0.00939854229353676, 0.7815269271355287, 0.8451881762219622, 0.49686652941924536, 0.10956726369978298, 0.49980775853198145, 0.8553625693695082]}, {\"categories\": [\"0\", \"1\", \"2\", \"3\", \"4\", \"5\", \"6\", \"7\", \"8\", \"9\", \"10\", \"11\", \"12\", \"13\", \"14\", \"15\", \"16\", \"17\", \"18\", \"19\", \"20\", \"21\", \"22\", \"23\", \"24\", \"25\", \"26\", \"27\", \"28\", \"30\", \"31\", \"32\", \"33\", \"35\", \"36\", \"38\"], \"mode\": \"lines\", \"name\": \"r2_score_max\", \"stepped\": true, \"type\": \"scatter\", \"data\": [0.841866504256535, 0.841866504256535, 0.841866504256535, 0.841866504256535, 0.84854969316053, 0.84854969316053, 0.84854969316053, 0.84854969316053, 0.84854969316053, 0.84854969316053, 0.84854969316053, 0.84854969316053, 0.84854969316053, 0.84854969316053, 0.84854969316053, 0.84854969316053, 0.84854969316053, 0.84854969316053, 0.84854969316053, 0.84854969316053, 0.84854969316053, 0.84854969316053, 0.84854969316053, 0.84854969316053, 0.84854969316053, 0.84854969316053, 0.84854969316053, 0.84854969316053, 0.84854969316053, 0.84854969316053, 0.84854969316053, 0.84854969316053, 0.84854969316053, 0.84854969316053, 0.84854969316053, 0.8553625693695082]}], \"normalized_root_mean_squared_error\": [{\"categories\": [\"0\", \"1\", \"2\", \"3\", \"4\", \"5\", \"6\", \"7\", \"8\", \"9\", \"10\", \"11\", \"12\", \"13\", \"14\", \"15\", \"16\", \"17\", \"18\", \"19\", \"20\", \"21\", \"22\", \"23\", \"24\", \"25\", \"26\", \"27\", \"28\", \"30\", \"31\", \"32\", \"33\", \"35\", \"36\", \"38\"], \"mode\": \"markers\", \"name\": \"normalized_root_mean_squared_error\", \"stepped\": false, \"type\": \"scatter\", \"data\": [0.09317395595280505, 0.10620491296407493, 0.1370225500164542, 0.11991587258594341, 0.09118379809079241, 0.15462443740676413, 0.12880966180811987, 0.09283460192173527, 0.12566615105329831, 0.15430349492145776, 0.1117137928416906, 0.120201379384967, 0.10914206735074179, 0.14662127295732702, 0.12366989371952361, 0.17753621634678204, 0.12713132274524275, 0.16059433706384074, 0.1490875348949798, 0.13573352551192663, 0.14664397033975687, 0.15552068172965192, 0.160047030151617, 0.10473715264838376, 0.10587233010846793, 0.13760841760135345, 0.16608928974410017, 0.1505490183947721, 0.11499178892777744, 0.2354040529411944, 0.10951700481954084, 0.09219017994122121, 0.1661973917784137, 0.22109715705716465, 0.16571089949846465, 0.08910928282024148]}, {\"categories\": [\"0\", \"1\", \"2\", \"3\", \"4\", \"5\", \"6\", \"7\", \"8\", \"9\", \"10\", \"11\", \"12\", \"13\", \"14\", \"15\", \"16\", \"17\", \"18\", \"19\", \"20\", \"21\", \"22\", \"23\", \"24\", \"25\", \"26\", \"27\", \"28\", \"30\", \"31\", \"32\", \"33\", \"35\", \"36\", \"38\"], \"mode\": \"lines\", \"name\": \"normalized_root_mean_squared_error_min\", \"stepped\": true, \"type\": \"scatter\", \"data\": [0.09317395595280505, 0.09317395595280505, 0.09317395595280505, 0.09317395595280505, 0.09118379809079241, 0.09118379809079241, 0.09118379809079241, 0.09118379809079241, 0.09118379809079241, 0.09118379809079241, 0.09118379809079241, 0.09118379809079241, 0.09118379809079241, 0.09118379809079241, 0.09118379809079241, 0.09118379809079241, 0.09118379809079241, 0.09118379809079241, 0.09118379809079241, 0.09118379809079241, 0.09118379809079241, 0.09118379809079241, 0.09118379809079241, 0.09118379809079241, 0.09118379809079241, 0.09118379809079241, 0.09118379809079241, 0.09118379809079241, 0.09118379809079241, 0.09118379809079241, 0.09118379809079241, 0.09118379809079241, 0.09118379809079241, 0.09118379809079241, 0.09118379809079241, 0.08910928282024148]}], \"normalized_root_mean_squared_log_error\": [{\"categories\": [\"0\", \"1\", \"2\", \"3\", \"4\", \"5\", \"6\", \"7\", \"8\", \"9\", \"10\", \"11\", \"12\", \"13\", \"14\", \"15\", \"16\", \"17\", \"18\", \"19\", \"20\", \"21\", \"22\", \"23\", \"24\", \"25\", \"26\", \"27\", \"28\", \"30\", \"31\", \"32\", \"33\", \"35\", \"36\", \"38\"], \"mode\": \"markers\", \"name\": \"normalized_root_mean_squared_log_error\", \"stepped\": false, \"type\": \"scatter\", \"data\": [0.0842588780290189, 0.09638813940139736, 0.12939755223914734, 0.10901057712885674, 0.08166167415598663, 0.14178244751916846, 0.11680244658520705, 0.08373082794165745, 0.11218363525898603, 0.1414802497505807, 0.10105104779305418, 0.10966184406538448, 0.09521650701483002, NaN, 0.11062340488081723, 0.16140520538495107, 0.11360596939878945, 0.14890032906187334, 0.1370370154910668, 0.12252703960616226, NaN, 0.14431301763649515, 0.1481349217725894, 0.09621902270666174, 0.09616110376979853, 0.12887698642192985, 0.1511564395419281, 0.13980364991025854, 0.09903896276545568, 0.21879754158150957, 0.0984335596371758, 0.08184449189421952, 0.15430880576933928, 0.18813802048517062, 0.15589310387813354, 0.07930708863118689]}, {\"categories\": [\"0\", \"1\", \"2\", \"3\", \"4\", \"5\", \"6\", \"7\", \"8\", \"9\", \"10\", \"11\", \"12\", \"13\", \"14\", \"15\", \"16\", \"17\", \"18\", \"19\", \"20\", \"21\", \"22\", \"23\", \"24\", \"25\", \"26\", \"27\", \"28\", \"30\", \"31\", \"32\", \"33\", \"35\", \"36\", \"38\"], \"mode\": \"lines\", \"name\": \"normalized_root_mean_squared_log_error_min\", \"stepped\": true, \"type\": \"scatter\", \"data\": [0.0842588780290189, 0.0842588780290189, 0.0842588780290189, 0.0842588780290189, 0.08166167415598663, 0.08166167415598663, 0.08166167415598663, 0.08166167415598663, 0.08166167415598663, 0.08166167415598663, 0.08166167415598663, 0.08166167415598663, 0.08166167415598663, 0.08166167415598663, 0.08166167415598663, 0.08166167415598663, 0.08166167415598663, 0.08166167415598663, 0.08166167415598663, 0.08166167415598663, 0.08166167415598663, 0.08166167415598663, 0.08166167415598663, 0.08166167415598663, 0.08166167415598663, 0.08166167415598663, 0.08166167415598663, 0.08166167415598663, 0.08166167415598663, 0.08166167415598663, 0.08166167415598663, 0.08166167415598663, 0.08166167415598663, 0.08166167415598663, 0.08166167415598663, 0.07930708863118689]}], \"mean_absolute_percentage_error\": [{\"categories\": [\"0\", \"1\", \"2\", \"3\", \"4\", \"5\", \"6\", \"7\", \"8\", \"9\", \"10\", \"11\", \"12\", \"13\", \"14\", \"15\", \"16\", \"17\", \"18\", \"19\", \"20\", \"21\", \"22\", \"23\", \"24\", \"25\", \"26\", \"27\", \"28\", \"30\", \"31\", \"32\", \"33\", \"35\", \"36\", \"38\"], \"mode\": \"markers\", \"name\": \"mean_absolute_percentage_error\", \"stepped\": false, \"type\": \"scatter\", \"data\": [17.59100588786228, 20.75116868141658, 30.523526221856535, 25.640949750368044, 16.788031244857024, 34.46790801623285, 27.098101600903224, 17.381580314289753, 25.72442845825839, 34.88660425229812, 23.216320824606257, 26.022903878997365, 19.264357306035524, 32.061826885169886, 24.931746736677834, 43.54351683986416, 26.24841792978613, 36.880298654027754, 34.17644002120333, 28.732744249847837, 32.12987810814664, 38.326291954818544, 36.57908367384608, 21.06051418593912, 20.64684513240307, 30.1339680660579, 38.01931474704494, 36.88362181342092, 21.148267778538454, 62.34771004702389, 21.835439094534, 16.336720703502127, 41.973932358298164, 36.43781014260278, 41.36350355331871, 16.05211560820331]}, {\"categories\": [\"0\", \"1\", \"2\", \"3\", \"4\", \"5\", \"6\", \"7\", \"8\", \"9\", \"10\", \"11\", \"12\", \"13\", \"14\", \"15\", \"16\", \"17\", \"18\", \"19\", \"20\", \"21\", \"22\", \"23\", \"24\", \"25\", \"26\", \"27\", \"28\", \"30\", \"31\", \"32\", \"33\", \"35\", \"36\", \"38\"], \"mode\": \"lines\", \"name\": \"mean_absolute_percentage_error_min\", \"stepped\": true, \"type\": \"scatter\", \"data\": [17.59100588786228, 17.59100588786228, 17.59100588786228, 17.59100588786228, 16.788031244857024, 16.788031244857024, 16.788031244857024, 16.788031244857024, 16.788031244857024, 16.788031244857024, 16.788031244857024, 16.788031244857024, 16.788031244857024, 16.788031244857024, 16.788031244857024, 16.788031244857024, 16.788031244857024, 16.788031244857024, 16.788031244857024, 16.788031244857024, 16.788031244857024, 16.788031244857024, 16.788031244857024, 16.788031244857024, 16.788031244857024, 16.788031244857024, 16.788031244857024, 16.788031244857024, 16.788031244857024, 16.788031244857024, 16.788031244857024, 16.336720703502127, 16.336720703502127, 16.336720703502127, 16.336720703502127, 16.05211560820331]}], \"root_mean_squared_error\": [{\"categories\": [\"0\", \"1\", \"2\", \"3\", \"4\", \"5\", \"6\", \"7\", \"8\", \"9\", \"10\", \"11\", \"12\", \"13\", \"14\", \"15\", \"16\", \"17\", \"18\", \"19\", \"20\", \"21\", \"22\", \"23\", \"24\", \"25\", \"26\", \"27\", \"28\", \"30\", \"31\", \"32\", \"33\", \"35\", \"36\", \"38\"], \"mode\": \"markers\", \"name\": \"root_mean_squared_error\", \"stepped\": false, \"type\": \"scatter\", \"data\": [0.4518955498502235, 0.5150959519740227, 0.6645621080308031, 0.5815943803592772, 0.44224324441630497, 0.749931613911554, 0.6247294359626175, 0.4502496760124545, 0.6094833459315179, 0.7483750364389685, 0.5418141295580562, 0.5829790940446776, 0.5293412094924447, 0.7111161062684952, 0.5998014579375639, 0.8610542000062198, 0.6165894579408823, 0.7788857466463689, 0.7230775259913499, 0.6583103134033544, 0.7112261890272276, 0.7542784168024463, 0.7762312971759455, 0.5079772850877142, 0.5134829184726716, 0.6674035775349162, 0.8055363770446807, 0.7301657501950126, 0.5577124761354991, 1.1417143648458516, 0.5311596637148694, 0.4471242165185217, 0.806060674073142, 1.0723256336703897, 0.8037011767855435, 0.4321818038638276]}, {\"categories\": [\"0\", \"1\", \"2\", \"3\", \"4\", \"5\", \"6\", \"7\", \"8\", \"9\", \"10\", \"11\", \"12\", \"13\", \"14\", \"15\", \"16\", \"17\", \"18\", \"19\", \"20\", \"21\", \"22\", \"23\", \"24\", \"25\", \"26\", \"27\", \"28\", \"30\", \"31\", \"32\", \"33\", \"35\", \"36\", \"38\"], \"mode\": \"lines\", \"name\": \"root_mean_squared_error_min\", \"stepped\": true, \"type\": \"scatter\", \"data\": [0.4518955498502235, 0.4518955498502235, 0.4518955498502235, 0.4518955498502235, 0.44224324441630497, 0.44224324441630497, 0.44224324441630497, 0.44224324441630497, 0.44224324441630497, 0.44224324441630497, 0.44224324441630497, 0.44224324441630497, 0.44224324441630497, 0.44224324441630497, 0.44224324441630497, 0.44224324441630497, 0.44224324441630497, 0.44224324441630497, 0.44224324441630497, 0.44224324441630497, 0.44224324441630497, 0.44224324441630497, 0.44224324441630497, 0.44224324441630497, 0.44224324441630497, 0.44224324441630497, 0.44224324441630497, 0.44224324441630497, 0.44224324441630497, 0.44224324441630497, 0.44224324441630497, 0.44224324441630497, 0.44224324441630497, 0.44224324441630497, 0.44224324441630497, 0.4321818038638276]}], \"median_absolute_error\": [{\"categories\": [\"0\", \"1\", \"2\", \"3\", \"4\", \"5\", \"6\", \"7\", \"8\", \"9\", \"10\", \"11\", \"12\", \"13\", \"14\", \"15\", \"16\", \"17\", \"18\", \"19\", \"20\", \"21\", \"22\", \"23\", \"24\", \"25\", \"26\", \"27\", \"28\", \"30\", \"31\", \"32\", \"33\", \"35\", \"36\", \"38\"], \"mode\": \"markers\", \"name\": \"median_absolute_error\", \"stepped\": false, \"type\": \"scatter\", \"data\": [0.20246070437683122, 0.25464179813385024, 0.37288874101638786, 0.313477968944406, 0.19442460536956785, 0.4467337035284684, 0.3284097837998963, 0.20106985425949087, 0.3199843014851975, 0.45061606929590625, 0.2813290347097815, 0.3207157657146684, 0.23686169457435607, 0.4137433009431473, 0.30360696766321493, 0.561582284012104, 0.32940961646687694, 0.4762193458933436, 0.42555963126736607, 0.3529872985092407, 0.41457959434473646, 0.4653688375585472, 0.47183800957655797, 0.2537299756948674, 0.2547195701599121, 0.3631407985687257, 0.4815392842292785, 0.4500470148748211, 0.26251501560211177, 0.758062418460846, 0.26290000066451924, 0.1886246557235718, 0.5412132570180385, 0.5118951120376587, 0.5173308906555176, 0.18240552254176157]}, {\"categories\": [\"0\", \"1\", \"2\", \"3\", \"4\", \"5\", \"6\", \"7\", \"8\", \"9\", \"10\", \"11\", \"12\", \"13\", \"14\", \"15\", \"16\", \"17\", \"18\", \"19\", \"20\", \"21\", \"22\", \"23\", \"24\", \"25\", \"26\", \"27\", \"28\", \"30\", \"31\", \"32\", \"33\", \"35\", \"36\", \"38\"], \"mode\": \"lines\", \"name\": \"median_absolute_error_min\", \"stepped\": true, \"type\": \"scatter\", \"data\": [0.20246070437683122, 0.20246070437683122, 0.20246070437683122, 0.20246070437683122, 0.19442460536956785, 0.19442460536956785, 0.19442460536956785, 0.19442460536956785, 0.19442460536956785, 0.19442460536956785, 0.19442460536956785, 0.19442460536956785, 0.19442460536956785, 0.19442460536956785, 0.19442460536956785, 0.19442460536956785, 0.19442460536956785, 0.19442460536956785, 0.19442460536956785, 0.19442460536956785, 0.19442460536956785, 0.19442460536956785, 0.19442460536956785, 0.19442460536956785, 0.19442460536956785, 0.19442460536956785, 0.19442460536956785, 0.19442460536956785, 0.19442460536956785, 0.19442460536956785, 0.19442460536956785, 0.1886246557235718, 0.1886246557235718, 0.1886246557235718, 0.1886246557235718, 0.18240552254176157]}]}, \"metricName\": null, \"primaryMetricName\": \"r2_score\", \"showLegend\": false}, \"run_metrics\": [{\"name\": \"experiment_status\", \"run_id\": \"AutoML_261eca2c-e7de-4823-892a-927f1066071f\", \"categories\": [0, 1, 2, 3, 4, 5, 6, 7, 8, 9, 10, 11, 12], \"series\": [{\"data\": [\"DatasetEvaluation\", \"FeaturesGeneration\", \"DatasetFeaturization\", \"DatasetFeaturizationCompleted\", \"ModelSelection\", \"BestRunExplainModel\", \"ModelExplanationDataSetSetup\", \"PickSurrogateModel\", \"EngineeredFeatureExplanations\", \"EngineeredFeatureExplanations\", \"RawFeaturesExplanations\", \"RawFeaturesExplanations\", \"BestRunExplainModel\"]}]}, {\"name\": \"experiment_status_description\", \"run_id\": \"AutoML_261eca2c-e7de-4823-892a-927f1066071f\", \"categories\": [0, 1, 2, 3, 4, 5, 6, 7, 8, 9, 10, 11, 12], \"series\": [{\"data\": [\"Gathering dataset statistics.\", \"Generating features for the dataset.\", \"Beginning to fit featurizers and featurize the dataset.\", \"Completed fit featurizers and featurizing the dataset.\", \"Beginning model selection.\", \"Best run model explanations started\", \"Model explanations data setup completed\", \"Choosing LightGBM as the surrogate model for explanations\", \"Computation of engineered features started\", \"Computation of engineered features completed\", \"Computation of raw features started\", \"Computation of raw features completed\", \"Best run model explanations completed\"]}]}, {\"name\": \"mean_absolute_percentage_error\", \"run_id\": \"AutoML_261eca2c-e7de-4823-892a-927f1066071f\", \"categories\": [0], \"series\": [{\"data\": [16.05211560820331]}]}, {\"name\": \"root_mean_squared_error\", \"run_id\": \"AutoML_261eca2c-e7de-4823-892a-927f1066071f\", \"categories\": [0], \"series\": [{\"data\": [0.4321818038638276]}]}, {\"name\": \"median_absolute_error\", \"run_id\": \"AutoML_261eca2c-e7de-4823-892a-927f1066071f\", \"categories\": [0], \"series\": [{\"data\": [0.18240552254176157]}]}, {\"name\": \"mean_absolute_error\", \"run_id\": \"AutoML_261eca2c-e7de-4823-892a-927f1066071f\", \"categories\": [0], \"series\": [{\"data\": [0.2841758919173683]}]}, {\"name\": \"spearman_correlation\", \"run_id\": \"AutoML_261eca2c-e7de-4823-892a-927f1066071f\", \"categories\": [0], \"series\": [{\"data\": [0.9290035362293845]}]}, {\"name\": \"normalized_mean_absolute_error\", \"run_id\": \"AutoML_261eca2c-e7de-4823-892a-927f1066071f\", \"categories\": [0], \"series\": [{\"data\": [0.058592725786155174]}]}, {\"name\": \"normalized_root_mean_squared_error\", \"run_id\": \"AutoML_261eca2c-e7de-4823-892a-927f1066071f\", \"categories\": [0], \"series\": [{\"data\": [0.08910928282024148]}]}, {\"name\": \"explained_variance\", \"run_id\": \"AutoML_261eca2c-e7de-4823-892a-927f1066071f\", \"categories\": [0], \"series\": [{\"data\": [0.8553811876248657]}]}, {\"name\": \"r2_score\", \"run_id\": \"AutoML_261eca2c-e7de-4823-892a-927f1066071f\", \"categories\": [0], \"series\": [{\"data\": [0.8553625693695082]}]}, {\"name\": \"root_mean_squared_log_error\", \"run_id\": \"AutoML_261eca2c-e7de-4823-892a-927f1066071f\", \"categories\": [0], \"series\": [{\"data\": [0.13101593608885115]}]}, {\"name\": \"normalized_root_mean_squared_log_error\", \"run_id\": \"AutoML_261eca2c-e7de-4823-892a-927f1066071f\", \"categories\": [0], \"series\": [{\"data\": [0.07930708863118689]}]}, {\"name\": \"normalized_median_absolute_error\", \"run_id\": \"AutoML_261eca2c-e7de-4823-892a-927f1066071f\", \"categories\": [0], \"series\": [{\"data\": [0.03760923100147248]}]}], \"run_logs\": \"\\nRun is completed.\", \"graph\": {}, \"widget_settings\": {\"childWidgetDisplay\": \"popup\", \"send_telemetry\": false, \"log_level\": \"INFO\", \"sdk_version\": \"1.21.0\"}, \"loading\": false}"
     },
     "metadata": {},
     "output_type": "display_data"
    },
    {
     "data": {
      "text/plain": [
       "{'runId': 'AutoML_261eca2c-e7de-4823-892a-927f1066071f',\n",
       " 'target': 'nuria-p3',\n",
       " 'status': 'Completed',\n",
       " 'startTimeUtc': '2021-01-26T19:13:51.387204Z',\n",
       " 'endTimeUtc': '2021-01-26T19:37:20.858015Z',\n",
       " 'properties': {'num_iterations': '1000',\n",
       "  'training_type': 'TrainFull',\n",
       "  'acquisition_function': 'EI',\n",
       "  'primary_metric': 'r2_score',\n",
       "  'train_split': '0.2',\n",
       "  'acquisition_parameter': '0',\n",
       "  'num_cross_validation': None,\n",
       "  'target': 'nuria-p3',\n",
       "  'AMLSettingsJsonString': '{\"path\":null,\"name\":\"california-housing-onnx\",\"subscription_id\":\"9a7511b8-150f-4a58-8528-3e7d50216c31\",\"resource_group\":\"aml-quickstarts-136165\",\"workspace_name\":\"quick-starts-ws-136165\",\"region\":\"southcentralus\",\"compute_target\":\"nuria-p3\",\"spark_service\":null,\"azure_service\":\"remote\",\"many_models\":false,\"pipeline_fetch_max_batch_size\":1,\"iterations\":1000,\"primary_metric\":\"r2_score\",\"task_type\":\"regression\",\"data_script\":null,\"validation_size\":0.2,\"n_cross_validations\":null,\"y_min\":null,\"y_max\":null,\"num_classes\":null,\"featurization\":\"auto\",\"_ignore_package_version_incompatibilities\":false,\"is_timeseries\":false,\"max_cores_per_iteration\":1,\"max_concurrent_iterations\":5,\"iteration_timeout_minutes\":null,\"mem_in_mb\":null,\"enforce_time_on_windows\":false,\"experiment_timeout_minutes\":20,\"experiment_exit_score\":null,\"whitelist_models\":null,\"blacklist_algos\":[\"TensorFlowDNN\",\"TensorFlowLinearRegressor\"],\"supported_models\":[\"XGBoostRegressor\",\"FastLinearRegressor\",\"KNN\",\"TensorFlowLinearRegressor\",\"ElasticNet\",\"GradientBoosting\",\"RandomForest\",\"ExtremeRandomTrees\",\"TensorFlowDNN\",\"OnlineGradientDescentRegressor\",\"DecisionTree\",\"LassoLars\",\"SGD\",\"LightGBM\"],\"auto_blacklist\":true,\"blacklist_samples_reached\":false,\"exclude_nan_labels\":true,\"verbosity\":20,\"_debug_log\":\"azureml_automl.log\",\"show_warnings\":false,\"model_explainability\":true,\"service_url\":null,\"sdk_url\":null,\"sdk_packages\":null,\"enable_onnx_compatible_models\":true,\"enable_split_onnx_featurizer_estimator_models\":false,\"vm_type\":\"STANDARD_D12_V2\",\"telemetry_verbosity\":20,\"send_telemetry\":true,\"enable_dnn\":false,\"scenario\":\"SDK-1.13.0\",\"environment_label\":null,\"force_text_dnn\":false,\"enable_feature_sweeping\":false,\"enable_early_stopping\":true,\"early_stopping_n_iters\":10,\"metrics\":null,\"enable_ensembling\":true,\"enable_stack_ensembling\":false,\"ensemble_iterations\":15,\"enable_tf\":false,\"enable_subsampling\":null,\"subsample_seed\":null,\"enable_nimbusml\":false,\"enable_streaming\":false,\"force_streaming\":false,\"track_child_runs\":true,\"allowed_private_models\":[],\"label_column_name\":\"MedHouseVal\",\"weight_column_name\":null,\"cv_split_column_names\":null,\"enable_local_managed\":false,\"_local_managed_run_id\":null,\"cost_mode\":1,\"lag_length\":0,\"metric_operation\":\"maximize\",\"preprocess\":true}',\n",
       "  'DataPrepJsonString': '{\\\\\"training_data\\\\\": \\\\\"{\\\\\\\\\\\\\"blocks\\\\\\\\\\\\\": [{\\\\\\\\\\\\\"id\\\\\\\\\\\\\": \\\\\\\\\\\\\"b39e2ffd-80c7-426a-a522-1852e2dead89\\\\\\\\\\\\\", \\\\\\\\\\\\\"type\\\\\\\\\\\\\": \\\\\\\\\\\\\"Microsoft.DPrep.GetDatastoreFilesBlock\\\\\\\\\\\\\", \\\\\\\\\\\\\"arguments\\\\\\\\\\\\\": {\\\\\\\\\\\\\"datastores\\\\\\\\\\\\\": [{\\\\\\\\\\\\\"datastoreName\\\\\\\\\\\\\": \\\\\\\\\\\\\"workspaceblobstore\\\\\\\\\\\\\", \\\\\\\\\\\\\"path\\\\\\\\\\\\\": \\\\\\\\\\\\\"managed-dataset/93d95790-2319-4202-854e-e99533b8ab7f/\\\\\\\\\\\\\", \\\\\\\\\\\\\"resourceGroup\\\\\\\\\\\\\": \\\\\\\\\\\\\"aml-quickstarts-136165\\\\\\\\\\\\\", \\\\\\\\\\\\\"subscription\\\\\\\\\\\\\": \\\\\\\\\\\\\"9a7511b8-150f-4a58-8528-3e7d50216c31\\\\\\\\\\\\\", \\\\\\\\\\\\\"workspaceName\\\\\\\\\\\\\": \\\\\\\\\\\\\"quick-starts-ws-136165\\\\\\\\\\\\\"}]}, \\\\\\\\\\\\\"localData\\\\\\\\\\\\\": {}, \\\\\\\\\\\\\"isEnabled\\\\\\\\\\\\\": true, \\\\\\\\\\\\\"name\\\\\\\\\\\\\": null, \\\\\\\\\\\\\"annotation\\\\\\\\\\\\\": null}, {\\\\\\\\\\\\\"id\\\\\\\\\\\\\": \\\\\\\\\\\\\"f6919b46-286b-41a8-bc34-88d7a7e42317\\\\\\\\\\\\\", \\\\\\\\\\\\\"type\\\\\\\\\\\\\": \\\\\\\\\\\\\"Microsoft.DPrep.ReadParquetFileBlock\\\\\\\\\\\\\", \\\\\\\\\\\\\"arguments\\\\\\\\\\\\\": {\\\\\\\\\\\\\"preview\\\\\\\\\\\\\": false}, \\\\\\\\\\\\\"localData\\\\\\\\\\\\\": {}, \\\\\\\\\\\\\"isEnabled\\\\\\\\\\\\\": true, \\\\\\\\\\\\\"name\\\\\\\\\\\\\": null, \\\\\\\\\\\\\"annotation\\\\\\\\\\\\\": null}, {\\\\\\\\\\\\\"id\\\\\\\\\\\\\": \\\\\\\\\\\\\"e361e130-7285-4b2e-b9be-9e81cf31be41\\\\\\\\\\\\\", \\\\\\\\\\\\\"type\\\\\\\\\\\\\": \\\\\\\\\\\\\"Microsoft.DPrep.DropColumnsBlock\\\\\\\\\\\\\", \\\\\\\\\\\\\"arguments\\\\\\\\\\\\\": {\\\\\\\\\\\\\"columns\\\\\\\\\\\\\": {\\\\\\\\\\\\\"type\\\\\\\\\\\\\": 0, \\\\\\\\\\\\\"details\\\\\\\\\\\\\": {\\\\\\\\\\\\\"selectedColumns\\\\\\\\\\\\\": [\\\\\\\\\\\\\"Path\\\\\\\\\\\\\"]}}}, \\\\\\\\\\\\\"localData\\\\\\\\\\\\\": {}, \\\\\\\\\\\\\"isEnabled\\\\\\\\\\\\\": true, \\\\\\\\\\\\\"name\\\\\\\\\\\\\": null, \\\\\\\\\\\\\"annotation\\\\\\\\\\\\\": null}], \\\\\\\\\\\\\"inspectors\\\\\\\\\\\\\": [], \\\\\\\\\\\\\"meta\\\\\\\\\\\\\": {\\\\\\\\\\\\\"savedDatasetId\\\\\\\\\\\\\": \\\\\\\\\\\\\"1d1d5304-91d4-44e8-8c48-7709de50bf5f\\\\\\\\\\\\\", \\\\\\\\\\\\\"datasetType\\\\\\\\\\\\\": \\\\\\\\\\\\\"tabular\\\\\\\\\\\\\", \\\\\\\\\\\\\"subscriptionId\\\\\\\\\\\\\": \\\\\\\\\\\\\"9a7511b8-150f-4a58-8528-3e7d50216c31\\\\\\\\\\\\\", \\\\\\\\\\\\\"workspaceId\\\\\\\\\\\\\": \\\\\\\\\\\\\"4d9755f0-99dd-479d-b69a-9df297d99555\\\\\\\\\\\\\", \\\\\\\\\\\\\"workspaceLocation\\\\\\\\\\\\\": \\\\\\\\\\\\\"southcentralus\\\\\\\\\\\\\"}}\\\\\", \\\\\"activities\\\\\": 0}',\n",
       "  'EnableSubsampling': None,\n",
       "  'runTemplate': 'AutoML',\n",
       "  'azureml.runsource': 'automl',\n",
       "  'display_task_type': 'regression',\n",
       "  'dependencies_versions': '{\"azureml-widgets\": \"1.21.0\", \"azureml-train\": \"1.21.0\", \"azureml-train-restclients-hyperdrive\": \"1.21.0\", \"azureml-train-core\": \"1.21.0\", \"azureml-train-automl\": \"1.21.0\", \"azureml-train-automl-runtime\": \"1.21.0\", \"azureml-train-automl-client\": \"1.21.0\", \"azureml-tensorboard\": \"1.20.0\", \"azureml-telemetry\": \"1.21.0\", \"azureml-sdk\": \"1.21.0\", \"azureml-samples\": \"0+unknown\", \"azureml-pipeline\": \"1.21.0\", \"azureml-pipeline-steps\": \"1.21.0\", \"azureml-pipeline-core\": \"1.21.0\", \"azureml-opendatasets\": \"1.20.0\", \"azureml-model-management-sdk\": \"1.0.1b6.post1\", \"azureml-mlflow\": \"1.20.0.post1\", \"azureml-interpret\": \"1.21.0\", \"azureml-explain-model\": \"1.20.0\", \"azureml-defaults\": \"1.21.0\", \"azureml-dataset-runtime\": \"1.21.0\", \"azureml-dataprep\": \"2.8.2\", \"azureml-dataprep-rslex\": \"1.6.0\", \"azureml-dataprep-native\": \"28.0.0\", \"azureml-datadrift\": \"1.20.0\", \"azureml-core\": \"1.21.0.post1\", \"azureml-contrib-services\": \"1.20.0\", \"azureml-contrib-server\": \"1.20.0\", \"azureml-contrib-reinforcementlearning\": \"1.20.0\", \"azureml-contrib-pipeline-steps\": \"1.20.0\", \"azureml-contrib-notebook\": \"1.21.0\", \"azureml-contrib-interpret\": \"1.20.0\", \"azureml-contrib-gbdt\": \"1.20.0\", \"azureml-contrib-fairness\": \"1.20.0\", \"azureml-contrib-dataset\": \"1.20.0\", \"azureml-cli-common\": \"1.20.0\", \"azureml-automl-runtime\": \"1.21.0\", \"azureml-automl-core\": \"1.21.0\", \"azureml-accel-models\": \"1.20.0\"}',\n",
       "  '_aml_system_scenario_identification': 'Remote.Parent',\n",
       "  'ClientType': 'SDK',\n",
       "  'environment_cpu_name': 'AzureML-AutoML',\n",
       "  'environment_cpu_label': 'prod',\n",
       "  'environment_gpu_name': 'AzureML-AutoML-GPU',\n",
       "  'environment_gpu_label': 'prod',\n",
       "  'root_attribution': 'automl',\n",
       "  'attribution': 'AutoML',\n",
       "  'Orchestrator': 'AutoML',\n",
       "  'CancelUri': 'https://southcentralus.experiments.azureml.net/jasmine/v1.0/subscriptions/9a7511b8-150f-4a58-8528-3e7d50216c31/resourceGroups/aml-quickstarts-136165/providers/Microsoft.MachineLearningServices/workspaces/quick-starts-ws-136165/experimentids/0a663ffc-89da-4560-aad2-9754125f94dd/cancel/AutoML_261eca2c-e7de-4823-892a-927f1066071f',\n",
       "  'ClientSdkVersion': '1.20.0.post1',\n",
       "  'snapshotId': '00000000-0000-0000-0000-000000000000',\n",
       "  'SetupRunId': 'AutoML_261eca2c-e7de-4823-892a-927f1066071f_setup',\n",
       "  'SetupRunContainerId': 'dcid.AutoML_261eca2c-e7de-4823-892a-927f1066071f_setup',\n",
       "  'FeaturizationRunJsonPath': 'featurizer_container.json',\n",
       "  'FeaturizationRunId': 'AutoML_261eca2c-e7de-4823-892a-927f1066071f_featurize',\n",
       "  'ProblemInfoJsonString': '{\"dataset_num_categorical\": 0, \"is_sparse\": false, \"subsampling\": false, \"dataset_classes\": 3659, \"dataset_features\": 8, \"dataset_samples\": 16496, \"single_frequency_class_detected\": false}',\n",
       "  'ModelExplainRunId': 'AutoML_261eca2c-e7de-4823-892a-927f1066071f_ModelExplain'},\n",
       " 'inputDatasets': [{'dataset': {'id': '1d1d5304-91d4-44e8-8c48-7709de50bf5f'}, 'consumptionDetails': {'type': 'RunInput', 'inputName': 'training_data', 'mechanism': 'Direct'}}],\n",
       " 'outputDatasets': [],\n",
       " 'logFiles': {},\n",
       " 'submittedBy': 'ODL_User 136165'}"
      ]
     },
     "execution_count": 10,
     "metadata": {},
     "output_type": "execute_result"
    }
   ],
   "source": [
    "RunDetails(remote_run).show()\n",
    "remote_run.wait_for_completion(show_output=False)"
   ]
  },
  {
   "cell_type": "code",
   "execution_count": 11,
   "metadata": {},
   "outputs": [],
   "source": [
    "best_run, onnx_mdl = remote_run.get_output(return_onnx_model=True)"
   ]
  },
  {
   "cell_type": "code",
   "execution_count": 12,
   "metadata": {},
   "outputs": [],
   "source": [
    "onnx_fl_path = \"automl/best-model.onnx\"\n",
    "OnnxConverter.save_onnx_model(onnx_mdl, onnx_fl_path)"
   ]
  },
  {
   "cell_type": "code",
   "execution_count": 13,
   "metadata": {},
   "outputs": [],
   "source": [
    "session = onnxruntime.InferenceSession(onnx_fl_path)"
   ]
  },
  {
   "cell_type": "code",
   "execution_count": 14,
   "metadata": {},
   "outputs": [
    {
     "name": "stdout",
     "output_type": "stream",
     "text": [
      "MedInc\n",
      "HouseAge\n",
      "AveRooms\n",
      "AveBedrms\n",
      "Population\n",
      "AveOccup\n",
      "Latitude\n",
      "Longitude\n"
     ]
    }
   ],
   "source": [
    "session.get_modelmeta()\n",
    "for i in range(8):\n",
    "    var = 'input_name_' + str(i)\n",
    "    var = session.get_inputs()[i].name\n",
    "    print(var)"
   ]
  },
  {
   "cell_type": "code",
   "execution_count": 19,
   "metadata": {},
   "outputs": [
    {
     "data": {
      "text/html": [
       "<div>\n",
       "<style scoped>\n",
       "    .dataframe tbody tr th:only-of-type {\n",
       "        vertical-align: middle;\n",
       "    }\n",
       "\n",
       "    .dataframe tbody tr th {\n",
       "        vertical-align: top;\n",
       "    }\n",
       "\n",
       "    .dataframe thead th {\n",
       "        text-align: right;\n",
       "    }\n",
       "</style>\n",
       "<table border=\"1\" class=\"dataframe\">\n",
       "  <thead>\n",
       "    <tr style=\"text-align: right;\">\n",
       "      <th></th>\n",
       "      <th>MedInc</th>\n",
       "      <th>HouseAge</th>\n",
       "      <th>AveRooms</th>\n",
       "      <th>AveBedrms</th>\n",
       "      <th>Population</th>\n",
       "      <th>AveOccup</th>\n",
       "      <th>Latitude</th>\n",
       "      <th>Longitude</th>\n",
       "    </tr>\n",
       "  </thead>\n",
       "  <tbody>\n",
       "    <tr>\n",
       "      <th>14740</th>\n",
       "      <td>4.15</td>\n",
       "      <td>22.00</td>\n",
       "      <td>5.66</td>\n",
       "      <td>1.08</td>\n",
       "      <td>1551.00</td>\n",
       "      <td>4.18</td>\n",
       "      <td>32.58</td>\n",
       "      <td>-117.05</td>\n",
       "    </tr>\n",
       "    <tr>\n",
       "      <th>10101</th>\n",
       "      <td>5.78</td>\n",
       "      <td>32.00</td>\n",
       "      <td>6.11</td>\n",
       "      <td>0.93</td>\n",
       "      <td>1296.00</td>\n",
       "      <td>3.02</td>\n",
       "      <td>33.92</td>\n",
       "      <td>-117.97</td>\n",
       "    </tr>\n",
       "    <tr>\n",
       "      <th>20566</th>\n",
       "      <td>4.35</td>\n",
       "      <td>29.00</td>\n",
       "      <td>5.93</td>\n",
       "      <td>1.03</td>\n",
       "      <td>1554.00</td>\n",
       "      <td>2.91</td>\n",
       "      <td>38.65</td>\n",
       "      <td>-121.84</td>\n",
       "    </tr>\n",
       "    <tr>\n",
       "      <th>2670</th>\n",
       "      <td>2.45</td>\n",
       "      <td>37.00</td>\n",
       "      <td>4.99</td>\n",
       "      <td>1.32</td>\n",
       "      <td>390.00</td>\n",
       "      <td>2.75</td>\n",
       "      <td>33.20</td>\n",
       "      <td>-115.60</td>\n",
       "    </tr>\n",
       "    <tr>\n",
       "      <th>15709</th>\n",
       "      <td>5.00</td>\n",
       "      <td>25.00</td>\n",
       "      <td>4.32</td>\n",
       "      <td>1.04</td>\n",
       "      <td>649.00</td>\n",
       "      <td>1.71</td>\n",
       "      <td>37.79</td>\n",
       "      <td>-122.43</td>\n",
       "    </tr>\n",
       "  </tbody>\n",
       "</table>\n",
       "</div>"
      ],
      "text/plain": [
       "       MedInc  HouseAge  AveRooms  AveBedrms  Population  AveOccup  Latitude  \\\n",
       "14740    4.15     22.00      5.66       1.08     1551.00      4.18     32.58   \n",
       "10101    5.78     32.00      6.11       0.93     1296.00      3.02     33.92   \n",
       "20566    4.35     29.00      5.93       1.03     1554.00      2.91     38.65   \n",
       "2670     2.45     37.00      4.99       1.32      390.00      2.75     33.20   \n",
       "15709    5.00     25.00      4.32       1.04      649.00      1.71     37.79   \n",
       "\n",
       "       Longitude  \n",
       "14740    -117.05  \n",
       "10101    -117.97  \n",
       "20566    -121.84  \n",
       "2670     -115.60  \n",
       "15709    -122.43  "
      ]
     },
     "execution_count": 19,
     "metadata": {},
     "output_type": "execute_result"
    }
   ],
   "source": [
    "x_test.head(5)"
   ]
  },
  {
   "cell_type": "code",
   "execution_count": 22,
   "metadata": {},
   "outputs": [
    {
     "ename": "InvalidArgument",
     "evalue": "[ONNXRuntimeError] : 2 : INVALID_ARGUMENT : Invalid rank for input: Population Got: 0 Expected: 2 Please fix either the inputs or the model.",
     "output_type": "error",
     "traceback": [
      "\u001b[0;31m---------------------------------------------------------------------------\u001b[0m",
      "\u001b[0;31mInvalidArgument\u001b[0m                           Traceback (most recent call last)",
      "\u001b[0;32m<ipython-input-22-6aad80c0dc40>\u001b[0m in \u001b[0;36m<module>\u001b[0;34m\u001b[0m\n\u001b[1;32m      6\u001b[0m                            \u001b[0;34m\"AveOccup\"\u001b[0m\u001b[0;34m:\u001b[0m \u001b[0mnp\u001b[0m\u001b[0;34m.\u001b[0m\u001b[0marray\u001b[0m\u001b[0;34m(\u001b[0m\u001b[0;34m(\u001b[0m\u001b[0;36m2.75\u001b[0m\u001b[0;34m)\u001b[0m\u001b[0;34m)\u001b[0m\u001b[0;34m.\u001b[0m\u001b[0mastype\u001b[0m\u001b[0;34m(\u001b[0m\u001b[0mnp\u001b[0m\u001b[0;34m.\u001b[0m\u001b[0mfloat32\u001b[0m\u001b[0;34m)\u001b[0m\u001b[0;34m,\u001b[0m\u001b[0;34m\u001b[0m\u001b[0;34m\u001b[0m\u001b[0m\n\u001b[1;32m      7\u001b[0m                            \u001b[0;34m\"Latitude\"\u001b[0m\u001b[0;34m:\u001b[0m \u001b[0mnp\u001b[0m\u001b[0;34m.\u001b[0m\u001b[0marray\u001b[0m\u001b[0;34m(\u001b[0m\u001b[0;34m(\u001b[0m\u001b[0;36m33.20\u001b[0m\u001b[0;34m)\u001b[0m\u001b[0;34m)\u001b[0m\u001b[0;34m.\u001b[0m\u001b[0mastype\u001b[0m\u001b[0;34m(\u001b[0m\u001b[0mnp\u001b[0m\u001b[0;34m.\u001b[0m\u001b[0mfloat32\u001b[0m\u001b[0;34m)\u001b[0m\u001b[0;34m,\u001b[0m\u001b[0;34m\u001b[0m\u001b[0;34m\u001b[0m\u001b[0m\n\u001b[0;32m----> 8\u001b[0;31m                            \"Longitude\": np.array((-115.60)).astype(np.float32)})\n\u001b[0m",
      "\u001b[0;32m/anaconda/envs/azureml_py36/lib/python3.6/site-packages/onnxruntime/capi/session.py\u001b[0m in \u001b[0;36mrun\u001b[0;34m(self, output_names, input_feed, run_options)\u001b[0m\n\u001b[1;32m    109\u001b[0m             \u001b[0moutput_names\u001b[0m \u001b[0;34m=\u001b[0m \u001b[0;34m[\u001b[0m\u001b[0moutput\u001b[0m\u001b[0;34m.\u001b[0m\u001b[0mname\u001b[0m \u001b[0;32mfor\u001b[0m \u001b[0moutput\u001b[0m \u001b[0;32min\u001b[0m \u001b[0mself\u001b[0m\u001b[0;34m.\u001b[0m\u001b[0m_outputs_meta\u001b[0m\u001b[0;34m]\u001b[0m\u001b[0;34m\u001b[0m\u001b[0;34m\u001b[0m\u001b[0m\n\u001b[1;32m    110\u001b[0m         \u001b[0;32mtry\u001b[0m\u001b[0;34m:\u001b[0m\u001b[0;34m\u001b[0m\u001b[0;34m\u001b[0m\u001b[0m\n\u001b[0;32m--> 111\u001b[0;31m             \u001b[0;32mreturn\u001b[0m \u001b[0mself\u001b[0m\u001b[0;34m.\u001b[0m\u001b[0m_sess\u001b[0m\u001b[0;34m.\u001b[0m\u001b[0mrun\u001b[0m\u001b[0;34m(\u001b[0m\u001b[0moutput_names\u001b[0m\u001b[0;34m,\u001b[0m \u001b[0minput_feed\u001b[0m\u001b[0;34m,\u001b[0m \u001b[0mrun_options\u001b[0m\u001b[0;34m)\u001b[0m\u001b[0;34m\u001b[0m\u001b[0;34m\u001b[0m\u001b[0m\n\u001b[0m\u001b[1;32m    112\u001b[0m         \u001b[0;32mexcept\u001b[0m \u001b[0mC\u001b[0m\u001b[0;34m.\u001b[0m\u001b[0mEPFail\u001b[0m \u001b[0;32mas\u001b[0m \u001b[0merr\u001b[0m\u001b[0;34m:\u001b[0m\u001b[0;34m\u001b[0m\u001b[0;34m\u001b[0m\u001b[0m\n\u001b[1;32m    113\u001b[0m             \u001b[0;32mif\u001b[0m \u001b[0mself\u001b[0m\u001b[0;34m.\u001b[0m\u001b[0m_enable_fallback\u001b[0m\u001b[0;34m:\u001b[0m\u001b[0;34m\u001b[0m\u001b[0;34m\u001b[0m\u001b[0m\n",
      "\u001b[0;31mInvalidArgument\u001b[0m: [ONNXRuntimeError] : 2 : INVALID_ARGUMENT : Invalid rank for input: Population Got: 0 Expected: 2 Please fix either the inputs or the model."
     ]
    }
   ],
   "source": [
    "results = session.run([], {\"MedInc\": np.array((2.45)).astype(np.float32), \n",
    "                           \"HouseAge\": np.array((37.00)).astype(np.float32), \n",
    "                           \"AveRooms\": np.array((4.99)).astype(np.float32),\n",
    "                           \"AveBedrms\": np.array((1.32)).astype(np.float32),\n",
    "                           \"Population\": np.array((390.00)).astype(np.float32),\n",
    "                           \"AveOccup\": np.array((2.75)).astype(np.float32),\n",
    "                           \"Latitude\": np.array((33.20)).astype(np.float32),\n",
    "                           \"Longitude\": np.array((-115.60)).astype(np.float32)})"
   ]
  },
  {
   "cell_type": "code",
   "execution_count": null,
   "metadata": {},
   "outputs": [],
   "source": []
  }
 ],
 "metadata": {
  "kernelspec": {
   "display_name": "Python 3.6 - AzureML",
   "language": "python",
   "name": "python3-azureml"
  },
  "language_info": {
   "codemirror_mode": {
    "name": "ipython",
    "version": 3
   },
   "file_extension": ".py",
   "mimetype": "text/x-python",
   "name": "python",
   "nbconvert_exporter": "python",
   "pygments_lexer": "ipython3",
   "version": "3.6.9"
  }
 },
 "nbformat": 4,
 "nbformat_minor": 4
}
