{
 "cells": [
  {
   "cell_type": "code",
   "execution_count": 1,
   "metadata": {
    "gather": {
     "logged": 1603647418589
    }
   },
   "outputs": [
    {
     "name": "stdout",
     "output_type": "stream",
     "text": [
      "Workspace name: quick-starts-ws-123288\n",
      "Azure region: southcentralus\n",
      "Subscription id: a0f586ec-8016-4ea9-8248-9bf2299ad437\n",
      "Resource group: aml-quickstarts-123288\n"
     ]
    }
   ],
   "source": [
    "\n",
    "from azureml.core import Workspace, Experiment\n",
    "\n",
    "ws = Workspace.get(name=\"quick-starts-ws-123288\")\n",
    "exp1 = Experiment(workspace=ws, name=\"nuria-automl\")\n",
    "\n",
    "print('Workspace name: ' + ws.name, \n",
    "      'Azure region: ' + ws.location, \n",
    "      'Subscription id: ' + ws.subscription_id, \n",
    "      'Resource group: ' + ws.resource_group, sep = '\\n')\n",
    "\n",
    "run = exp1.start_logging()"
   ]
  },
  {
   "cell_type": "code",
   "execution_count": 2,
   "metadata": {
    "gather": {
     "logged": 1603647435054
    }
   },
   "outputs": [
    {
     "name": "stdout",
     "output_type": "stream",
     "text": [
      "Using existing compute target.\n"
     ]
    }
   ],
   "source": [
    "from azureml.core.compute import ComputeTarget, AmlCompute\n",
    "from azureml.core.compute_target import ComputeTargetException\n",
    "\n",
    "# TODO: Create compute cluster\n",
    "# Use vm_size = \"Standard_D2_V2\" in your provisioning configuration.\n",
    "# max_nodes should be no greater than 4.\n",
    "\n",
    "### YOUR CODE HERE ###\n",
    "compute_name = \"nuria-p1\"\n",
    "vm_size = \"Standard_D2_V2\"\n",
    "try:\n",
    "    aml_compute = ComputeTarget(workspace=ws, name=compute_name)\n",
    "    print('Using existing compute target.')\n",
    "except ComputeTargetException:\n",
    "    print('Creating compute target.')\n",
    "    provisioning_config = AmlCompute.provisioning_configuration(vm_size=vm_size, max_nodes=4)\n",
    "    compute_target = ComputeTarget.create(ws, compute_name, provisioning_config)\n",
    "\n",
    "    compute_target.wait_for_completion(show_output=True)"
   ]
  },
  {
   "cell_type": "code",
   "execution_count": 3,
   "metadata": {
    "gather": {
     "logged": 1603653268248
    }
   },
   "outputs": [],
   "source": [
    "from azureml.widgets import RunDetails\n",
    "from azureml.train.sklearn import SKLearn\n",
    "import os\n",
    "from azureml.data.dataset_factory import TabularDatasetFactory\n",
    "from train import clean_data\n",
    "import joblib"
   ]
  },
  {
   "cell_type": "code",
   "execution_count": 4,
   "metadata": {
    "gather": {
     "logged": 1603647474663
    }
   },
   "outputs": [
    {
     "name": "stdout",
     "output_type": "stream",
     "text": [
      "<class 'azureml.data.tabular_dataset.TabularDataset'>\n"
     ]
    },
    {
     "data": {
      "text/html": [
       "<div>\n",
       "<style scoped>\n",
       "    .dataframe tbody tr th:only-of-type {\n",
       "        vertical-align: middle;\n",
       "    }\n",
       "\n",
       "    .dataframe tbody tr th {\n",
       "        vertical-align: top;\n",
       "    }\n",
       "\n",
       "    .dataframe thead th {\n",
       "        text-align: right;\n",
       "    }\n",
       "</style>\n",
       "<table border=\"1\" class=\"dataframe\">\n",
       "  <thead>\n",
       "    <tr style=\"text-align: right;\">\n",
       "      <th></th>\n",
       "      <th>age</th>\n",
       "      <th>job</th>\n",
       "      <th>marital</th>\n",
       "      <th>education</th>\n",
       "      <th>default</th>\n",
       "      <th>housing</th>\n",
       "      <th>loan</th>\n",
       "      <th>contact</th>\n",
       "      <th>month</th>\n",
       "      <th>day_of_week</th>\n",
       "      <th>...</th>\n",
       "      <th>campaign</th>\n",
       "      <th>pdays</th>\n",
       "      <th>previous</th>\n",
       "      <th>poutcome</th>\n",
       "      <th>emp.var.rate</th>\n",
       "      <th>cons.price.idx</th>\n",
       "      <th>cons.conf.idx</th>\n",
       "      <th>euribor3m</th>\n",
       "      <th>nr.employed</th>\n",
       "      <th>y</th>\n",
       "    </tr>\n",
       "  </thead>\n",
       "  <tbody>\n",
       "    <tr>\n",
       "      <th>0</th>\n",
       "      <td>57</td>\n",
       "      <td>technician</td>\n",
       "      <td>married</td>\n",
       "      <td>high.school</td>\n",
       "      <td>no</td>\n",
       "      <td>no</td>\n",
       "      <td>yes</td>\n",
       "      <td>cellular</td>\n",
       "      <td>may</td>\n",
       "      <td>mon</td>\n",
       "      <td>...</td>\n",
       "      <td>1</td>\n",
       "      <td>999</td>\n",
       "      <td>1</td>\n",
       "      <td>failure</td>\n",
       "      <td>-1.8</td>\n",
       "      <td>92.893</td>\n",
       "      <td>-46.2</td>\n",
       "      <td>1.299</td>\n",
       "      <td>5099.1</td>\n",
       "      <td>no</td>\n",
       "    </tr>\n",
       "    <tr>\n",
       "      <th>1</th>\n",
       "      <td>55</td>\n",
       "      <td>unknown</td>\n",
       "      <td>married</td>\n",
       "      <td>unknown</td>\n",
       "      <td>unknown</td>\n",
       "      <td>yes</td>\n",
       "      <td>no</td>\n",
       "      <td>telephone</td>\n",
       "      <td>may</td>\n",
       "      <td>thu</td>\n",
       "      <td>...</td>\n",
       "      <td>2</td>\n",
       "      <td>999</td>\n",
       "      <td>0</td>\n",
       "      <td>nonexistent</td>\n",
       "      <td>1.1</td>\n",
       "      <td>93.994</td>\n",
       "      <td>-36.4</td>\n",
       "      <td>4.860</td>\n",
       "      <td>5191.0</td>\n",
       "      <td>no</td>\n",
       "    </tr>\n",
       "    <tr>\n",
       "      <th>2</th>\n",
       "      <td>33</td>\n",
       "      <td>blue-collar</td>\n",
       "      <td>married</td>\n",
       "      <td>basic.9y</td>\n",
       "      <td>no</td>\n",
       "      <td>no</td>\n",
       "      <td>no</td>\n",
       "      <td>cellular</td>\n",
       "      <td>may</td>\n",
       "      <td>fri</td>\n",
       "      <td>...</td>\n",
       "      <td>1</td>\n",
       "      <td>999</td>\n",
       "      <td>1</td>\n",
       "      <td>failure</td>\n",
       "      <td>-1.8</td>\n",
       "      <td>92.893</td>\n",
       "      <td>-46.2</td>\n",
       "      <td>1.313</td>\n",
       "      <td>5099.1</td>\n",
       "      <td>no</td>\n",
       "    </tr>\n",
       "  </tbody>\n",
       "</table>\n",
       "<p>3 rows × 21 columns</p>\n",
       "</div>"
      ],
      "text/plain": [
       "   age          job  marital    education  default housing loan    contact  \\\n",
       "0   57   technician  married  high.school       no      no  yes   cellular   \n",
       "1   55      unknown  married      unknown  unknown     yes   no  telephone   \n",
       "2   33  blue-collar  married     basic.9y       no      no   no   cellular   \n",
       "\n",
       "  month day_of_week  ...  campaign  pdays  previous     poutcome emp.var.rate  \\\n",
       "0   may         mon  ...         1    999         1      failure         -1.8   \n",
       "1   may         thu  ...         2    999         0  nonexistent          1.1   \n",
       "2   may         fri  ...         1    999         1      failure         -1.8   \n",
       "\n",
       "   cons.price.idx  cons.conf.idx  euribor3m  nr.employed   y  \n",
       "0          92.893          -46.2      1.299       5099.1  no  \n",
       "1          93.994          -36.4      4.860       5191.0  no  \n",
       "2          92.893          -46.2      1.313       5099.1  no  \n",
       "\n",
       "[3 rows x 21 columns]"
      ]
     },
     "execution_count": 4,
     "metadata": {},
     "output_type": "execute_result"
    }
   ],
   "source": [
    "# Create TabularDataset using TabularDatasetFactory\n",
    "# Data is available at: \n",
    "# \"https://automlsamplenotebookdata.blob.core.windows.net/automl-sample-notebook-data/bankmarketing_train.csv\"\n",
    "\n",
    "### YOUR CODE HERE ###\n",
    "ds = TabularDatasetFactory.from_delimited_files(path=\"https://automlsamplenotebookdata.blob.core.windows.net/automl-sample-notebook-data/bankmarketing_train.csv\")\n",
    "\n",
    "## NOTE: to see if the dataset is loaded OK\n",
    "print(type(ds))\n",
    "ds.take(3).to_pandas_dataframe()"
   ]
  },
  {
   "cell_type": "code",
   "execution_count": 10,
   "metadata": {
    "gather": {
     "logged": 1603647870389
    }
   },
   "outputs": [],
   "source": [
    "from train import clean_data\n",
    "from sklearn.model_selection import train_test_split\n",
    "\n",
    "# Use the clean_data function to clean your data.\n",
    "# x, y = clean_data(### YOUR DATA OBJECT HERE ###)\n",
    "x, y = clean_data(ds) \n",
    "x_train, x_test, y_train, y_test = train_test_split(x, y, test_size=0.33)\n",
    "train_data = x_train.join(y_train)\n"
   ]
  },
  {
   "cell_type": "code",
   "execution_count": 12,
   "metadata": {
    "gather": {
     "logged": 1603647879558
    },
    "jupyter": {
     "outputs_hidden": false,
     "source_hidden": false
    },
    "nteract": {
     "transient": {
      "deleting": false
     }
    }
   },
   "outputs": [],
   "source": [
    "from azureml.train.automl import AutoMLConfig\n",
    "\n",
    "# Set parameters for AutoMLConfig\n",
    "# NOTE: DO NOT CHANGE THE experiment_timeout_minutes PARAMETER OR YOUR INSTANCE WILL TIME OUT.\n",
    "# If you wish to run the experiment longer, you will need to run this notebook in your own\n",
    "# Azure tenant, which will incur personal \n",
    "\n",
    "automl_config = AutoMLConfig(\n",
    "    experiment_timeout_minutes=30,\n",
    "    task='classification',\n",
    "    primary_metric=\"accuracy\",\n",
    "    training_data=train_data,\n",
    "    label_column_name='y',\n",
    "    n_cross_validations=5)"
   ]
  },
  {
   "cell_type": "code",
   "execution_count": 13,
   "metadata": {
    "gather": {
     "logged": 1603650126156
    },
    "jupyter": {
     "outputs_hidden": false,
     "source_hidden": false
    },
    "nteract": {
     "transient": {
      "deleting": false
     }
    },
    "scrolled": false
   },
   "outputs": [
    {
     "name": "stdout",
     "output_type": "stream",
     "text": [
      "Running on local machine\n",
      "Parent Run ID: AutoML_9d4af92e-7168-4446-be80-9981822b51b1\n",
      "\n",
      "Current status: DatasetEvaluation. Gathering dataset statistics.\n",
      "Current status: FeaturesGeneration. Generating features for the dataset.\n",
      "Current status: DatasetFeaturization. Beginning to fit featurizers and featurize the dataset.\n",
      "Current status: DatasetFeaturizationCompleted. Completed fit featurizers and featurizing the dataset.\n",
      "Current status: DatasetBalancing. Performing class balancing sweeping\n",
      "Current status: DatasetCrossValidationSplit. Generating individually featurized CV splits.\n",
      "\n",
      "****************************************************************************************************\n",
      "DATA GUARDRAILS: \n",
      "\n",
      "TYPE:         Class balancing detection\n",
      "STATUS:       ALERTED\n",
      "DESCRIPTION:  To decrease model bias, please cancel the current run and fix balancing problem.\n",
      "              Learn more about imbalanced data: https://aka.ms/AutomatedMLImbalancedData\n",
      "DETAILS:      Imbalanced data can lead to a falsely perceived positive effect of a model's accuracy because the input data has bias towards one class.\n",
      "+---------------------------------+---------------------------------+--------------------------------------+\n",
      "|Size of the smallest class       |Name/Label of the smallest class |Number of samples in the training data|\n",
      "+=================================+=================================+======================================+\n",
      "|2451                             |1                                |22076                                 |\n",
      "+---------------------------------+---------------------------------+--------------------------------------+\n",
      "\n",
      "****************************************************************************************************\n",
      "\n",
      "TYPE:         Missing feature values imputation\n",
      "STATUS:       PASSED\n",
      "DESCRIPTION:  No feature missing values were detected in the training data.\n",
      "              Learn more about missing value imputation: https://aka.ms/AutomatedMLFeaturization\n",
      "\n",
      "****************************************************************************************************\n",
      "\n",
      "TYPE:         High cardinality feature detection\n",
      "STATUS:       PASSED\n",
      "DESCRIPTION:  Your inputs were analyzed, and no high cardinality features were detected.\n",
      "              Learn more about high cardinality feature handling: https://aka.ms/AutomatedMLFeaturization\n",
      "\n",
      "****************************************************************************************************\n",
      "Current status: ModelSelection. Beginning model selection.\n",
      "\n",
      "****************************************************************************************************\n",
      "ITERATION: The iteration being evaluated.\n",
      "PIPELINE: A summary description of the pipeline being evaluated.\n",
      "DURATION: Time taken for the current iteration.\n",
      "METRIC: The result of computing score on the fitted pipeline.\n",
      "BEST: The best observed score thus far.\n",
      "****************************************************************************************************\n",
      "\n",
      " ITERATION   PIPELINE                                       DURATION      METRIC      BEST\n",
      "         0   MaxAbsScaler LightGBM                          0:00:31       0.9168    0.9168\n",
      "         1   MaxAbsScaler XGBoostClassifier                 0:00:39       0.9178    0.9178\n",
      "         2   MaxAbsScaler RandomForest                      0:00:26       0.8975    0.9178\n",
      "         3   MaxAbsScaler RandomForest                      0:00:24       0.8890    0.9178\n",
      "         4   MaxAbsScaler SGD                               0:00:23       0.8426    0.9178\n",
      "         5   MaxAbsScaler SGD                               0:00:24       0.9085    0.9178\n",
      "         6   MaxAbsScaler ExtremeRandomTrees                0:00:26       0.9015    0.9178\n",
      "         7   MaxAbsScaler ExtremeRandomTrees                0:00:40       0.9020    0.9178\n",
      "         8   MaxAbsScaler ExtremeRandomTrees                0:00:29       0.9014    0.9178\n",
      "         9   MaxAbsScaler ExtremeRandomTrees                0:00:28       0.7661    0.9178\n",
      "        10   MaxAbsScaler SGD                               0:00:25       0.9035    0.9178\n",
      "        11   MaxAbsScaler SGD                               0:00:24       0.9035    0.9178\n",
      "        12   MaxAbsScaler RandomForest                      0:00:25       0.8917    0.9178\n",
      "        13   StandardScalerWrapper ExtremeRandomTrees       0:00:27       0.8890    0.9178\n",
      "        14   MaxAbsScaler RandomForest                      0:00:25       0.7539    0.9178\n",
      "        15   MaxAbsScaler SGD                               0:00:23       0.8555    0.9178\n",
      "        16   MaxAbsScaler RandomForest                      0:00:26       0.8890    0.9178\n",
      "        17   MaxAbsScaler ExtremeRandomTrees                0:00:27       0.9013    0.9178\n",
      "        18   SparseNormalizer ExtremeRandomTrees            0:00:27       0.7227    0.9178\n",
      "        19   MaxAbsScaler SGD                               0:00:26       0.9107    0.9178\n",
      "        20   MaxAbsScaler ExtremeRandomTrees                0:00:29       0.7462    0.9178\n",
      "        21   MaxAbsScaler RandomForest                      0:00:33       0.7646    0.9178\n",
      "        22   MaxAbsScaler LightGBM                          0:00:32       0.9079    0.9178\n",
      "        23   MaxAbsScaler RandomForest                      0:00:27       0.8890    0.9178\n",
      "        24   MaxAbsScaler LightGBM                          0:00:28       0.9120    0.9178\n",
      "        25   SparseNormalizer XGBoostClassifier             0:00:28       0.8890    0.9178\n",
      "        26   StandardScalerWrapper LightGBM                 0:00:26       0.9090    0.9178\n",
      "        27   SparseNormalizer XGBoostClassifier             0:01:01       0.9155    0.9178\n",
      "        28   StandardScalerWrapper LightGBM                 0:00:26       0.9002    0.9178\n",
      "        29   MaxAbsScaler ExtremeRandomTrees                0:00:33       0.9024    0.9178\n",
      "        30   StandardScalerWrapper XGBoostClassifier        0:00:26       0.9005    0.9178\n",
      "        31   SparseNormalizer XGBoostClassifier             0:00:30       0.9151    0.9178\n",
      "        32   StandardScalerWrapper LightGBM                 0:00:27       0.9059    0.9178\n",
      "        33   StandardScalerWrapper LightGBM                 0:00:29       0.9062    0.9178\n",
      "        34   MaxAbsScaler LightGBM                          0:00:28       0.9071    0.9178\n",
      "        35   StandardScalerWrapper XGBoostClassifier        0:00:31       0.9094    0.9178\n",
      "        36   SparseNormalizer XGBoostClassifier             0:01:07       0.9150    0.9178\n",
      "        37   MaxAbsScaler LightGBM                          0:00:30       0.9110    0.9178\n",
      "        38   StandardScalerWrapper XGBoostClassifier        0:00:29       0.9170    0.9178\n",
      "        39   SparseNormalizer XGBoostClassifier             0:00:34       0.9166    0.9178\n",
      "        40   StandardScalerWrapper XGBoostClassifier        0:00:27       0.8890    0.9178\n",
      "        41   VotingEnsemble                                 0:01:04       0.9197    0.9197\n",
      "        42   StackEnsemble                                  0:01:14       0.9181    0.9197\n",
      "Stopping criteria reached at iteration 43. Ending experiment.\n",
      "****************************************************************************************************\n",
      "Current status: BestRunExplainModel. Best run model explanations started\n",
      "Current status: ModelExplanationDataSetSetup. Model explanations data setup completed\n",
      "Current status: PickSurrogateModel. Choosing LightGBM as the surrogate model for explanations\n",
      "Current status: EngineeredFeatureExplanations. Computation of engineered features started\n",
      "Current status: EngineeredFeatureExplanations. Computation of engineered features completed\n",
      "Current status: BestRunExplainModel. Best run model explanations completed\n",
      "****************************************************************************************************\n"
     ]
    }
   ],
   "source": [
    "# Submit your automl run\n",
    "\n",
    "### YOUR CODE HERE # \n",
    "aml_run = exp1.submit(automl_config, show_output = True)"
   ]
  },
  {
   "cell_type": "code",
   "execution_count": 14,
   "metadata": {},
   "outputs": [
    {
     "data": {
      "text/html": [
       "['outputs/best-automl.joblib']"
      ],
      "text/plain": [
       "['outputs/best-automl.joblib']"
      ]
     },
     "execution_count": 14,
     "metadata": {},
     "output_type": "execute_result"
    }
   ],
   "source": [
    "# Retrieve and save your best automl model.\n",
    "best_run, fitted_model = auto_run.get_output()\n",
    "joblib.dump(fitted_model, filename='outputs/best-automl.joblib')"
   ]
  },
  {
   "cell_type": "code",
   "execution_count": 18,
   "metadata": {},
   "outputs": [],
   "source": [
    "# register the best model\n",
    "model = auto_run.register_model(model_name='best-automl')"
   ]
  },
  {
   "cell_type": "code",
   "execution_count": null,
   "metadata": {},
   "outputs": [],
   "source": []
  }
 ],
 "metadata": {
  "kernel_info": {
   "name": "python3-azureml"
  },
  "kernelspec": {
   "display_name": "Python 3.6 - AzureML",
   "language": "python",
   "name": "python3-azureml"
  },
  "language_info": {
   "codemirror_mode": {
    "name": "ipython",
    "version": 3
   },
   "file_extension": ".py",
   "mimetype": "text/x-python",
   "name": "python",
   "nbconvert_exporter": "python",
   "pygments_lexer": "ipython3",
   "version": "3.6.9"
  },
  "nteract": {
   "version": "nteract-front-end@1.0.0"
  }
 },
 "nbformat": 4,
 "nbformat_minor": 2
}