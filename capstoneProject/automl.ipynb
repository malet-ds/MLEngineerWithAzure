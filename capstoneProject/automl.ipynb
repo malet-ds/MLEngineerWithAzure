{
 "cells": [
  {
   "cell_type": "markdown",
   "metadata": {},
   "source": [
    "# Automated ML\n"
   ]
  },
  {
   "cell_type": "code",
   "execution_count": 1,
   "metadata": {},
   "outputs": [
    {
     "name": "stdout",
     "output_type": "stream",
     "text": [
      "Requirement already up-to-date: azureml-sdk[automl,notebooks,widgets] in /anaconda/envs/azureml_py36/lib/python3.6/site-packages (1.21.0)\n",
      "\u001b[33m  WARNING: azureml-sdk 1.21.0 does not provide the extra 'widgets'\u001b[0m\n",
      "Requirement already up-to-date: azureml-core~=1.21.0 in /anaconda/envs/azureml_py36/lib/python3.6/site-packages (from azureml-sdk[automl,notebooks,widgets]) (1.21.0.post1)\n",
      "Requirement already up-to-date: azureml-dataset-runtime[fuse]~=1.21.0 in /anaconda/envs/azureml_py36/lib/python3.6/site-packages (from azureml-sdk[automl,notebooks,widgets]) (1.21.0)\n",
      "Requirement already up-to-date: azureml-train-automl-client~=1.21.0 in /anaconda/envs/azureml_py36/lib/python3.6/site-packages (from azureml-sdk[automl,notebooks,widgets]) (1.21.0)\n",
      "Requirement already up-to-date: azureml-train~=1.21.0 in /anaconda/envs/azureml_py36/lib/python3.6/site-packages (from azureml-sdk[automl,notebooks,widgets]) (1.21.0)\n",
      "Requirement already up-to-date: azureml-pipeline~=1.21.0 in /anaconda/envs/azureml_py36/lib/python3.6/site-packages (from azureml-sdk[automl,notebooks,widgets]) (1.21.0)\n",
      "Requirement already up-to-date: azureml-train-automl~=1.21.0; extra == \"automl\" in /anaconda/envs/azureml_py36/lib/python3.6/site-packages (from azureml-sdk[automl,notebooks,widgets]) (1.21.0)\n",
      "Requirement already up-to-date: azureml-contrib-notebook~=1.21.0; extra == \"notebooks\" in /anaconda/envs/azureml_py36/lib/python3.6/site-packages (from azureml-sdk[automl,notebooks,widgets]) (1.21.0)\n",
      "Requirement already up-to-date: azureml-widgets~=1.21.0; extra == \"notebooks\" in /anaconda/envs/azureml_py36/lib/python3.6/site-packages (from azureml-sdk[automl,notebooks,widgets]) (1.21.0)\n",
      "Requirement already up-to-date: azure-mgmt-containerregistry>=2.0.0 in /anaconda/envs/azureml_py36/lib/python3.6/site-packages (from azureml-core~=1.21.0->azureml-sdk[automl,notebooks,widgets]) (2.8.0)\n",
      "Requirement already up-to-date: backports.tempfile in /anaconda/envs/azureml_py36/lib/python3.6/site-packages (from azureml-core~=1.21.0->azureml-sdk[automl,notebooks,widgets]) (1.0)\n",
      "Requirement already up-to-date: jsonpickle in /anaconda/envs/azureml_py36/lib/python3.6/site-packages (from azureml-core~=1.21.0->azureml-sdk[automl,notebooks,widgets]) (1.5.0)\n",
      "Requirement already up-to-date: SecretStorage in /anaconda/envs/azureml_py36/lib/python3.6/site-packages (from azureml-core~=1.21.0->azureml-sdk[automl,notebooks,widgets]) (3.3.0)\n",
      "Requirement already up-to-date: adal>=1.2.0 in /anaconda/envs/azureml_py36/lib/python3.6/site-packages (from azureml-core~=1.21.0->azureml-sdk[automl,notebooks,widgets]) (1.2.6)\n",
      "Requirement already up-to-date: azure-mgmt-storage<16.0.0,>=1.5.0 in /anaconda/envs/azureml_py36/lib/python3.6/site-packages (from azureml-core~=1.21.0->azureml-sdk[automl,notebooks,widgets]) (11.2.0)\n",
      "Requirement already up-to-date: msrestazure>=0.4.33 in /anaconda/envs/azureml_py36/lib/python3.6/site-packages (from azureml-core~=1.21.0->azureml-sdk[automl,notebooks,widgets]) (0.6.4)\n",
      "Requirement already up-to-date: contextlib2 in /anaconda/envs/azureml_py36/lib/python3.6/site-packages (from azureml-core~=1.21.0->azureml-sdk[automl,notebooks,widgets]) (0.6.0.post1)\n",
      "Requirement already up-to-date: azure-mgmt-resource<15.0.0,>=1.2.1 in /anaconda/envs/azureml_py36/lib/python3.6/site-packages (from azureml-core~=1.21.0->azureml-sdk[automl,notebooks,widgets]) (12.0.0)\n",
      "Requirement already up-to-date: jmespath in /anaconda/envs/azureml_py36/lib/python3.6/site-packages (from azureml-core~=1.21.0->azureml-sdk[automl,notebooks,widgets]) (0.10.0)\n",
      "Requirement already up-to-date: pytz in /anaconda/envs/azureml_py36/lib/python3.6/site-packages (from azureml-core~=1.21.0->azureml-sdk[automl,notebooks,widgets]) (2020.5)\n",
      "Requirement already up-to-date: ruamel.yaml>=0.15.35 in /anaconda/envs/azureml_py36/lib/python3.6/site-packages (from azureml-core~=1.21.0->azureml-sdk[automl,notebooks,widgets]) (0.16.12)\n",
      "Requirement already up-to-date: azure-mgmt-keyvault<7.0.0,>=0.40.0 in /anaconda/envs/azureml_py36/lib/python3.6/site-packages (from azureml-core~=1.21.0->azureml-sdk[automl,notebooks,widgets]) (2.2.0)\n",
      "Requirement already up-to-date: requests>=2.19.1 in /anaconda/envs/azureml_py36/lib/python3.6/site-packages (from azureml-core~=1.21.0->azureml-sdk[automl,notebooks,widgets]) (2.25.1)\n",
      "Requirement already up-to-date: PyJWT<2.0.0 in /anaconda/envs/azureml_py36/lib/python3.6/site-packages (from azureml-core~=1.21.0->azureml-sdk[automl,notebooks,widgets]) (1.7.1)\n",
      "Requirement already up-to-date: python-dateutil>=2.7.3 in /anaconda/envs/azureml_py36/lib/python3.6/site-packages (from azureml-core~=1.21.0->azureml-sdk[automl,notebooks,widgets]) (2.8.1)\n",
      "Requirement already up-to-date: azure-mgmt-authorization<1.0.0,>=0.40.0 in /anaconda/envs/azureml_py36/lib/python3.6/site-packages (from azureml-core~=1.21.0->azureml-sdk[automl,notebooks,widgets]) (0.61.0)\n",
      "Requirement already up-to-date: azure-common>=1.1.12 in /anaconda/envs/azureml_py36/lib/python3.6/site-packages (from azureml-core~=1.21.0->azureml-sdk[automl,notebooks,widgets]) (1.1.26)\n",
      "Requirement already up-to-date: pyopenssl<21.0.0 in /anaconda/envs/azureml_py36/lib/python3.6/site-packages (from azureml-core~=1.21.0->azureml-sdk[automl,notebooks,widgets]) (20.0.1)\n",
      "Collecting urllib3>=1.23\n",
      "  Downloading urllib3-1.26.3-py2.py3-none-any.whl (137 kB)\n",
      "\u001b[K     |████████████████████████████████| 137 kB 7.6 MB/s eta 0:00:01\n",
      "\u001b[?25hRequirement already up-to-date: pathspec in /anaconda/envs/azureml_py36/lib/python3.6/site-packages (from azureml-core~=1.21.0->azureml-sdk[automl,notebooks,widgets]) (0.8.1)\n",
      "Requirement already up-to-date: azure-graphrbac<1.0.0,>=0.40.0 in /anaconda/envs/azureml_py36/lib/python3.6/site-packages (from azureml-core~=1.21.0->azureml-sdk[automl,notebooks,widgets]) (0.61.1)\n",
      "Requirement already up-to-date: docker in /anaconda/envs/azureml_py36/lib/python3.6/site-packages (from azureml-core~=1.21.0->azureml-sdk[automl,notebooks,widgets]) (4.4.1)\n",
      "Requirement already up-to-date: msrest>=0.5.1 in /anaconda/envs/azureml_py36/lib/python3.6/site-packages (from azureml-core~=1.21.0->azureml-sdk[automl,notebooks,widgets]) (0.6.20)\n",
      "Requirement already up-to-date: cryptography!=1.9,!=2.0.*,!=2.1.*,!=2.2.* in /anaconda/envs/azureml_py36/lib/python3.6/site-packages (from azureml-core~=1.21.0->azureml-sdk[automl,notebooks,widgets]) (3.3.1)\n",
      "Requirement already up-to-date: ndg-httpsclient in /anaconda/envs/azureml_py36/lib/python3.6/site-packages (from azureml-core~=1.21.0->azureml-sdk[automl,notebooks,widgets]) (0.5.1)\n",
      "Requirement already up-to-date: azureml-dataprep<2.9.0a,>=2.8.0a in /anaconda/envs/azureml_py36/lib/python3.6/site-packages (from azureml-dataset-runtime[fuse]~=1.21.0->azureml-sdk[automl,notebooks,widgets]) (2.8.2)\n",
      "Requirement already up-to-date: pyarrow<2.0.0,>=0.17.0 in /anaconda/envs/azureml_py36/lib/python3.6/site-packages (from azureml-dataset-runtime[fuse]~=1.21.0->azureml-sdk[automl,notebooks,widgets]) (1.0.1)\n",
      "Requirement already up-to-date: numpy!=1.19.3; sys_platform == \"linux\" in /anaconda/envs/azureml_py36/lib/python3.6/site-packages (from azureml-dataset-runtime[fuse]~=1.21.0->azureml-sdk[automl,notebooks,widgets]) (1.19.5)\n",
      "Requirement already up-to-date: fusepy<4.0.0,>=3.0.1; extra == \"fuse\" in /anaconda/envs/azureml_py36/lib/python3.6/site-packages (from azureml-dataset-runtime[fuse]~=1.21.0->azureml-sdk[automl,notebooks,widgets]) (3.0.1)\n",
      "Requirement already up-to-date: azureml-automl-core~=1.21.0 in /anaconda/envs/azureml_py36/lib/python3.6/site-packages (from azureml-train-automl-client~=1.21.0->azureml-sdk[automl,notebooks,widgets]) (1.21.0)\n",
      "Requirement already up-to-date: azureml-telemetry~=1.21.0 in /anaconda/envs/azureml_py36/lib/python3.6/site-packages (from azureml-train-automl-client~=1.21.0->azureml-sdk[automl,notebooks,widgets]) (1.21.0)\n",
      "Requirement already up-to-date: azureml-train-core~=1.21.0 in /anaconda/envs/azureml_py36/lib/python3.6/site-packages (from azureml-train~=1.21.0->azureml-sdk[automl,notebooks,widgets]) (1.21.0)\n",
      "Requirement already up-to-date: azureml-pipeline-steps~=1.21.0 in /anaconda/envs/azureml_py36/lib/python3.6/site-packages (from azureml-pipeline~=1.21.0->azureml-sdk[automl,notebooks,widgets]) (1.21.0)\n",
      "Requirement already up-to-date: azureml-pipeline-core~=1.21.0 in /anaconda/envs/azureml_py36/lib/python3.6/site-packages (from azureml-pipeline~=1.21.0->azureml-sdk[automl,notebooks,widgets]) (1.21.0)\n",
      "Requirement already up-to-date: azureml-automl-runtime~=1.21.0 in /anaconda/envs/azureml_py36/lib/python3.6/site-packages (from azureml-train-automl~=1.21.0; extra == \"automl\"->azureml-sdk[automl,notebooks,widgets]) (1.21.0)\n",
      "Requirement already up-to-date: azureml-train-automl-runtime~=1.21.0 in /anaconda/envs/azureml_py36/lib/python3.6/site-packages (from azureml-train-automl~=1.21.0; extra == \"automl\"->azureml-sdk[automl,notebooks,widgets]) (1.21.0)\n",
      "Requirement already up-to-date: nbconvert<6 in /anaconda/envs/azureml_py36/lib/python3.6/site-packages (from azureml-contrib-notebook~=1.21.0; extra == \"notebooks\"->azureml-sdk[automl,notebooks,widgets]) (5.6.1)\n",
      "Requirement already up-to-date: ipython in /anaconda/envs/azureml_py36/lib/python3.6/site-packages (from azureml-contrib-notebook~=1.21.0; extra == \"notebooks\"->azureml-sdk[automl,notebooks,widgets]) (7.16.1)\n",
      "Requirement already up-to-date: ipykernel in /anaconda/envs/azureml_py36/lib/python3.6/site-packages (from azureml-contrib-notebook~=1.21.0; extra == \"notebooks\"->azureml-sdk[automl,notebooks,widgets]) (5.4.3)\n",
      "Requirement already up-to-date: papermill<2 in /anaconda/envs/azureml_py36/lib/python3.6/site-packages (from azureml-contrib-notebook~=1.21.0; extra == \"notebooks\"->azureml-sdk[automl,notebooks,widgets]) (1.2.1)\n",
      "Requirement already up-to-date: ipywidgets>=7.0.0 in /anaconda/envs/azureml_py36/lib/python3.6/site-packages (from azureml-widgets~=1.21.0; extra == \"notebooks\"->azureml-sdk[automl,notebooks,widgets]) (7.6.3)\n",
      "Requirement already up-to-date: backports.weakref in /anaconda/envs/azureml_py36/lib/python3.6/site-packages (from backports.tempfile->azureml-core~=1.21.0->azureml-sdk[automl,notebooks,widgets]) (1.0.post1)\n",
      "Requirement already up-to-date: importlib-metadata; python_version < \"3.8\" in /anaconda/envs/azureml_py36/lib/python3.6/site-packages (from jsonpickle->azureml-core~=1.21.0->azureml-sdk[automl,notebooks,widgets]) (3.4.0)\n",
      "Requirement already up-to-date: jeepney>=0.6 in /anaconda/envs/azureml_py36/lib/python3.6/site-packages (from SecretStorage->azureml-core~=1.21.0->azureml-sdk[automl,notebooks,widgets]) (0.6.0)\n",
      "Requirement already up-to-date: six in /anaconda/envs/azureml_py36/lib/python3.6/site-packages (from msrestazure>=0.4.33->azureml-core~=1.21.0->azureml-sdk[automl,notebooks,widgets]) (1.15.0)\n",
      "Requirement already up-to-date: ruamel.yaml.clib>=0.1.2; platform_python_implementation == \"CPython\" and python_version < \"3.9\" in /anaconda/envs/azureml_py36/lib/python3.6/site-packages (from ruamel.yaml>=0.15.35->azureml-core~=1.21.0->azureml-sdk[automl,notebooks,widgets]) (0.2.2)\n",
      "Requirement already up-to-date: idna<3,>=2.5 in /anaconda/envs/azureml_py36/lib/python3.6/site-packages (from requests>=2.19.1->azureml-core~=1.21.0->azureml-sdk[automl,notebooks,widgets]) (2.10)\n",
      "Requirement already up-to-date: chardet<5,>=3.0.2 in /anaconda/envs/azureml_py36/lib/python3.6/site-packages (from requests>=2.19.1->azureml-core~=1.21.0->azureml-sdk[automl,notebooks,widgets]) (4.0.0)\n",
      "Requirement already up-to-date: certifi>=2017.4.17 in /anaconda/envs/azureml_py36/lib/python3.6/site-packages (from requests>=2.19.1->azureml-core~=1.21.0->azureml-sdk[automl,notebooks,widgets]) (2020.12.5)\n",
      "Requirement already up-to-date: websocket-client>=0.32.0 in /anaconda/envs/azureml_py36/lib/python3.6/site-packages (from docker->azureml-core~=1.21.0->azureml-sdk[automl,notebooks,widgets]) (0.57.0)\n",
      "Requirement already up-to-date: isodate>=0.6.0 in /anaconda/envs/azureml_py36/lib/python3.6/site-packages (from msrest>=0.5.1->azureml-core~=1.21.0->azureml-sdk[automl,notebooks,widgets]) (0.6.0)\n",
      "Requirement already up-to-date: requests-oauthlib>=0.5.0 in /anaconda/envs/azureml_py36/lib/python3.6/site-packages (from msrest>=0.5.1->azureml-core~=1.21.0->azureml-sdk[automl,notebooks,widgets]) (1.3.0)\n",
      "Requirement already up-to-date: cffi>=1.12 in /anaconda/envs/azureml_py36/lib/python3.6/site-packages (from cryptography!=1.9,!=2.0.*,!=2.1.*,!=2.2.*->azureml-core~=1.21.0->azureml-sdk[automl,notebooks,widgets]) (1.14.4)\n",
      "Requirement already up-to-date: pyasn1>=0.1.1 in /anaconda/envs/azureml_py36/lib/python3.6/site-packages (from ndg-httpsclient->azureml-core~=1.21.0->azureml-sdk[automl,notebooks,widgets]) (0.4.8)\n",
      "Requirement already up-to-date: dotnetcore2<3.0.0,>=2.1.14 in /anaconda/envs/azureml_py36/lib/python3.6/site-packages (from azureml-dataprep<2.9.0a,>=2.8.0a->azureml-dataset-runtime[fuse]~=1.21.0->azureml-sdk[automl,notebooks,widgets]) (2.1.20)\n",
      "Requirement already up-to-date: azure-identity<1.5.0,>=1.2.0 in /anaconda/envs/azureml_py36/lib/python3.6/site-packages (from azureml-dataprep<2.9.0a,>=2.8.0a->azureml-dataset-runtime[fuse]~=1.21.0->azureml-sdk[automl,notebooks,widgets]) (1.4.1)\n",
      "Requirement already up-to-date: azureml-dataprep-native<29.0.0,>=28.0.0 in /anaconda/envs/azureml_py36/lib/python3.6/site-packages (from azureml-dataprep<2.9.0a,>=2.8.0a->azureml-dataset-runtime[fuse]~=1.21.0->azureml-sdk[automl,notebooks,widgets]) (28.0.0)\n",
      "Requirement already up-to-date: cloudpickle<2.0.0,>=1.1.0 in /anaconda/envs/azureml_py36/lib/python3.6/site-packages (from azureml-dataprep<2.9.0a,>=2.8.0a->azureml-dataset-runtime[fuse]~=1.21.0->azureml-sdk[automl,notebooks,widgets]) (1.6.0)\n",
      "Requirement already up-to-date: azureml-dataprep-rslex<1.7.0a,>=1.6.0dev0 in /anaconda/envs/azureml_py36/lib/python3.6/site-packages (from azureml-dataprep<2.9.0a,>=2.8.0a->azureml-dataset-runtime[fuse]~=1.21.0->azureml-sdk[automl,notebooks,widgets]) (1.6.0)\n",
      "Requirement already up-to-date: applicationinsights in /anaconda/envs/azureml_py36/lib/python3.6/site-packages (from azureml-telemetry~=1.21.0->azureml-train-automl-client~=1.21.0->azureml-sdk[automl,notebooks,widgets]) (0.11.9)\n",
      "Requirement already up-to-date: azureml-train-restclients-hyperdrive~=1.21.0 in /anaconda/envs/azureml_py36/lib/python3.6/site-packages (from azureml-train-core~=1.21.0->azureml-train~=1.21.0->azureml-sdk[automl,notebooks,widgets]) (1.21.0)\n",
      "Requirement already up-to-date: nimbusml<=1.8.0,>=1.7.1 in /anaconda/envs/azureml_py36/lib/python3.6/site-packages (from azureml-automl-runtime~=1.21.0->azureml-train-automl~=1.21.0; extra == \"automl\"->azureml-sdk[automl,notebooks,widgets]) (1.8.0)\n",
      "Requirement already up-to-date: scipy<=1.5.2,>=1.0.0 in /anaconda/envs/azureml_py36/lib/python3.6/site-packages (from azureml-automl-runtime~=1.21.0->azureml-train-automl~=1.21.0; extra == \"automl\"->azureml-sdk[automl,notebooks,widgets]) (1.5.2)\n",
      "Requirement already up-to-date: statsmodels<=0.10.2,>=0.9.0 in /anaconda/envs/azureml_py36/lib/python3.6/site-packages (from azureml-automl-runtime~=1.21.0->azureml-train-automl~=1.21.0; extra == \"automl\"->azureml-sdk[automl,notebooks,widgets]) (0.10.2)\n",
      "Requirement already up-to-date: scikit-learn<0.23.0,>=0.19.0 in /anaconda/envs/azureml_py36/lib/python3.6/site-packages (from azureml-automl-runtime~=1.21.0->azureml-train-automl~=1.21.0; extra == \"automl\"->azureml-sdk[automl,notebooks,widgets]) (0.22.2.post1)\n",
      "Requirement already up-to-date: dill<0.4.0,>=0.2.8 in /anaconda/envs/azureml_py36/lib/python3.6/site-packages (from azureml-automl-runtime~=1.21.0->azureml-train-automl~=1.21.0; extra == \"automl\"->azureml-sdk[automl,notebooks,widgets]) (0.3.3)\n",
      "Requirement already up-to-date: psutil<6.0.0,>=5.2.2 in /anaconda/envs/azureml_py36/lib/python3.6/site-packages (from azureml-automl-runtime~=1.21.0->azureml-train-automl~=1.21.0; extra == \"automl\"->azureml-sdk[automl,notebooks,widgets]) (5.8.0)\n",
      "Requirement already up-to-date: skl2onnx==1.4.9 in /anaconda/envs/azureml_py36/lib/python3.6/site-packages (from azureml-automl-runtime~=1.21.0->azureml-train-automl~=1.21.0; extra == \"automl\"->azureml-sdk[automl,notebooks,widgets]) (1.4.9)\n",
      "Requirement already up-to-date: joblib==0.14.1 in /anaconda/envs/azureml_py36/lib/python3.6/site-packages (from azureml-automl-runtime~=1.21.0->azureml-train-automl~=1.21.0; extra == \"automl\"->azureml-sdk[automl,notebooks,widgets]) (0.14.1)\n",
      "Requirement already up-to-date: smart-open<=1.9.0 in /anaconda/envs/azureml_py36/lib/python3.6/site-packages (from azureml-automl-runtime~=1.21.0->azureml-train-automl~=1.21.0; extra == \"automl\"->azureml-sdk[automl,notebooks,widgets]) (1.9.0)\n",
      "Requirement already up-to-date: lightgbm<=2.3.0,>=2.0.11 in /anaconda/envs/azureml_py36/lib/python3.6/site-packages (from azureml-automl-runtime~=1.21.0->azureml-train-automl~=1.21.0; extra == \"automl\"->azureml-sdk[automl,notebooks,widgets]) (2.3.0)\n",
      "Requirement already up-to-date: py-cpuinfo==5.0.0 in /anaconda/envs/azureml_py36/lib/python3.6/site-packages (from azureml-automl-runtime~=1.21.0->azureml-train-automl~=1.21.0; extra == \"automl\"->azureml-sdk[automl,notebooks,widgets]) (5.0.0)\n",
      "Requirement already up-to-date: onnxconverter-common<=1.6.0,>=1.4.2 in /anaconda/envs/azureml_py36/lib/python3.6/site-packages (from azureml-automl-runtime~=1.21.0->azureml-train-automl~=1.21.0; extra == \"automl\"->azureml-sdk[automl,notebooks,widgets]) (1.6.0)\n",
      "Requirement already up-to-date: boto3<=1.15.18 in /anaconda/envs/azureml_py36/lib/python3.6/site-packages (from azureml-automl-runtime~=1.21.0->azureml-train-automl~=1.21.0; extra == \"automl\"->azureml-sdk[automl,notebooks,widgets]) (1.15.18)\n",
      "Requirement already up-to-date: keras2onnx<=1.6.0,>=1.4.0 in /anaconda/envs/azureml_py36/lib/python3.6/site-packages (from azureml-automl-runtime~=1.21.0->azureml-train-automl~=1.21.0; extra == \"automl\"->azureml-sdk[automl,notebooks,widgets]) (1.6.0)\n",
      "Requirement already up-to-date: pmdarima==1.1.1 in /anaconda/envs/azureml_py36/lib/python3.6/site-packages (from azureml-automl-runtime~=1.21.0->azureml-train-automl~=1.21.0; extra == \"automl\"->azureml-sdk[automl,notebooks,widgets]) (1.1.1)\n",
      "Requirement already up-to-date: gensim<3.9.0 in /anaconda/envs/azureml_py36/lib/python3.6/site-packages (from azureml-automl-runtime~=1.21.0->azureml-train-automl~=1.21.0; extra == \"automl\"->azureml-sdk[automl,notebooks,widgets]) (3.8.3)\n",
      "Requirement already up-to-date: pandas<1.0.0,>=0.21.0 in /anaconda/envs/azureml_py36/lib/python3.6/site-packages (from azureml-automl-runtime~=1.21.0->azureml-train-automl~=1.21.0; extra == \"automl\"->azureml-sdk[automl,notebooks,widgets]) (0.25.3)\n",
      "Requirement already up-to-date: botocore<=1.18.18 in /anaconda/envs/azureml_py36/lib/python3.6/site-packages (from azureml-automl-runtime~=1.21.0->azureml-train-automl~=1.21.0; extra == \"automl\"->azureml-sdk[automl,notebooks,widgets]) (1.18.18)\n",
      "Requirement already up-to-date: onnxmltools==1.4.1 in /anaconda/envs/azureml_py36/lib/python3.6/site-packages (from azureml-automl-runtime~=1.21.0->azureml-train-automl~=1.21.0; extra == \"automl\"->azureml-sdk[automl,notebooks,widgets]) (1.4.1)\n",
      "Requirement already up-to-date: onnx<=1.7.0,>=1.5.0 in /anaconda/envs/azureml_py36/lib/python3.6/site-packages (from azureml-automl-runtime~=1.21.0->azureml-train-automl~=1.21.0; extra == \"automl\"->azureml-sdk[automl,notebooks,widgets]) (1.7.0)\n",
      "Requirement already up-to-date: onnxruntime==1.3.0 in /anaconda/envs/azureml_py36/lib/python3.6/site-packages (from azureml-automl-runtime~=1.21.0->azureml-train-automl~=1.21.0; extra == \"automl\"->azureml-sdk[automl,notebooks,widgets]) (1.3.0)\n",
      "Requirement already up-to-date: sklearn-pandas<=1.7.0,>=1.4.0 in /anaconda/envs/azureml_py36/lib/python3.6/site-packages (from azureml-automl-runtime~=1.21.0->azureml-train-automl~=1.21.0; extra == \"automl\"->azureml-sdk[automl,notebooks,widgets]) (1.7.0)\n",
      "Requirement already up-to-date: azure-storage-queue~=12.1 in /anaconda/envs/azureml_py36/lib/python3.6/site-packages (from azureml-train-automl-runtime~=1.21.0->azureml-train-automl~=1.21.0; extra == \"automl\"->azureml-sdk[automl,notebooks,widgets]) (12.1.5)\n",
      "Requirement already up-to-date: azureml-defaults~=1.21.0 in /anaconda/envs/azureml_py36/lib/python3.6/site-packages (from azureml-train-automl-runtime~=1.21.0->azureml-train-automl~=1.21.0; extra == \"automl\"->azureml-sdk[automl,notebooks,widgets]) (1.21.0)\n",
      "Requirement already up-to-date: jinja2<=2.11.2 in /anaconda/envs/azureml_py36/lib/python3.6/site-packages (from azureml-train-automl-runtime~=1.21.0->azureml-train-automl~=1.21.0; extra == \"automl\"->azureml-sdk[automl,notebooks,widgets]) (2.11.2)\n",
      "Requirement already up-to-date: azureml-interpret~=1.21.0 in /anaconda/envs/azureml_py36/lib/python3.6/site-packages (from azureml-train-automl-runtime~=1.21.0->azureml-train-automl~=1.21.0; extra == \"automl\"->azureml-sdk[automl,notebooks,widgets]) (1.21.0)\n",
      "Requirement already up-to-date: pandocfilters>=1.4.1 in /anaconda/envs/azureml_py36/lib/python3.6/site-packages (from nbconvert<6->azureml-contrib-notebook~=1.21.0; extra == \"notebooks\"->azureml-sdk[automl,notebooks,widgets]) (1.4.3)\n",
      "Requirement already up-to-date: traitlets>=4.2 in /anaconda/envs/azureml_py36/lib/python3.6/site-packages (from nbconvert<6->azureml-contrib-notebook~=1.21.0; extra == \"notebooks\"->azureml-sdk[automl,notebooks,widgets]) (4.3.3)\n",
      "Requirement already up-to-date: defusedxml in /anaconda/envs/azureml_py36/lib/python3.6/site-packages (from nbconvert<6->azureml-contrib-notebook~=1.21.0; extra == \"notebooks\"->azureml-sdk[automl,notebooks,widgets]) (0.6.0)\n",
      "Requirement already up-to-date: pygments in /anaconda/envs/azureml_py36/lib/python3.6/site-packages (from nbconvert<6->azureml-contrib-notebook~=1.21.0; extra == \"notebooks\"->azureml-sdk[automl,notebooks,widgets]) (2.7.4)\n",
      "Requirement already up-to-date: mistune<2,>=0.8.1 in /anaconda/envs/azureml_py36/lib/python3.6/site-packages (from nbconvert<6->azureml-contrib-notebook~=1.21.0; extra == \"notebooks\"->azureml-sdk[automl,notebooks,widgets]) (0.8.4)\n",
      "Requirement already up-to-date: bleach in /anaconda/envs/azureml_py36/lib/python3.6/site-packages (from nbconvert<6->azureml-contrib-notebook~=1.21.0; extra == \"notebooks\"->azureml-sdk[automl,notebooks,widgets]) (3.2.3)\n",
      "Requirement already up-to-date: nbformat>=4.4 in /anaconda/envs/azureml_py36/lib/python3.6/site-packages (from nbconvert<6->azureml-contrib-notebook~=1.21.0; extra == \"notebooks\"->azureml-sdk[automl,notebooks,widgets]) (5.1.2)\n",
      "Requirement already up-to-date: jupyter-core in /anaconda/envs/azureml_py36/lib/python3.6/site-packages (from nbconvert<6->azureml-contrib-notebook~=1.21.0; extra == \"notebooks\"->azureml-sdk[automl,notebooks,widgets]) (4.7.0)\n",
      "Requirement already up-to-date: entrypoints>=0.2.2 in /anaconda/envs/azureml_py36/lib/python3.6/site-packages (from nbconvert<6->azureml-contrib-notebook~=1.21.0; extra == \"notebooks\"->azureml-sdk[automl,notebooks,widgets]) (0.3)\n",
      "Requirement already up-to-date: testpath in /anaconda/envs/azureml_py36/lib/python3.6/site-packages (from nbconvert<6->azureml-contrib-notebook~=1.21.0; extra == \"notebooks\"->azureml-sdk[automl,notebooks,widgets]) (0.4.4)\n",
      "Requirement already up-to-date: decorator in /anaconda/envs/azureml_py36/lib/python3.6/site-packages (from ipython->azureml-contrib-notebook~=1.21.0; extra == \"notebooks\"->azureml-sdk[automl,notebooks,widgets]) (4.4.2)\n",
      "Requirement already up-to-date: setuptools>=18.5 in /anaconda/envs/azureml_py36/lib/python3.6/site-packages (from ipython->azureml-contrib-notebook~=1.21.0; extra == \"notebooks\"->azureml-sdk[automl,notebooks,widgets]) (52.0.0)\n",
      "Requirement already up-to-date: backcall in /anaconda/envs/azureml_py36/lib/python3.6/site-packages (from ipython->azureml-contrib-notebook~=1.21.0; extra == \"notebooks\"->azureml-sdk[automl,notebooks,widgets]) (0.2.0)\n",
      "Requirement already up-to-date: pickleshare in /anaconda/envs/azureml_py36/lib/python3.6/site-packages (from ipython->azureml-contrib-notebook~=1.21.0; extra == \"notebooks\"->azureml-sdk[automl,notebooks,widgets]) (0.7.5)\n",
      "Requirement already up-to-date: prompt-toolkit!=3.0.0,!=3.0.1,<3.1.0,>=2.0.0 in /anaconda/envs/azureml_py36/lib/python3.6/site-packages (from ipython->azureml-contrib-notebook~=1.21.0; extra == \"notebooks\"->azureml-sdk[automl,notebooks,widgets]) (3.0.14)\n",
      "Requirement already up-to-date: pexpect; sys_platform != \"win32\" in /anaconda/envs/azureml_py36/lib/python3.6/site-packages (from ipython->azureml-contrib-notebook~=1.21.0; extra == \"notebooks\"->azureml-sdk[automl,notebooks,widgets]) (4.8.0)\n",
      "Requirement already up-to-date: jedi>=0.10 in /anaconda/envs/azureml_py36/lib/python3.6/site-packages (from ipython->azureml-contrib-notebook~=1.21.0; extra == \"notebooks\"->azureml-sdk[automl,notebooks,widgets]) (0.18.0)\n",
      "Requirement already up-to-date: jupyter-client in /anaconda/envs/azureml_py36/lib/python3.6/site-packages (from ipykernel->azureml-contrib-notebook~=1.21.0; extra == \"notebooks\"->azureml-sdk[automl,notebooks,widgets]) (6.1.11)\n",
      "Requirement already up-to-date: tornado>=4.2 in /anaconda/envs/azureml_py36/lib/python3.6/site-packages (from ipykernel->azureml-contrib-notebook~=1.21.0; extra == \"notebooks\"->azureml-sdk[automl,notebooks,widgets]) (6.1)\n",
      "Requirement already up-to-date: tqdm>=4.32.2 in /anaconda/envs/azureml_py36/lib/python3.6/site-packages (from papermill<2->azureml-contrib-notebook~=1.21.0; extra == \"notebooks\"->azureml-sdk[automl,notebooks,widgets]) (4.56.0)\n",
      "Requirement already up-to-date: pyyaml in /anaconda/envs/azureml_py36/lib/python3.6/site-packages (from papermill<2->azureml-contrib-notebook~=1.21.0; extra == \"notebooks\"->azureml-sdk[automl,notebooks,widgets]) (5.4.1)\n",
      "Requirement already up-to-date: ansiwrap in /anaconda/envs/azureml_py36/lib/python3.6/site-packages (from papermill<2->azureml-contrib-notebook~=1.21.0; extra == \"notebooks\"->azureml-sdk[automl,notebooks,widgets]) (0.8.4)\n",
      "Requirement already up-to-date: tenacity in /anaconda/envs/azureml_py36/lib/python3.6/site-packages (from papermill<2->azureml-contrib-notebook~=1.21.0; extra == \"notebooks\"->azureml-sdk[automl,notebooks,widgets]) (6.3.1)\n",
      "Requirement already up-to-date: click in /anaconda/envs/azureml_py36/lib/python3.6/site-packages (from papermill<2->azureml-contrib-notebook~=1.21.0; extra == \"notebooks\"->azureml-sdk[automl,notebooks,widgets]) (7.1.2)\n",
      "Requirement already up-to-date: future in /anaconda/envs/azureml_py36/lib/python3.6/site-packages (from papermill<2->azureml-contrib-notebook~=1.21.0; extra == \"notebooks\"->azureml-sdk[automl,notebooks,widgets]) (0.18.2)\n",
      "Requirement already up-to-date: widgetsnbextension~=3.5.0 in /anaconda/envs/azureml_py36/lib/python3.6/site-packages (from ipywidgets>=7.0.0->azureml-widgets~=1.21.0; extra == \"notebooks\"->azureml-sdk[automl,notebooks,widgets]) (3.5.1)\n",
      "Requirement already up-to-date: jupyterlab-widgets>=1.0.0; python_version >= \"3.6\" in /anaconda/envs/azureml_py36/lib/python3.6/site-packages (from ipywidgets>=7.0.0->azureml-widgets~=1.21.0; extra == \"notebooks\"->azureml-sdk[automl,notebooks,widgets]) (1.0.0)\n",
      "Requirement already up-to-date: typing-extensions>=3.6.4; python_version < \"3.8\" in /anaconda/envs/azureml_py36/lib/python3.6/site-packages (from importlib-metadata; python_version < \"3.8\"->jsonpickle->azureml-core~=1.21.0->azureml-sdk[automl,notebooks,widgets]) (3.7.4.3)\n",
      "Requirement already up-to-date: zipp>=0.5 in /anaconda/envs/azureml_py36/lib/python3.6/site-packages (from importlib-metadata; python_version < \"3.8\"->jsonpickle->azureml-core~=1.21.0->azureml-sdk[automl,notebooks,widgets]) (3.4.0)\n",
      "Requirement already up-to-date: oauthlib>=3.0.0 in /anaconda/envs/azureml_py36/lib/python3.6/site-packages (from requests-oauthlib>=0.5.0->msrest>=0.5.1->azureml-core~=1.21.0->azureml-sdk[automl,notebooks,widgets]) (3.1.0)\n",
      "Requirement already up-to-date: pycparser in /anaconda/envs/azureml_py36/lib/python3.6/site-packages (from cffi>=1.12->cryptography!=1.9,!=2.0.*,!=2.1.*,!=2.2.*->azureml-core~=1.21.0->azureml-sdk[automl,notebooks,widgets]) (2.20)\n",
      "Requirement already up-to-date: distro>=1.2.0 in /anaconda/envs/azureml_py36/lib/python3.6/site-packages (from dotnetcore2<3.0.0,>=2.1.14->azureml-dataprep<2.9.0a,>=2.8.0a->azureml-dataset-runtime[fuse]~=1.21.0->azureml-sdk[automl,notebooks,widgets]) (1.5.0)\n",
      "Requirement already up-to-date: msal-extensions~=0.2.2 in /anaconda/envs/azureml_py36/lib/python3.6/site-packages (from azure-identity<1.5.0,>=1.2.0->azureml-dataprep<2.9.0a,>=2.8.0a->azureml-dataset-runtime[fuse]~=1.21.0->azureml-sdk[automl,notebooks,widgets]) (0.2.2)\n",
      "Requirement already up-to-date: azure-core<2.0.0,>=1.0.0 in /anaconda/envs/azureml_py36/lib/python3.6/site-packages (from azure-identity<1.5.0,>=1.2.0->azureml-dataprep<2.9.0a,>=2.8.0a->azureml-dataset-runtime[fuse]~=1.21.0->azureml-sdk[automl,notebooks,widgets]) (1.10.0)\n",
      "Requirement already up-to-date: msal<2.0.0,>=1.3.0 in /anaconda/envs/azureml_py36/lib/python3.6/site-packages (from azure-identity<1.5.0,>=1.2.0->azureml-dataprep<2.9.0a,>=2.8.0a->azureml-dataset-runtime[fuse]~=1.21.0->azureml-sdk[automl,notebooks,widgets]) (1.8.0)\n",
      "Requirement already up-to-date: patsy>=0.4.0 in /anaconda/envs/azureml_py36/lib/python3.6/site-packages (from statsmodels<=0.10.2,>=0.9.0->azureml-automl-runtime~=1.21.0->azureml-train-automl~=1.21.0; extra == \"automl\"->azureml-sdk[automl,notebooks,widgets]) (0.5.1)\n",
      "Requirement already up-to-date: protobuf in /anaconda/envs/azureml_py36/lib/python3.6/site-packages (from skl2onnx==1.4.9->azureml-automl-runtime~=1.21.0->azureml-train-automl~=1.21.0; extra == \"automl\"->azureml-sdk[automl,notebooks,widgets]) (3.14.0)\n",
      "Requirement already up-to-date: boto>=2.32 in /anaconda/envs/azureml_py36/lib/python3.6/site-packages (from smart-open<=1.9.0->azureml-automl-runtime~=1.21.0->azureml-train-automl~=1.21.0; extra == \"automl\"->azureml-sdk[automl,notebooks,widgets]) (2.49.0)\n",
      "Requirement already up-to-date: s3transfer<0.4.0,>=0.3.0 in /anaconda/envs/azureml_py36/lib/python3.6/site-packages (from boto3<=1.15.18->azureml-automl-runtime~=1.21.0->azureml-train-automl~=1.21.0; extra == \"automl\"->azureml-sdk[automl,notebooks,widgets]) (0.3.4)\n",
      "Requirement already up-to-date: fire in /anaconda/envs/azureml_py36/lib/python3.6/site-packages (from keras2onnx<=1.6.0,>=1.4.0->azureml-automl-runtime~=1.21.0->azureml-train-automl~=1.21.0; extra == \"automl\"->azureml-sdk[automl,notebooks,widgets]) (0.4.0)\n",
      "Requirement already up-to-date: Cython>=0.29 in /anaconda/envs/azureml_py36/lib/python3.6/site-packages (from pmdarima==1.1.1->azureml-automl-runtime~=1.21.0->azureml-train-automl~=1.21.0; extra == \"automl\"->azureml-sdk[automl,notebooks,widgets]) (0.29.21)\n",
      "Requirement already up-to-date: werkzeug<=1.0.1,>=0.16.1 in /anaconda/envs/azureml_py36/lib/python3.6/site-packages (from azureml-defaults~=1.21.0->azureml-train-automl-runtime~=1.21.0->azureml-train-automl~=1.21.0; extra == \"automl\"->azureml-sdk[automl,notebooks,widgets]) (1.0.1)\n",
      "Requirement already up-to-date: flask==1.0.3 in /anaconda/envs/azureml_py36/lib/python3.6/site-packages (from azureml-defaults~=1.21.0->azureml-train-automl-runtime~=1.21.0->azureml-train-automl~=1.21.0; extra == \"automl\"->azureml-sdk[automl,notebooks,widgets]) (1.0.3)\n",
      "Requirement already up-to-date: configparser==3.7.4 in /anaconda/envs/azureml_py36/lib/python3.6/site-packages (from azureml-defaults~=1.21.0->azureml-train-automl-runtime~=1.21.0->azureml-train-automl~=1.21.0; extra == \"automl\"->azureml-sdk[automl,notebooks,widgets]) (3.7.4)\n",
      "Requirement already up-to-date: azureml-model-management-sdk==1.0.1b6.post1 in /anaconda/envs/azureml_py36/lib/python3.6/site-packages (from azureml-defaults~=1.21.0->azureml-train-automl-runtime~=1.21.0->azureml-train-automl~=1.21.0; extra == \"automl\"->azureml-sdk[automl,notebooks,widgets]) (1.0.1b6.post1)\n",
      "Requirement already up-to-date: gunicorn==19.9.0 in /anaconda/envs/azureml_py36/lib/python3.6/site-packages (from azureml-defaults~=1.21.0->azureml-train-automl-runtime~=1.21.0->azureml-train-automl~=1.21.0; extra == \"automl\"->azureml-sdk[automl,notebooks,widgets]) (19.9.0)\n",
      "Requirement already up-to-date: json-logging-py==0.2 in /anaconda/envs/azureml_py36/lib/python3.6/site-packages (from azureml-defaults~=1.21.0->azureml-train-automl-runtime~=1.21.0->azureml-train-automl~=1.21.0; extra == \"automl\"->azureml-sdk[automl,notebooks,widgets]) (0.2)\n",
      "Requirement already up-to-date: MarkupSafe>=0.23 in /anaconda/envs/azureml_py36/lib/python3.6/site-packages (from jinja2<=2.11.2->azureml-train-automl-runtime~=1.21.0->azureml-train-automl~=1.21.0; extra == \"automl\"->azureml-sdk[automl,notebooks,widgets]) (1.1.1)\n",
      "Requirement already up-to-date: interpret-community==0.16.* in /anaconda/envs/azureml_py36/lib/python3.6/site-packages (from azureml-interpret~=1.21.0->azureml-train-automl-runtime~=1.21.0->azureml-train-automl~=1.21.0; extra == \"automl\"->azureml-sdk[automl,notebooks,widgets]) (0.16.0)\n",
      "Requirement already up-to-date: ipython-genutils in /anaconda/envs/azureml_py36/lib/python3.6/site-packages (from traitlets>=4.2->nbconvert<6->azureml-contrib-notebook~=1.21.0; extra == \"notebooks\"->azureml-sdk[automl,notebooks,widgets]) (0.2.0)\n",
      "Requirement already up-to-date: packaging in /anaconda/envs/azureml_py36/lib/python3.6/site-packages (from bleach->nbconvert<6->azureml-contrib-notebook~=1.21.0; extra == \"notebooks\"->azureml-sdk[automl,notebooks,widgets]) (20.8)\n",
      "Requirement already up-to-date: webencodings in /anaconda/envs/azureml_py36/lib/python3.6/site-packages (from bleach->nbconvert<6->azureml-contrib-notebook~=1.21.0; extra == \"notebooks\"->azureml-sdk[automl,notebooks,widgets]) (0.5.1)\n",
      "Requirement already up-to-date: jsonschema!=2.5.0,>=2.4 in /anaconda/envs/azureml_py36/lib/python3.6/site-packages (from nbformat>=4.4->nbconvert<6->azureml-contrib-notebook~=1.21.0; extra == \"notebooks\"->azureml-sdk[automl,notebooks,widgets]) (3.2.0)\n",
      "Requirement already up-to-date: wcwidth in /anaconda/envs/azureml_py36/lib/python3.6/site-packages (from prompt-toolkit!=3.0.0,!=3.0.1,<3.1.0,>=2.0.0->ipython->azureml-contrib-notebook~=1.21.0; extra == \"notebooks\"->azureml-sdk[automl,notebooks,widgets]) (0.2.5)\n",
      "Requirement already up-to-date: ptyprocess>=0.5 in /anaconda/envs/azureml_py36/lib/python3.6/site-packages (from pexpect; sys_platform != \"win32\"->ipython->azureml-contrib-notebook~=1.21.0; extra == \"notebooks\"->azureml-sdk[automl,notebooks,widgets]) (0.7.0)\n",
      "Requirement already up-to-date: parso<0.9.0,>=0.8.0 in /anaconda/envs/azureml_py36/lib/python3.6/site-packages (from jedi>=0.10->ipython->azureml-contrib-notebook~=1.21.0; extra == \"notebooks\"->azureml-sdk[automl,notebooks,widgets]) (0.8.1)\n",
      "Requirement already up-to-date: pyzmq>=13 in /anaconda/envs/azureml_py36/lib/python3.6/site-packages (from jupyter-client->ipykernel->azureml-contrib-notebook~=1.21.0; extra == \"notebooks\"->azureml-sdk[automl,notebooks,widgets]) (21.0.2)\n",
      "Requirement already up-to-date: textwrap3>=0.9.2 in /anaconda/envs/azureml_py36/lib/python3.6/site-packages (from ansiwrap->papermill<2->azureml-contrib-notebook~=1.21.0; extra == \"notebooks\"->azureml-sdk[automl,notebooks,widgets]) (0.9.2)\n",
      "Requirement already up-to-date: notebook>=4.4.1 in /anaconda/envs/azureml_py36/lib/python3.6/site-packages (from widgetsnbextension~=3.5.0->ipywidgets>=7.0.0->azureml-widgets~=1.21.0; extra == \"notebooks\"->azureml-sdk[automl,notebooks,widgets]) (6.2.0)\n",
      "Requirement already up-to-date: portalocker~=1.0; platform_system != \"Windows\" in /anaconda/envs/azureml_py36/lib/python3.6/site-packages (from msal-extensions~=0.2.2->azure-identity<1.5.0,>=1.2.0->azureml-dataprep<2.9.0a,>=2.8.0a->azureml-dataset-runtime[fuse]~=1.21.0->azureml-sdk[automl,notebooks,widgets]) (1.7.1)\n",
      "Requirement already up-to-date: termcolor in /anaconda/envs/azureml_py36/lib/python3.6/site-packages (from fire->keras2onnx<=1.6.0,>=1.4.0->azureml-automl-runtime~=1.21.0->azureml-train-automl~=1.21.0; extra == \"automl\"->azureml-sdk[automl,notebooks,widgets]) (1.1.0)\n",
      "Requirement already up-to-date: itsdangerous>=0.24 in /anaconda/envs/azureml_py36/lib/python3.6/site-packages (from flask==1.0.3->azureml-defaults~=1.21.0->azureml-train-automl-runtime~=1.21.0->azureml-train-automl~=1.21.0; extra == \"automl\"->azureml-sdk[automl,notebooks,widgets]) (1.1.0)\n",
      "Requirement already up-to-date: liac-arff>=2.1.1 in /anaconda/envs/azureml_py36/lib/python3.6/site-packages (from azureml-model-management-sdk==1.0.1b6.post1->azureml-defaults~=1.21.0->azureml-train-automl-runtime~=1.21.0->azureml-train-automl~=1.21.0; extra == \"automl\"->azureml-sdk[automl,notebooks,widgets]) (2.5.0)\n",
      "Requirement already up-to-date: shap<=0.34.0,>=0.20.0 in /anaconda/envs/azureml_py36/lib/python3.6/site-packages (from interpret-community==0.16.*->azureml-interpret~=1.21.0->azureml-train-automl-runtime~=1.21.0->azureml-train-automl~=1.21.0; extra == \"automl\"->azureml-sdk[automl,notebooks,widgets]) (0.34.0)\n",
      "Requirement already up-to-date: interpret-core[required]<=0.2.1,>=0.1.20 in /anaconda/envs/azureml_py36/lib/python3.6/site-packages (from interpret-community==0.16.*->azureml-interpret~=1.21.0->azureml-train-automl-runtime~=1.21.0->azureml-train-automl~=1.21.0; extra == \"automl\"->azureml-sdk[automl,notebooks,widgets]) (0.2.1)\n",
      "Requirement already up-to-date: pyparsing>=2.0.2 in /anaconda/envs/azureml_py36/lib/python3.6/site-packages (from packaging->bleach->nbconvert<6->azureml-contrib-notebook~=1.21.0; extra == \"notebooks\"->azureml-sdk[automl,notebooks,widgets]) (2.4.7)\n",
      "Requirement already up-to-date: attrs>=17.4.0 in /anaconda/envs/azureml_py36/lib/python3.6/site-packages (from jsonschema!=2.5.0,>=2.4->nbformat>=4.4->nbconvert<6->azureml-contrib-notebook~=1.21.0; extra == \"notebooks\"->azureml-sdk[automl,notebooks,widgets]) (20.3.0)\n",
      "Requirement already up-to-date: pyrsistent>=0.14.0 in /anaconda/envs/azureml_py36/lib/python3.6/site-packages (from jsonschema!=2.5.0,>=2.4->nbformat>=4.4->nbconvert<6->azureml-contrib-notebook~=1.21.0; extra == \"notebooks\"->azureml-sdk[automl,notebooks,widgets]) (0.17.3)\n",
      "Requirement already up-to-date: terminado>=0.8.3 in /anaconda/envs/azureml_py36/lib/python3.6/site-packages (from notebook>=4.4.1->widgetsnbextension~=3.5.0->ipywidgets>=7.0.0->azureml-widgets~=1.21.0; extra == \"notebooks\"->azureml-sdk[automl,notebooks,widgets]) (0.9.2)\n",
      "Requirement already up-to-date: Send2Trash>=1.5.0 in /anaconda/envs/azureml_py36/lib/python3.6/site-packages (from notebook>=4.4.1->widgetsnbextension~=3.5.0->ipywidgets>=7.0.0->azureml-widgets~=1.21.0; extra == \"notebooks\"->azureml-sdk[automl,notebooks,widgets]) (1.5.0)\n",
      "Requirement already up-to-date: prometheus-client in /anaconda/envs/azureml_py36/lib/python3.6/site-packages (from notebook>=4.4.1->widgetsnbextension~=3.5.0->ipywidgets>=7.0.0->azureml-widgets~=1.21.0; extra == \"notebooks\"->azureml-sdk[automl,notebooks,widgets]) (0.9.0)\n",
      "Requirement already up-to-date: argon2-cffi in /anaconda/envs/azureml_py36/lib/python3.6/site-packages (from notebook>=4.4.1->widgetsnbextension~=3.5.0->ipywidgets>=7.0.0->azureml-widgets~=1.21.0; extra == \"notebooks\"->azureml-sdk[automl,notebooks,widgets]) (20.1.0)\n",
      "\u001b[31mERROR: botocore 1.18.18 has requirement urllib3<1.26,>=1.20; python_version != \"3.4\", but you'll have urllib3 1.26.3 which is incompatible.\u001b[0m\n",
      "\u001b[31mERROR: azureml-train-automl-runtime 1.21.0 has requirement numpy<1.19.0,>=1.16.0, but you'll have numpy 1.19.5 which is incompatible.\u001b[0m\n",
      "\u001b[31mERROR: azureml-mlflow 1.20.0.post1 has requirement azureml-core~=1.20.0, but you'll have azureml-core 1.21.0.post1 which is incompatible.\u001b[0m\n",
      "\u001b[31mERROR: azureml-datadrift 1.20.0 has requirement azureml-core~=1.20.0, but you'll have azureml-core 1.21.0.post1 which is incompatible.\u001b[0m\n",
      "\u001b[31mERROR: azureml-datadrift 1.20.0 has requirement azureml-dataset-runtime[fuse,pandas]~=1.20.0, but you'll have azureml-dataset-runtime 1.21.0 which is incompatible.\u001b[0m\n",
      "\u001b[31mERROR: azureml-datadrift 1.20.0 has requirement azureml-pipeline-core~=1.20.0, but you'll have azureml-pipeline-core 1.21.0 which is incompatible.\u001b[0m\n",
      "\u001b[31mERROR: azureml-datadrift 1.20.0 has requirement azureml-telemetry~=1.20.0, but you'll have azureml-telemetry 1.21.0 which is incompatible.\u001b[0m\n",
      "\u001b[31mERROR: azureml-contrib-services 1.20.0 has requirement azureml-core~=1.20.0, but you'll have azureml-core 1.21.0.post1 which is incompatible.\u001b[0m\n",
      "\u001b[31mERROR: azureml-contrib-server 1.20.0 has requirement azureml-core~=1.20.0, but you'll have azureml-core 1.21.0.post1 which is incompatible.\u001b[0m\n",
      "\u001b[31mERROR: azureml-contrib-reinforcementlearning 1.20.0 has requirement azureml-core~=1.20.0, but you'll have azureml-core 1.21.0.post1 which is incompatible.\u001b[0m\n",
      "\u001b[31mERROR: azureml-contrib-reinforcementlearning 1.20.0 has requirement azureml-train-core~=1.20.0, but you'll have azureml-train-core 1.21.0 which is incompatible.\u001b[0m\n",
      "\u001b[31mERROR: azureml-contrib-pipeline-steps 1.20.0 has requirement azureml-core~=1.20.0, but you'll have azureml-core 1.21.0.post1 which is incompatible.\u001b[0m\n",
      "\u001b[31mERROR: azureml-contrib-pipeline-steps 1.20.0 has requirement azureml-dataset-runtime~=1.20.0, but you'll have azureml-dataset-runtime 1.21.0 which is incompatible.\u001b[0m\n",
      "\u001b[31mERROR: azureml-contrib-pipeline-steps 1.20.0 has requirement azureml-pipeline-core~=1.20.0, but you'll have azureml-pipeline-core 1.21.0 which is incompatible.\u001b[0m\n",
      "\u001b[31mERROR: azureml-contrib-gbdt 1.20.0 has requirement azureml-core~=1.20.0, but you'll have azureml-core 1.21.0.post1 which is incompatible.\u001b[0m\n",
      "\u001b[31mERROR: azureml-contrib-gbdt 1.20.0 has requirement azureml-train-core~=1.20.0, but you'll have azureml-train-core 1.21.0 which is incompatible.\u001b[0m\n",
      "\u001b[31mERROR: azureml-contrib-fairness 1.20.0 has requirement azureml-core~=1.20.0, but you'll have azureml-core 1.21.0.post1 which is incompatible.\u001b[0m\n",
      "\u001b[31mERROR: azureml-contrib-dataset 1.20.0 has requirement azureml-core~=1.20.0, but you'll have azureml-core 1.21.0.post1 which is incompatible.\u001b[0m\n",
      "\u001b[31mERROR: azureml-contrib-dataset 1.20.0 has requirement azureml-dataset-runtime[fuse,pandas]~=1.20.0, but you'll have azureml-dataset-runtime 1.21.0 which is incompatible.\u001b[0m\n",
      "\u001b[31mERROR: azureml-cli-common 1.20.0 has requirement azureml-core~=1.20.0, but you'll have azureml-core 1.21.0.post1 which is incompatible.\u001b[0m\n",
      "\u001b[31mERROR: azureml-cli-common 1.20.0 has requirement azureml-pipeline-core~=1.20.0, but you'll have azureml-pipeline-core 1.21.0 which is incompatible.\u001b[0m\n",
      "\u001b[31mERROR: azureml-cli-common 1.20.0 has requirement azureml-train-core~=1.20.0; python_version >= \"3.5\", but you'll have azureml-train-core 1.21.0 which is incompatible.\u001b[0m\n",
      "\u001b[31mERROR: azureml-automl-runtime 1.21.0 has requirement numpy<1.19.0,>=1.16.0, but you'll have numpy 1.19.5 which is incompatible.\u001b[0m\n",
      "\u001b[31mERROR: azureml-accel-models 1.20.0 has requirement azureml-core~=1.20.0, but you'll have azureml-core 1.21.0.post1 which is incompatible.\u001b[0m\n",
      "\u001b[31mERROR: azure-cli 2.17.1 has requirement azure-graphrbac~=0.60.0, but you'll have azure-graphrbac 0.61.1 which is incompatible.\u001b[0m\n",
      "\u001b[31mERROR: azure-cli 2.17.1 has requirement azure-mgmt-containerregistry==3.0.0rc16, but you'll have azure-mgmt-containerregistry 2.8.0 which is incompatible.\u001b[0m\n",
      "\u001b[31mERROR: azure-cli 2.17.1 has requirement azure-mgmt-keyvault==8.0.0, but you'll have azure-mgmt-keyvault 2.2.0 which is incompatible.\u001b[0m\n",
      "\u001b[31mERROR: azure-cli 2.17.1 has requirement azure-mgmt-resource==10.3.0, but you'll have azure-mgmt-resource 12.0.0 which is incompatible.\u001b[0m\n",
      "\u001b[31mERROR: azure-cli 2.17.1 has requirement azure-mgmt-storage~=16.0.0, but you'll have azure-mgmt-storage 11.2.0 which is incompatible.\u001b[0m\n",
      "\u001b[31mERROR: azure-cli 2.17.1 has requirement cryptography<3.0.0,>=2.3.1, but you'll have cryptography 3.3.1 which is incompatible.\u001b[0m\n",
      "\u001b[31mERROR: azure-cli 2.17.1 has requirement pytz==2019.1, but you'll have pytz 2020.5 which is incompatible.\u001b[0m\n",
      "\u001b[31mERROR: azure-cli 2.17.1 has requirement websocket-client~=0.56.0, but you'll have websocket-client 0.57.0 which is incompatible.\u001b[0m\n",
      "\u001b[31mERROR: azure-cli-core 2.17.1 has requirement msal~=1.0.0, but you'll have msal 1.8.0 which is incompatible.\u001b[0m\n",
      "\u001b[31mERROR: azure-cli-core 2.17.1 has requirement msal-extensions~=0.1.3, but you'll have msal-extensions 0.2.2 which is incompatible.\u001b[0m\n",
      "Installing collected packages: urllib3\n",
      "  Attempting uninstall: urllib3\n",
      "    Found existing installation: urllib3 1.26.2\n",
      "    Uninstalling urllib3-1.26.2:\n",
      "      Successfully uninstalled urllib3-1.26.2\n",
      "Successfully installed urllib3-1.26.3\r\n"
     ]
    }
   ],
   "source": [
    "# Updating SDK as suggested by mentor\n",
    "# I ran the line and then deleted the cell´s output to declutter the notebook\n",
    "!pip install --upgrade --upgrade-strategy eager azureml-sdk[automl,widgets,notebooks]"
   ]
  },
  {
   "cell_type": "code",
   "execution_count": 2,
   "metadata": {
    "gather": {
     "logged": 1611071812999
    },
    "jupyter": {
     "outputs_hidden": false,
     "source_hidden": false
    },
    "nteract": {
     "transient": {
      "deleting": false
     }
    }
   },
   "outputs": [],
   "source": [
    "from azureml.core import Workspace, Experiment, Dataset, Datastore, Model\n",
    "from azureml.core.compute import ComputeTarget, AmlCompute\n",
    "from azureml.core.compute_target import ComputeTargetException\n",
    "from azureml.widgets import RunDetails\n",
    "from azureml.data.dataset_factory import TabularDatasetFactory\n",
    "from azureml.train.automl import AutoMLConfig\n",
    "from azureml.interpret import ExplanationClient\n",
    "from interpret_community.widget import ExplanationDashboard\n",
    "from azureml.core.environment import Environment\n",
    "from azureml.core.model import InferenceConfig\n",
    "from azureml.core.webservice import AciWebservice, Webservice\n",
    "import pandas as pd\n",
    "import numpy as np\n",
    "import joblib\n",
    "import pickle\n",
    "import json\n",
    "import requests"
   ]
  },
  {
   "cell_type": "code",
   "execution_count": 3,
   "metadata": {
    "gather": {
     "logged": 1611071821702
    },
    "jupyter": {
     "outputs_hidden": false,
     "source_hidden": false
    },
    "nteract": {
     "transient": {
      "deleting": false
     }
    }
   },
   "outputs": [],
   "source": [
    "ws = Workspace.from_config()\n",
    "experiment_name = 'california-housing'\n",
    "experiment2=Experiment(ws, experiment_name)"
   ]
  },
  {
   "cell_type": "markdown",
   "metadata": {},
   "source": [
    "## Create or use a compute target"
   ]
  },
  {
   "cell_type": "code",
   "execution_count": 4,
   "metadata": {
    "gather": {
     "logged": 1611071827707
    }
   },
   "outputs": [
    {
     "name": "stdout",
     "output_type": "stream",
     "text": [
      "Using existing compute target.\n",
      "Succeeded\n",
      "AmlCompute wait for completion finished\n",
      "\n",
      "Minimum number of nodes requested have been provisioned\n"
     ]
    }
   ],
   "source": [
    "compute_name = \"nuria-p3\"\n",
    "try:\n",
    "    compute_target = ComputeTarget(workspace=ws, name=compute_name)\n",
    "    print('Using existing compute target.')\n",
    "except ComputeTargetException:\n",
    "    print('Creating compute target.')\n",
    "    cluster_type = 1\n",
    "    provisioning_config = AmlCompute.provisioning_configuration(vm_size='Standard_D12_V2', min_nodes=1, max_nodes=5)\n",
    "    compute_target = ComputeTarget.create(ws, compute_name, provisioning_config)\n",
    "\n",
    "compute_target.wait_for_completion(show_output=True)"
   ]
  },
  {
   "cell_type": "markdown",
   "metadata": {},
   "source": [
    "## Dataset\n",
    "\n",
    "### Overview\n",
    "TODO: In this markdown cell, give an overview of the dataset you are using. Also mention the task you will be performing.\n",
    "\n",
    "\n",
    "TODO: Get data. In the cell below, write code to access the data you will be using in this project. Remember that the dataset needs to be external."
   ]
  },
  {
   "cell_type": "code",
   "execution_count": 5,
   "metadata": {
    "gather": {
     "logged": 1611071835731
    }
   },
   "outputs": [],
   "source": [
    "# load data and create datasets for training and testing\n",
    "from sklearn.datasets import fetch_california_housing\n",
    "from sklearn.model_selection import train_test_split\n",
    "\n",
    "def create_datasets(x,y):\n",
    "    columns_x = ['MedInc','HouseAge','AveRooms','AveBedrms','Population','AveOccup','Latitude','Longitude']\n",
    "    x_df = pd.DataFrame(x,columns=columns_x)  \n",
    "    columns_y = ['MedHouseVal']\n",
    "    y_df = pd.DataFrame(y,columns=columns_y)  \n",
    "    x_tr,x_test,y_tr,y_test = train_test_split(x_df,y_df, test_size = 20, random_state=0)\n",
    "    return x_tr,x_test,y_tr,y_test\n",
    "  \n",
    "x,y = fetch_california_housing(return_X_y=True)\n",
    "x_train,x_test,y_train,y_test = create_datasets(x,y)\n",
    "data = pd.concat([x_train,y_train], axis=1)"
   ]
  },
  {
   "cell_type": "code",
   "execution_count": 6,
   "metadata": {},
   "outputs": [],
   "source": [
    "# Check if train dataset is already registered, if not, register it.\n",
    "found = False\n",
    "datastore=ws.get_default_datastore() \n",
    "if 'data' in ws.datasets.keys(): \n",
    "        found = True\n",
    "if not found:\n",
    "        TabularDatasetFactory.register_pandas_dataframe(data, datastore,'data')\n",
    "ds = Dataset.get_by_name(ws,'data')"
   ]
  },
  {
   "cell_type": "markdown",
   "metadata": {},
   "source": [
    "### NOTE: the method used above is experimental, if it does break in the future, use this procedure (create data directory if needed)\n",
    "                     \n",
    "`` data.to_csv('data/data_csv.csv')``                  \n",
    "`` datastore.upload(src_dir='data', target_path='data')``                                                   \n",
    "`` ds = Dataset.Tabular.from_delimited_files(path = [(datastore, ('data/data_csv.csv'))])`` "
   ]
  },
  {
   "cell_type": "markdown",
   "metadata": {},
   "source": [
    "## AutoML Configuration\n",
    "\n",
    "TODO: Explain why you chose the automl settings and cofiguration you used below."
   ]
  },
  {
   "cell_type": "code",
   "execution_count": 7,
   "metadata": {
    "gather": {
     "logged": 1610301350682
    },
    "jupyter": {
     "outputs_hidden": false,
     "source_hidden": false
    },
    "nteract": {
     "transient": {
      "deleting": false
     }
    }
   },
   "outputs": [],
   "source": [
    "# TODO: Put your automl settings here\n",
    "automl_settings = { \"experiment_timeout_minutes\": 60,\n",
    "                    \"max_concurrent_iterations\": 5,\n",
    "                    \"primary_metric\" : 'r2_score'}      \n",
    "\n",
    "# TODO: Put your automl config here\n",
    "automl_config = AutoMLConfig(compute_target=compute_target,\n",
    "                             task = 'regression',\n",
    "                             training_data = ds,\n",
    "                             label_column_name ='MedHouseVal',\n",
    "                             featurization = 'auto',\n",
    "                             enable_early_stopping = True,\n",
    "                             model_explainability = True,\n",
    "                             validation_size = 0.2,\n",
    "                             path = './automl',\n",
    "                             debug_log = 'automl_errors.log',\n",
    "                             **automl_settings)"
   ]
  },
  {
   "cell_type": "code",
   "execution_count": 8,
   "metadata": {
    "gather": {
     "logged": 1598431107951
    },
    "jupyter": {
     "outputs_hidden": false,
     "source_hidden": false
    },
    "nteract": {
     "transient": {
      "deleting": false
     }
    }
   },
   "outputs": [
    {
     "name": "stdout",
     "output_type": "stream",
     "text": [
      "Running on remote.\n"
     ]
    }
   ],
   "source": [
    "# TODO: Submit your experiment\n",
    "remote_run = experiment2.submit(automl_config)"
   ]
  },
  {
   "cell_type": "markdown",
   "metadata": {},
   "source": [
    "## Run Details\n",
    "\n",
    "OPTIONAL: Write about the different models trained and their performance. Why do you think some models did better than others?\n",
    "\n",
    "TODO: In the cell below, use the `RunDetails` widget to show the different experiments."
   ]
  },
  {
   "cell_type": "code",
   "execution_count": 9,
   "metadata": {
    "gather": {
     "logged": 1598431121770
    },
    "jupyter": {
     "outputs_hidden": false,
     "source_hidden": false
    },
    "nteract": {
     "transient": {
      "deleting": false
     }
    }
   },
   "outputs": [
    {
     "data": {
      "application/vnd.jupyter.widget-view+json": {
       "model_id": "20432bce1e6b4058892c3806abe3b896",
       "version_major": 2,
       "version_minor": 0
      },
      "text/plain": [
       "_AutoMLWidget(widget_settings={'childWidgetDisplay': 'popup', 'send_telemetry': False, 'log_level': 'INFO', 's…"
      ]
     },
     "metadata": {},
     "output_type": "display_data"
    },
    {
     "data": {
      "application/aml.mini.widget.v1": "{\"status\": \"Completed\", \"workbench_run_details_uri\": \"https://ml.azure.com/experiments/california-housing/runs/AutoML_d27e685c-6ed4-4f11-ac21-ee153a1dfbaf?wsid=/subscriptions/9a7511b8-150f-4a58-8528-3e7d50216c31/resourcegroups/aml-quickstarts-136165/workspaces/quick-starts-ws-136165\", \"run_id\": \"AutoML_d27e685c-6ed4-4f11-ac21-ee153a1dfbaf\", \"run_properties\": {\"run_id\": \"AutoML_d27e685c-6ed4-4f11-ac21-ee153a1dfbaf\", \"created_utc\": \"2021-01-26T19:11:01.916709Z\", \"properties\": {\"num_iterations\": \"1000\", \"training_type\": \"TrainFull\", \"acquisition_function\": \"EI\", \"primary_metric\": \"r2_score\", \"train_split\": \"0.2\", \"acquisition_parameter\": \"0\", \"num_cross_validation\": null, \"target\": \"nuria-p3\", \"AMLSettingsJsonString\": \"{\\\"path\\\":null,\\\"name\\\":\\\"california-housing\\\",\\\"subscription_id\\\":\\\"9a7511b8-150f-4a58-8528-3e7d50216c31\\\",\\\"resource_group\\\":\\\"aml-quickstarts-136165\\\",\\\"workspace_name\\\":\\\"quick-starts-ws-136165\\\",\\\"region\\\":\\\"southcentralus\\\",\\\"compute_target\\\":\\\"nuria-p3\\\",\\\"spark_service\\\":null,\\\"azure_service\\\":\\\"remote\\\",\\\"many_models\\\":false,\\\"pipeline_fetch_max_batch_size\\\":1,\\\"iterations\\\":1000,\\\"primary_metric\\\":\\\"r2_score\\\",\\\"task_type\\\":\\\"regression\\\",\\\"data_script\\\":null,\\\"validation_size\\\":0.2,\\\"n_cross_validations\\\":null,\\\"y_min\\\":null,\\\"y_max\\\":null,\\\"num_classes\\\":null,\\\"featurization\\\":\\\"auto\\\",\\\"_ignore_package_version_incompatibilities\\\":false,\\\"is_timeseries\\\":false,\\\"max_cores_per_iteration\\\":1,\\\"max_concurrent_iterations\\\":5,\\\"iteration_timeout_minutes\\\":null,\\\"mem_in_mb\\\":null,\\\"enforce_time_on_windows\\\":false,\\\"experiment_timeout_minutes\\\":60,\\\"experiment_exit_score\\\":null,\\\"whitelist_models\\\":null,\\\"blacklist_algos\\\":[\\\"TensorFlowDNN\\\",\\\"TensorFlowLinearRegressor\\\"],\\\"supported_models\\\":[\\\"DecisionTree\\\",\\\"LightGBM\\\",\\\"TensorFlowDNN\\\",\\\"FastLinearRegressor\\\",\\\"TensorFlowLinearRegressor\\\",\\\"GradientBoosting\\\",\\\"KNN\\\",\\\"LassoLars\\\",\\\"SGD\\\",\\\"ExtremeRandomTrees\\\",\\\"ElasticNet\\\",\\\"XGBoostRegressor\\\",\\\"RandomForest\\\",\\\"OnlineGradientDescentRegressor\\\"],\\\"auto_blacklist\\\":true,\\\"blacklist_samples_reached\\\":false,\\\"exclude_nan_labels\\\":true,\\\"verbosity\\\":20,\\\"_debug_log\\\":\\\"azureml_automl.log\\\",\\\"show_warnings\\\":false,\\\"model_explainability\\\":true,\\\"service_url\\\":null,\\\"sdk_url\\\":null,\\\"sdk_packages\\\":null,\\\"enable_onnx_compatible_models\\\":false,\\\"enable_split_onnx_featurizer_estimator_models\\\":false,\\\"vm_type\\\":\\\"STANDARD_D12_V2\\\",\\\"telemetry_verbosity\\\":20,\\\"send_telemetry\\\":true,\\\"enable_dnn\\\":false,\\\"scenario\\\":\\\"SDK-1.13.0\\\",\\\"environment_label\\\":null,\\\"force_text_dnn\\\":false,\\\"enable_feature_sweeping\\\":true,\\\"enable_early_stopping\\\":true,\\\"early_stopping_n_iters\\\":10,\\\"metrics\\\":null,\\\"enable_ensembling\\\":true,\\\"enable_stack_ensembling\\\":true,\\\"ensemble_iterations\\\":15,\\\"enable_tf\\\":false,\\\"enable_subsampling\\\":null,\\\"subsample_seed\\\":null,\\\"enable_nimbusml\\\":false,\\\"enable_streaming\\\":false,\\\"force_streaming\\\":false,\\\"track_child_runs\\\":true,\\\"allowed_private_models\\\":[],\\\"label_column_name\\\":\\\"MedHouseVal\\\",\\\"weight_column_name\\\":null,\\\"cv_split_column_names\\\":null,\\\"enable_local_managed\\\":false,\\\"_local_managed_run_id\\\":null,\\\"cost_mode\\\":1,\\\"lag_length\\\":0,\\\"metric_operation\\\":\\\"maximize\\\",\\\"preprocess\\\":true}\", \"DataPrepJsonString\": \"{\\\\\\\"training_data\\\\\\\": \\\\\\\"{\\\\\\\\\\\\\\\"blocks\\\\\\\\\\\\\\\": [{\\\\\\\\\\\\\\\"id\\\\\\\\\\\\\\\": \\\\\\\\\\\\\\\"b39e2ffd-80c7-426a-a522-1852e2dead89\\\\\\\\\\\\\\\", \\\\\\\\\\\\\\\"type\\\\\\\\\\\\\\\": \\\\\\\\\\\\\\\"Microsoft.DPrep.GetDatastoreFilesBlock\\\\\\\\\\\\\\\", \\\\\\\\\\\\\\\"arguments\\\\\\\\\\\\\\\": {\\\\\\\\\\\\\\\"datastores\\\\\\\\\\\\\\\": [{\\\\\\\\\\\\\\\"datastoreName\\\\\\\\\\\\\\\": \\\\\\\\\\\\\\\"workspaceblobstore\\\\\\\\\\\\\\\", \\\\\\\\\\\\\\\"path\\\\\\\\\\\\\\\": \\\\\\\\\\\\\\\"managed-dataset/93d95790-2319-4202-854e-e99533b8ab7f/\\\\\\\\\\\\\\\", \\\\\\\\\\\\\\\"resourceGroup\\\\\\\\\\\\\\\": \\\\\\\\\\\\\\\"aml-quickstarts-136165\\\\\\\\\\\\\\\", \\\\\\\\\\\\\\\"subscription\\\\\\\\\\\\\\\": \\\\\\\\\\\\\\\"9a7511b8-150f-4a58-8528-3e7d50216c31\\\\\\\\\\\\\\\", \\\\\\\\\\\\\\\"workspaceName\\\\\\\\\\\\\\\": \\\\\\\\\\\\\\\"quick-starts-ws-136165\\\\\\\\\\\\\\\"}]}, \\\\\\\\\\\\\\\"localData\\\\\\\\\\\\\\\": {}, \\\\\\\\\\\\\\\"isEnabled\\\\\\\\\\\\\\\": true, \\\\\\\\\\\\\\\"name\\\\\\\\\\\\\\\": null, \\\\\\\\\\\\\\\"annotation\\\\\\\\\\\\\\\": null}, {\\\\\\\\\\\\\\\"id\\\\\\\\\\\\\\\": \\\\\\\\\\\\\\\"f6919b46-286b-41a8-bc34-88d7a7e42317\\\\\\\\\\\\\\\", \\\\\\\\\\\\\\\"type\\\\\\\\\\\\\\\": \\\\\\\\\\\\\\\"Microsoft.DPrep.ReadParquetFileBlock\\\\\\\\\\\\\\\", \\\\\\\\\\\\\\\"arguments\\\\\\\\\\\\\\\": {\\\\\\\\\\\\\\\"preview\\\\\\\\\\\\\\\": false}, \\\\\\\\\\\\\\\"localData\\\\\\\\\\\\\\\": {}, \\\\\\\\\\\\\\\"isEnabled\\\\\\\\\\\\\\\": true, \\\\\\\\\\\\\\\"name\\\\\\\\\\\\\\\": null, \\\\\\\\\\\\\\\"annotation\\\\\\\\\\\\\\\": null}, {\\\\\\\\\\\\\\\"id\\\\\\\\\\\\\\\": \\\\\\\\\\\\\\\"e361e130-7285-4b2e-b9be-9e81cf31be41\\\\\\\\\\\\\\\", \\\\\\\\\\\\\\\"type\\\\\\\\\\\\\\\": \\\\\\\\\\\\\\\"Microsoft.DPrep.DropColumnsBlock\\\\\\\\\\\\\\\", \\\\\\\\\\\\\\\"arguments\\\\\\\\\\\\\\\": {\\\\\\\\\\\\\\\"columns\\\\\\\\\\\\\\\": {\\\\\\\\\\\\\\\"type\\\\\\\\\\\\\\\": 0, \\\\\\\\\\\\\\\"details\\\\\\\\\\\\\\\": {\\\\\\\\\\\\\\\"selectedColumns\\\\\\\\\\\\\\\": [\\\\\\\\\\\\\\\"Path\\\\\\\\\\\\\\\"]}}}, \\\\\\\\\\\\\\\"localData\\\\\\\\\\\\\\\": {}, \\\\\\\\\\\\\\\"isEnabled\\\\\\\\\\\\\\\": true, \\\\\\\\\\\\\\\"name\\\\\\\\\\\\\\\": null, \\\\\\\\\\\\\\\"annotation\\\\\\\\\\\\\\\": null}], \\\\\\\\\\\\\\\"inspectors\\\\\\\\\\\\\\\": [], \\\\\\\\\\\\\\\"meta\\\\\\\\\\\\\\\": {\\\\\\\\\\\\\\\"savedDatasetId\\\\\\\\\\\\\\\": \\\\\\\\\\\\\\\"1d1d5304-91d4-44e8-8c48-7709de50bf5f\\\\\\\\\\\\\\\", \\\\\\\\\\\\\\\"datasetType\\\\\\\\\\\\\\\": \\\\\\\\\\\\\\\"tabular\\\\\\\\\\\\\\\", \\\\\\\\\\\\\\\"subscriptionId\\\\\\\\\\\\\\\": \\\\\\\\\\\\\\\"9a7511b8-150f-4a58-8528-3e7d50216c31\\\\\\\\\\\\\\\", \\\\\\\\\\\\\\\"workspaceId\\\\\\\\\\\\\\\": \\\\\\\\\\\\\\\"4d9755f0-99dd-479d-b69a-9df297d99555\\\\\\\\\\\\\\\", \\\\\\\\\\\\\\\"workspaceLocation\\\\\\\\\\\\\\\": \\\\\\\\\\\\\\\"southcentralus\\\\\\\\\\\\\\\"}}\\\\\\\", \\\\\\\"activities\\\\\\\": 0}\", \"EnableSubsampling\": null, \"runTemplate\": \"AutoML\", \"azureml.runsource\": \"automl\", \"display_task_type\": \"regression\", \"dependencies_versions\": \"{\\\"azureml-widgets\\\": \\\"1.21.0\\\", \\\"azureml-train\\\": \\\"1.21.0\\\", \\\"azureml-train-restclients-hyperdrive\\\": \\\"1.21.0\\\", \\\"azureml-train-core\\\": \\\"1.21.0\\\", \\\"azureml-train-automl\\\": \\\"1.21.0\\\", \\\"azureml-train-automl-runtime\\\": \\\"1.21.0\\\", \\\"azureml-train-automl-client\\\": \\\"1.21.0\\\", \\\"azureml-tensorboard\\\": \\\"1.20.0\\\", \\\"azureml-telemetry\\\": \\\"1.21.0\\\", \\\"azureml-sdk\\\": \\\"1.21.0\\\", \\\"azureml-samples\\\": \\\"0+unknown\\\", \\\"azureml-pipeline\\\": \\\"1.21.0\\\", \\\"azureml-pipeline-steps\\\": \\\"1.21.0\\\", \\\"azureml-pipeline-core\\\": \\\"1.21.0\\\", \\\"azureml-opendatasets\\\": \\\"1.20.0\\\", \\\"azureml-model-management-sdk\\\": \\\"1.0.1b6.post1\\\", \\\"azureml-mlflow\\\": \\\"1.20.0.post1\\\", \\\"azureml-interpret\\\": \\\"1.21.0\\\", \\\"azureml-explain-model\\\": \\\"1.20.0\\\", \\\"azureml-defaults\\\": \\\"1.21.0\\\", \\\"azureml-dataset-runtime\\\": \\\"1.21.0\\\", \\\"azureml-dataprep\\\": \\\"2.8.2\\\", \\\"azureml-dataprep-rslex\\\": \\\"1.6.0\\\", \\\"azureml-dataprep-native\\\": \\\"28.0.0\\\", \\\"azureml-datadrift\\\": \\\"1.20.0\\\", \\\"azureml-core\\\": \\\"1.21.0.post1\\\", \\\"azureml-contrib-services\\\": \\\"1.20.0\\\", \\\"azureml-contrib-server\\\": \\\"1.20.0\\\", \\\"azureml-contrib-reinforcementlearning\\\": \\\"1.20.0\\\", \\\"azureml-contrib-pipeline-steps\\\": \\\"1.20.0\\\", \\\"azureml-contrib-notebook\\\": \\\"1.21.0\\\", \\\"azureml-contrib-interpret\\\": \\\"1.20.0\\\", \\\"azureml-contrib-gbdt\\\": \\\"1.20.0\\\", \\\"azureml-contrib-fairness\\\": \\\"1.20.0\\\", \\\"azureml-contrib-dataset\\\": \\\"1.20.0\\\", \\\"azureml-cli-common\\\": \\\"1.20.0\\\", \\\"azureml-automl-runtime\\\": \\\"1.21.0\\\", \\\"azureml-automl-core\\\": \\\"1.21.0\\\", \\\"azureml-accel-models\\\": \\\"1.20.0\\\"}\", \"_aml_system_scenario_identification\": \"Remote.Parent\", \"ClientType\": \"SDK\", \"environment_cpu_name\": \"AzureML-AutoML\", \"environment_cpu_label\": \"prod\", \"environment_gpu_name\": \"AzureML-AutoML-GPU\", \"environment_gpu_label\": \"prod\", \"root_attribution\": \"automl\", \"attribution\": \"AutoML\", \"Orchestrator\": \"AutoML\", \"CancelUri\": \"https://southcentralus.experiments.azureml.net/jasmine/v1.0/subscriptions/9a7511b8-150f-4a58-8528-3e7d50216c31/resourceGroups/aml-quickstarts-136165/providers/Microsoft.MachineLearningServices/workspaces/quick-starts-ws-136165/experimentids/3d169730-5034-4dcd-bdfc-e9e2a2b813ab/cancel/AutoML_d27e685c-6ed4-4f11-ac21-ee153a1dfbaf\", \"ClientSdkVersion\": \"1.20.0.post1\", \"snapshotId\": \"00000000-0000-0000-0000-000000000000\", \"SetupRunId\": \"AutoML_d27e685c-6ed4-4f11-ac21-ee153a1dfbaf_setup\", \"SetupRunContainerId\": \"dcid.AutoML_d27e685c-6ed4-4f11-ac21-ee153a1dfbaf_setup\", \"FeaturizationRunJsonPath\": \"featurizer_container.json\", \"FeaturizationRunId\": \"AutoML_d27e685c-6ed4-4f11-ac21-ee153a1dfbaf_featurize\", \"ProblemInfoJsonString\": \"{\\\"dataset_num_categorical\\\": 0, \\\"is_sparse\\\": false, \\\"subsampling\\\": false, \\\"dataset_classes\\\": 3659, \\\"dataset_features\\\": 8, \\\"dataset_samples\\\": 16496, \\\"single_frequency_class_detected\\\": false}\", \"ModelExplainRunId\": \"AutoML_d27e685c-6ed4-4f11-ac21-ee153a1dfbaf_ModelExplain\"}, \"tags\": {\"model_explain_run\": \"best_run\", \"_aml_system_azureml.automlComponent\": \"AutoML\", \"pipeline_id\": \"\", \"score\": \"\", \"predicted_cost\": \"\", \"fit_time\": \"\", \"training_percent\": \"\", \"iteration\": \"\", \"run_preprocessor\": \"\", \"run_algorithm\": \"\", \"dynamic_whitelisting_iterations\": \"<25>;<30>;<35>;\", \"automl_best_child_run_id\": \"AutoML_d27e685c-6ed4-4f11-ac21-ee153a1dfbaf_38\", \"model_explain_best_run_child_id\": \"AutoML_d27e685c-6ed4-4f11-ac21-ee153a1dfbaf_38\"}, \"end_time_utc\": \"2021-01-26T19:37:04.288211Z\", \"status\": \"Completed\", \"log_files\": {}, \"log_groups\": [], \"run_duration\": \"0:26:02\", \"run_number\": \"5\", \"run_queued_details\": {\"status\": \"Completed\", \"details\": null}}, \"child_runs\": [{\"run_id\": \"AutoML_d27e685c-6ed4-4f11-ac21-ee153a1dfbaf_0\", \"run_number\": 9, \"metric\": null, \"status\": \"Completed\", \"run_type\": \"azureml.scriptrun\", \"training_percent\": \"100\", \"start_time\": \"2021-01-26T19:18:56.94648Z\", \"end_time\": \"2021-01-26T19:19:47.145354Z\", \"created_time\": \"2021-01-26T19:16:31.921769Z\", \"created_time_dt\": \"2021-01-26T19:16:31.921769Z\", \"duration\": \"0:03:15\", \"iteration\": \"0\", \"goal\": \"r2_score_max\", \"run_name\": \"MaxAbsScaler, LightGBM\", \"run_properties\": \"copy=True\", \"primary_metric\": 0.8418665, \"best_metric\": 0.8418665}, {\"run_id\": \"AutoML_d27e685c-6ed4-4f11-ac21-ee153a1dfbaf_2\", \"run_number\": 10, \"metric\": null, \"status\": \"Completed\", \"run_type\": \"azureml.scriptrun\", \"training_percent\": \"100\", \"start_time\": \"2021-01-26T19:18:06.190455Z\", \"end_time\": \"2021-01-26T19:18:52.06738Z\", \"created_time\": \"2021-01-26T19:16:32.054782Z\", \"created_time_dt\": \"2021-01-26T19:16:32.054782Z\", \"duration\": \"0:02:20\", \"iteration\": \"2\", \"goal\": \"r2_score_max\", \"run_name\": \"SparseNormalizer, XGBoostRegressor\", \"run_properties\": \"<azureml.automl.runtime.shared.model_wrappers.SparseNormalizer object at 0x7f9fb18ef3c8\", \"primary_metric\": 0.65800568, \"best_metric\": 0.8418665}, {\"run_id\": \"AutoML_d27e685c-6ed4-4f11-ac21-ee153a1dfbaf_1\", \"run_number\": 11, \"metric\": null, \"status\": \"Completed\", \"run_type\": \"azureml.scriptrun\", \"training_percent\": \"100\", \"start_time\": \"2021-01-26T19:19:06.972003Z\", \"end_time\": \"2021-01-26T19:22:08.070745Z\", \"created_time\": \"2021-01-26T19:16:32.100353Z\", \"created_time_dt\": \"2021-01-26T19:16:32.100353Z\", \"duration\": \"0:05:35\", \"iteration\": \"1\", \"goal\": \"r2_score_max\", \"run_name\": \"MaxAbsScaler, XGBoostRegressor\", \"run_properties\": \"copy=True\", \"primary_metric\": 0.79454155, \"best_metric\": 0.8418665}, {\"run_id\": \"AutoML_d27e685c-6ed4-4f11-ac21-ee153a1dfbaf_4\", \"run_number\": 12, \"metric\": null, \"status\": \"Completed\", \"run_type\": \"azureml.scriptrun\", \"training_percent\": \"100\", \"start_time\": \"2021-01-26T19:16:52.835013Z\", \"end_time\": \"2021-01-26T19:20:01.850948Z\", \"created_time\": \"2021-01-26T19:16:32.114954Z\", \"created_time_dt\": \"2021-01-26T19:16:32.114954Z\", \"duration\": \"0:03:29\", \"iteration\": \"4\", \"goal\": \"r2_score_max\", \"run_name\": \"StandardScalerWrapper, XGBoostRegressor\", \"run_properties\": \"<azureml.automl.runtime.shared.model_wrappers.StandardScalerWrapper object at 0x7f9c1bddaa58\", \"primary_metric\": 0.84854969, \"best_metric\": 0.84854969}, {\"run_id\": \"AutoML_d27e685c-6ed4-4f11-ac21-ee153a1dfbaf_3\", \"run_number\": 13, \"metric\": null, \"status\": \"Completed\", \"run_type\": \"azureml.scriptrun\", \"training_percent\": \"100\", \"start_time\": \"2021-01-26T19:19:06.70651Z\", \"end_time\": \"2021-01-26T19:22:05.078976Z\", \"created_time\": \"2021-01-26T19:16:32.113059Z\", \"created_time_dt\": \"2021-01-26T19:16:32.113059Z\", \"duration\": \"0:05:32\", \"iteration\": \"3\", \"goal\": \"r2_score_max\", \"run_name\": \"MaxAbsScaler, RandomForest\", \"run_properties\": \"copy=True\", \"primary_metric\": 0.73839351, \"best_metric\": 0.8418665}, {\"run_id\": \"AutoML_d27e685c-6ed4-4f11-ac21-ee153a1dfbaf_5\", \"run_number\": 14, \"metric\": null, \"status\": \"Completed\", \"run_type\": \"azureml.scriptrun\", \"training_percent\": \"100\", \"start_time\": \"2021-01-26T19:21:40.016151Z\", \"end_time\": \"2021-01-26T19:22:23.443968Z\", \"created_time\": \"2021-01-26T19:18:57.303965Z\", \"created_time_dt\": \"2021-01-26T19:18:57.303965Z\", \"duration\": \"0:03:26\", \"iteration\": \"5\", \"goal\": \"r2_score_max\", \"run_name\": \"MaxAbsScaler, ElasticNet\", \"run_properties\": \"copy=True\", \"primary_metric\": 0.56449708, \"best_metric\": 0.84854969}, {\"run_id\": \"AutoML_d27e685c-6ed4-4f11-ac21-ee153a1dfbaf_6\", \"run_number\": 15, \"metric\": null, \"status\": \"Completed\", \"run_type\": \"azureml.scriptrun\", \"training_percent\": \"100\", \"start_time\": \"2021-01-26T19:21:56.535044Z\", \"end_time\": \"2021-01-26T19:23:02.336572Z\", \"created_time\": \"2021-01-26T19:19:52.551722Z\", \"created_time_dt\": \"2021-01-26T19:19:52.551722Z\", \"duration\": \"0:03:09\", \"iteration\": \"6\", \"goal\": \"r2_score_max\", \"run_name\": \"MinMaxScaler, RandomForest\", \"run_properties\": \"copy=True, feature_range=(0, 1\", \"primary_metric\": 0.69700716, \"best_metric\": 0.84854969}, {\"run_id\": \"AutoML_d27e685c-6ed4-4f11-ac21-ee153a1dfbaf_7\", \"run_number\": 16, \"metric\": null, \"status\": \"Completed\", \"run_type\": \"azureml.scriptrun\", \"training_percent\": \"100\", \"start_time\": \"2021-01-26T19:22:03.882461Z\", \"end_time\": \"2021-01-26T19:22:58.208775Z\", \"created_time\": \"2021-01-26T19:20:06.82844Z\", \"created_time_dt\": \"2021-01-26T19:20:06.82844Z\", \"duration\": \"0:02:51\", \"iteration\": \"7\", \"goal\": \"r2_score_max\", \"run_name\": \"StandardScalerWrapper, XGBoostRegressor\", \"run_properties\": \"<azureml.automl.runtime.shared.model_wrappers.StandardScalerWrapper object at 0x7f803054d710\", \"primary_metric\": 0.8430163, \"best_metric\": 0.84854969}, {\"run_id\": \"AutoML_d27e685c-6ed4-4f11-ac21-ee153a1dfbaf_8\", \"run_number\": 17, \"metric\": null, \"status\": \"Completed\", \"run_type\": \"azureml.scriptrun\", \"training_percent\": \"100\", \"start_time\": \"2021-01-26T19:22:58.306309Z\", \"end_time\": \"2021-01-26T19:23:41.06508Z\", \"created_time\": \"2021-01-26T19:22:09.046179Z\", \"created_time_dt\": \"2021-01-26T19:22:09.046179Z\", \"duration\": \"0:01:32\", \"iteration\": \"8\", \"goal\": \"r2_score_max\", \"run_name\": \"MinMaxScaler, ExtremeRandomTrees\", \"run_properties\": \"copy=True, feature_range=(0, 1\", \"primary_metric\": 0.71528375, \"best_metric\": 0.84854969}, {\"run_id\": \"AutoML_d27e685c-6ed4-4f11-ac21-ee153a1dfbaf_9\", \"run_number\": 18, \"metric\": null, \"status\": \"Completed\", \"run_type\": \"azureml.scriptrun\", \"training_percent\": \"100\", \"start_time\": \"2021-01-26T19:23:16.159819Z\", \"end_time\": \"2021-01-26T19:24:05.362929Z\", \"created_time\": \"2021-01-26T19:22:17.53365Z\", \"created_time_dt\": \"2021-01-26T19:22:17.53365Z\", \"duration\": \"0:01:47\", \"iteration\": \"9\", \"goal\": \"r2_score_max\", \"run_name\": \"StandardScalerWrapper, ElasticNet\", \"run_properties\": \"<azureml.automl.runtime.shared.model_wrappers.StandardScalerWrapper object at 0x7f69f1745940\", \"primary_metric\": 0.56630309, \"best_metric\": 0.84854969}, {\"run_id\": \"AutoML_d27e685c-6ed4-4f11-ac21-ee153a1dfbaf_10\", \"run_number\": 19, \"metric\": null, \"status\": \"Completed\", \"run_type\": \"azureml.scriptrun\", \"training_percent\": \"100\", \"start_time\": \"2021-01-26T19:23:23.065589Z\", \"end_time\": \"2021-01-26T19:24:25.885118Z\", \"created_time\": \"2021-01-26T19:22:27.025806Z\", \"created_time_dt\": \"2021-01-26T19:22:27.025806Z\", \"duration\": \"0:01:58\", \"iteration\": \"10\", \"goal\": \"r2_score_max\", \"run_name\": \"MinMaxScaler, RandomForest\", \"run_properties\": \"copy=True, feature_range=(0, 1\", \"primary_metric\": 0.77156929, \"best_metric\": 0.84854969}, {\"run_id\": \"AutoML_d27e685c-6ed4-4f11-ac21-ee153a1dfbaf_11\", \"run_number\": 20, \"metric\": null, \"status\": \"Completed\", \"run_type\": \"azureml.scriptrun\", \"training_percent\": \"100\", \"start_time\": \"2021-01-26T19:23:50.97096Z\", \"end_time\": \"2021-01-26T19:24:31.491369Z\", \"created_time\": \"2021-01-26T19:23:01.724813Z\", \"created_time_dt\": \"2021-01-26T19:23:01.724813Z\", \"duration\": \"0:01:29\", \"iteration\": \"11\", \"goal\": \"r2_score_max\", \"run_name\": \"MinMaxScaler, RandomForest\", \"run_properties\": \"copy=True, feature_range=(0, 1\", \"primary_metric\": 0.73953913, \"best_metric\": 0.84854969}, {\"run_id\": \"AutoML_d27e685c-6ed4-4f11-ac21-ee153a1dfbaf_12\", \"run_number\": 21, \"metric\": null, \"status\": \"Completed\", \"run_type\": \"azureml.scriptrun\", \"training_percent\": \"100\", \"start_time\": \"2021-01-26T19:23:57.721265Z\", \"end_time\": \"2021-01-26T19:24:40.716399Z\", \"created_time\": \"2021-01-26T19:23:07.541779Z\", \"created_time_dt\": \"2021-01-26T19:23:07.541779Z\", \"duration\": \"0:01:33\", \"iteration\": \"12\", \"goal\": \"r2_score_max\", \"run_name\": \"StandardScalerWrapper, XGBoostRegressor\", \"run_properties\": \"<azureml.automl.runtime.shared.model_wrappers.StandardScalerWrapper object at 0x7f8f9c7fcb38\", \"primary_metric\": 0.78302028, \"best_metric\": 0.84854969}, {\"run_id\": \"AutoML_d27e685c-6ed4-4f11-ac21-ee153a1dfbaf_13\", \"run_number\": 22, \"metric\": null, \"status\": \"Completed\", \"run_type\": \"azureml.scriptrun\", \"training_percent\": \"100\", \"start_time\": \"2021-01-26T19:24:33.468013Z\", \"end_time\": \"2021-01-26T19:25:19.569697Z\", \"created_time\": \"2021-01-26T19:23:45.031549Z\", \"created_time_dt\": \"2021-01-26T19:23:45.031549Z\", \"duration\": \"0:01:34\", \"iteration\": \"13\", \"goal\": \"r2_score_max\", \"run_name\": \"RobustScaler, LassoLars\", \"run_properties\": \"copy=True, quantile_range=[10, 90], with_centering=False,\\n             with_scaling=True\", \"primary_metric\": 0.60841254, \"best_metric\": 0.84854969}, {\"run_id\": \"AutoML_d27e685c-6ed4-4f11-ac21-ee153a1dfbaf_14\", \"run_number\": 23, \"metric\": null, \"status\": \"Completed\", \"run_type\": \"azureml.scriptrun\", \"training_percent\": \"100\", \"start_time\": \"2021-01-26T19:25:11.646701Z\", \"end_time\": \"2021-01-26T19:26:01.060022Z\", \"created_time\": \"2021-01-26T19:24:09.571095Z\", \"created_time_dt\": \"2021-01-26T19:24:09.571095Z\", \"duration\": \"0:01:51\", \"iteration\": \"14\", \"goal\": \"r2_score_max\", \"run_name\": \"MinMaxScaler, ExtremeRandomTrees\", \"run_properties\": \"copy=True, feature_range=(0, 1\", \"primary_metric\": 0.71345856, \"best_metric\": 0.84854969}, {\"run_id\": \"AutoML_d27e685c-6ed4-4f11-ac21-ee153a1dfbaf_15\", \"run_number\": 24, \"metric\": null, \"status\": \"Completed\", \"run_type\": \"azureml.scriptrun\", \"training_percent\": \"100\", \"start_time\": \"2021-01-26T19:25:20.907346Z\", \"end_time\": \"2021-01-26T19:26:15.484083Z\", \"created_time\": \"2021-01-26T19:24:29.648738Z\", \"created_time_dt\": \"2021-01-26T19:24:29.648738Z\", \"duration\": \"0:01:45\", \"iteration\": \"15\", \"goal\": \"r2_score_max\", \"run_name\": \"MaxAbsScaler, ExtremeRandomTrees\", \"run_properties\": \"copy=True\", \"primary_metric\": 0.42367307, \"best_metric\": 0.84854969}, {\"run_id\": \"AutoML_d27e685c-6ed4-4f11-ac21-ee153a1dfbaf_16\", \"run_number\": 25, \"metric\": null, \"status\": \"Completed\", \"run_type\": \"azureml.scriptrun\", \"training_percent\": \"100\", \"start_time\": \"2021-01-26T19:25:25.255677Z\", \"end_time\": \"2021-01-26T19:26:44.484994Z\", \"created_time\": \"2021-01-26T19:24:38.343549Z\", \"created_time_dt\": \"2021-01-26T19:24:38.343549Z\", \"duration\": \"0:02:06\", \"iteration\": \"16\", \"goal\": \"r2_score_max\", \"run_name\": \"MinMaxScaler, ExtremeRandomTrees\", \"run_properties\": \"copy=True, feature_range=(0, 1\", \"primary_metric\": 0.70330087, \"best_metric\": 0.84854969}, {\"run_id\": \"AutoML_d27e685c-6ed4-4f11-ac21-ee153a1dfbaf_17\", \"run_number\": 26, \"metric\": null, \"status\": \"Completed\", \"run_type\": \"azureml.scriptrun\", \"training_percent\": \"100\", \"start_time\": \"2021-01-26T19:25:37.349705Z\", \"end_time\": \"2021-01-26T19:26:34.487222Z\", \"created_time\": \"2021-01-26T19:24:46.742507Z\", \"created_time_dt\": \"2021-01-26T19:24:46.742507Z\", \"duration\": \"0:01:47\", \"iteration\": \"17\", \"goal\": \"r2_score_max\", \"run_name\": \"MaxAbsScaler, ElasticNet\", \"run_properties\": \"copy=True\", \"primary_metric\": 0.53021921, \"best_metric\": 0.84854969}, {\"run_id\": \"AutoML_d27e685c-6ed4-4f11-ac21-ee153a1dfbaf_18\", \"run_number\": 27, \"metric\": null, \"status\": \"Completed\", \"run_type\": \"azureml.scriptrun\", \"training_percent\": \"100\", \"start_time\": \"2021-01-26T19:26:36.927676Z\", \"end_time\": \"2021-01-26T19:27:22.166987Z\", \"created_time\": \"2021-01-26T19:25:23.434014Z\", \"created_time_dt\": \"2021-01-26T19:25:23.434014Z\", \"duration\": \"0:01:58\", \"iteration\": \"18\", \"goal\": \"r2_score_max\", \"run_name\": \"MinMaxScaler, RandomForest\", \"run_properties\": \"copy=True, feature_range=(0, 1\", \"primary_metric\": 0.58705506, \"best_metric\": 0.84854969}, {\"run_id\": \"AutoML_d27e685c-6ed4-4f11-ac21-ee153a1dfbaf_19\", \"run_number\": 28, \"metric\": null, \"status\": \"Completed\", \"run_type\": \"azureml.scriptrun\", \"training_percent\": \"100\", \"start_time\": \"2021-01-26T19:26:57.427687Z\", \"end_time\": \"2021-01-26T19:27:43.912628Z\", \"created_time\": \"2021-01-26T19:26:04.925726Z\", \"created_time_dt\": \"2021-01-26T19:26:04.925726Z\", \"duration\": \"0:01:38\", \"iteration\": \"19\", \"goal\": \"r2_score_max\", \"run_name\": \"MaxAbsScaler, RandomForest\", \"run_properties\": \"copy=True\", \"primary_metric\": 0.66324379, \"best_metric\": 0.84854969}, {\"run_id\": \"AutoML_d27e685c-6ed4-4f11-ac21-ee153a1dfbaf_20\", \"run_number\": 29, \"metric\": null, \"status\": \"Completed\", \"run_type\": \"azureml.scriptrun\", \"training_percent\": \"100\", \"start_time\": \"2021-01-26T19:27:08.638155Z\", \"end_time\": \"2021-01-26T19:27:54.699158Z\", \"created_time\": \"2021-01-26T19:26:19.445232Z\", \"created_time_dt\": \"2021-01-26T19:26:19.445232Z\", \"duration\": \"0:01:35\", \"iteration\": \"20\", \"goal\": \"r2_score_max\", \"run_name\": \"RobustScaler, ElasticNet\", \"run_properties\": \"copy=True, quantile_range=[10, 90], with_centering=True,\\n             with_scaling=False\", \"primary_metric\": 0.6082913, \"best_metric\": 0.84854969}, {\"run_id\": \"AutoML_d27e685c-6ed4-4f11-ac21-ee153a1dfbaf_21\", \"run_number\": 30, \"metric\": null, \"status\": \"Completed\", \"run_type\": \"azureml.scriptrun\", \"training_percent\": \"100\", \"start_time\": \"2021-01-26T19:27:27.946501Z\", \"end_time\": \"2021-01-26T19:28:18.171956Z\", \"created_time\": \"2021-01-26T19:26:38.689299Z\", \"created_time_dt\": \"2021-01-26T19:26:38.689299Z\", \"duration\": \"0:01:39\", \"iteration\": \"21\", \"goal\": \"r2_score_max\", \"run_name\": \"StandardScalerWrapper, RandomForest\", \"run_properties\": \"<azureml.automl.runtime.shared.model_wrappers.StandardScalerWrapper object at 0x7f64663775c0\", \"primary_metric\": 0.57322835, \"best_metric\": 0.84854969}, {\"run_id\": \"AutoML_d27e685c-6ed4-4f11-ac21-ee153a1dfbaf_22\", \"run_number\": 31, \"metric\": null, \"status\": \"Completed\", \"run_type\": \"azureml.scriptrun\", \"training_percent\": \"100\", \"start_time\": \"2021-01-26T19:27:44.445627Z\", \"end_time\": \"2021-01-26T19:28:29.604734Z\", \"created_time\": \"2021-01-26T19:26:48.483282Z\", \"created_time_dt\": \"2021-01-26T19:26:48.483282Z\", \"duration\": \"0:01:41\", \"iteration\": \"22\", \"goal\": \"r2_score_max\", \"run_name\": \"MaxAbsScaler, ElasticNet\", \"run_properties\": \"copy=True\", \"primary_metric\": 0.53341579, \"best_metric\": 0.84854969}, {\"run_id\": \"AutoML_d27e685c-6ed4-4f11-ac21-ee153a1dfbaf_23\", \"run_number\": 32, \"metric\": null, \"status\": \"Completed\", \"run_type\": \"azureml.scriptrun\", \"training_percent\": \"100\", \"start_time\": \"2021-01-26T19:28:16.215475Z\", \"end_time\": \"2021-01-26T19:29:02.684502Z\", \"created_time\": \"2021-01-26T19:27:25.822352Z\", \"created_time_dt\": \"2021-01-26T19:27:25.822352Z\", \"duration\": \"0:01:36\", \"iteration\": \"23\", \"goal\": \"r2_score_max\", \"run_name\": \"MinMaxScaler, LightGBM\", \"run_properties\": \"copy=True, feature_range=(0, 1\", \"primary_metric\": 0.80018121, \"best_metric\": 0.84854969}, {\"run_id\": \"AutoML_d27e685c-6ed4-4f11-ac21-ee153a1dfbaf_24\", \"run_number\": 33, \"metric\": null, \"status\": \"Completed\", \"run_type\": \"azureml.scriptrun\", \"training_percent\": \"100\", \"start_time\": \"2021-01-26T19:28:40.7024Z\", \"end_time\": \"2021-01-26T19:29:31.90146Z\", \"created_time\": \"2021-01-26T19:27:47.604749Z\", \"created_time_dt\": \"2021-01-26T19:27:47.604749Z\", \"duration\": \"0:01:44\", \"iteration\": \"24\", \"goal\": \"r2_score_max\", \"run_name\": \"StandardScalerWrapper, XGBoostRegressor\", \"run_properties\": \"<azureml.automl.runtime.shared.model_wrappers.StandardScalerWrapper object at 0x7f4bc9211978\", \"primary_metric\": 0.79582633, \"best_metric\": 0.84854969}, {\"run_id\": \"AutoML_d27e685c-6ed4-4f11-ac21-ee153a1dfbaf_25\", \"run_number\": 34, \"metric\": null, \"status\": \"Completed\", \"run_type\": \"azureml.scriptrun\", \"training_percent\": \"100\", \"start_time\": \"2021-01-26T19:28:50.7702Z\", \"end_time\": \"2021-01-26T19:29:48.821766Z\", \"created_time\": \"2021-01-26T19:28:00.30417Z\", \"created_time_dt\": \"2021-01-26T19:28:00.30417Z\", \"duration\": \"0:01:48\", \"iteration\": \"25\", \"goal\": \"r2_score_max\", \"run_name\": \"SparseNormalizer, XGBoostRegressor\", \"run_properties\": \"<azureml.automl.runtime.shared.model_wrappers.SparseNormalizer object at 0x7f7fd8bcda20\", \"primary_metric\": 0.6550749, \"best_metric\": 0.84854969}, {\"run_id\": \"AutoML_d27e685c-6ed4-4f11-ac21-ee153a1dfbaf_26\", \"run_number\": 35, \"metric\": null, \"status\": \"Completed\", \"run_type\": \"azureml.scriptrun\", \"training_percent\": \"100\", \"start_time\": \"2021-01-26T19:29:32.273078Z\", \"end_time\": \"2021-01-26T19:30:23.328012Z\", \"created_time\": \"2021-01-26T19:28:20.974913Z\", \"created_time_dt\": \"2021-01-26T19:28:20.974913Z\", \"duration\": \"0:02:02\", \"iteration\": \"26\", \"goal\": \"r2_score_max\", \"run_name\": \"SparseNormalizer, XGBoostRegressor\", \"run_properties\": \"<azureml.automl.runtime.shared.model_wrappers.SparseNormalizer object at 0x7fd155e3ac18\", \"primary_metric\": 0.49752084, \"best_metric\": 0.84854969}, {\"run_id\": \"AutoML_d27e685c-6ed4-4f11-ac21-ee153a1dfbaf_27\", \"run_number\": 36, \"metric\": null, \"status\": \"Completed\", \"run_type\": \"azureml.scriptrun\", \"training_percent\": \"100\", \"start_time\": \"2021-01-26T19:29:51.676143Z\", \"end_time\": \"2021-01-26T19:30:33.561815Z\", \"created_time\": \"2021-01-26T19:28:56.80098Z\", \"created_time_dt\": \"2021-01-26T19:28:56.80098Z\", \"duration\": \"0:01:36\", \"iteration\": \"27\", \"goal\": \"r2_score_max\", \"run_name\": \"StandardScalerWrapper, RandomForest\", \"run_properties\": \"<azureml.automl.runtime.shared.model_wrappers.StandardScalerWrapper object at 0x7f7afce6f240\", \"primary_metric\": 0.61013247, \"best_metric\": 0.84854969}, {\"run_id\": \"AutoML_d27e685c-6ed4-4f11-ac21-ee153a1dfbaf_28\", \"run_number\": 37, \"metric\": null, \"status\": \"Completed\", \"run_type\": \"azureml.scriptrun\", \"training_percent\": \"100\", \"start_time\": \"2021-01-26T19:30:22.088939Z\", \"end_time\": \"2021-01-26T19:31:08.518849Z\", \"created_time\": \"2021-01-26T19:29:04.820592Z\", \"created_time_dt\": \"2021-01-26T19:29:04.820592Z\", \"duration\": \"0:02:03\", \"iteration\": \"28\", \"goal\": \"r2_score_max\", \"run_name\": \"StandardScalerWrapper, XGBoostRegressor\", \"run_properties\": \"<azureml.automl.runtime.shared.model_wrappers.StandardScalerWrapper object at 0x7f2aeb6e2cc0\", \"primary_metric\": 0.7591379, \"best_metric\": 0.84854969}, {\"run_id\": \"AutoML_d27e685c-6ed4-4f11-ac21-ee153a1dfbaf_29\", \"run_number\": 38, \"metric\": null, \"status\": \"Canceled\", \"run_type\": \"azureml.scriptrun\", \"training_percent\": \"100\", \"start_time\": \"2021-01-26T19:30:28.358013Z\", \"end_time\": \"2021-01-26T19:34:44.777732Z\", \"created_time\": \"2021-01-26T19:29:41.376052Z\", \"created_time_dt\": \"2021-01-26T19:29:41.376052Z\", \"duration\": \"0:05:03\", \"iteration\": \"29\", \"goal\": null, \"run_name\": \"RobustScaler, ExtremeRandomTrees\", \"run_properties\": null}, {\"run_id\": \"AutoML_d27e685c-6ed4-4f11-ac21-ee153a1dfbaf_30\", \"run_number\": 39, \"metric\": null, \"status\": \"Completed\", \"run_type\": \"azureml.scriptrun\", \"training_percent\": \"100\", \"start_time\": \"2021-01-26T19:30:39.837545Z\", \"end_time\": \"2021-01-26T19:31:30.156752Z\", \"created_time\": \"2021-01-26T19:29:52.357669Z\", \"created_time_dt\": \"2021-01-26T19:29:52.357669Z\", \"duration\": \"0:01:37\", \"iteration\": \"30\", \"goal\": \"r2_score_max\", \"run_name\": \"SparseNormalizer, XGBoostRegressor\", \"run_properties\": \"<azureml.automl.runtime.shared.model_wrappers.SparseNormalizer object at 0x7f48049eac18\", \"primary_metric\": 0.25299274, \"best_metric\": 0.84854969}, {\"run_id\": \"AutoML_d27e685c-6ed4-4f11-ac21-ee153a1dfbaf_31\", \"run_number\": 40, \"metric\": null, \"status\": \"Completed\", \"run_type\": \"azureml.scriptrun\", \"training_percent\": \"100\", \"start_time\": \"2021-01-26T19:31:50.945003Z\", \"end_time\": \"2021-01-26T19:32:38.986367Z\", \"created_time\": \"2021-01-26T19:30:25.782208Z\", \"created_time_dt\": \"2021-01-26T19:30:25.782208Z\", \"duration\": \"0:02:13\", \"iteration\": \"31\", \"goal\": \"r2_score_max\", \"run_name\": \"RobustScaler, RandomForest\", \"run_properties\": \"copy=True, quantile_range=[25, 75], with_centering=True,\\n             with_scaling=True\", \"primary_metric\": 0.74569871, \"best_metric\": 0.84854969}, {\"run_id\": \"AutoML_d27e685c-6ed4-4f11-ac21-ee153a1dfbaf_32\", \"run_number\": 41, \"metric\": null, \"status\": \"Completed\", \"run_type\": \"azureml.scriptrun\", \"training_percent\": \"100\", \"start_time\": \"2021-01-26T19:32:44.07012Z\", \"end_time\": \"2021-01-26T19:33:27.167627Z\", \"created_time\": \"2021-01-26T19:30:36.361795Z\", \"created_time_dt\": \"2021-01-26T19:30:36.361795Z\", \"duration\": \"0:02:50\", \"iteration\": \"32\", \"goal\": \"r2_score_max\", \"run_name\": \"MaxAbsScaler, ExtremeRandomTrees\", \"run_properties\": \"copy=True\", \"primary_metric\": 0.52116684, \"best_metric\": 0.84854969}, {\"run_id\": \"AutoML_d27e685c-6ed4-4f11-ac21-ee153a1dfbaf_33\", \"run_number\": 42, \"metric\": null, \"status\": \"Completed\", \"run_type\": \"azureml.scriptrun\", \"training_percent\": \"100\", \"start_time\": \"2021-01-26T19:32:53.463411Z\", \"end_time\": \"2021-01-26T19:33:35.054939Z\", \"created_time\": \"2021-01-26T19:31:10.300259Z\", \"created_time_dt\": \"2021-01-26T19:31:10.300259Z\", \"duration\": \"0:02:24\", \"iteration\": \"33\", \"goal\": \"r2_score_max\", \"run_name\": \"StandardScalerWrapper, ExtremeRandomTrees\", \"run_properties\": \"<azureml.automl.runtime.shared.model_wrappers.StandardScalerWrapper object at 0x7fcd1f82b5f8\", \"primary_metric\": 0.58966243, \"best_metric\": 0.84854969}, {\"run_id\": \"AutoML_d27e685c-6ed4-4f11-ac21-ee153a1dfbaf_34\", \"run_number\": 43, \"metric\": null, \"status\": \"Completed\", \"run_type\": \"azureml.scriptrun\", \"training_percent\": \"100\", \"start_time\": \"2021-01-26T19:33:37.405067Z\", \"end_time\": \"2021-01-26T19:34:37.246163Z\", \"created_time\": \"2021-01-26T19:31:46.209853Z\", \"created_time_dt\": \"2021-01-26T19:31:46.209853Z\", \"duration\": \"0:02:51\", \"iteration\": \"34\", \"goal\": \"r2_score_max\", \"run_name\": \"StandardScalerWrapper, XGBoostRegressor\", \"run_properties\": \"<azureml.automl.runtime.shared.model_wrappers.StandardScalerWrapper object at 0x7f1485378828\", \"primary_metric\": 0.84518818, \"best_metric\": 0.84854969}, {\"run_id\": \"AutoML_d27e685c-6ed4-4f11-ac21-ee153a1dfbaf_35\", \"run_number\": 44, \"metric\": null, \"status\": \"Completed\", \"run_type\": \"azureml.scriptrun\", \"training_percent\": \"100\", \"start_time\": \"2021-01-26T19:33:45.63172Z\", \"end_time\": \"2021-01-26T19:34:36.300596Z\", \"created_time\": \"2021-01-26T19:32:42.405799Z\", \"created_time_dt\": \"2021-01-26T19:32:42.405799Z\", \"duration\": \"0:01:53\", \"iteration\": \"35\", \"goal\": \"r2_score_max\", \"run_name\": \"PCA, XGBoostRegressor\", \"run_properties\": \"copy=True, iterated_power='auto', n_components=0.8510526315789474,\\n    random_state=None, svd_solver='auto', tol=0.0, whiten=True\", \"primary_metric\": -0.01821904, \"best_metric\": 0.84854969}, {\"run_id\": \"AutoML_d27e685c-6ed4-4f11-ac21-ee153a1dfbaf_36\", \"run_number\": 45, \"metric\": null, \"status\": \"Canceled\", \"run_type\": \"azureml.scriptrun\", \"training_percent\": \"100\", \"start_time\": \"2021-01-26T19:33:29.356513Z\", \"end_time\": \"2021-01-26T19:34:44.850546Z\", \"created_time\": \"2021-01-26T19:33:29.356513Z\", \"created_time_dt\": \"2021-01-26T19:33:29.356513Z\", \"duration\": \"0:01:15\", \"iteration\": \"36\", \"goal\": null, \"run_name\": \"Canceled\", \"run_properties\": null}, {\"run_id\": \"AutoML_d27e685c-6ed4-4f11-ac21-ee153a1dfbaf_37\", \"run_number\": 46, \"metric\": null, \"status\": \"Canceled\", \"run_type\": \"azureml.scriptrun\", \"training_percent\": \"100\", \"start_time\": \"2021-01-26T19:33:37.793752Z\", \"end_time\": \"2021-01-26T19:34:45.641657Z\", \"created_time\": \"2021-01-26T19:33:37.793752Z\", \"created_time_dt\": \"2021-01-26T19:33:37.793752Z\", \"duration\": \"0:01:07\", \"iteration\": \"37\", \"goal\": null, \"run_name\": \"Canceled\", \"run_properties\": null}, {\"run_id\": \"AutoML_d27e685c-6ed4-4f11-ac21-ee153a1dfbaf_38\", \"run_number\": 47, \"metric\": null, \"status\": \"Completed\", \"run_type\": \"azureml.scriptrun\", \"training_percent\": \"100\", \"start_time\": \"2021-01-26T19:35:35.691159Z\", \"end_time\": \"2021-01-26T19:36:51.4353Z\", \"created_time\": \"2021-01-26T19:34:47.634374Z\", \"created_time_dt\": \"2021-01-26T19:34:47.634374Z\", \"duration\": \"0:02:03\", \"iteration\": \"38\", \"goal\": \"r2_score_max\", \"run_name\": \"VotingEnsemble\", \"run_properties\": \"estimators=[('4',\\n                                          Pipeline(memory=None,\\n                                                   steps=[('standardscalerwrapper',\\n                                                           <azureml.automl.runtime.shared.model_wrappers.StandardScalerWrapper object at 0x7fd4b8441d30>\", \"primary_metric\": 0.85536257, \"best_metric\": 0.85536257}, {\"run_id\": \"AutoML_d27e685c-6ed4-4f11-ac21-ee153a1dfbaf_39\", \"run_number\": 48, \"metric\": null, \"status\": \"Completed\", \"run_type\": \"azureml.scriptrun\", \"training_percent\": \"100\", \"start_time\": \"2021-01-26T19:35:33.530449Z\", \"end_time\": \"2021-01-26T19:36:57.016687Z\", \"created_time\": \"2021-01-26T19:34:47.814611Z\", \"created_time_dt\": \"2021-01-26T19:34:47.814611Z\", \"duration\": \"0:02:09\", \"iteration\": \"39\", \"goal\": \"r2_score_max\", \"run_name\": \"StackEnsemble\", \"run_properties\": \"base_learners=[('4',\\n                                       Pipeline(memory=None,\\n                                                steps=[('standardscalerwrapper',\\n                                                        <azureml.automl.runtime.shared.model_wrappers.StandardScalerWrapper object at 0x7fe7944cf7f0>\", \"primary_metric\": 0.85502939, \"best_metric\": 0.85536257}], \"children_metrics\": {\"categories\": [0], \"series\": {\"normalized_mean_absolute_error\": [{\"categories\": [\"0\", \"1\", \"2\", \"3\", \"4\", \"5\", \"6\", \"7\", \"8\", \"9\", \"10\", \"11\", \"12\", \"13\", \"14\", \"15\", \"16\", \"17\", \"18\", \"19\", \"20\", \"21\", \"22\", \"23\", \"24\", \"25\", \"26\", \"27\", \"28\", \"30\", \"31\", \"32\", \"33\", \"34\", \"35\", \"38\", \"39\"], \"mode\": \"markers\", \"name\": \"normalized_mean_absolute_error\", \"stepped\": false, \"type\": \"scatter\", \"data\": [0.06303260906401381, 0.0739285395505017, 0.10108901578517404, 0.08623364532802306, 0.06098979929486689, 0.11542725546508877, 0.0927154810081555, 0.062452009641458216, 0.08844924698930651, 0.11550495740933175, 0.07912908658945636, 0.08608657651027662, 0.07367360902360885, 0.1081747872826163, 0.08809268485551602, 0.13661147136331223, 0.09097625277353062, 0.12108897188536073, 0.11386751461587362, 0.09882101866123456, 0.10827824618086186, 0.11604246603975084, 0.12051605062365557, 0.07325945667176986, 0.07338819504300995, 0.10046817349500396, 0.12557382223441999, 0.11073208597828943, 0.07900895682694939, 0.14680038639479998, 0.08449466506603631, 0.12590985243862626, 0.1149269002445206, 0.06014459016355187, 0.18649068732644816, 0.058592725786155174, 0.05853568558591323]}, {\"categories\": [\"0\", \"1\", \"2\", \"3\", \"4\", \"5\", \"6\", \"7\", \"8\", \"9\", \"10\", \"11\", \"12\", \"13\", \"14\", \"15\", \"16\", \"17\", \"18\", \"19\", \"20\", \"21\", \"22\", \"23\", \"24\", \"25\", \"26\", \"27\", \"28\", \"30\", \"31\", \"32\", \"33\", \"34\", \"35\", \"38\", \"39\"], \"mode\": \"lines\", \"name\": \"normalized_mean_absolute_error_min\", \"stepped\": true, \"type\": \"scatter\", \"data\": [0.06303260906401381, 0.06303260906401381, 0.06303260906401381, 0.06303260906401381, 0.06098979929486689, 0.06098979929486689, 0.06098979929486689, 0.06098979929486689, 0.06098979929486689, 0.06098979929486689, 0.06098979929486689, 0.06098979929486689, 0.06098979929486689, 0.06098979929486689, 0.06098979929486689, 0.06098979929486689, 0.06098979929486689, 0.06098979929486689, 0.06098979929486689, 0.06098979929486689, 0.06098979929486689, 0.06098979929486689, 0.06098979929486689, 0.06098979929486689, 0.06098979929486689, 0.06098979929486689, 0.06098979929486689, 0.06098979929486689, 0.06098979929486689, 0.06098979929486689, 0.06098979929486689, 0.06098979929486689, 0.06098979929486689, 0.06014459016355187, 0.06014459016355187, 0.058592725786155174, 0.05853568558591323]}], \"normalized_median_absolute_error\": [{\"categories\": [\"0\", \"1\", \"2\", \"3\", \"4\", \"5\", \"6\", \"7\", \"8\", \"9\", \"10\", \"11\", \"12\", \"13\", \"14\", \"15\", \"16\", \"17\", \"18\", \"19\", \"20\", \"21\", \"22\", \"23\", \"24\", \"25\", \"26\", \"27\", \"28\", \"30\", \"31\", \"32\", \"33\", \"34\", \"35\", \"38\", \"39\"], \"mode\": \"markers\", \"name\": \"normalized_median_absolute_error\", \"stepped\": false, \"type\": \"scatter\", \"data\": [0.04174430298778793, 0.052503247024517474, 0.07688395945096883, 0.06460899433725045, 0.04008738219008744, 0.09210966213097439, 0.06788039896418252, 0.04145753095028286, 0.06559064748894691, 0.09291014661710803, 0.05825071825563142, 0.06348576240878505, 0.048837261408067614, 0.08530754531798783, 0.06365300012222744, 0.11531692479261335, 0.06858782772891238, 0.0981891509505824, 0.08912290082178252, 0.07484877958425716, 0.08547997623612613, 0.0949332284310996, 0.09728578636305789, 0.052315243173196684, 0.05251928242768321, 0.07487408269836532, 0.09928604092957936, 0.08962122127729599, 0.054126584138232785, 0.09969880942992064, 0.06311840395245899, 0.10775198623680363, 0.09641333443143042, 0.03889152121508196, 0.15584792906614456, 0.03760923100147248, 0.03755185959221518]}, {\"categories\": [\"0\", \"1\", \"2\", \"3\", \"4\", \"5\", \"6\", \"7\", \"8\", \"9\", \"10\", \"11\", \"12\", \"13\", \"14\", \"15\", \"16\", \"17\", \"18\", \"19\", \"20\", \"21\", \"22\", \"23\", \"24\", \"25\", \"26\", \"27\", \"28\", \"30\", \"31\", \"32\", \"33\", \"34\", \"35\", \"38\", \"39\"], \"mode\": \"lines\", \"name\": \"normalized_median_absolute_error_min\", \"stepped\": true, \"type\": \"scatter\", \"data\": [0.04174430298778793, 0.04174430298778793, 0.04174430298778793, 0.04174430298778793, 0.04008738219008744, 0.04008738219008744, 0.04008738219008744, 0.04008738219008744, 0.04008738219008744, 0.04008738219008744, 0.04008738219008744, 0.04008738219008744, 0.04008738219008744, 0.04008738219008744, 0.04008738219008744, 0.04008738219008744, 0.04008738219008744, 0.04008738219008744, 0.04008738219008744, 0.04008738219008744, 0.04008738219008744, 0.04008738219008744, 0.04008738219008744, 0.04008738219008744, 0.04008738219008744, 0.04008738219008744, 0.04008738219008744, 0.04008738219008744, 0.04008738219008744, 0.04008738219008744, 0.04008738219008744, 0.04008738219008744, 0.04008738219008744, 0.03889152121508196, 0.03889152121508196, 0.03760923100147248, 0.03755185959221518]}], \"root_mean_squared_log_error\": [{\"categories\": [\"0\", \"1\", \"2\", \"3\", \"4\", \"5\", \"6\", \"7\", \"8\", \"9\", \"10\", \"11\", \"12\", \"13\", \"14\", \"15\", \"16\", \"17\", \"18\", \"19\", \"20\", \"21\", \"22\", \"23\", \"24\", \"25\", \"26\", \"27\", \"28\", \"30\", \"31\", \"32\", \"33\", \"34\", \"35\", \"38\", \"39\"], \"mode\": \"markers\", \"name\": \"root_mean_squared_log_error\", \"stepped\": false, \"type\": \"scatter\", \"data\": [0.1391963312397669, 0.15923396671720388, 0.2137657771432958, 0.1798422391204004, 0.13490572995163563, 0.23422572185290758, 0.19336963631157647, 0.13832398832954876, 0.18406968062663373, 0.23372648875509947, 0.16756323035400875, 0.17976965762459232, 0.15729842077134285, NaN, 0.18484239021365795, 0.26533503368190015, 0.18834853697021087, 0.24598451831590512, 0.22798767322017874, 0.20440716933793654, NaN, 0.23437334363480208, 0.24472005943555067, 0.15895458460330383, 0.15885890206267125, 0.21290579830640044, 0.24971163062788077, 0.224770530441875, 0.16361314782752553, 0.2846928022371505, 0.17732608711832476, 0.24865070674139464, 0.22867401874514137, 0.13520774629748358, 0.36263789559689247, 0.13101593608885115, 0.1310278004440548]}, {\"categories\": [\"0\", \"1\", \"2\", \"3\", \"4\", \"5\", \"6\", \"7\", \"8\", \"9\", \"10\", \"11\", \"12\", \"13\", \"14\", \"15\", \"16\", \"17\", \"18\", \"19\", \"20\", \"21\", \"22\", \"23\", \"24\", \"25\", \"26\", \"27\", \"28\", \"30\", \"31\", \"32\", \"33\", \"34\", \"35\", \"38\", \"39\"], \"mode\": \"lines\", \"name\": \"root_mean_squared_log_error_min\", \"stepped\": true, \"type\": \"scatter\", \"data\": [0.1391963312397669, 0.1391963312397669, 0.1391963312397669, 0.1391963312397669, 0.13490572995163563, 0.13490572995163563, 0.13490572995163563, 0.13490572995163563, 0.13490572995163563, 0.13490572995163563, 0.13490572995163563, 0.13490572995163563, 0.13490572995163563, 0.13490572995163563, 0.13490572995163563, 0.13490572995163563, 0.13490572995163563, 0.13490572995163563, 0.13490572995163563, 0.13490572995163563, 0.13490572995163563, 0.13490572995163563, 0.13490572995163563, 0.13490572995163563, 0.13490572995163563, 0.13490572995163563, 0.13490572995163563, 0.13490572995163563, 0.13490572995163563, 0.13490572995163563, 0.13490572995163563, 0.13490572995163563, 0.13490572995163563, 0.13490572995163563, 0.13490572995163563, 0.13101593608885115, 0.13101593608885115]}], \"r2_score\": [{\"categories\": [\"0\", \"1\", \"2\", \"3\", \"4\", \"5\", \"6\", \"7\", \"8\", \"9\", \"10\", \"11\", \"12\", \"13\", \"14\", \"15\", \"16\", \"17\", \"18\", \"19\", \"20\", \"21\", \"22\", \"23\", \"24\", \"25\", \"26\", \"27\", \"28\", \"30\", \"31\", \"32\", \"33\", \"34\", \"35\", \"38\", \"39\"], \"mode\": \"markers\", \"name\": \"r2_score\", \"stepped\": false, \"type\": \"scatter\", \"data\": [0.841866504256535, 0.7945415457798124, 0.6580056803206555, 0.7383935143302899, 0.84854969316053, 0.5644970846837554, 0.6970071630641795, 0.8430163001141958, 0.7152837474850906, 0.5663030906914182, 0.7715692888611618, 0.7395391303692846, 0.783020275551774, 0.6084125424314998, 0.7134585591415226, 0.4236730664038195, 0.7033008690302023, 0.5302192082135053, 0.5870550639978352, 0.6632437908746975, 0.6082912953839973, 0.5732283542339479, 0.5334157860681635, 0.8001812085731232, 0.7958263256651362, 0.6550748965459192, 0.4975208364740734, 0.6101324698227566, 0.7591379034363799, 0.25299273769103536, 0.7456987082789188, 0.5211668378003689, 0.5896624308198941, 0.8451881762219622, -0.018219038064901882, 0.8553625693695082, 0.855029393382505]}, {\"categories\": [\"0\", \"1\", \"2\", \"3\", \"4\", \"5\", \"6\", \"7\", \"8\", \"9\", \"10\", \"11\", \"12\", \"13\", \"14\", \"15\", \"16\", \"17\", \"18\", \"19\", \"20\", \"21\", \"22\", \"23\", \"24\", \"25\", \"26\", \"27\", \"28\", \"30\", \"31\", \"32\", \"33\", \"34\", \"35\", \"38\", \"39\"], \"mode\": \"lines\", \"name\": \"r2_score_max\", \"stepped\": true, \"type\": \"scatter\", \"data\": [0.841866504256535, 0.841866504256535, 0.841866504256535, 0.841866504256535, 0.84854969316053, 0.84854969316053, 0.84854969316053, 0.84854969316053, 0.84854969316053, 0.84854969316053, 0.84854969316053, 0.84854969316053, 0.84854969316053, 0.84854969316053, 0.84854969316053, 0.84854969316053, 0.84854969316053, 0.84854969316053, 0.84854969316053, 0.84854969316053, 0.84854969316053, 0.84854969316053, 0.84854969316053, 0.84854969316053, 0.84854969316053, 0.84854969316053, 0.84854969316053, 0.84854969316053, 0.84854969316053, 0.84854969316053, 0.84854969316053, 0.84854969316053, 0.84854969316053, 0.84854969316053, 0.84854969316053, 0.8553625693695082, 0.8553625693695082]}], \"mean_absolute_error\": [{\"categories\": [\"0\", \"1\", \"2\", \"3\", \"4\", \"5\", \"6\", \"7\", \"8\", \"9\", \"10\", \"11\", \"12\", \"13\", \"14\", \"15\", \"16\", \"17\", \"18\", \"19\", \"20\", \"21\", \"22\", \"23\", \"24\", \"25\", \"26\", \"27\", \"28\", \"30\", \"31\", \"32\", \"33\", \"34\", \"35\", \"38\", \"39\"], \"mode\": \"markers\", \"name\": \"mean_absolute_error\", \"stepped\": false, \"type\": \"scatter\", \"data\": [0.3057094146126483, 0.35855489539072427, 0.49028374833840976, 0.4182349045138184, 0.2958017463760903, 0.5598244975507898, 0.44967193719917437, 0.3028934958012652, 0.4289806168830763, 0.5602013535344071, 0.3837776525405951, 0.4175216178063718, 0.3573184772366834, 0.5246498818164347, 0.4272512834029498, 0.6625683683414916, 0.44123664547667896, 0.5872839354234373, 0.5522597232372793, 0.47928391692736083, 0.5251516595421036, 0.5628082811421123, 0.584505255845742, 0.3553098300472173, 0.3559342137224991, 0.4872726508142391, 0.6090355493133816, 0.5370528316364233, 0.3831950207898411, 0.7119848100225077, 0.4098008154635774, 0.6106653025243861, 0.5573977647239298, 0.29170246518502985, 0.9044835633470201, 0.2841758919173683, 0.2838992458053909]}, {\"categories\": [\"0\", \"1\", \"2\", \"3\", \"4\", \"5\", \"6\", \"7\", \"8\", \"9\", \"10\", \"11\", \"12\", \"13\", \"14\", \"15\", \"16\", \"17\", \"18\", \"19\", \"20\", \"21\", \"22\", \"23\", \"24\", \"25\", \"26\", \"27\", \"28\", \"30\", \"31\", \"32\", \"33\", \"34\", \"35\", \"38\", \"39\"], \"mode\": \"lines\", \"name\": \"mean_absolute_error_min\", \"stepped\": true, \"type\": \"scatter\", \"data\": [0.3057094146126483, 0.3057094146126483, 0.3057094146126483, 0.3057094146126483, 0.2958017463760903, 0.2958017463760903, 0.2958017463760903, 0.2958017463760903, 0.2958017463760903, 0.2958017463760903, 0.2958017463760903, 0.2958017463760903, 0.2958017463760903, 0.2958017463760903, 0.2958017463760903, 0.2958017463760903, 0.2958017463760903, 0.2958017463760903, 0.2958017463760903, 0.2958017463760903, 0.2958017463760903, 0.2958017463760903, 0.2958017463760903, 0.2958017463760903, 0.2958017463760903, 0.2958017463760903, 0.2958017463760903, 0.2958017463760903, 0.2958017463760903, 0.2958017463760903, 0.2958017463760903, 0.2958017463760903, 0.2958017463760903, 0.29170246518502985, 0.29170246518502985, 0.2841758919173683, 0.2838992458053909]}], \"root_mean_squared_error\": [{\"categories\": [\"0\", \"1\", \"2\", \"3\", \"4\", \"5\", \"6\", \"7\", \"8\", \"9\", \"10\", \"11\", \"12\", \"13\", \"14\", \"15\", \"16\", \"17\", \"18\", \"19\", \"20\", \"21\", \"22\", \"23\", \"24\", \"25\", \"26\", \"27\", \"28\", \"30\", \"31\", \"32\", \"33\", \"34\", \"35\", \"38\", \"39\"], \"mode\": \"markers\", \"name\": \"root_mean_squared_error\", \"stepped\": false, \"type\": \"scatter\", \"data\": [0.4518955498502235, 0.5150959519740227, 0.6645621080308031, 0.5812331582867929, 0.44224324441630497, 0.749931613911554, 0.6255215977405929, 0.4502496760124545, 0.6063623927987879, 0.7483750364389685, 0.5431294781312883, 0.579959106126284, 0.5293412094924447, 0.7111161062684952, 0.6083028467482122, 0.8627015666435961, 0.6189909021065674, 0.7788857466463689, 0.7302510683772546, 0.6594531311916686, 0.7112261890272276, 0.7423759730557344, 0.7762312971759455, 0.5079772850877142, 0.5134829184726716, 0.6674035775349162, 0.8055363770446807, 0.7095527083725196, 0.5577124761354991, 0.9821742427483943, 0.5730604174095841, 0.7863542509692618, 0.727941986318039, 0.4471242165185217, 1.1466918747201393, 0.4321818038638276, 0.43267928840555187]}, {\"categories\": [\"0\", \"1\", \"2\", \"3\", \"4\", \"5\", \"6\", \"7\", \"8\", \"9\", \"10\", \"11\", \"12\", \"13\", \"14\", \"15\", \"16\", \"17\", \"18\", \"19\", \"20\", \"21\", \"22\", \"23\", \"24\", \"25\", \"26\", \"27\", \"28\", \"30\", \"31\", \"32\", \"33\", \"34\", \"35\", \"38\", \"39\"], \"mode\": \"lines\", \"name\": \"root_mean_squared_error_min\", \"stepped\": true, \"type\": \"scatter\", \"data\": [0.4518955498502235, 0.4518955498502235, 0.4518955498502235, 0.4518955498502235, 0.44224324441630497, 0.44224324441630497, 0.44224324441630497, 0.44224324441630497, 0.44224324441630497, 0.44224324441630497, 0.44224324441630497, 0.44224324441630497, 0.44224324441630497, 0.44224324441630497, 0.44224324441630497, 0.44224324441630497, 0.44224324441630497, 0.44224324441630497, 0.44224324441630497, 0.44224324441630497, 0.44224324441630497, 0.44224324441630497, 0.44224324441630497, 0.44224324441630497, 0.44224324441630497, 0.44224324441630497, 0.44224324441630497, 0.44224324441630497, 0.44224324441630497, 0.44224324441630497, 0.44224324441630497, 0.44224324441630497, 0.44224324441630497, 0.44224324441630497, 0.44224324441630497, 0.4321818038638276, 0.4321818038638276]}], \"spearman_correlation\": [{\"categories\": [\"0\", \"1\", \"2\", \"3\", \"4\", \"5\", \"6\", \"7\", \"8\", \"9\", \"10\", \"11\", \"12\", \"13\", \"14\", \"15\", \"16\", \"17\", \"18\", \"19\", \"20\", \"21\", \"22\", \"23\", \"24\", \"25\", \"26\", \"27\", \"28\", \"30\", \"31\", \"32\", \"33\", \"34\", \"35\", \"38\", \"39\"], \"mode\": \"markers\", \"name\": \"spearman_correlation\", \"stepped\": false, \"type\": \"scatter\", \"data\": [0.9183534497241314, 0.8925237916623209, 0.7915668220963913, 0.8702623882520143, 0.9241635922353263, 0.7583699951857704, 0.8382680018134407, 0.919759558208345, 0.8607939407933592, 0.7649424140387077, 0.8892972464073654, 0.8727634445871393, 0.8962958051272281, 0.8102281125120212, 0.8558893153752403, 0.7660779804854873, 0.8540902308802515, 0.7241422275840058, 0.7734648310760489, 0.8156061761701112, 0.8107410509278663, 0.8235821608395808, 0.7270738148606636, 0.8965914845082802, 0.8930146148625939, 0.791865207713329, 0.7152603414588348, 0.8325466660794227, 0.8947126793141139, 0.7530606907105049, 0.8732659522910041, 0.8352112597551019, 0.8337703833642788, 0.9243886231741001, 0.024583747279048256, 0.9290035362293845, 0.9285834030745391]}, {\"categories\": [\"0\", \"1\", \"2\", \"3\", \"4\", \"5\", \"6\", \"7\", \"8\", \"9\", \"10\", \"11\", \"12\", \"13\", \"14\", \"15\", \"16\", \"17\", \"18\", \"19\", \"20\", \"21\", \"22\", \"23\", \"24\", \"25\", \"26\", \"27\", \"28\", \"30\", \"31\", \"32\", \"33\", \"34\", \"35\", \"38\", \"39\"], \"mode\": \"lines\", \"name\": \"spearman_correlation_max\", \"stepped\": true, \"type\": \"scatter\", \"data\": [0.9183534497241314, 0.9183534497241314, 0.9183534497241314, 0.9183534497241314, 0.9241635922353263, 0.9241635922353263, 0.9241635922353263, 0.9241635922353263, 0.9241635922353263, 0.9241635922353263, 0.9241635922353263, 0.9241635922353263, 0.9241635922353263, 0.9241635922353263, 0.9241635922353263, 0.9241635922353263, 0.9241635922353263, 0.9241635922353263, 0.9241635922353263, 0.9241635922353263, 0.9241635922353263, 0.9241635922353263, 0.9241635922353263, 0.9241635922353263, 0.9241635922353263, 0.9241635922353263, 0.9241635922353263, 0.9241635922353263, 0.9241635922353263, 0.9241635922353263, 0.9241635922353263, 0.9241635922353263, 0.9241635922353263, 0.9243886231741001, 0.9243886231741001, 0.9290035362293845, 0.9290035362293845]}], \"median_absolute_error\": [{\"categories\": [\"0\", \"1\", \"2\", \"3\", \"4\", \"5\", \"6\", \"7\", \"8\", \"9\", \"10\", \"11\", \"12\", \"13\", \"14\", \"15\", \"16\", \"17\", \"18\", \"19\", \"20\", \"21\", \"22\", \"23\", \"24\", \"25\", \"26\", \"27\", \"28\", \"30\", \"31\", \"32\", \"33\", \"34\", \"35\", \"38\", \"39\"], \"mode\": \"markers\", \"name\": \"median_absolute_error\", \"stepped\": false, \"type\": \"scatter\", \"data\": [0.20246070437683122, 0.25464179813385024, 0.37288874101638786, 0.31335491471555144, 0.19442460536956785, 0.4467337035284684, 0.32922129258426447, 0.20106985425949087, 0.3181159521343423, 0.45061606929590625, 0.2825171485541775, 0.30790721739785565, 0.23686169457435607, 0.4137433009431473, 0.3087183236528055, 0.5592893915826705, 0.3326523362417796, 0.4762193458933436, 0.4322478514436616, 0.3630180779592389, 0.41457959434473646, 0.46042805655540164, 0.47183800957655797, 0.2537299756948674, 0.2547195701599121, 0.3631407985687257, 0.4815392842292785, 0.4346647156193111, 0.26251501560211177, 0.4835412197113037, 0.30612552153750516, 0.5225992882882223, 0.46760660025912615, 0.1886246557235718, 0.7558655729293824, 0.18240552254176157, 0.18212727005943546]}, {\"categories\": [\"0\", \"1\", \"2\", \"3\", \"4\", \"5\", \"6\", \"7\", \"8\", \"9\", \"10\", \"11\", \"12\", \"13\", \"14\", \"15\", \"16\", \"17\", \"18\", \"19\", \"20\", \"21\", \"22\", \"23\", \"24\", \"25\", \"26\", \"27\", \"28\", \"30\", \"31\", \"32\", \"33\", \"34\", \"35\", \"38\", \"39\"], \"mode\": \"lines\", \"name\": \"median_absolute_error_min\", \"stepped\": true, \"type\": \"scatter\", \"data\": [0.20246070437683122, 0.20246070437683122, 0.20246070437683122, 0.20246070437683122, 0.19442460536956785, 0.19442460536956785, 0.19442460536956785, 0.19442460536956785, 0.19442460536956785, 0.19442460536956785, 0.19442460536956785, 0.19442460536956785, 0.19442460536956785, 0.19442460536956785, 0.19442460536956785, 0.19442460536956785, 0.19442460536956785, 0.19442460536956785, 0.19442460536956785, 0.19442460536956785, 0.19442460536956785, 0.19442460536956785, 0.19442460536956785, 0.19442460536956785, 0.19442460536956785, 0.19442460536956785, 0.19442460536956785, 0.19442460536956785, 0.19442460536956785, 0.19442460536956785, 0.19442460536956785, 0.19442460536956785, 0.19442460536956785, 0.1886246557235718, 0.1886246557235718, 0.18240552254176157, 0.18212727005943546]}], \"normalized_root_mean_squared_log_error\": [{\"categories\": [\"0\", \"1\", \"2\", \"3\", \"4\", \"5\", \"6\", \"7\", \"8\", \"9\", \"10\", \"11\", \"12\", \"13\", \"14\", \"15\", \"16\", \"17\", \"18\", \"19\", \"20\", \"21\", \"22\", \"23\", \"24\", \"25\", \"26\", \"27\", \"28\", \"30\", \"31\", \"32\", \"33\", \"34\", \"35\", \"38\", \"39\"], \"mode\": \"markers\", \"name\": \"normalized_root_mean_squared_log_error\", \"stepped\": false, \"type\": \"scatter\", \"data\": [0.0842588780290189, 0.09638813940139736, 0.12939755223914734, 0.10886282099209758, 0.08166167415598663, 0.14178244751916846, 0.1170512789767989, 0.08373082794165745, 0.11142179273421175, 0.1414802497505807, 0.10143004246446159, 0.10881888567176273, 0.09521650701483002, NaN, 0.11188953238126306, 0.16061366014969894, 0.11401188711059398, 0.14890032906187334, 0.13800640705744957, 0.12373256246125647, NaN, 0.14187180652456963, 0.1481349217725894, 0.09621902270666174, 0.09616110376979853, 0.12887698642192985, 0.1511564395419281, 0.1360589933681325, 0.09903896276545568, 0.172331381766954, 0.10733973383342688, 0.15051423686637388, 0.13842186846622748, 0.08184449189421952, 0.219513416349793, 0.07930708863118689, 0.07931427040996722]}, {\"categories\": [\"0\", \"1\", \"2\", \"3\", \"4\", \"5\", \"6\", \"7\", \"8\", \"9\", \"10\", \"11\", \"12\", \"13\", \"14\", \"15\", \"16\", \"17\", \"18\", \"19\", \"20\", \"21\", \"22\", \"23\", \"24\", \"25\", \"26\", \"27\", \"28\", \"30\", \"31\", \"32\", \"33\", \"34\", \"35\", \"38\", \"39\"], \"mode\": \"lines\", \"name\": \"normalized_root_mean_squared_log_error_min\", \"stepped\": true, \"type\": \"scatter\", \"data\": [0.0842588780290189, 0.0842588780290189, 0.0842588780290189, 0.0842588780290189, 0.08166167415598663, 0.08166167415598663, 0.08166167415598663, 0.08166167415598663, 0.08166167415598663, 0.08166167415598663, 0.08166167415598663, 0.08166167415598663, 0.08166167415598663, 0.08166167415598663, 0.08166167415598663, 0.08166167415598663, 0.08166167415598663, 0.08166167415598663, 0.08166167415598663, 0.08166167415598663, 0.08166167415598663, 0.08166167415598663, 0.08166167415598663, 0.08166167415598663, 0.08166167415598663, 0.08166167415598663, 0.08166167415598663, 0.08166167415598663, 0.08166167415598663, 0.08166167415598663, 0.08166167415598663, 0.08166167415598663, 0.08166167415598663, 0.08166167415598663, 0.08166167415598663, 0.07930708863118689, 0.07930708863118689]}], \"normalized_root_mean_squared_error\": [{\"categories\": [\"0\", \"1\", \"2\", \"3\", \"4\", \"5\", \"6\", \"7\", \"8\", \"9\", \"10\", \"11\", \"12\", \"13\", \"14\", \"15\", \"16\", \"17\", \"18\", \"19\", \"20\", \"21\", \"22\", \"23\", \"24\", \"25\", \"26\", \"27\", \"28\", \"30\", \"31\", \"32\", \"33\", \"34\", \"35\", \"38\", \"39\"], \"mode\": \"markers\", \"name\": \"normalized_root_mean_squared_error\", \"stepped\": false, \"type\": \"scatter\", \"data\": [0.09317395595280505, 0.10620491296407493, 0.1370225500164542, 0.11984139411523931, 0.09118379809079241, 0.15462443740676413, 0.12897299345994304, 0.09283460192173527, 0.1250226582155925, 0.15430349492145776, 0.11198499761470847, 0.11957870403138214, 0.10914206735074179, 0.14662127295732702, 0.12542275016354823, 0.17787587817031603, 0.12762646383036924, 0.16059433706384074, 0.1505666097000125, 0.13596915707392312, 0.14664397033975687, 0.15306657973693602, 0.160047030151617, 0.10473715264838376, 0.10587233010846793, 0.13760841760135345, 0.16608928974410017, 0.14629892420495577, 0.11499178892777744, 0.20250931805402747, 0.118156299852286, 0.16213422851230755, 0.15009051226964817, 0.09219017994122121, 0.2364303394048147, 0.08910928282024148, 0.0892118565295714]}, {\"categories\": [\"0\", \"1\", \"2\", \"3\", \"4\", \"5\", \"6\", \"7\", \"8\", \"9\", \"10\", \"11\", \"12\", \"13\", \"14\", \"15\", \"16\", \"17\", \"18\", \"19\", \"20\", \"21\", \"22\", \"23\", \"24\", \"25\", \"26\", \"27\", \"28\", \"30\", \"31\", \"32\", \"33\", \"34\", \"35\", \"38\", \"39\"], \"mode\": \"lines\", \"name\": \"normalized_root_mean_squared_error_min\", \"stepped\": true, \"type\": \"scatter\", \"data\": [0.09317395595280505, 0.09317395595280505, 0.09317395595280505, 0.09317395595280505, 0.09118379809079241, 0.09118379809079241, 0.09118379809079241, 0.09118379809079241, 0.09118379809079241, 0.09118379809079241, 0.09118379809079241, 0.09118379809079241, 0.09118379809079241, 0.09118379809079241, 0.09118379809079241, 0.09118379809079241, 0.09118379809079241, 0.09118379809079241, 0.09118379809079241, 0.09118379809079241, 0.09118379809079241, 0.09118379809079241, 0.09118379809079241, 0.09118379809079241, 0.09118379809079241, 0.09118379809079241, 0.09118379809079241, 0.09118379809079241, 0.09118379809079241, 0.09118379809079241, 0.09118379809079241, 0.09118379809079241, 0.09118379809079241, 0.09118379809079241, 0.09118379809079241, 0.08910928282024148, 0.08910928282024148]}], \"mean_absolute_percentage_error\": [{\"categories\": [\"0\", \"1\", \"2\", \"3\", \"4\", \"5\", \"6\", \"7\", \"8\", \"9\", \"10\", \"11\", \"12\", \"13\", \"14\", \"15\", \"16\", \"17\", \"18\", \"19\", \"20\", \"21\", \"22\", \"23\", \"24\", \"25\", \"26\", \"27\", \"28\", \"30\", \"31\", \"32\", \"33\", \"34\", \"35\", \"38\", \"39\"], \"mode\": \"markers\", \"name\": \"mean_absolute_percentage_error\", \"stepped\": false, \"type\": \"scatter\", \"data\": [17.59100588786228, 20.75116868141658, 30.523526221856535, 25.599656369950797, 16.788031244857024, 34.46790801623285, 27.181319540163127, 17.381580314289753, 25.467060317079696, 34.88660425229812, 23.322953447272198, 25.762004181064174, 19.264357306035524, 32.061826885169886, 25.20247072714841, 42.79935061265563, 26.33272993619658, 36.880298654027754, 34.48384799177375, 29.142969220396896, 32.12987810814664, 37.54742115753743, 36.57908367384608, 21.06051418593912, 20.64684513240307, 30.1339680660579, 38.01931474704494, 35.653671750230124, 21.148267778538454, 32.83046413969893, 25.036182836198236, 40.654317850118645, 36.33544902141673, 16.336720703502127, 62.35827643598186, 16.05211560820331, 15.90544669610996]}, {\"categories\": [\"0\", \"1\", \"2\", \"3\", \"4\", \"5\", \"6\", \"7\", \"8\", \"9\", \"10\", \"11\", \"12\", \"13\", \"14\", \"15\", \"16\", \"17\", \"18\", \"19\", \"20\", \"21\", \"22\", \"23\", \"24\", \"25\", \"26\", \"27\", \"28\", \"30\", \"31\", \"32\", \"33\", \"34\", \"35\", \"38\", \"39\"], \"mode\": \"lines\", \"name\": \"mean_absolute_percentage_error_min\", \"stepped\": true, \"type\": \"scatter\", \"data\": [17.59100588786228, 17.59100588786228, 17.59100588786228, 17.59100588786228, 16.788031244857024, 16.788031244857024, 16.788031244857024, 16.788031244857024, 16.788031244857024, 16.788031244857024, 16.788031244857024, 16.788031244857024, 16.788031244857024, 16.788031244857024, 16.788031244857024, 16.788031244857024, 16.788031244857024, 16.788031244857024, 16.788031244857024, 16.788031244857024, 16.788031244857024, 16.788031244857024, 16.788031244857024, 16.788031244857024, 16.788031244857024, 16.788031244857024, 16.788031244857024, 16.788031244857024, 16.788031244857024, 16.788031244857024, 16.788031244857024, 16.788031244857024, 16.788031244857024, 16.336720703502127, 16.336720703502127, 16.05211560820331, 15.90544669610996]}], \"explained_variance\": [{\"categories\": [\"0\", \"1\", \"2\", \"3\", \"4\", \"5\", \"6\", \"7\", \"8\", \"9\", \"10\", \"11\", \"12\", \"13\", \"14\", \"15\", \"16\", \"17\", \"18\", \"19\", \"20\", \"21\", \"22\", \"23\", \"24\", \"25\", \"26\", \"27\", \"28\", \"30\", \"31\", \"32\", \"33\", \"34\", \"35\", \"38\", \"39\"], \"mode\": \"markers\", \"name\": \"explained_variance\", \"stepped\": false, \"type\": \"scatter\", \"data\": [0.8419237981095516, 0.7947674471064814, 0.6580622967878317, 0.7387453820567349, 0.8485874666006845, 0.564750028772069, 0.6976447589533334, 0.843072717504792, 0.7155269971382934, 0.5665648246118155, 0.7718037988548622, 0.7398504261644638, 0.7917593485322802, 0.6086037389201338, 0.7136811343492104, 0.4238482831115983, 0.7035602047000982, 0.5304681715506162, 0.5880501074139772, 0.6640940217439386, 0.6084821435377137, 0.5735344419354313, 0.5336693186580597, 0.8004111357615601, 0.796014079471328, 0.6551675323441244, 0.5064976858797469, 0.6103938325193883, 0.7679010014165372, 0.48383666005622106, 0.7460607756786085, 0.5213167055520322, 0.5898549882032282, 0.8451889266290185, -0.018162968400931234, 0.8553811876248657, 0.8550438285538035]}, {\"categories\": [\"0\", \"1\", \"2\", \"3\", \"4\", \"5\", \"6\", \"7\", \"8\", \"9\", \"10\", \"11\", \"12\", \"13\", \"14\", \"15\", \"16\", \"17\", \"18\", \"19\", \"20\", \"21\", \"22\", \"23\", \"24\", \"25\", \"26\", \"27\", \"28\", \"30\", \"31\", \"32\", \"33\", \"34\", \"35\", \"38\", \"39\"], \"mode\": \"lines\", \"name\": \"explained_variance_max\", \"stepped\": true, \"type\": \"scatter\", \"data\": [0.8419237981095516, 0.8419237981095516, 0.8419237981095516, 0.8419237981095516, 0.8485874666006845, 0.8485874666006845, 0.8485874666006845, 0.8485874666006845, 0.8485874666006845, 0.8485874666006845, 0.8485874666006845, 0.8485874666006845, 0.8485874666006845, 0.8485874666006845, 0.8485874666006845, 0.8485874666006845, 0.8485874666006845, 0.8485874666006845, 0.8485874666006845, 0.8485874666006845, 0.8485874666006845, 0.8485874666006845, 0.8485874666006845, 0.8485874666006845, 0.8485874666006845, 0.8485874666006845, 0.8485874666006845, 0.8485874666006845, 0.8485874666006845, 0.8485874666006845, 0.8485874666006845, 0.8485874666006845, 0.8485874666006845, 0.8485874666006845, 0.8485874666006845, 0.8553811876248657, 0.8553811876248657]}]}, \"metricName\": null, \"primaryMetricName\": \"r2_score\", \"showLegend\": false}, \"run_metrics\": [{\"name\": \"experiment_status\", \"run_id\": \"AutoML_d27e685c-6ed4-4f11-ac21-ee153a1dfbaf\", \"categories\": [0, 1, 2, 3, 4, 5, 6, 7, 8, 9, 10, 11, 12], \"series\": [{\"data\": [\"DatasetEvaluation\", \"FeaturesGeneration\", \"DatasetFeaturization\", \"DatasetFeaturizationCompleted\", \"ModelSelection\", \"BestRunExplainModel\", \"ModelExplanationDataSetSetup\", \"PickSurrogateModel\", \"EngineeredFeatureExplanations\", \"EngineeredFeatureExplanations\", \"RawFeaturesExplanations\", \"RawFeaturesExplanations\", \"BestRunExplainModel\"]}]}, {\"name\": \"experiment_status_description\", \"run_id\": \"AutoML_d27e685c-6ed4-4f11-ac21-ee153a1dfbaf\", \"categories\": [0, 1, 2, 3, 4, 5, 6, 7, 8, 9, 10, 11, 12], \"series\": [{\"data\": [\"Gathering dataset statistics.\", \"Generating features for the dataset.\", \"Beginning to fit featurizers and featurize the dataset.\", \"Completed fit featurizers and featurizing the dataset.\", \"Beginning model selection.\", \"Best run model explanations started\", \"Model explanations data setup completed\", \"Choosing LightGBM as the surrogate model for explanations\", \"Computation of engineered features started\", \"Computation of engineered features completed\", \"Computation of raw features started\", \"Computation of raw features completed\", \"Best run model explanations completed\"]}]}, {\"name\": \"root_mean_squared_log_error\", \"run_id\": \"AutoML_d27e685c-6ed4-4f11-ac21-ee153a1dfbaf\", \"categories\": [0], \"series\": [{\"data\": [0.13101593608885115]}]}, {\"name\": \"normalized_root_mean_squared_error\", \"run_id\": \"AutoML_d27e685c-6ed4-4f11-ac21-ee153a1dfbaf\", \"categories\": [0], \"series\": [{\"data\": [0.08910928282024148]}]}, {\"name\": \"root_mean_squared_error\", \"run_id\": \"AutoML_d27e685c-6ed4-4f11-ac21-ee153a1dfbaf\", \"categories\": [0], \"series\": [{\"data\": [0.4321818038638276]}]}, {\"name\": \"normalized_mean_absolute_error\", \"run_id\": \"AutoML_d27e685c-6ed4-4f11-ac21-ee153a1dfbaf\", \"categories\": [0], \"series\": [{\"data\": [0.058592725786155174]}]}, {\"name\": \"median_absolute_error\", \"run_id\": \"AutoML_d27e685c-6ed4-4f11-ac21-ee153a1dfbaf\", \"categories\": [0], \"series\": [{\"data\": [0.18240552254176157]}]}, {\"name\": \"r2_score\", \"run_id\": \"AutoML_d27e685c-6ed4-4f11-ac21-ee153a1dfbaf\", \"categories\": [0], \"series\": [{\"data\": [0.8553625693695082]}]}, {\"name\": \"mean_absolute_error\", \"run_id\": \"AutoML_d27e685c-6ed4-4f11-ac21-ee153a1dfbaf\", \"categories\": [0], \"series\": [{\"data\": [0.2841758919173683]}]}, {\"name\": \"normalized_root_mean_squared_log_error\", \"run_id\": \"AutoML_d27e685c-6ed4-4f11-ac21-ee153a1dfbaf\", \"categories\": [0], \"series\": [{\"data\": [0.07930708863118689]}]}, {\"name\": \"mean_absolute_percentage_error\", \"run_id\": \"AutoML_d27e685c-6ed4-4f11-ac21-ee153a1dfbaf\", \"categories\": [0], \"series\": [{\"data\": [16.05211560820331]}]}, {\"name\": \"normalized_median_absolute_error\", \"run_id\": \"AutoML_d27e685c-6ed4-4f11-ac21-ee153a1dfbaf\", \"categories\": [0], \"series\": [{\"data\": [0.03760923100147248]}]}, {\"name\": \"explained_variance\", \"run_id\": \"AutoML_d27e685c-6ed4-4f11-ac21-ee153a1dfbaf\", \"categories\": [0], \"series\": [{\"data\": [0.8553811876248657]}]}, {\"name\": \"spearman_correlation\", \"run_id\": \"AutoML_d27e685c-6ed4-4f11-ac21-ee153a1dfbaf\", \"categories\": [0], \"series\": [{\"data\": [0.9290035362293845]}]}], \"run_logs\": \"\\nRun is completed.\", \"graph\": {}, \"widget_settings\": {\"childWidgetDisplay\": \"popup\", \"send_telemetry\": false, \"log_level\": \"INFO\", \"sdk_version\": \"1.21.0\"}, \"loading\": false}"
     },
     "metadata": {},
     "output_type": "display_data"
    },
    {
     "name": "stdout",
     "output_type": "stream",
     "text": [
      "\n",
      "Current status: FeaturesGeneration. Generating features for the dataset.\n",
      "Current status: ModelSelection. Beginning model selection.\n",
      "\n",
      "****************************************************************************************************\n",
      "DATA GUARDRAILS: \n",
      "\n",
      "TYPE:         Missing feature values imputation\n",
      "STATUS:       PASSED\n",
      "DESCRIPTION:  No feature missing values were detected in the training data.\n",
      "              Learn more about missing value imputation: https://aka.ms/AutomatedMLFeaturization\n",
      "\n",
      "****************************************************************************************************\n",
      "\n",
      "TYPE:         High cardinality feature detection\n",
      "STATUS:       PASSED\n",
      "DESCRIPTION:  Your inputs were analyzed, and no high cardinality features were detected.\n",
      "              Learn more about high cardinality feature handling: https://aka.ms/AutomatedMLFeaturization\n",
      "\n",
      "****************************************************************************************************\n",
      "\n",
      "****************************************************************************************************\n",
      "ITERATION: The iteration being evaluated.\n",
      "PIPELINE: A summary description of the pipeline being evaluated.\n",
      "DURATION: Time taken for the current iteration.\n",
      "METRIC: The result of computing score on the fitted pipeline.\n",
      "BEST: The best observed score thus far.\n",
      "****************************************************************************************************\n",
      "\n",
      " ITERATION   PIPELINE                                       DURATION      METRIC      BEST\n",
      "         2   SparseNormalizer XGBoostRegressor              0:00:46       0.6580    0.6580\n",
      "         0   MaxAbsScaler LightGBM                          0:00:50       0.8419    0.8419\n",
      "         4   StandardScalerWrapper XGBoostRegressor         0:03:09       0.8485    0.8485\n",
      "         1   MaxAbsScaler XGBoostRegressor                  0:03:01       0.7945    0.8485\n",
      "         3   MaxAbsScaler RandomForest                      0:02:58       0.7384    0.8485\n",
      "         5   MaxAbsScaler ElasticNet                        0:00:43       0.5645    0.8485\n",
      "         6   MinMaxScaler RandomForest                      0:01:06       0.6970    0.8485\n",
      "         7   StandardScalerWrapper XGBoostRegressor         0:00:54       0.8430    0.8485\n",
      "         8   MinMaxScaler ExtremeRandomTrees                0:00:43       0.7153    0.8485\n",
      "         9   StandardScalerWrapper ElasticNet               0:00:49       0.5663    0.8485\n",
      "        10   MinMaxScaler RandomForest                      0:01:03       0.7716    0.8485\n",
      "        11   MinMaxScaler RandomForest                      0:00:41       0.7395    0.8485\n",
      "        12   StandardScalerWrapper XGBoostRegressor         0:00:43       0.7830    0.8485\n",
      "        13   RobustScaler LassoLars                         0:00:46       0.6084    0.8485\n",
      "        14   MinMaxScaler ExtremeRandomTrees                0:00:49       0.7135    0.8485\n",
      "        15   MaxAbsScaler ExtremeRandomTrees                0:00:55       0.4237    0.8485\n",
      "        17   MaxAbsScaler ElasticNet                        0:00:57       0.5302    0.8485\n",
      "        16   MinMaxScaler ExtremeRandomTrees                0:01:19       0.7033    0.8485\n",
      "        18   MinMaxScaler RandomForest                      0:00:45       0.5871    0.8485\n",
      "        19   MaxAbsScaler RandomForest                      0:00:46       0.6632    0.8485\n",
      "        20   RobustScaler ElasticNet                        0:00:46       0.6083    0.8485\n",
      "        21   StandardScalerWrapper RandomForest             0:00:50       0.5732    0.8485\n",
      "        22   MaxAbsScaler ElasticNet                        0:00:45       0.5334    0.8485\n",
      "        23   MinMaxScaler LightGBM                          0:00:46       0.8002    0.8485\n",
      "        24   StandardScalerWrapper XGBoostRegressor         0:00:51       0.7958    0.8485\n",
      "        25   SparseNormalizer XGBoostRegressor              0:00:58       0.6551    0.8485\n",
      "        26   SparseNormalizer XGBoostRegressor              0:00:51       0.4975    0.8485\n",
      "        27   StandardScalerWrapper RandomForest             0:00:42       0.6101    0.8485\n",
      "        28   StandardScalerWrapper XGBoostRegressor         0:00:46       0.7591    0.8485\n",
      "        30   SparseNormalizer XGBoostRegressor              0:00:50       0.2530    0.8485\n",
      "        31   RobustScaler RandomForest                      0:00:48       0.7457    0.8485\n",
      "        32   MaxAbsScaler ExtremeRandomTrees                0:00:43       0.5212    0.8485\n",
      "        33   StandardScalerWrapper ExtremeRandomTrees       0:00:42       0.5897    0.8485\n",
      "        35   PCA XGBoostRegressor                           0:00:51      -0.0182    0.8485\n",
      "        29   RobustScaler ExtremeRandomTrees                0:04:16          nan    0.8485\n",
      "        34   StandardScalerWrapper XGBoostRegressor         0:01:00       0.8452    0.8485\n",
      "        36                                                  0:01:15          nan    0.8485\n",
      "        37                                                  0:01:08          nan    0.8485\n",
      "        38    VotingEnsemble                                0:01:16       0.8554    0.8554\n",
      "        39    StackEnsemble                                 0:01:23       0.8550    0.8554\n"
     ]
    },
    {
     "data": {
      "text/plain": [
       "{'runId': 'AutoML_d27e685c-6ed4-4f11-ac21-ee153a1dfbaf',\n",
       " 'target': 'nuria-p3',\n",
       " 'status': 'Completed',\n",
       " 'startTimeUtc': '2021-01-26T19:11:20.127906Z',\n",
       " 'endTimeUtc': '2021-01-26T19:37:04.288211Z',\n",
       " 'properties': {'num_iterations': '1000',\n",
       "  'training_type': 'TrainFull',\n",
       "  'acquisition_function': 'EI',\n",
       "  'primary_metric': 'r2_score',\n",
       "  'train_split': '0.2',\n",
       "  'acquisition_parameter': '0',\n",
       "  'num_cross_validation': None,\n",
       "  'target': 'nuria-p3',\n",
       "  'AMLSettingsJsonString': '{\"path\":null,\"name\":\"california-housing\",\"subscription_id\":\"9a7511b8-150f-4a58-8528-3e7d50216c31\",\"resource_group\":\"aml-quickstarts-136165\",\"workspace_name\":\"quick-starts-ws-136165\",\"region\":\"southcentralus\",\"compute_target\":\"nuria-p3\",\"spark_service\":null,\"azure_service\":\"remote\",\"many_models\":false,\"pipeline_fetch_max_batch_size\":1,\"iterations\":1000,\"primary_metric\":\"r2_score\",\"task_type\":\"regression\",\"data_script\":null,\"validation_size\":0.2,\"n_cross_validations\":null,\"y_min\":null,\"y_max\":null,\"num_classes\":null,\"featurization\":\"auto\",\"_ignore_package_version_incompatibilities\":false,\"is_timeseries\":false,\"max_cores_per_iteration\":1,\"max_concurrent_iterations\":5,\"iteration_timeout_minutes\":null,\"mem_in_mb\":null,\"enforce_time_on_windows\":false,\"experiment_timeout_minutes\":60,\"experiment_exit_score\":null,\"whitelist_models\":null,\"blacklist_algos\":[\"TensorFlowDNN\",\"TensorFlowLinearRegressor\"],\"supported_models\":[\"DecisionTree\",\"LightGBM\",\"TensorFlowDNN\",\"FastLinearRegressor\",\"TensorFlowLinearRegressor\",\"GradientBoosting\",\"KNN\",\"LassoLars\",\"SGD\",\"ExtremeRandomTrees\",\"ElasticNet\",\"XGBoostRegressor\",\"RandomForest\",\"OnlineGradientDescentRegressor\"],\"auto_blacklist\":true,\"blacklist_samples_reached\":false,\"exclude_nan_labels\":true,\"verbosity\":20,\"_debug_log\":\"azureml_automl.log\",\"show_warnings\":false,\"model_explainability\":true,\"service_url\":null,\"sdk_url\":null,\"sdk_packages\":null,\"enable_onnx_compatible_models\":false,\"enable_split_onnx_featurizer_estimator_models\":false,\"vm_type\":\"STANDARD_D12_V2\",\"telemetry_verbosity\":20,\"send_telemetry\":true,\"enable_dnn\":false,\"scenario\":\"SDK-1.13.0\",\"environment_label\":null,\"force_text_dnn\":false,\"enable_feature_sweeping\":true,\"enable_early_stopping\":true,\"early_stopping_n_iters\":10,\"metrics\":null,\"enable_ensembling\":true,\"enable_stack_ensembling\":true,\"ensemble_iterations\":15,\"enable_tf\":false,\"enable_subsampling\":null,\"subsample_seed\":null,\"enable_nimbusml\":false,\"enable_streaming\":false,\"force_streaming\":false,\"track_child_runs\":true,\"allowed_private_models\":[],\"label_column_name\":\"MedHouseVal\",\"weight_column_name\":null,\"cv_split_column_names\":null,\"enable_local_managed\":false,\"_local_managed_run_id\":null,\"cost_mode\":1,\"lag_length\":0,\"metric_operation\":\"maximize\",\"preprocess\":true}',\n",
       "  'DataPrepJsonString': '{\\\\\"training_data\\\\\": \\\\\"{\\\\\\\\\\\\\"blocks\\\\\\\\\\\\\": [{\\\\\\\\\\\\\"id\\\\\\\\\\\\\": \\\\\\\\\\\\\"b39e2ffd-80c7-426a-a522-1852e2dead89\\\\\\\\\\\\\", \\\\\\\\\\\\\"type\\\\\\\\\\\\\": \\\\\\\\\\\\\"Microsoft.DPrep.GetDatastoreFilesBlock\\\\\\\\\\\\\", \\\\\\\\\\\\\"arguments\\\\\\\\\\\\\": {\\\\\\\\\\\\\"datastores\\\\\\\\\\\\\": [{\\\\\\\\\\\\\"datastoreName\\\\\\\\\\\\\": \\\\\\\\\\\\\"workspaceblobstore\\\\\\\\\\\\\", \\\\\\\\\\\\\"path\\\\\\\\\\\\\": \\\\\\\\\\\\\"managed-dataset/93d95790-2319-4202-854e-e99533b8ab7f/\\\\\\\\\\\\\", \\\\\\\\\\\\\"resourceGroup\\\\\\\\\\\\\": \\\\\\\\\\\\\"aml-quickstarts-136165\\\\\\\\\\\\\", \\\\\\\\\\\\\"subscription\\\\\\\\\\\\\": \\\\\\\\\\\\\"9a7511b8-150f-4a58-8528-3e7d50216c31\\\\\\\\\\\\\", \\\\\\\\\\\\\"workspaceName\\\\\\\\\\\\\": \\\\\\\\\\\\\"quick-starts-ws-136165\\\\\\\\\\\\\"}]}, \\\\\\\\\\\\\"localData\\\\\\\\\\\\\": {}, \\\\\\\\\\\\\"isEnabled\\\\\\\\\\\\\": true, \\\\\\\\\\\\\"name\\\\\\\\\\\\\": null, \\\\\\\\\\\\\"annotation\\\\\\\\\\\\\": null}, {\\\\\\\\\\\\\"id\\\\\\\\\\\\\": \\\\\\\\\\\\\"f6919b46-286b-41a8-bc34-88d7a7e42317\\\\\\\\\\\\\", \\\\\\\\\\\\\"type\\\\\\\\\\\\\": \\\\\\\\\\\\\"Microsoft.DPrep.ReadParquetFileBlock\\\\\\\\\\\\\", \\\\\\\\\\\\\"arguments\\\\\\\\\\\\\": {\\\\\\\\\\\\\"preview\\\\\\\\\\\\\": false}, \\\\\\\\\\\\\"localData\\\\\\\\\\\\\": {}, \\\\\\\\\\\\\"isEnabled\\\\\\\\\\\\\": true, \\\\\\\\\\\\\"name\\\\\\\\\\\\\": null, \\\\\\\\\\\\\"annotation\\\\\\\\\\\\\": null}, {\\\\\\\\\\\\\"id\\\\\\\\\\\\\": \\\\\\\\\\\\\"e361e130-7285-4b2e-b9be-9e81cf31be41\\\\\\\\\\\\\", \\\\\\\\\\\\\"type\\\\\\\\\\\\\": \\\\\\\\\\\\\"Microsoft.DPrep.DropColumnsBlock\\\\\\\\\\\\\", \\\\\\\\\\\\\"arguments\\\\\\\\\\\\\": {\\\\\\\\\\\\\"columns\\\\\\\\\\\\\": {\\\\\\\\\\\\\"type\\\\\\\\\\\\\": 0, \\\\\\\\\\\\\"details\\\\\\\\\\\\\": {\\\\\\\\\\\\\"selectedColumns\\\\\\\\\\\\\": [\\\\\\\\\\\\\"Path\\\\\\\\\\\\\"]}}}, \\\\\\\\\\\\\"localData\\\\\\\\\\\\\": {}, \\\\\\\\\\\\\"isEnabled\\\\\\\\\\\\\": true, \\\\\\\\\\\\\"name\\\\\\\\\\\\\": null, \\\\\\\\\\\\\"annotation\\\\\\\\\\\\\": null}], \\\\\\\\\\\\\"inspectors\\\\\\\\\\\\\": [], \\\\\\\\\\\\\"meta\\\\\\\\\\\\\": {\\\\\\\\\\\\\"savedDatasetId\\\\\\\\\\\\\": \\\\\\\\\\\\\"1d1d5304-91d4-44e8-8c48-7709de50bf5f\\\\\\\\\\\\\", \\\\\\\\\\\\\"datasetType\\\\\\\\\\\\\": \\\\\\\\\\\\\"tabular\\\\\\\\\\\\\", \\\\\\\\\\\\\"subscriptionId\\\\\\\\\\\\\": \\\\\\\\\\\\\"9a7511b8-150f-4a58-8528-3e7d50216c31\\\\\\\\\\\\\", \\\\\\\\\\\\\"workspaceId\\\\\\\\\\\\\": \\\\\\\\\\\\\"4d9755f0-99dd-479d-b69a-9df297d99555\\\\\\\\\\\\\", \\\\\\\\\\\\\"workspaceLocation\\\\\\\\\\\\\": \\\\\\\\\\\\\"southcentralus\\\\\\\\\\\\\"}}\\\\\", \\\\\"activities\\\\\": 0}',\n",
       "  'EnableSubsampling': None,\n",
       "  'runTemplate': 'AutoML',\n",
       "  'azureml.runsource': 'automl',\n",
       "  'display_task_type': 'regression',\n",
       "  'dependencies_versions': '{\"azureml-widgets\": \"1.21.0\", \"azureml-train\": \"1.21.0\", \"azureml-train-restclients-hyperdrive\": \"1.21.0\", \"azureml-train-core\": \"1.21.0\", \"azureml-train-automl\": \"1.21.0\", \"azureml-train-automl-runtime\": \"1.21.0\", \"azureml-train-automl-client\": \"1.21.0\", \"azureml-tensorboard\": \"1.20.0\", \"azureml-telemetry\": \"1.21.0\", \"azureml-sdk\": \"1.21.0\", \"azureml-samples\": \"0+unknown\", \"azureml-pipeline\": \"1.21.0\", \"azureml-pipeline-steps\": \"1.21.0\", \"azureml-pipeline-core\": \"1.21.0\", \"azureml-opendatasets\": \"1.20.0\", \"azureml-model-management-sdk\": \"1.0.1b6.post1\", \"azureml-mlflow\": \"1.20.0.post1\", \"azureml-interpret\": \"1.21.0\", \"azureml-explain-model\": \"1.20.0\", \"azureml-defaults\": \"1.21.0\", \"azureml-dataset-runtime\": \"1.21.0\", \"azureml-dataprep\": \"2.8.2\", \"azureml-dataprep-rslex\": \"1.6.0\", \"azureml-dataprep-native\": \"28.0.0\", \"azureml-datadrift\": \"1.20.0\", \"azureml-core\": \"1.21.0.post1\", \"azureml-contrib-services\": \"1.20.0\", \"azureml-contrib-server\": \"1.20.0\", \"azureml-contrib-reinforcementlearning\": \"1.20.0\", \"azureml-contrib-pipeline-steps\": \"1.20.0\", \"azureml-contrib-notebook\": \"1.21.0\", \"azureml-contrib-interpret\": \"1.20.0\", \"azureml-contrib-gbdt\": \"1.20.0\", \"azureml-contrib-fairness\": \"1.20.0\", \"azureml-contrib-dataset\": \"1.20.0\", \"azureml-cli-common\": \"1.20.0\", \"azureml-automl-runtime\": \"1.21.0\", \"azureml-automl-core\": \"1.21.0\", \"azureml-accel-models\": \"1.20.0\"}',\n",
       "  '_aml_system_scenario_identification': 'Remote.Parent',\n",
       "  'ClientType': 'SDK',\n",
       "  'environment_cpu_name': 'AzureML-AutoML',\n",
       "  'environment_cpu_label': 'prod',\n",
       "  'environment_gpu_name': 'AzureML-AutoML-GPU',\n",
       "  'environment_gpu_label': 'prod',\n",
       "  'root_attribution': 'automl',\n",
       "  'attribution': 'AutoML',\n",
       "  'Orchestrator': 'AutoML',\n",
       "  'CancelUri': 'https://southcentralus.experiments.azureml.net/jasmine/v1.0/subscriptions/9a7511b8-150f-4a58-8528-3e7d50216c31/resourceGroups/aml-quickstarts-136165/providers/Microsoft.MachineLearningServices/workspaces/quick-starts-ws-136165/experimentids/3d169730-5034-4dcd-bdfc-e9e2a2b813ab/cancel/AutoML_d27e685c-6ed4-4f11-ac21-ee153a1dfbaf',\n",
       "  'ClientSdkVersion': '1.20.0.post1',\n",
       "  'snapshotId': '00000000-0000-0000-0000-000000000000',\n",
       "  'SetupRunId': 'AutoML_d27e685c-6ed4-4f11-ac21-ee153a1dfbaf_setup',\n",
       "  'SetupRunContainerId': 'dcid.AutoML_d27e685c-6ed4-4f11-ac21-ee153a1dfbaf_setup',\n",
       "  'FeaturizationRunJsonPath': 'featurizer_container.json',\n",
       "  'FeaturizationRunId': 'AutoML_d27e685c-6ed4-4f11-ac21-ee153a1dfbaf_featurize',\n",
       "  'ProblemInfoJsonString': '{\"dataset_num_categorical\": 0, \"is_sparse\": false, \"subsampling\": false, \"dataset_classes\": 3659, \"dataset_features\": 8, \"dataset_samples\": 16496, \"single_frequency_class_detected\": false}',\n",
       "  'ModelExplainRunId': 'AutoML_d27e685c-6ed4-4f11-ac21-ee153a1dfbaf_ModelExplain'},\n",
       " 'inputDatasets': [{'dataset': {'id': '1d1d5304-91d4-44e8-8c48-7709de50bf5f'}, 'consumptionDetails': {'type': 'RunInput', 'inputName': 'training_data', 'mechanism': 'Direct'}}],\n",
       " 'outputDatasets': [],\n",
       " 'logFiles': {},\n",
       " 'submittedBy': 'ODL_User 136165'}"
      ]
     },
     "execution_count": 9,
     "metadata": {},
     "output_type": "execute_result"
    }
   ],
   "source": [
    "RunDetails(remote_run).show()\n",
    "remote_run.wait_for_completion(show_output=True)"
   ]
  },
  {
   "cell_type": "markdown",
   "metadata": {},
   "source": [
    "## Best Model\n",
    "\n",
    "TODO: In the cell below, get the best model from the automl experiments and display all the properties of the model.\n",
    "\n"
   ]
  },
  {
   "cell_type": "markdown",
   "metadata": {},
   "source": [
    "### Inspect Some Results From Experiment"
   ]
  },
  {
   "cell_type": "code",
   "execution_count": 10,
   "metadata": {},
   "outputs": [
    {
     "data": {
      "text/html": [
       "[['VotingEnsemble', 1, 0.8553625693695082], ['StackEnsemble', 1, 0.855029393382505], ['XGBoostRegressor', 12, 0.84854969316053], ['Failed', 2, nan], ['ExtremeRandomTrees', 7, 0.7152837474850906], ['RandomForest', 9, 0.7715692888611618], ['LightGBM', 2, 0.841866504256535], ['ElasticNet', 5, 0.6082912953839973], ['LassoLars', 1, 0.6084125424314998]]"
      ],
      "text/plain": [
       "[['VotingEnsemble', 1, 0.8553625693695082],\n",
       " ['StackEnsemble', 1, 0.855029393382505],\n",
       " ['XGBoostRegressor', 12, 0.84854969316053],\n",
       " ['Failed', 2, nan],\n",
       " ['ExtremeRandomTrees', 7, 0.7152837474850906],\n",
       " ['RandomForest', 9, 0.7715692888611618],\n",
       " ['LightGBM', 2, 0.841866504256535],\n",
       " ['ElasticNet', 5, 0.6082912953839973],\n",
       " ['LassoLars', 1, 0.6084125424314998]]"
      ]
     },
     "execution_count": 10,
     "metadata": {},
     "output_type": "execute_result"
    }
   ],
   "source": [
    "# Summary of models attempted by AUTOML\n",
    "remote_run.summary()"
   ]
  },
  {
   "cell_type": "code",
   "execution_count": 13,
   "metadata": {},
   "outputs": [
    {
     "name": "stdout",
     "output_type": "stream",
     "text": [
      "   median_absolute_error  spearman_correlation  \\\n",
      "0                   0.25                  0.89   \n",
      "1                   0.37                  0.79   \n",
      "2                   0.31                  0.87   \n",
      "3                   0.19                  0.92   \n",
      "4                   0.45                  0.76   \n",
      "\n",
      "   normalized_root_mean_squared_log_error  normalized_median_absolute_error  \\\n",
      "0                                    0.10                              0.05   \n",
      "1                                    0.13                              0.08   \n",
      "2                                    0.11                              0.06   \n",
      "3                                    0.08                              0.04   \n",
      "4                                    0.14                              0.09   \n",
      "\n",
      "   root_mean_squared_error  r2_score  explained_variance  \\\n",
      "0                     0.52      0.79                0.79   \n",
      "1                     0.66      0.66                0.66   \n",
      "2                     0.58      0.74                0.74   \n",
      "3                     0.44      0.85                0.85   \n",
      "4                     0.75      0.56                0.56   \n",
      "\n",
      "   root_mean_squared_log_error  mean_absolute_percentage_error  \\\n",
      "0                         0.16                           20.75   \n",
      "1                         0.21                           30.52   \n",
      "2                         0.18                           25.60   \n",
      "3                         0.13                           16.79   \n",
      "4                         0.23                           34.47   \n",
      "\n",
      "   normalized_mean_absolute_error  mean_absolute_error  \\\n",
      "0                            0.07                 0.36   \n",
      "1                            0.10                 0.49   \n",
      "2                            0.09                 0.42   \n",
      "3                            0.06                 0.30   \n",
      "4                            0.12                 0.56   \n",
      "\n",
      "   normalized_root_mean_squared_error  \\\n",
      "0                                0.11   \n",
      "1                                0.14   \n",
      "2                                0.12   \n",
      "3                                0.09   \n",
      "4                                0.15   \n",
      "\n",
      "                                          Run ID  \n",
      "0  AutoML_d27e685c-6ed4-4f11-ac21-ee153a1dfbaf_1  \n",
      "1  AutoML_d27e685c-6ed4-4f11-ac21-ee153a1dfbaf_2  \n",
      "2  AutoML_d27e685c-6ed4-4f11-ac21-ee153a1dfbaf_3  \n",
      "3  AutoML_d27e685c-6ed4-4f11-ac21-ee153a1dfbaf_4  \n",
      "4  AutoML_d27e685c-6ed4-4f11-ac21-ee153a1dfbaf_5  \n"
     ]
    }
   ],
   "source": [
    "# Get all metrics for all iteartions  (I will print only 5, to save space)\n",
    "\n",
    "N = 39             # change for number of iterations in the experiment\n",
    "list_metrics = []\n",
    "for i in range(N):\n",
    "    try:\n",
    "        r, m = remote_run.get_output(iteration = i + 1)\n",
    "        temp = r.get_metrics()\n",
    "        temp.pop('residuals', 'No Key found') \n",
    "        temp.pop('predicted_true', 'No Key found') \n",
    "        temp['Run ID'] = r.id\n",
    "        list_metrics.append(temp)\n",
    "    except:    \n",
    "        pass                              ## this skips failed iterations\n",
    "out = pd.DataFrame(list_metrics)\n",
    "print(out.head())"
   ]
  },
  {
   "cell_type": "markdown",
   "metadata": {},
   "source": [
    "### Retieve Best Model"
   ]
  },
  {
   "cell_type": "code",
   "execution_count": 14,
   "metadata": {},
   "outputs": [
    {
     "name": "stdout",
     "output_type": "stream",
     "text": [
      "{'experiment_status': ['DatasetEvaluation', 'FeaturesGeneration', 'DatasetFeaturization', 'DatasetFeaturizationCompleted', 'ModelSelection'], 'experiment_status_description': ['Gathering dataset statistics.', 'Generating features for the dataset.', 'Beginning to fit featurizers and featurize the dataset.', 'Completed fit featurizers and featurizing the dataset.', 'Beginning model selection.'], 'root_mean_squared_log_error': 0.13101593608885115, 'normalized_root_mean_squared_error': 0.08910928282024148, 'root_mean_squared_error': 0.4321818038638276, 'normalized_mean_absolute_error': 0.058592725786155174, 'median_absolute_error': 0.18240552254176157, 'r2_score': 0.8553625693695082, 'mean_absolute_error': 0.2841758919173683, 'normalized_root_mean_squared_log_error': 0.07930708863118689, 'mean_absolute_percentage_error': 16.05211560820331, 'normalized_median_absolute_error': 0.03760923100147248, 'explained_variance': 0.8553811876248657, 'spearman_correlation': 0.9290035362293845}\n"
     ]
    }
   ],
   "source": [
    "# Get best model metrics\n",
    "best_metrics = remote_run.get_metrics()\n",
    "print(best_metrics)"
   ]
  },
  {
   "cell_type": "code",
   "execution_count": 15,
   "metadata": {
    "gather": {
     "logged": 1598431425670
    },
    "jupyter": {
     "outputs_hidden": false,
     "source_hidden": false
    },
    "nteract": {
     "transient": {
      "deleting": false
     }
    }
   },
   "outputs": [],
   "source": [
    "# Retrive best model\n",
    "best_run, fitted_model = remote_run.get_output()"
   ]
  },
  {
   "cell_type": "code",
   "execution_count": 16,
   "metadata": {},
   "outputs": [
    {
     "name": "stdout",
     "output_type": "stream",
     "text": [
      "Run(Experiment: california-housing,\n",
      "Id: AutoML_d27e685c-6ed4-4f11-ac21-ee153a1dfbaf_38,\n",
      "Type: azureml.scriptrun,\n",
      "Status: Completed)\n"
     ]
    }
   ],
   "source": [
    "# RunID of the best model\n",
    "print(best_run)"
   ]
  },
  {
   "cell_type": "code",
   "execution_count": 17,
   "metadata": {},
   "outputs": [
    {
     "name": "stdout",
     "output_type": "stream",
     "text": [
      "RegressionPipeline(pipeline=Pipeline(memory=None,\n",
      "                                     steps=[('datatransformer',\n",
      "                                             DataTransformer(enable_dnn=None,\n",
      "                                                             enable_feature_sweeping=None,\n",
      "                                                             feature_sweeping_config=None,\n",
      "                                                             feature_sweeping_timeout=None,\n",
      "                                                             featurization_config=None,\n",
      "                                                             force_text_dnn=None,\n",
      "                                                             is_cross_validation=None,\n",
      "                                                             is_onnx_compatible=None,\n",
      "                                                             logger=None,\n",
      "                                                             observer=None,\n",
      "                                                             task=None,\n",
      "                                                             working_dir=None)),\n",
      "                                            ('pre...\n",
      "                                                                                                                          min_child_samples=20,\n",
      "                                                                                                                          min_child_weight=0.001,\n",
      "                                                                                                                          min_split_gain=0.0,\n",
      "                                                                                                                          n_estimators=100,\n",
      "                                                                                                                          n_jobs=1,\n",
      "                                                                                                                          num_leaves=31,\n",
      "                                                                                                                          objective=None,\n",
      "                                                                                                                          random_state=None,\n",
      "                                                                                                                          reg_alpha=0.0,\n",
      "                                                                                                                          reg_lambda=0.0,\n",
      "                                                                                                                          silent=True,\n",
      "                                                                                                                          subsample=1.0,\n",
      "                                                                                                                          subsample_for_bin=200000,\n",
      "                                                                                                                          subsample_freq=0,\n",
      "                                                                                                                          verbose=-1))],\n",
      "                                                                                                verbose=False))],\n",
      "                                                                          weights=[0.4,\n",
      "                                                                                   0.4,\n",
      "                                                                                   0.06666666666666667,\n",
      "                                                                                   0.13333333333333333]))],\n",
      "                                     verbose=False),\n",
      "                   stddev=None)\n"
     ]
    }
   ],
   "source": [
    "# Best Model\n",
    "print(fitted_model)"
   ]
  },
  {
   "cell_type": "code",
   "execution_count": 18,
   "metadata": {},
   "outputs": [
    {
     "data": {
      "text/html": [
       "[('datatransformer', DataTransformer(enable_dnn=None, enable_feature_sweeping=None,\n",
       "                feature_sweeping_config=None, feature_sweeping_timeout=None,\n",
       "                featurization_config=None, force_text_dnn=None,\n",
       "                is_cross_validation=None, is_onnx_compatible=None, logger=None,\n",
       "                observer=None, task=None, working_dir=None)), ('prefittedsoftvotingregressor', PreFittedSoftVotingRegressor(estimators=[('4',\n",
       "                                          Pipeline(memory=None,\n",
       "                                                   steps=[('standardscalerwrapper',\n",
       "                                                           <azureml.automl.runtime.shared.model_wrappers.StandardScalerWrapper object at 0x7f813986ce10>),\n",
       "                                                          ('xgboostregressor',\n",
       "                                                           XGBoostRegressor(base_score=0.5,\n",
       "                                                                            booster='gbtree',\n",
       "                                                                            colsample_bylevel=1,\n",
       "                                                                            colsample_bynode=1,\n",
       "                                                                            colsample_bytree=0.9,\n",
       "                                                                            eta=0.5,\n",
       "                                                                            gamma=0,\n",
       "                                                                            importance_typ...\n",
       "                                                                             learning_rate=0.1,\n",
       "                                                                             max_depth=-1,\n",
       "                                                                             min_child_samples=20,\n",
       "                                                                             min_child_weight=0.001,\n",
       "                                                                             min_split_gain=0.0,\n",
       "                                                                             n_estimators=100,\n",
       "                                                                             n_jobs=1,\n",
       "                                                                             num_leaves=31,\n",
       "                                                                             objective=None,\n",
       "                                                                             random_state=None,\n",
       "                                                                             reg_alpha=0.0,\n",
       "                                                                             reg_lambda=0.0,\n",
       "                                                                             silent=True,\n",
       "                                                                             subsample=1.0,\n",
       "                                                                             subsample_for_bin=200000,\n",
       "                                                                             subsample_freq=0,\n",
       "                                                                             verbose=-1))],\n",
       "                                                   verbose=False))],\n",
       "                             weights=[0.4, 0.4, 0.06666666666666667,\n",
       "                                      0.13333333333333333]))]"
      ],
      "text/plain": [
       "[('datatransformer',\n",
       "  DataTransformer(enable_dnn=None, enable_feature_sweeping=None,\n",
       "                  feature_sweeping_config=None, feature_sweeping_timeout=None,\n",
       "                  featurization_config=None, force_text_dnn=None,\n",
       "                  is_cross_validation=None, is_onnx_compatible=None, logger=None,\n",
       "                  observer=None, task=None, working_dir=None)),\n",
       " ('prefittedsoftvotingregressor',\n",
       "  PreFittedSoftVotingRegressor(estimators=[('4',\n",
       "                                            Pipeline(memory=None,\n",
       "                                                     steps=[('standardscalerwrapper',\n",
       "                                                             <azureml.automl.runtime.shared.model_wrappers.StandardScalerWrapper object at 0x7f813986ce10>),\n",
       "                                                            ('xgboostregressor',\n",
       "                                                             XGBoostRegressor(base_score=0.5,\n",
       "                                                                              booster='gbtree',\n",
       "                                                                              colsample_bylevel=1,\n",
       "                                                                              colsample_bynode=1,\n",
       "                                                                              colsample_bytree=0.9,\n",
       "                                                                              eta=0.5,\n",
       "                                                                              gamma=0,\n",
       "                                                                              importance_typ...\n",
       "                                                                               learning_rate=0.1,\n",
       "                                                                               max_depth=-1,\n",
       "                                                                               min_child_samples=20,\n",
       "                                                                               min_child_weight=0.001,\n",
       "                                                                               min_split_gain=0.0,\n",
       "                                                                               n_estimators=100,\n",
       "                                                                               n_jobs=1,\n",
       "                                                                               num_leaves=31,\n",
       "                                                                               objective=None,\n",
       "                                                                               random_state=None,\n",
       "                                                                               reg_alpha=0.0,\n",
       "                                                                               reg_lambda=0.0,\n",
       "                                                                               silent=True,\n",
       "                                                                               subsample=1.0,\n",
       "                                                                               subsample_for_bin=200000,\n",
       "                                                                               subsample_freq=0,\n",
       "                                                                               verbose=-1))],\n",
       "                                                     verbose=False))],\n",
       "                               weights=[0.4, 0.4, 0.06666666666666667,\n",
       "                                        0.13333333333333333]))]"
      ]
     },
     "execution_count": 18,
     "metadata": {},
     "output_type": "execute_result"
    }
   ],
   "source": [
    "fitted_model.steps"
   ]
  },
  {
   "cell_type": "code",
   "execution_count": 19,
   "metadata": {},
   "outputs": [
    {
     "name": "stdout",
     "output_type": "stream",
     "text": [
      "datatransformer\n",
      "{'enable_dnn': None,\n",
      " 'enable_feature_sweeping': None,\n",
      " 'feature_sweeping_config': None,\n",
      " 'feature_sweeping_timeout': None,\n",
      " 'featurization_config': None,\n",
      " 'force_text_dnn': None,\n",
      " 'is_cross_validation': None,\n",
      " 'is_onnx_compatible': None,\n",
      " 'logger': None,\n",
      " 'observer': None,\n",
      " 'task': None,\n",
      " 'working_dir': None}\n",
      "\n",
      "prefittedsoftvotingregressor\n",
      "{'estimators': [('4',\n",
      "                 Pipeline(memory=None,\n",
      "         steps=[('standardscalerwrapper',\n",
      "                 <azureml.automl.runtime.shared.model_wrappers.StandardScalerWrapper object at 0x7f813986ce10>),\n",
      "                ('xgboostregressor',\n",
      "                 XGBoostRegressor(base_score=0.5, booster='gbtree',\n",
      "                                  colsample_bylevel=1, colsample_bynode=1,\n",
      "                                  colsample_bytree=0.9, eta=0.5, gamma=0,\n",
      "                                  importance_type='gain', learning_rate=0.1,\n",
      "                                  max_delta_step=0, max_depth=6, max_leaves=15,\n",
      "                                  min_child_weight=1, missing=nan,\n",
      "                                  n_estimators=200, n_jobs=1, nthread=None,\n",
      "                                  objective='reg:squarederror', random_state=0,\n",
      "                                  reg_alpha=0, reg_lambda=0.10416666666666667,\n",
      "                                  scale_pos_weight=1, seed=None, silent=None,\n",
      "                                  subsample=1, tree_method='auto', verbose=-10,\n",
      "                                  verbosity=0))],\n",
      "         verbose=False)),\n",
      "                ('34',\n",
      "                 Pipeline(memory=None,\n",
      "         steps=[('standardscalerwrapper',\n",
      "                 <azureml.automl.runtime.shared.model_wrappers.StandardScalerWrapper object at 0x7f81395deeb8>),\n",
      "                ('xgboostregressor',\n",
      "                 XGBoostRegressor(base_score=0.5, booster='gbtree',\n",
      "                                  colsample_bylevel=1, colsample_bynode=1,\n",
      "                                  colsample_bytree=1, eta=0.01, gamma=0,\n",
      "                                  importance_type='gain', learning_rate=0.1,\n",
      "                                  max_delta_step=0, max_depth=10,\n",
      "                                  max_leaves=127, min_child_weight=1,\n",
      "                                  missing=nan, n_estimators=400, n_jobs=1,\n",
      "                                  nthread=None, objective='reg:squarederror',\n",
      "                                  random_state=0, reg_alpha=2.3958333333333335,\n",
      "                                  reg_lambda=0.10416666666666667,\n",
      "                                  scale_pos_weight=1, seed=None, silent=None,\n",
      "                                  subsample=0.5, tree_method='auto',\n",
      "                                  verbose=-10, verbosity=0))],\n",
      "         verbose=False)),\n",
      "                ('7',\n",
      "                 Pipeline(memory=None,\n",
      "         steps=[('standardscalerwrapper',\n",
      "                 <azureml.automl.runtime.shared.model_wrappers.StandardScalerWrapper object at 0x7f813957a7f0>),\n",
      "                ('xgboostregressor',\n",
      "                 XGBoostRegressor(base_score=0.5, booster='gbtree',\n",
      "                                  colsample_bylevel=1, colsample_bynode=1,\n",
      "                                  colsample_bytree=1, eta=0.2, gamma=0,\n",
      "                                  importance_type='gain', learning_rate=0.1,\n",
      "                                  max_delta_step=0, max_depth=6, max_leaves=0,\n",
      "                                  min_child_weight=1, missing=nan,\n",
      "                                  n_estimators=100, n_jobs=1, nthread=None,\n",
      "                                  objective='reg:squarederror', random_state=0,\n",
      "                                  reg_alpha=0.3125,\n",
      "                                  reg_lambda=1.1458333333333335,\n",
      "                                  scale_pos_weight=1, seed=None, silent=None,\n",
      "                                  subsample=0.9, tree_method='auto',\n",
      "                                  verbose=-10, verbosity=0))],\n",
      "         verbose=False)),\n",
      "                ('0',\n",
      "                 Pipeline(memory=None,\n",
      "         steps=[('maxabsscaler', MaxAbsScaler(copy=True)),\n",
      "                ('lightgbmregressor',\n",
      "                 LightGBMRegressor(boosting_type='gbdt', class_weight=None,\n",
      "                                   colsample_bytree=1.0,\n",
      "                                   importance_type='split', learning_rate=0.1,\n",
      "                                   max_depth=-1, min_child_samples=20,\n",
      "                                   min_child_weight=0.001, min_split_gain=0.0,\n",
      "                                   n_estimators=100, n_jobs=1, num_leaves=31,\n",
      "                                   objective=None, random_state=None,\n",
      "                                   reg_alpha=0.0, reg_lambda=0.0, silent=True,\n",
      "                                   subsample=1.0, subsample_for_bin=200000,\n",
      "                                   subsample_freq=0, verbose=-1))],\n",
      "         verbose=False))],\n",
      " 'weights': [0.4, 0.4, 0.06666666666666667, 0.13333333333333333]}\n",
      "\n"
     ]
    }
   ],
   "source": [
    "# Helper function to get model.steps information\n",
    "# source: https://docs.microsoft.com/en-us/azure/machine-learning/how-to-configure-auto-features#featurization-transparency\n",
    "from pprint import pprint\n",
    "\n",
    "def print_model(model, prefix=\"\"):\n",
    "    for step in model.steps:\n",
    "        print(prefix + step[0])\n",
    "        if hasattr(step[1], 'estimators') and hasattr(step[1], 'weights'):\n",
    "            pprint({'estimators': list(\n",
    "                e[0] for e in step[1].estimators), 'weights': step[1].weights})\n",
    "            print()\n",
    "            for estimator in step[1].estimators:\n",
    "                print_model(estimator[1], estimator[0] + ' - ')\n",
    "        else:\n",
    "            pprint(step[1].get_params())\n",
    "            print()\n",
    "\n",
    "print_model(fitted_model)"
   ]
  },
  {
   "cell_type": "code",
   "execution_count": 20,
   "metadata": {},
   "outputs": [
    {
     "data": {
      "text/html": [
       "[{'RawFeatureName': 'MedInc', 'TypeDetected': 'Numeric', 'Dropped': 'No', 'EngineeredFeatureCount': 1, 'Transformations': ['MeanImputer']}, {'RawFeatureName': 'HouseAge', 'TypeDetected': 'Numeric', 'Dropped': 'No', 'EngineeredFeatureCount': 1, 'Transformations': ['MeanImputer']}, {'RawFeatureName': 'AveRooms', 'TypeDetected': 'Numeric', 'Dropped': 'No', 'EngineeredFeatureCount': 1, 'Transformations': ['MeanImputer']}, {'RawFeatureName': 'AveBedrms', 'TypeDetected': 'Numeric', 'Dropped': 'No', 'EngineeredFeatureCount': 1, 'Transformations': ['MeanImputer']}, {'RawFeatureName': 'Population', 'TypeDetected': 'Numeric', 'Dropped': 'No', 'EngineeredFeatureCount': 1, 'Transformations': ['MeanImputer']}, {'RawFeatureName': 'AveOccup', 'TypeDetected': 'Numeric', 'Dropped': 'No', 'EngineeredFeatureCount': 1, 'Transformations': ['MeanImputer']}, {'RawFeatureName': 'Latitude', 'TypeDetected': 'Numeric', 'Dropped': 'No', 'EngineeredFeatureCount': 1, 'Transformations': ['MeanImputer']}, {'RawFeatureName': 'Longitude', 'TypeDetected': 'Numeric', 'Dropped': 'No', 'EngineeredFeatureCount': 1, 'Transformations': ['MeanImputer']}]"
      ],
      "text/plain": [
       "[{'RawFeatureName': 'MedInc',\n",
       "  'TypeDetected': 'Numeric',\n",
       "  'Dropped': 'No',\n",
       "  'EngineeredFeatureCount': 1,\n",
       "  'Transformations': ['MeanImputer']},\n",
       " {'RawFeatureName': 'HouseAge',\n",
       "  'TypeDetected': 'Numeric',\n",
       "  'Dropped': 'No',\n",
       "  'EngineeredFeatureCount': 1,\n",
       "  'Transformations': ['MeanImputer']},\n",
       " {'RawFeatureName': 'AveRooms',\n",
       "  'TypeDetected': 'Numeric',\n",
       "  'Dropped': 'No',\n",
       "  'EngineeredFeatureCount': 1,\n",
       "  'Transformations': ['MeanImputer']},\n",
       " {'RawFeatureName': 'AveBedrms',\n",
       "  'TypeDetected': 'Numeric',\n",
       "  'Dropped': 'No',\n",
       "  'EngineeredFeatureCount': 1,\n",
       "  'Transformations': ['MeanImputer']},\n",
       " {'RawFeatureName': 'Population',\n",
       "  'TypeDetected': 'Numeric',\n",
       "  'Dropped': 'No',\n",
       "  'EngineeredFeatureCount': 1,\n",
       "  'Transformations': ['MeanImputer']},\n",
       " {'RawFeatureName': 'AveOccup',\n",
       "  'TypeDetected': 'Numeric',\n",
       "  'Dropped': 'No',\n",
       "  'EngineeredFeatureCount': 1,\n",
       "  'Transformations': ['MeanImputer']},\n",
       " {'RawFeatureName': 'Latitude',\n",
       "  'TypeDetected': 'Numeric',\n",
       "  'Dropped': 'No',\n",
       "  'EngineeredFeatureCount': 1,\n",
       "  'Transformations': ['MeanImputer']},\n",
       " {'RawFeatureName': 'Longitude',\n",
       "  'TypeDetected': 'Numeric',\n",
       "  'Dropped': 'No',\n",
       "  'EngineeredFeatureCount': 1,\n",
       "  'Transformations': ['MeanImputer']}]"
      ]
     },
     "execution_count": 20,
     "metadata": {},
     "output_type": "execute_result"
    }
   ],
   "source": [
    "fitted_model.named_steps['datatransformer'].get_featurization_summary()"
   ]
  },
  {
   "cell_type": "markdown",
   "metadata": {},
   "source": [
    "### Save and Register Best Model"
   ]
  },
  {
   "cell_type": "code",
   "execution_count": 21,
   "metadata": {
    "gather": {
     "logged": 1598431426111
    },
    "jupyter": {
     "outputs_hidden": false,
     "source_hidden": false
    },
    "nteract": {
     "transient": {
      "deleting": false
     }
    }
   },
   "outputs": [
    {
     "data": {
      "text/html": [
       "['automl/best-automl.joblib']"
      ],
      "text/plain": [
       "['automl/best-automl.joblib']"
      ]
     },
     "execution_count": 21,
     "metadata": {},
     "output_type": "execute_result"
    }
   ],
   "source": [
    "#TODO: Save the best model\n",
    "joblib.dump(fitted_model, filename='automl/best-automl.joblib')"
   ]
  },
  {
   "cell_type": "code",
   "execution_count": 22,
   "metadata": {},
   "outputs": [],
   "source": [
    "# register model\n",
    "model = remote_run.register_model(model_name='best-automl')"
   ]
  },
  {
   "cell_type": "code",
   "execution_count": 23,
   "metadata": {},
   "outputs": [
    {
     "name": "stdout",
     "output_type": "stream",
     "text": [
      "best-automl\tbest-automl:1\t1\n"
     ]
    }
   ],
   "source": [
    "# look at the model\n",
    "print(model.name,model.id,model.version,sep='\\t')"
   ]
  },
  {
   "cell_type": "code",
   "execution_count": 28,
   "metadata": {},
   "outputs": [
    {
     "data": {
      "text/plain": [
       "'automl/model.pkl/model.pkl'"
      ]
     },
     "execution_count": 28,
     "metadata": {},
     "output_type": "execute_result"
    }
   ],
   "source": [
    "# download the model\n",
    "model.download(target_dir='automl/model.pkl', exist_ok=False, exists_ok=None)"
   ]
  },
  {
   "cell_type": "markdown",
   "metadata": {},
   "source": [
    "### Try Best Model on the Test Dataset"
   ]
  },
  {
   "cell_type": "code",
   "execution_count": 29,
   "metadata": {},
   "outputs": [
    {
     "name": "stdout",
     "output_type": "stream",
     "text": [
      "Collecting seaborn\n",
      "  Downloading seaborn-0.11.1-py3-none-any.whl (285 kB)\n",
      "\u001b[K     |████████████████████████████████| 285 kB 7.4 MB/s eta 0:00:01\n",
      "\u001b[?25hRequirement already satisfied: matplotlib>=2.2 in /anaconda/envs/azureml_py36/lib/python3.6/site-packages (from seaborn) (3.2.1)\n",
      "Requirement already satisfied: scipy>=1.0 in /anaconda/envs/azureml_py36/lib/python3.6/site-packages (from seaborn) (1.5.2)\n",
      "Requirement already satisfied: numpy>=1.15 in /anaconda/envs/azureml_py36/lib/python3.6/site-packages (from seaborn) (1.19.5)\n",
      "Requirement already satisfied: pandas>=0.23 in /anaconda/envs/azureml_py36/lib/python3.6/site-packages (from seaborn) (0.25.3)\n",
      "Requirement already satisfied: kiwisolver>=1.0.1 in /anaconda/envs/azureml_py36/lib/python3.6/site-packages (from matplotlib>=2.2->seaborn) (1.3.1)\n",
      "Requirement already satisfied: pyparsing!=2.0.4,!=2.1.2,!=2.1.6,>=2.0.1 in /anaconda/envs/azureml_py36/lib/python3.6/site-packages (from matplotlib>=2.2->seaborn) (2.4.7)\n",
      "Requirement already satisfied: cycler>=0.10 in /anaconda/envs/azureml_py36/lib/python3.6/site-packages (from matplotlib>=2.2->seaborn) (0.10.0)\n",
      "Requirement already satisfied: python-dateutil>=2.1 in /anaconda/envs/azureml_py36/lib/python3.6/site-packages (from matplotlib>=2.2->seaborn) (2.8.1)\n",
      "Requirement already satisfied: pytz>=2017.2 in /anaconda/envs/azureml_py36/lib/python3.6/site-packages (from pandas>=0.23->seaborn) (2020.5)\n",
      "Requirement already satisfied: six in /anaconda/envs/azureml_py36/lib/python3.6/site-packages (from cycler>=0.10->matplotlib>=2.2->seaborn) (1.15.0)\n",
      "Installing collected packages: seaborn\n",
      "Successfully installed seaborn-0.11.1\n"
     ]
    }
   ],
   "source": [
    "!pip install seaborn\n",
    "import matplotlib.pyplot as plt\n",
    "import seaborn as sns\n",
    "sns.set_theme(style=\"whitegrid\")"
   ]
  },
  {
   "cell_type": "code",
   "execution_count": 30,
   "metadata": {},
   "outputs": [
    {
     "name": "stdout",
     "output_type": "stream",
     "text": [
      "R2 score for test data:  0.9258023730000582\n"
     ]
    }
   ],
   "source": [
    "from sklearn.metrics import r2_score\n",
    "try:\n",
    "    y_pred = fitted_model.predict(x_test)\n",
    "    residuals = y_test['MedHouseVal'] - y_pred\n",
    "    r2 = r2_score(y_test, y_pred)\n",
    "    print('R2 score for test data: ',r2)\n",
    "except Exception as e:\n",
    "    print(str(e))"
   ]
  },
  {
   "cell_type": "code",
   "execution_count": 31,
   "metadata": {},
   "outputs": [
    {
     "data": {
      "image/png": "[encoded data removed]",
      "text/plain": [
       "<Figure size 432x432 with 1 Axes>"
      ]
     },
     "metadata": {},
     "output_type": "display_data"
    }
   ],
   "source": [
    "# Plot actual vs. fitted values for the test dataset\n",
    "plt.figure(figsize=(6, 6))\n",
    "sns.regplot(x=y_test['MedHouseVal'], y=y_pred, x_estimator=np.mean, ci=None, scatter=False, color='darkred')\n",
    "sns.regplot(x=y_test['MedHouseVal'], y=y_pred, x_estimator=np.mean, ci=None, fit_reg=False, color='lightcoral')\n",
    "plt.xlabel('Actual House Prices',fontsize = 15)\n",
    "plt.ylabel('Predicted House Prices',fontsize = 15)\n",
    "plt.show()"
   ]
  },
  {
   "cell_type": "code",
   "execution_count": 32,
   "metadata": {},
   "outputs": [
    {
     "data": {
      "image/png": "[encoded data removed]",
      "text/plain": [
       "<Figure size 432x432 with 1 Axes>"
      ]
     },
     "metadata": {},
     "output_type": "display_data"
    }
   ],
   "source": [
    "# Distribution of the residuals\n",
    "plt.figure(figsize=(6, 6))\n",
    "ax = sns.histplot(data=residuals, kde=True, color='r')\n",
    "plt.show()"
   ]
  },
  {
   "cell_type": "markdown",
   "metadata": {},
   "source": [
    "## Model Deployment\n",
    "\n",
    "Remember you have to deploy only one of the two models you trained.. Perform the steps in the rest of this notebook only if you wish to deploy this model.\n",
    "\n",
    "TODO: In the cell below, register the model, create an inference config and deploy the model as a web service."
   ]
  },
  {
   "cell_type": "code",
   "execution_count": 37,
   "metadata": {},
   "outputs": [],
   "source": [
    "# Retrive the registered model\n",
    "model = Model(ws, 'best-automl')"
   ]
  },
  {
   "cell_type": "code",
   "execution_count": 38,
   "metadata": {},
   "outputs": [],
   "source": [
    "# Environment\n",
    "try:\n",
    "    best_run.download_file('outputs/conda_env_v_1_0_0.yml', 'automl/auto_conda_env.yml')  ## si no funciona reemplazar automl por .\n",
    "    env = Environment.from_conda_specification('myenv','automl/auto_conda_env.yml')\n",
    "except Exception as e:\n",
    "    print(str(e))"
   ]
  },
  {
   "cell_type": "code",
   "execution_count": 39,
   "metadata": {},
   "outputs": [],
   "source": [
    "# Scoring file\n",
    "try:\n",
    "    best_run.download_file('outputs/scoring_file_v_1_0_0.py', 'automl/score.py')  \n",
    "except Exception as e:\n",
    "    print(str(e)) "
   ]
  },
  {
   "cell_type": "code",
   "execution_count": 40,
   "metadata": {},
   "outputs": [],
   "source": [
    "# inference config\n",
    "inference_config = InferenceConfig(entry_script='automl/score.py', environment=env)\n",
    "\n",
    "# deployment config\n",
    "deployment_config = AciWebservice.deploy_configuration(cpu_cores = 1, memory_gb = 1, auth_enabled=True, enable_app_insights=True)"
   ]
  },
  {
   "cell_type": "code",
   "execution_count": 41,
   "metadata": {},
   "outputs": [
    {
     "name": "stdout",
     "output_type": "stream",
     "text": [
      "Tips: You can try get_logs(): https://aka.ms/debugimage#dockerlog or local deployment: https://aka.ms/debugimage#debug-locally to debug if deployment takes longer than 10 minutes.\n",
      "Running...................................................................................................................................................................................................................\n",
      "Succeeded\n",
      "ACI service creation operation finished, operation \"Succeeded\"\n",
      "Healthy\n"
     ]
    }
   ],
   "source": [
    "# deploy\n",
    "try:\n",
    "    service = Model.deploy(ws, \"california-housing\", [model], inference_config, deployment_config, overwrite=True)\n",
    "    service.wait_for_deployment(show_output = True)\n",
    "    print(service.state)\n",
    "except Exception as e:\n",
    "    print(str(e))"
   ]
  },
  {
   "cell_type": "markdown",
   "metadata": {
    "gather": {
     "logged": 1598431657736
    },
    "jupyter": {
     "outputs_hidden": false,
     "source_hidden": false
    },
    "nteract": {
     "transient": {
      "deleting": false
     }
    }
   },
   "source": [
    "TODO: In the cell below, send a request to the web service you deployed to test it."
   ]
  },
  {
   "cell_type": "markdown",
   "metadata": {},
   "source": [
    "### Get service information"
   ]
  },
  {
   "cell_type": "code",
   "execution_count": 42,
   "metadata": {},
   "outputs": [
    {
     "name": "stdout",
     "output_type": "stream",
     "text": [
      "URI:  http://1c1011ea-7331-478e-ac54-899cde415661.southcentralus.azurecontainer.io/score\n"
     ]
    }
   ],
   "source": [
    "scoring_uri = service.scoring_uri\n",
    "print('URI: ', scoring_uri)"
   ]
  },
  {
   "cell_type": "code",
   "execution_count": 43,
   "metadata": {},
   "outputs": [
    {
     "name": "stdout",
     "output_type": "stream",
     "text": [
      "KEYS:  ('cATsFJA9hhUPQisOzCyZAsIp1BiEBPYy', 'H2HeJXG276uqj8JYUfUgEOZkRLQo5cVU')\n"
     ]
    }
   ],
   "source": [
    "keys = service.get_keys()\n",
    "print('KEYS: ', keys)"
   ]
  },
  {
   "cell_type": "code",
   "execution_count": 44,
   "metadata": {},
   "outputs": [
    {
     "name": "stdout",
     "output_type": "stream",
     "text": [
      "http://1c1011ea-7331-478e-ac54-899cde415661.southcentralus.azurecontainer.io/swagger.json\n"
     ]
    }
   ],
   "source": [
    "swag = service.swagger_uri\n",
    "print(swag)"
   ]
  },
  {
   "cell_type": "code",
   "execution_count": 45,
   "metadata": {
    "scrolled": true
   },
   "outputs": [],
   "source": [
    "serv = service.serialize()\n",
    "#print(serv)"
   ]
  },
  {
   "cell_type": "markdown",
   "metadata": {},
   "source": [
    "### try the service"
   ]
  },
  {
   "cell_type": "code",
   "execution_count": 46,
   "metadata": {},
   "outputs": [
    {
     "name": "stdout",
     "output_type": "stream",
     "text": [
      "{\"result\": [1.4618726543302587, 2.6647999671275993, 1.4843392111378706, 0.7611031035869795, 4.598881336878318, 1.6788095733029562, 2.512055535799478, 3.724994229352508, 3.1593949606066145, 2.098471795122479]}\n"
     ]
    }
   ],
   "source": [
    "test = x_test[0:10]\n",
    "input_payload = json.dumps({'data': test.to_numpy().tolist()})\n",
    "output = service.run(input_payload)\n",
    "print(output)"
   ]
  },
  {
   "cell_type": "markdown",
   "metadata": {},
   "source": [
    "### send request to the endpoint"
   ]
  },
  {
   "cell_type": "code",
   "execution_count": 47,
   "metadata": {},
   "outputs": [],
   "source": [
    "# prepare data\n",
    "x_test_json = test[0:10].to_json(orient='records') \n",
    "data = \"{\\\"data\\\": \" + x_test_json +\"}\""
   ]
  },
  {
   "cell_type": "code",
   "execution_count": 48,
   "metadata": {},
   "outputs": [],
   "source": [
    "headers = {'Content-Type':'application/json',  'Authorization':('Bearer '+ keys[0])}"
   ]
  },
  {
   "cell_type": "code",
   "execution_count": 49,
   "metadata": {},
   "outputs": [
    {
     "name": "stdout",
     "output_type": "stream",
     "text": [
      "<Response [200]>\n"
     ]
    }
   ],
   "source": [
    "# send request\n",
    "resp = requests.post(scoring_uri, data, headers=headers)\n",
    "print(resp)"
   ]
  },
  {
   "cell_type": "code",
   "execution_count": 50,
   "metadata": {},
   "outputs": [
    {
     "name": "stdout",
     "output_type": "stream",
     "text": [
      "result: [1.4618726543302587, 2.6647999671275993, 1.4843392111378706, 0.7611031035869795, 4.598881336878318, 1.6788095733029562, 2.512055535799478, 3.724994229352508, 3.1593949606066145, 2.098471795122479]\n"
     ]
    }
   ],
   "source": [
    "y_pred = json.loads(json.loads(resp.text))['result']\n",
    "print('result:', y_pred)"
   ]
  },
  {
   "cell_type": "markdown",
   "metadata": {
    "gather": {
     "logged": 1598432765711
    },
    "jupyter": {
     "outputs_hidden": false,
     "source_hidden": false
    },
    "nteract": {
     "transient": {
      "deleting": false
     }
    }
   },
   "source": [
    "TODO: In the cell below, print the logs of the web service and delete the service"
   ]
  },
  {
   "cell_type": "code",
   "execution_count": 51,
   "metadata": {
    "jupyter": {
     "outputs_hidden": false,
     "source_hidden": false
    },
    "nteract": {
     "transient": {
      "deleting": false
     }
    }
   },
   "outputs": [
    {
     "name": "stdout",
     "output_type": "stream",
     "text": [
      "2021-01-26T20:15:11,344479271+00:00 - gunicorn/run \n",
      "2021-01-26T20:15:11,345360572+00:00 - rsyslog/run \n",
      "2021-01-26T20:15:11,345679372+00:00 - iot-server/run \n",
      "2021-01-26T20:15:11,353103378+00:00 - nginx/run \n",
      "rsyslogd: /azureml-envs/azureml_4f26b5b9300bb3a3b89415c34dafac63/lib/libuuid.so.1: no version information available (required by rsyslogd)\n",
      "/usr/sbin/nginx: /azureml-envs/azureml_4f26b5b9300bb3a3b89415c34dafac63/lib/libcrypto.so.1.0.0: no version information available (required by /usr/sbin/nginx)\n",
      "/usr/sbin/nginx: /azureml-envs/azureml_4f26b5b9300bb3a3b89415c34dafac63/lib/libcrypto.so.1.0.0: no version information available (required by /usr/sbin/nginx)\n",
      "/usr/sbin/nginx: /azureml-envs/azureml_4f26b5b9300bb3a3b89415c34dafac63/lib/libssl.so.1.0.0: no version information available (required by /usr/sbin/nginx)\n",
      "/usr/sbin/nginx: /azureml-envs/azureml_4f26b5b9300bb3a3b89415c34dafac63/lib/libssl.so.1.0.0: no version information available (required by /usr/sbin/nginx)\n",
      "/usr/sbin/nginx: /azureml-envs/azureml_4f26b5b9300bb3a3b89415c34dafac63/lib/libssl.so.1.0.0: no version information available (required by /usr/sbin/nginx)\n",
      "EdgeHubConnectionString and IOTEDGE_IOTHUBHOSTNAME are not set. Exiting...\n",
      "2021-01-26T20:15:11,525052628+00:00 - iot-server/finish 1 0\n",
      "2021-01-26T20:15:11,526770930+00:00 - Exit code 1 is normal. Not restarting iot-server.\n",
      "Starting gunicorn 19.9.0\n",
      "Listening at: http://127.0.0.1:31311 (14)\n",
      "Using worker: sync\n",
      "worker timeout is set to 300\n",
      "Booting worker with pid: 42\n",
      "SPARK_HOME not set. Skipping PySpark Initialization.\n",
      "Generating new fontManager, this may take some time...\n",
      "Initializing logger\n",
      "2021-01-26 20:15:12,802 | root | INFO | Starting up app insights client\n",
      "2021-01-26 20:15:12,802 | root | INFO | Starting up request id generator\n",
      "2021-01-26 20:15:12,802 | root | INFO | Starting up app insight hooks\n",
      "2021-01-26 20:15:12,802 | root | INFO | Invoking user's init function\n",
      "2021-01-26 20:15:15,732 | azureml.core | WARNING | Failure while loading azureml_run_type_providers. Failed to load entrypoint automl = azureml.train.automl.run:AutoMLRun._from_run_dto with exception cannot import name 'RunType'.\n",
      "Failure while loading azureml_run_type_providers. Failed to load entrypoint automl = azureml.train.automl.run:AutoMLRun._from_run_dto with exception cannot import name 'RunType'.\n",
      "2021-01-26 20:15:15,771 | root | INFO | Users's init has completed successfully\n",
      "2021-01-26 20:15:15,774 | root | INFO | Skipping middleware: dbg_model_info as it's not enabled.\n",
      "2021-01-26 20:15:15,774 | root | INFO | Skipping middleware: dbg_resource_usage as it's not enabled.\n",
      "2021-01-26 20:15:15,776 | root | INFO | Scoring timeout is found from os.environ: 60000 ms\n",
      "2021-01-26 20:15:25,969 | root | INFO | 200\n",
      "127.0.0.1 - - [26/Jan/2021:20:15:25 +0000] \"GET /swagger.json HTTP/1.0\" 200 2528 \"-\" \"Go-http-client/1.1\"\n",
      "2021-01-26 20:15:26,726 | root | INFO | 200\n",
      "127.0.0.1 - - [26/Jan/2021:20:15:26 +0000] \"GET /swagger.json HTTP/1.0\" 200 2528 \"-\" \"Go-http-client/1.1\"\n",
      "2021-01-26 20:17:44,030 | root | INFO | Validation Request Content-Type\n",
      "2021-01-26 20:17:44,030 | root | INFO | Scoring Timer is set to 60.0 seconds\n",
      "2021-01-26 20:17:44,081 | root | INFO | 200\n",
      "127.0.0.1 - - [26/Jan/2021:20:17:44 +0000] \"POST /score HTTP/1.0\" 200 212 \"-\" \"python-requests/2.25.1\"\n",
      "2021-01-26 20:18:11,673 | root | INFO | Validation Request Content-Type\n",
      "2021-01-26 20:18:11,673 | root | INFO | Scoring Timer is set to 60.0 seconds\n",
      "2021-01-26 20:18:11,712 | root | INFO | 200\n",
      "127.0.0.1 - - [26/Jan/2021:20:18:11 +0000] \"POST /score HTTP/1.0\" 200 212 \"-\" \"python-requests/2.25.1\"\n",
      "\n"
     ]
    }
   ],
   "source": [
    "print(service.get_logs())"
   ]
  },
  {
   "cell_type": "markdown",
   "metadata": {},
   "source": [
    "## UNCOMMENT AND RUN THIS AT THE END, AFTER HAVING DOCUMENTED AND SAVED EVERYTHING"
   ]
  },
  {
   "cell_type": "code",
   "execution_count": 54,
   "metadata": {},
   "outputs": [],
   "source": [
    "# Delete web service\n",
    "service.delete()"
   ]
  },
  {
   "cell_type": "code",
   "execution_count": 55,
   "metadata": {},
   "outputs": [],
   "source": [
    "# Delete cluster\n",
    "compute_target.delete()"
   ]
  },
  {
   "cell_type": "code",
   "execution_count": null,
   "metadata": {},
   "outputs": [],
   "source": []
  }
 ],
 "metadata": {
  "kernel_info": {
   "name": "python3-azureml"
  },
  "kernelspec": {
   "display_name": "Python 3.6 - AzureML",
   "language": "python",
   "name": "python3-azureml"
  },
  "language_info": {
   "codemirror_mode": {
    "name": "ipython",
    "version": 3
   },
   "file_extension": ".py",
   "mimetype": "text/x-python",
   "name": "python",
   "nbconvert_exporter": "python",
   "pygments_lexer": "ipython3",
   "version": "3.6.9"
  },
  "nteract": {
   "version": "nteract-front-end@1.0.0"
  }
 },
 "nbformat": 4,
 "nbformat_minor": 4
}
