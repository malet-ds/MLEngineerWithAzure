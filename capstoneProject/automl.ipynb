{
 "cells": [
  {
   "cell_type": "markdown",
   "metadata": {},
   "source": [
    "# Automated ML\n",
    "\n",
    "TODO: Import Dependencies. In the cell below, import all the dependencies that you will need to complete the project."
   ]
  },
  {
   "cell_type": "code",
   "execution_count": 1,
   "metadata": {},
   "outputs": [
    {
     "name": "stdout",
     "output_type": "stream",
     "text": [
      "Requirement already up-to-date: azureml-sdk[automl,notebooks,widgets] in /anaconda/envs/azureml_py36/lib/python3.6/site-packages (1.20.0)\n",
      "\u001b[33m  WARNING: azureml-sdk 1.20.0 does not provide the extra 'widgets'\u001b[0m\n",
      "Requirement already up-to-date: azureml-train~=1.20.0 in /anaconda/envs/azureml_py36/lib/python3.6/site-packages (from azureml-sdk[automl,notebooks,widgets]) (1.20.0)\n",
      "Requirement already up-to-date: azureml-train-automl-client~=1.20.0 in /anaconda/envs/azureml_py36/lib/python3.6/site-packages (from azureml-sdk[automl,notebooks,widgets]) (1.20.0)\n",
      "Requirement already up-to-date: azureml-core~=1.20.0 in /anaconda/envs/azureml_py36/lib/python3.6/site-packages (from azureml-sdk[automl,notebooks,widgets]) (1.20.0)\n",
      "Requirement already up-to-date: azureml-dataset-runtime[fuse]~=1.20.0 in /anaconda/envs/azureml_py36/lib/python3.6/site-packages (from azureml-sdk[automl,notebooks,widgets]) (1.20.0)\n",
      "Requirement already up-to-date: azureml-pipeline~=1.20.0 in /anaconda/envs/azureml_py36/lib/python3.6/site-packages (from azureml-sdk[automl,notebooks,widgets]) (1.20.0)\n",
      "Requirement already up-to-date: azureml-train-automl~=1.20.0; extra == \"automl\" in /anaconda/envs/azureml_py36/lib/python3.6/site-packages (from azureml-sdk[automl,notebooks,widgets]) (1.20.0)\n",
      "Requirement already up-to-date: azureml-widgets~=1.20.0; extra == \"notebooks\" in /anaconda/envs/azureml_py36/lib/python3.6/site-packages (from azureml-sdk[automl,notebooks,widgets]) (1.20.0)\n",
      "Requirement already up-to-date: azureml-contrib-notebook~=1.20.0; extra == \"notebooks\" in /anaconda/envs/azureml_py36/lib/python3.6/site-packages (from azureml-sdk[automl,notebooks,widgets]) (1.20.0)\n",
      "Requirement already up-to-date: azureml-train-core~=1.20.0 in /anaconda/envs/azureml_py36/lib/python3.6/site-packages (from azureml-train~=1.20.0->azureml-sdk[automl,notebooks,widgets]) (1.20.0)\n",
      "Requirement already up-to-date: azureml-automl-core~=1.20.0 in /anaconda/envs/azureml_py36/lib/python3.6/site-packages (from azureml-train-automl-client~=1.20.0->azureml-sdk[automl,notebooks,widgets]) (1.20.0)\n",
      "Requirement already up-to-date: azureml-telemetry~=1.20.0 in /anaconda/envs/azureml_py36/lib/python3.6/site-packages (from azureml-train-automl-client~=1.20.0->azureml-sdk[automl,notebooks,widgets]) (1.20.0)\n",
      "Requirement already up-to-date: pytz in /anaconda/envs/azureml_py36/lib/python3.6/site-packages (from azureml-core~=1.20.0->azureml-sdk[automl,notebooks,widgets]) (2020.5)\n",
      "Requirement already up-to-date: requests>=2.19.1 in /anaconda/envs/azureml_py36/lib/python3.6/site-packages (from azureml-core~=1.20.0->azureml-sdk[automl,notebooks,widgets]) (2.25.1)\n",
      "Requirement already up-to-date: pathspec in /anaconda/envs/azureml_py36/lib/python3.6/site-packages (from azureml-core~=1.20.0->azureml-sdk[automl,notebooks,widgets]) (0.8.1)\n",
      "Requirement already up-to-date: SecretStorage in /anaconda/envs/azureml_py36/lib/python3.6/site-packages (from azureml-core~=1.20.0->azureml-sdk[automl,notebooks,widgets]) (3.3.0)\n",
      "Requirement already up-to-date: adal>=1.2.0 in /anaconda/envs/azureml_py36/lib/python3.6/site-packages (from azureml-core~=1.20.0->azureml-sdk[automl,notebooks,widgets]) (1.2.6)\n",
      "Requirement already up-to-date: jmespath in /anaconda/envs/azureml_py36/lib/python3.6/site-packages (from azureml-core~=1.20.0->azureml-sdk[automl,notebooks,widgets]) (0.10.0)\n",
      "Requirement already up-to-date: azure-mgmt-keyvault<7.0.0,>=0.40.0 in /anaconda/envs/azureml_py36/lib/python3.6/site-packages (from azureml-core~=1.20.0->azureml-sdk[automl,notebooks,widgets]) (2.2.0)\n",
      "Requirement already up-to-date: pyopenssl<20.0.0 in /anaconda/envs/azureml_py36/lib/python3.6/site-packages (from azureml-core~=1.20.0->azureml-sdk[automl,notebooks,widgets]) (19.1.0)\n",
      "Requirement already up-to-date: azure-mgmt-resource<15.0.0,>=1.2.1 in /anaconda/envs/azureml_py36/lib/python3.6/site-packages (from azureml-core~=1.20.0->azureml-sdk[automl,notebooks,widgets]) (12.0.0)\n",
      "Requirement already up-to-date: cryptography!=1.9,!=2.0.*,!=2.1.*,!=2.2.* in /anaconda/envs/azureml_py36/lib/python3.6/site-packages (from azureml-core~=1.20.0->azureml-sdk[automl,notebooks,widgets]) (3.3.1)\n",
      "Requirement already up-to-date: msrest>=0.5.1 in /anaconda/envs/azureml_py36/lib/python3.6/site-packages (from azureml-core~=1.20.0->azureml-sdk[automl,notebooks,widgets]) (0.6.19)\n",
      "Requirement already up-to-date: ndg-httpsclient in /anaconda/envs/azureml_py36/lib/python3.6/site-packages (from azureml-core~=1.20.0->azureml-sdk[automl,notebooks,widgets]) (0.5.1)\n",
      "Requirement already up-to-date: azure-mgmt-containerregistry>=2.0.0 in /anaconda/envs/azureml_py36/lib/python3.6/site-packages (from azureml-core~=1.20.0->azureml-sdk[automl,notebooks,widgets]) (2.8.0)\n",
      "Requirement already up-to-date: azure-common>=1.1.12 in /anaconda/envs/azureml_py36/lib/python3.6/site-packages (from azureml-core~=1.20.0->azureml-sdk[automl,notebooks,widgets]) (1.1.26)\n",
      "Requirement already up-to-date: PyJWT<2.0.0 in /anaconda/envs/azureml_py36/lib/python3.6/site-packages (from azureml-core~=1.20.0->azureml-sdk[automl,notebooks,widgets]) (1.7.1)\n",
      "Requirement already up-to-date: urllib3>=1.23 in /anaconda/envs/azureml_py36/lib/python3.6/site-packages (from azureml-core~=1.20.0->azureml-sdk[automl,notebooks,widgets]) (1.26.2)\n",
      "Requirement already up-to-date: contextlib2 in /anaconda/envs/azureml_py36/lib/python3.6/site-packages (from azureml-core~=1.20.0->azureml-sdk[automl,notebooks,widgets]) (0.6.0.post1)\n",
      "Requirement already up-to-date: backports.tempfile in /anaconda/envs/azureml_py36/lib/python3.6/site-packages (from azureml-core~=1.20.0->azureml-sdk[automl,notebooks,widgets]) (1.0)\n",
      "Requirement already up-to-date: azure-graphrbac<1.0.0,>=0.40.0 in /anaconda/envs/azureml_py36/lib/python3.6/site-packages (from azureml-core~=1.20.0->azureml-sdk[automl,notebooks,widgets]) (0.61.1)\n",
      "Requirement already up-to-date: msrestazure>=0.4.33 in /anaconda/envs/azureml_py36/lib/python3.6/site-packages (from azureml-core~=1.20.0->azureml-sdk[automl,notebooks,widgets]) (0.6.4)\n",
      "Requirement already up-to-date: azure-mgmt-authorization<1.0.0,>=0.40.0 in /anaconda/envs/azureml_py36/lib/python3.6/site-packages (from azureml-core~=1.20.0->azureml-sdk[automl,notebooks,widgets]) (0.61.0)\n",
      "Requirement already up-to-date: python-dateutil>=2.7.3 in /anaconda/envs/azureml_py36/lib/python3.6/site-packages (from azureml-core~=1.20.0->azureml-sdk[automl,notebooks,widgets]) (2.8.1)\n",
      "Requirement already up-to-date: docker in /anaconda/envs/azureml_py36/lib/python3.6/site-packages (from azureml-core~=1.20.0->azureml-sdk[automl,notebooks,widgets]) (4.4.1)\n",
      "Requirement already up-to-date: ruamel.yaml>=0.15.35 in /anaconda/envs/azureml_py36/lib/python3.6/site-packages (from azureml-core~=1.20.0->azureml-sdk[automl,notebooks,widgets]) (0.16.12)\n",
      "Requirement already up-to-date: jsonpickle in /anaconda/envs/azureml_py36/lib/python3.6/site-packages (from azureml-core~=1.20.0->azureml-sdk[automl,notebooks,widgets]) (1.5.0)\n",
      "Requirement already up-to-date: azure-mgmt-storage<16.0.0,>=1.5.0 in /anaconda/envs/azureml_py36/lib/python3.6/site-packages (from azureml-core~=1.20.0->azureml-sdk[automl,notebooks,widgets]) (11.2.0)\n",
      "Requirement already up-to-date: numpy!=1.19.3; sys_platform == \"linux\" in /anaconda/envs/azureml_py36/lib/python3.6/site-packages (from azureml-dataset-runtime[fuse]~=1.20.0->azureml-sdk[automl,notebooks,widgets]) (1.19.5)\n",
      "Requirement already up-to-date: pyarrow<2.0.0,>=0.17.0 in /anaconda/envs/azureml_py36/lib/python3.6/site-packages (from azureml-dataset-runtime[fuse]~=1.20.0->azureml-sdk[automl,notebooks,widgets]) (1.0.1)\n",
      "Requirement already up-to-date: azureml-dataprep<2.8.0a,>=2.7.0a in /anaconda/envs/azureml_py36/lib/python3.6/site-packages (from azureml-dataset-runtime[fuse]~=1.20.0->azureml-sdk[automl,notebooks,widgets]) (2.7.3)\n",
      "Requirement already up-to-date: fusepy<4.0.0,>=3.0.1; extra == \"fuse\" in /anaconda/envs/azureml_py36/lib/python3.6/site-packages (from azureml-dataset-runtime[fuse]~=1.20.0->azureml-sdk[automl,notebooks,widgets]) (3.0.1)\n",
      "Requirement already up-to-date: azureml-pipeline-core~=1.20.0 in /anaconda/envs/azureml_py36/lib/python3.6/site-packages (from azureml-pipeline~=1.20.0->azureml-sdk[automl,notebooks,widgets]) (1.20.0)\n",
      "Requirement already up-to-date: azureml-pipeline-steps~=1.20.0 in /anaconda/envs/azureml_py36/lib/python3.6/site-packages (from azureml-pipeline~=1.20.0->azureml-sdk[automl,notebooks,widgets]) (1.20.0)\n",
      "Requirement already up-to-date: azureml-automl-runtime~=1.20.0 in /anaconda/envs/azureml_py36/lib/python3.6/site-packages (from azureml-train-automl~=1.20.0; extra == \"automl\"->azureml-sdk[automl,notebooks,widgets]) (1.20.0)\n",
      "Requirement already up-to-date: azureml-train-automl-runtime~=1.20.0 in /anaconda/envs/azureml_py36/lib/python3.6/site-packages (from azureml-train-automl~=1.20.0; extra == \"automl\"->azureml-sdk[automl,notebooks,widgets]) (1.20.0.post1)\n",
      "Requirement already up-to-date: ipywidgets>=7.0.0 in /anaconda/envs/azureml_py36/lib/python3.6/site-packages (from azureml-widgets~=1.20.0; extra == \"notebooks\"->azureml-sdk[automl,notebooks,widgets]) (7.6.3)\n",
      "Requirement already up-to-date: ipykernel in /anaconda/envs/azureml_py36/lib/python3.6/site-packages (from azureml-contrib-notebook~=1.20.0; extra == \"notebooks\"->azureml-sdk[automl,notebooks,widgets]) (5.4.3)\n",
      "Requirement already up-to-date: nbconvert<6 in /anaconda/envs/azureml_py36/lib/python3.6/site-packages (from azureml-contrib-notebook~=1.20.0; extra == \"notebooks\"->azureml-sdk[automl,notebooks,widgets]) (5.6.1)\n",
      "Requirement already up-to-date: papermill<2 in /anaconda/envs/azureml_py36/lib/python3.6/site-packages (from azureml-contrib-notebook~=1.20.0; extra == \"notebooks\"->azureml-sdk[automl,notebooks,widgets]) (1.2.1)\n",
      "Requirement already up-to-date: ipython in /anaconda/envs/azureml_py36/lib/python3.6/site-packages (from azureml-contrib-notebook~=1.20.0; extra == \"notebooks\"->azureml-sdk[automl,notebooks,widgets]) (7.16.1)\n",
      "Requirement already up-to-date: azureml-train-restclients-hyperdrive~=1.20.0 in /anaconda/envs/azureml_py36/lib/python3.6/site-packages (from azureml-train-core~=1.20.0->azureml-train~=1.20.0->azureml-sdk[automl,notebooks,widgets]) (1.20.0)\n",
      "Requirement already up-to-date: applicationinsights in /anaconda/envs/azureml_py36/lib/python3.6/site-packages (from azureml-telemetry~=1.20.0->azureml-train-automl-client~=1.20.0->azureml-sdk[automl,notebooks,widgets]) (0.11.9)\n",
      "Requirement already up-to-date: idna<3,>=2.5 in /anaconda/envs/azureml_py36/lib/python3.6/site-packages (from requests>=2.19.1->azureml-core~=1.20.0->azureml-sdk[automl,notebooks,widgets]) (2.10)\n",
      "Requirement already up-to-date: certifi>=2017.4.17 in /anaconda/envs/azureml_py36/lib/python3.6/site-packages (from requests>=2.19.1->azureml-core~=1.20.0->azureml-sdk[automl,notebooks,widgets]) (2020.12.5)\n",
      "Requirement already up-to-date: chardet<5,>=3.0.2 in /anaconda/envs/azureml_py36/lib/python3.6/site-packages (from requests>=2.19.1->azureml-core~=1.20.0->azureml-sdk[automl,notebooks,widgets]) (4.0.0)\n",
      "Requirement already up-to-date: jeepney>=0.6 in /anaconda/envs/azureml_py36/lib/python3.6/site-packages (from SecretStorage->azureml-core~=1.20.0->azureml-sdk[automl,notebooks,widgets]) (0.6.0)\n",
      "Requirement already up-to-date: six>=1.5.2 in /anaconda/envs/azureml_py36/lib/python3.6/site-packages (from pyopenssl<20.0.0->azureml-core~=1.20.0->azureml-sdk[automl,notebooks,widgets]) (1.15.0)\n",
      "Requirement already up-to-date: cffi>=1.12 in /anaconda/envs/azureml_py36/lib/python3.6/site-packages (from cryptography!=1.9,!=2.0.*,!=2.1.*,!=2.2.*->azureml-core~=1.20.0->azureml-sdk[automl,notebooks,widgets]) (1.14.4)\n",
      "Requirement already up-to-date: isodate>=0.6.0 in /anaconda/envs/azureml_py36/lib/python3.6/site-packages (from msrest>=0.5.1->azureml-core~=1.20.0->azureml-sdk[automl,notebooks,widgets]) (0.6.0)\n",
      "Requirement already up-to-date: requests-oauthlib>=0.5.0 in /anaconda/envs/azureml_py36/lib/python3.6/site-packages (from msrest>=0.5.1->azureml-core~=1.20.0->azureml-sdk[automl,notebooks,widgets]) (1.3.0)\n",
      "Requirement already up-to-date: pyasn1>=0.1.1 in /anaconda/envs/azureml_py36/lib/python3.6/site-packages (from ndg-httpsclient->azureml-core~=1.20.0->azureml-sdk[automl,notebooks,widgets]) (0.4.8)\n",
      "Requirement already up-to-date: backports.weakref in /anaconda/envs/azureml_py36/lib/python3.6/site-packages (from backports.tempfile->azureml-core~=1.20.0->azureml-sdk[automl,notebooks,widgets]) (1.0.post1)\n",
      "Requirement already up-to-date: websocket-client>=0.32.0 in /anaconda/envs/azureml_py36/lib/python3.6/site-packages (from docker->azureml-core~=1.20.0->azureml-sdk[automl,notebooks,widgets]) (0.57.0)\n",
      "Requirement already up-to-date: ruamel.yaml.clib>=0.1.2; platform_python_implementation == \"CPython\" and python_version < \"3.9\" in /anaconda/envs/azureml_py36/lib/python3.6/site-packages (from ruamel.yaml>=0.15.35->azureml-core~=1.20.0->azureml-sdk[automl,notebooks,widgets]) (0.2.2)\n",
      "Requirement already up-to-date: importlib-metadata; python_version < \"3.8\" in /anaconda/envs/azureml_py36/lib/python3.6/site-packages (from jsonpickle->azureml-core~=1.20.0->azureml-sdk[automl,notebooks,widgets]) (3.4.0)\n",
      "Requirement already up-to-date: azure-identity<1.5.0,>=1.2.0 in /anaconda/envs/azureml_py36/lib/python3.6/site-packages (from azureml-dataprep<2.8.0a,>=2.7.0a->azureml-dataset-runtime[fuse]~=1.20.0->azureml-sdk[automl,notebooks,widgets]) (1.4.1)\n",
      "Requirement already up-to-date: azureml-dataprep-native<28.0.0,>=27.0.0 in /anaconda/envs/azureml_py36/lib/python3.6/site-packages (from azureml-dataprep<2.8.0a,>=2.7.0a->azureml-dataset-runtime[fuse]~=1.20.0->azureml-sdk[automl,notebooks,widgets]) (27.0.0)\n",
      "Requirement already up-to-date: cloudpickle<2.0.0,>=1.1.0 in /anaconda/envs/azureml_py36/lib/python3.6/site-packages (from azureml-dataprep<2.8.0a,>=2.7.0a->azureml-dataset-runtime[fuse]~=1.20.0->azureml-sdk[automl,notebooks,widgets]) (1.6.0)\n",
      "Requirement already up-to-date: dotnetcore2<3.0.0,>=2.1.14 in /anaconda/envs/azureml_py36/lib/python3.6/site-packages (from azureml-dataprep<2.8.0a,>=2.7.0a->azureml-dataset-runtime[fuse]~=1.20.0->azureml-sdk[automl,notebooks,widgets]) (2.1.20)\n",
      "Requirement already up-to-date: azureml-dataprep-rslex<1.6.0a,>=1.5.0dev0 in /anaconda/envs/azureml_py36/lib/python3.6/site-packages (from azureml-dataprep<2.8.0a,>=2.7.0a->azureml-dataset-runtime[fuse]~=1.20.0->azureml-sdk[automl,notebooks,widgets]) (1.5.0)\n",
      "Requirement already up-to-date: onnxconverter-common<=1.6.0,>=1.4.2 in /anaconda/envs/azureml_py36/lib/python3.6/site-packages (from azureml-automl-runtime~=1.20.0->azureml-train-automl~=1.20.0; extra == \"automl\"->azureml-sdk[automl,notebooks,widgets]) (1.6.0)\n",
      "Requirement already up-to-date: joblib==0.14.1 in /anaconda/envs/azureml_py36/lib/python3.6/site-packages (from azureml-automl-runtime~=1.20.0->azureml-train-automl~=1.20.0; extra == \"automl\"->azureml-sdk[automl,notebooks,widgets]) (0.14.1)\n",
      "Requirement already up-to-date: onnxruntime==1.3.0 in /anaconda/envs/azureml_py36/lib/python3.6/site-packages (from azureml-automl-runtime~=1.20.0->azureml-train-automl~=1.20.0; extra == \"automl\"->azureml-sdk[automl,notebooks,widgets]) (1.3.0)\n",
      "Requirement already up-to-date: scikit-learn<0.23.0,>=0.19.0 in /anaconda/envs/azureml_py36/lib/python3.6/site-packages (from azureml-automl-runtime~=1.20.0->azureml-train-automl~=1.20.0; extra == \"automl\"->azureml-sdk[automl,notebooks,widgets]) (0.22.2.post1)\n",
      "Requirement already up-to-date: pmdarima==1.1.1 in /anaconda/envs/azureml_py36/lib/python3.6/site-packages (from azureml-automl-runtime~=1.20.0->azureml-train-automl~=1.20.0; extra == \"automl\"->azureml-sdk[automl,notebooks,widgets]) (1.1.1)\n",
      "Requirement already up-to-date: sklearn-pandas<=1.7.0,>=1.4.0 in /anaconda/envs/azureml_py36/lib/python3.6/site-packages (from azureml-automl-runtime~=1.20.0->azureml-train-automl~=1.20.0; extra == \"automl\"->azureml-sdk[automl,notebooks,widgets]) (1.7.0)\n",
      "Requirement already up-to-date: botocore<=1.18.18 in /anaconda/envs/azureml_py36/lib/python3.6/site-packages (from azureml-automl-runtime~=1.20.0->azureml-train-automl~=1.20.0; extra == \"automl\"->azureml-sdk[automl,notebooks,widgets]) (1.18.18)\n",
      "Requirement already up-to-date: skl2onnx==1.4.9 in /anaconda/envs/azureml_py36/lib/python3.6/site-packages (from azureml-automl-runtime~=1.20.0->azureml-train-automl~=1.20.0; extra == \"automl\"->azureml-sdk[automl,notebooks,widgets]) (1.4.9)\n",
      "Requirement already up-to-date: dill<0.4.0,>=0.2.8 in /anaconda/envs/azureml_py36/lib/python3.6/site-packages (from azureml-automl-runtime~=1.20.0->azureml-train-automl~=1.20.0; extra == \"automl\"->azureml-sdk[automl,notebooks,widgets]) (0.3.3)\n",
      "Requirement already up-to-date: pandas<1.0.0,>=0.21.0 in /anaconda/envs/azureml_py36/lib/python3.6/site-packages (from azureml-automl-runtime~=1.20.0->azureml-train-automl~=1.20.0; extra == \"automl\"->azureml-sdk[automl,notebooks,widgets]) (0.25.3)\n",
      "Requirement already up-to-date: onnxmltools==1.4.1 in /anaconda/envs/azureml_py36/lib/python3.6/site-packages (from azureml-automl-runtime~=1.20.0->azureml-train-automl~=1.20.0; extra == \"automl\"->azureml-sdk[automl,notebooks,widgets]) (1.4.1)\n",
      "Requirement already up-to-date: scipy<=1.5.2,>=1.0.0 in /anaconda/envs/azureml_py36/lib/python3.6/site-packages (from azureml-automl-runtime~=1.20.0->azureml-train-automl~=1.20.0; extra == \"automl\"->azureml-sdk[automl,notebooks,widgets]) (1.5.2)\n",
      "Requirement already up-to-date: onnx<=1.7.0,>=1.5.0 in /anaconda/envs/azureml_py36/lib/python3.6/site-packages (from azureml-automl-runtime~=1.20.0->azureml-train-automl~=1.20.0; extra == \"automl\"->azureml-sdk[automl,notebooks,widgets]) (1.7.0)\n",
      "Requirement already up-to-date: keras2onnx<=1.6.0,>=1.4.0 in /anaconda/envs/azureml_py36/lib/python3.6/site-packages (from azureml-automl-runtime~=1.20.0->azureml-train-automl~=1.20.0; extra == \"automl\"->azureml-sdk[automl,notebooks,widgets]) (1.6.0)\n",
      "Requirement already up-to-date: smart-open<=1.9.0 in /anaconda/envs/azureml_py36/lib/python3.6/site-packages (from azureml-automl-runtime~=1.20.0->azureml-train-automl~=1.20.0; extra == \"automl\"->azureml-sdk[automl,notebooks,widgets]) (1.9.0)\n",
      "Requirement already up-to-date: nimbusml<=1.8.0,>=1.7.1 in /anaconda/envs/azureml_py36/lib/python3.6/site-packages (from azureml-automl-runtime~=1.20.0->azureml-train-automl~=1.20.0; extra == \"automl\"->azureml-sdk[automl,notebooks,widgets]) (1.8.0)\n",
      "Requirement already up-to-date: psutil<6.0.0,>=5.2.2 in /anaconda/envs/azureml_py36/lib/python3.6/site-packages (from azureml-automl-runtime~=1.20.0->azureml-train-automl~=1.20.0; extra == \"automl\"->azureml-sdk[automl,notebooks,widgets]) (5.8.0)\n",
      "Requirement already up-to-date: lightgbm<=2.3.0,>=2.0.11 in /anaconda/envs/azureml_py36/lib/python3.6/site-packages (from azureml-automl-runtime~=1.20.0->azureml-train-automl~=1.20.0; extra == \"automl\"->azureml-sdk[automl,notebooks,widgets]) (2.3.0)\n",
      "Requirement already up-to-date: py-cpuinfo==5.0.0 in /anaconda/envs/azureml_py36/lib/python3.6/site-packages (from azureml-automl-runtime~=1.20.0->azureml-train-automl~=1.20.0; extra == \"automl\"->azureml-sdk[automl,notebooks,widgets]) (5.0.0)\n",
      "Requirement already up-to-date: statsmodels<=0.10.2,>=0.9.0 in /anaconda/envs/azureml_py36/lib/python3.6/site-packages (from azureml-automl-runtime~=1.20.0->azureml-train-automl~=1.20.0; extra == \"automl\"->azureml-sdk[automl,notebooks,widgets]) (0.10.2)\n",
      "Requirement already up-to-date: boto3<=1.15.18 in /anaconda/envs/azureml_py36/lib/python3.6/site-packages (from azureml-automl-runtime~=1.20.0->azureml-train-automl~=1.20.0; extra == \"automl\"->azureml-sdk[automl,notebooks,widgets]) (1.15.18)\n",
      "Requirement already up-to-date: gensim<3.9.0 in /anaconda/envs/azureml_py36/lib/python3.6/site-packages (from azureml-automl-runtime~=1.20.0->azureml-train-automl~=1.20.0; extra == \"automl\"->azureml-sdk[automl,notebooks,widgets]) (3.8.3)\n",
      "Requirement already up-to-date: azureml-interpret~=1.20.0 in /anaconda/envs/azureml_py36/lib/python3.6/site-packages (from azureml-train-automl-runtime~=1.20.0->azureml-train-automl~=1.20.0; extra == \"automl\"->azureml-sdk[automl,notebooks,widgets]) (1.20.0)\n",
      "Requirement already up-to-date: jinja2<=2.11.2 in /anaconda/envs/azureml_py36/lib/python3.6/site-packages (from azureml-train-automl-runtime~=1.20.0->azureml-train-automl~=1.20.0; extra == \"automl\"->azureml-sdk[automl,notebooks,widgets]) (2.11.2)\n",
      "Requirement already up-to-date: azureml-defaults~=1.20.0 in /anaconda/envs/azureml_py36/lib/python3.6/site-packages (from azureml-train-automl-runtime~=1.20.0->azureml-train-automl~=1.20.0; extra == \"automl\"->azureml-sdk[automl,notebooks,widgets]) (1.20.0)\n",
      "Requirement already up-to-date: azure-storage-queue~=12.1 in /anaconda/envs/azureml_py36/lib/python3.6/site-packages (from azureml-train-automl-runtime~=1.20.0->azureml-train-automl~=1.20.0; extra == \"automl\"->azureml-sdk[automl,notebooks,widgets]) (12.1.5)\n",
      "Requirement already up-to-date: nbformat>=4.2.0 in /anaconda/envs/azureml_py36/lib/python3.6/site-packages (from ipywidgets>=7.0.0->azureml-widgets~=1.20.0; extra == \"notebooks\"->azureml-sdk[automl,notebooks,widgets]) (5.1.2)\n",
      "Requirement already up-to-date: traitlets>=4.3.1 in /anaconda/envs/azureml_py36/lib/python3.6/site-packages (from ipywidgets>=7.0.0->azureml-widgets~=1.20.0; extra == \"notebooks\"->azureml-sdk[automl,notebooks,widgets]) (4.3.3)\n",
      "Requirement already up-to-date: jupyterlab-widgets>=1.0.0; python_version >= \"3.6\" in /anaconda/envs/azureml_py36/lib/python3.6/site-packages (from ipywidgets>=7.0.0->azureml-widgets~=1.20.0; extra == \"notebooks\"->azureml-sdk[automl,notebooks,widgets]) (1.0.0)\n",
      "Requirement already up-to-date: widgetsnbextension~=3.5.0 in /anaconda/envs/azureml_py36/lib/python3.6/site-packages (from ipywidgets>=7.0.0->azureml-widgets~=1.20.0; extra == \"notebooks\"->azureml-sdk[automl,notebooks,widgets]) (3.5.1)\n",
      "Requirement already up-to-date: jupyter-client in /anaconda/envs/azureml_py36/lib/python3.6/site-packages (from ipykernel->azureml-contrib-notebook~=1.20.0; extra == \"notebooks\"->azureml-sdk[automl,notebooks,widgets]) (6.1.11)\n",
      "Requirement already up-to-date: tornado>=4.2 in /anaconda/envs/azureml_py36/lib/python3.6/site-packages (from ipykernel->azureml-contrib-notebook~=1.20.0; extra == \"notebooks\"->azureml-sdk[automl,notebooks,widgets]) (6.1)\n",
      "Requirement already up-to-date: entrypoints>=0.2.2 in /anaconda/envs/azureml_py36/lib/python3.6/site-packages (from nbconvert<6->azureml-contrib-notebook~=1.20.0; extra == \"notebooks\"->azureml-sdk[automl,notebooks,widgets]) (0.3)\n",
      "Requirement already up-to-date: mistune<2,>=0.8.1 in /anaconda/envs/azureml_py36/lib/python3.6/site-packages (from nbconvert<6->azureml-contrib-notebook~=1.20.0; extra == \"notebooks\"->azureml-sdk[automl,notebooks,widgets]) (0.8.4)\n",
      "Requirement already up-to-date: jupyter-core in /anaconda/envs/azureml_py36/lib/python3.6/site-packages (from nbconvert<6->azureml-contrib-notebook~=1.20.0; extra == \"notebooks\"->azureml-sdk[automl,notebooks,widgets]) (4.7.0)\n",
      "Requirement already up-to-date: bleach in /anaconda/envs/azureml_py36/lib/python3.6/site-packages (from nbconvert<6->azureml-contrib-notebook~=1.20.0; extra == \"notebooks\"->azureml-sdk[automl,notebooks,widgets]) (3.2.2)\n",
      "Requirement already up-to-date: testpath in /anaconda/envs/azureml_py36/lib/python3.6/site-packages (from nbconvert<6->azureml-contrib-notebook~=1.20.0; extra == \"notebooks\"->azureml-sdk[automl,notebooks,widgets]) (0.4.4)\n",
      "Requirement already up-to-date: pandocfilters>=1.4.1 in /anaconda/envs/azureml_py36/lib/python3.6/site-packages (from nbconvert<6->azureml-contrib-notebook~=1.20.0; extra == \"notebooks\"->azureml-sdk[automl,notebooks,widgets]) (1.4.3)\n",
      "Requirement already up-to-date: defusedxml in /anaconda/envs/azureml_py36/lib/python3.6/site-packages (from nbconvert<6->azureml-contrib-notebook~=1.20.0; extra == \"notebooks\"->azureml-sdk[automl,notebooks,widgets]) (0.6.0)\n",
      "Requirement already up-to-date: pygments in /anaconda/envs/azureml_py36/lib/python3.6/site-packages (from nbconvert<6->azureml-contrib-notebook~=1.20.0; extra == \"notebooks\"->azureml-sdk[automl,notebooks,widgets]) (2.7.4)\n",
      "Requirement already up-to-date: future in /anaconda/envs/azureml_py36/lib/python3.6/site-packages (from papermill<2->azureml-contrib-notebook~=1.20.0; extra == \"notebooks\"->azureml-sdk[automl,notebooks,widgets]) (0.18.2)\n",
      "Requirement already up-to-date: tenacity in /anaconda/envs/azureml_py36/lib/python3.6/site-packages (from papermill<2->azureml-contrib-notebook~=1.20.0; extra == \"notebooks\"->azureml-sdk[automl,notebooks,widgets]) (6.3.1)\n",
      "Requirement already up-to-date: ansiwrap in /anaconda/envs/azureml_py36/lib/python3.6/site-packages (from papermill<2->azureml-contrib-notebook~=1.20.0; extra == \"notebooks\"->azureml-sdk[automl,notebooks,widgets]) (0.8.4)\n",
      "Requirement already up-to-date: pyyaml in /anaconda/envs/azureml_py36/lib/python3.6/site-packages (from papermill<2->azureml-contrib-notebook~=1.20.0; extra == \"notebooks\"->azureml-sdk[automl,notebooks,widgets]) (5.4.1)\n",
      "Requirement already up-to-date: tqdm>=4.32.2 in /anaconda/envs/azureml_py36/lib/python3.6/site-packages (from papermill<2->azureml-contrib-notebook~=1.20.0; extra == \"notebooks\"->azureml-sdk[automl,notebooks,widgets]) (4.56.0)\n",
      "Requirement already up-to-date: click in /anaconda/envs/azureml_py36/lib/python3.6/site-packages (from papermill<2->azureml-contrib-notebook~=1.20.0; extra == \"notebooks\"->azureml-sdk[automl,notebooks,widgets]) (7.1.2)\n",
      "Requirement already up-to-date: backcall in /anaconda/envs/azureml_py36/lib/python3.6/site-packages (from ipython->azureml-contrib-notebook~=1.20.0; extra == \"notebooks\"->azureml-sdk[automl,notebooks,widgets]) (0.2.0)\n",
      "Requirement already up-to-date: jedi>=0.10 in /anaconda/envs/azureml_py36/lib/python3.6/site-packages (from ipython->azureml-contrib-notebook~=1.20.0; extra == \"notebooks\"->azureml-sdk[automl,notebooks,widgets]) (0.18.0)\n",
      "Requirement already up-to-date: prompt-toolkit!=3.0.0,!=3.0.1,<3.1.0,>=2.0.0 in /anaconda/envs/azureml_py36/lib/python3.6/site-packages (from ipython->azureml-contrib-notebook~=1.20.0; extra == \"notebooks\"->azureml-sdk[automl,notebooks,widgets]) (3.0.13)\n",
      "Requirement already up-to-date: decorator in /anaconda/envs/azureml_py36/lib/python3.6/site-packages (from ipython->azureml-contrib-notebook~=1.20.0; extra == \"notebooks\"->azureml-sdk[automl,notebooks,widgets]) (4.4.2)\n",
      "Requirement already up-to-date: pexpect; sys_platform != \"win32\" in /anaconda/envs/azureml_py36/lib/python3.6/site-packages (from ipython->azureml-contrib-notebook~=1.20.0; extra == \"notebooks\"->azureml-sdk[automl,notebooks,widgets]) (4.8.0)\n",
      "Requirement already up-to-date: setuptools>=18.5 in /anaconda/envs/azureml_py36/lib/python3.6/site-packages (from ipython->azureml-contrib-notebook~=1.20.0; extra == \"notebooks\"->azureml-sdk[automl,notebooks,widgets]) (51.3.3)\n",
      "Requirement already up-to-date: pickleshare in /anaconda/envs/azureml_py36/lib/python3.6/site-packages (from ipython->azureml-contrib-notebook~=1.20.0; extra == \"notebooks\"->azureml-sdk[automl,notebooks,widgets]) (0.7.5)\n",
      "Requirement already up-to-date: pycparser in /anaconda/envs/azureml_py36/lib/python3.6/site-packages (from cffi>=1.12->cryptography!=1.9,!=2.0.*,!=2.1.*,!=2.2.*->azureml-core~=1.20.0->azureml-sdk[automl,notebooks,widgets]) (2.20)\n",
      "Requirement already up-to-date: oauthlib>=3.0.0 in /anaconda/envs/azureml_py36/lib/python3.6/site-packages (from requests-oauthlib>=0.5.0->msrest>=0.5.1->azureml-core~=1.20.0->azureml-sdk[automl,notebooks,widgets]) (3.1.0)\n",
      "Requirement already up-to-date: zipp>=0.5 in /anaconda/envs/azureml_py36/lib/python3.6/site-packages (from importlib-metadata; python_version < \"3.8\"->jsonpickle->azureml-core~=1.20.0->azureml-sdk[automl,notebooks,widgets]) (3.4.0)\n",
      "Requirement already up-to-date: typing-extensions>=3.6.4; python_version < \"3.8\" in /anaconda/envs/azureml_py36/lib/python3.6/site-packages (from importlib-metadata; python_version < \"3.8\"->jsonpickle->azureml-core~=1.20.0->azureml-sdk[automl,notebooks,widgets]) (3.7.4.3)\n",
      "Requirement already up-to-date: msal<2.0.0,>=1.3.0 in /anaconda/envs/azureml_py36/lib/python3.6/site-packages (from azure-identity<1.5.0,>=1.2.0->azureml-dataprep<2.8.0a,>=2.7.0a->azureml-dataset-runtime[fuse]~=1.20.0->azureml-sdk[automl,notebooks,widgets]) (1.8.0)\n",
      "Requirement already up-to-date: msal-extensions~=0.2.2 in /anaconda/envs/azureml_py36/lib/python3.6/site-packages (from azure-identity<1.5.0,>=1.2.0->azureml-dataprep<2.8.0a,>=2.7.0a->azureml-dataset-runtime[fuse]~=1.20.0->azureml-sdk[automl,notebooks,widgets]) (0.2.2)\n",
      "Requirement already up-to-date: azure-core<2.0.0,>=1.0.0 in /anaconda/envs/azureml_py36/lib/python3.6/site-packages (from azure-identity<1.5.0,>=1.2.0->azureml-dataprep<2.8.0a,>=2.7.0a->azureml-dataset-runtime[fuse]~=1.20.0->azureml-sdk[automl,notebooks,widgets]) (1.10.0)\n",
      "Requirement already up-to-date: distro>=1.2.0 in /anaconda/envs/azureml_py36/lib/python3.6/site-packages (from dotnetcore2<3.0.0,>=2.1.14->azureml-dataprep<2.8.0a,>=2.7.0a->azureml-dataset-runtime[fuse]~=1.20.0->azureml-sdk[automl,notebooks,widgets]) (1.5.0)\n",
      "Requirement already up-to-date: protobuf in /anaconda/envs/azureml_py36/lib/python3.6/site-packages (from onnxconverter-common<=1.6.0,>=1.4.2->azureml-automl-runtime~=1.20.0->azureml-train-automl~=1.20.0; extra == \"automl\"->azureml-sdk[automl,notebooks,widgets]) (3.14.0)\n",
      "Requirement already up-to-date: Cython>=0.29 in /anaconda/envs/azureml_py36/lib/python3.6/site-packages (from pmdarima==1.1.1->azureml-automl-runtime~=1.20.0->azureml-train-automl~=1.20.0; extra == \"automl\"->azureml-sdk[automl,notebooks,widgets]) (0.29.21)\n",
      "Requirement already up-to-date: fire in /anaconda/envs/azureml_py36/lib/python3.6/site-packages (from keras2onnx<=1.6.0,>=1.4.0->azureml-automl-runtime~=1.20.0->azureml-train-automl~=1.20.0; extra == \"automl\"->azureml-sdk[automl,notebooks,widgets]) (0.4.0)\n",
      "Requirement already up-to-date: boto>=2.32 in /anaconda/envs/azureml_py36/lib/python3.6/site-packages (from smart-open<=1.9.0->azureml-automl-runtime~=1.20.0->azureml-train-automl~=1.20.0; extra == \"automl\"->azureml-sdk[automl,notebooks,widgets]) (2.49.0)\n",
      "Requirement already up-to-date: patsy>=0.4.0 in /anaconda/envs/azureml_py36/lib/python3.6/site-packages (from statsmodels<=0.10.2,>=0.9.0->azureml-automl-runtime~=1.20.0->azureml-train-automl~=1.20.0; extra == \"automl\"->azureml-sdk[automl,notebooks,widgets]) (0.5.1)\n",
      "Requirement already up-to-date: s3transfer<0.4.0,>=0.3.0 in /anaconda/envs/azureml_py36/lib/python3.6/site-packages (from boto3<=1.15.18->azureml-automl-runtime~=1.20.0->azureml-train-automl~=1.20.0; extra == \"automl\"->azureml-sdk[automl,notebooks,widgets]) (0.3.4)\n",
      "Requirement already up-to-date: interpret-community==0.15.* in /anaconda/envs/azureml_py36/lib/python3.6/site-packages (from azureml-interpret~=1.20.0->azureml-train-automl-runtime~=1.20.0->azureml-train-automl~=1.20.0; extra == \"automl\"->azureml-sdk[automl,notebooks,widgets]) (0.15.4)\n",
      "Requirement already up-to-date: MarkupSafe>=0.23 in /anaconda/envs/azureml_py36/lib/python3.6/site-packages (from jinja2<=2.11.2->azureml-train-automl-runtime~=1.20.0->azureml-train-automl~=1.20.0; extra == \"automl\"->azureml-sdk[automl,notebooks,widgets]) (1.1.1)\n",
      "Requirement already up-to-date: configparser==3.7.4 in /anaconda/envs/azureml_py36/lib/python3.6/site-packages (from azureml-defaults~=1.20.0->azureml-train-automl-runtime~=1.20.0->azureml-train-automl~=1.20.0; extra == \"automl\"->azureml-sdk[automl,notebooks,widgets]) (3.7.4)\n",
      "Requirement already up-to-date: azureml-model-management-sdk==1.0.1b6.post1 in /anaconda/envs/azureml_py36/lib/python3.6/site-packages (from azureml-defaults~=1.20.0->azureml-train-automl-runtime~=1.20.0->azureml-train-automl~=1.20.0; extra == \"automl\"->azureml-sdk[automl,notebooks,widgets]) (1.0.1b6.post1)\n",
      "Requirement already up-to-date: werkzeug<=1.0.1,>=0.16.1 in /anaconda/envs/azureml_py36/lib/python3.6/site-packages (from azureml-defaults~=1.20.0->azureml-train-automl-runtime~=1.20.0->azureml-train-automl~=1.20.0; extra == \"automl\"->azureml-sdk[automl,notebooks,widgets]) (1.0.1)\n",
      "Requirement already up-to-date: json-logging-py==0.2 in /anaconda/envs/azureml_py36/lib/python3.6/site-packages (from azureml-defaults~=1.20.0->azureml-train-automl-runtime~=1.20.0->azureml-train-automl~=1.20.0; extra == \"automl\"->azureml-sdk[automl,notebooks,widgets]) (0.2)\n",
      "Requirement already up-to-date: flask==1.0.3 in /anaconda/envs/azureml_py36/lib/python3.6/site-packages (from azureml-defaults~=1.20.0->azureml-train-automl-runtime~=1.20.0->azureml-train-automl~=1.20.0; extra == \"automl\"->azureml-sdk[automl,notebooks,widgets]) (1.0.3)\n",
      "Requirement already up-to-date: gunicorn==19.9.0 in /anaconda/envs/azureml_py36/lib/python3.6/site-packages (from azureml-defaults~=1.20.0->azureml-train-automl-runtime~=1.20.0->azureml-train-automl~=1.20.0; extra == \"automl\"->azureml-sdk[automl,notebooks,widgets]) (19.9.0)\n",
      "Requirement already up-to-date: jsonschema!=2.5.0,>=2.4 in /anaconda/envs/azureml_py36/lib/python3.6/site-packages (from nbformat>=4.2.0->ipywidgets>=7.0.0->azureml-widgets~=1.20.0; extra == \"notebooks\"->azureml-sdk[automl,notebooks,widgets]) (3.2.0)\n",
      "Requirement already up-to-date: ipython-genutils in /anaconda/envs/azureml_py36/lib/python3.6/site-packages (from nbformat>=4.2.0->ipywidgets>=7.0.0->azureml-widgets~=1.20.0; extra == \"notebooks\"->azureml-sdk[automl,notebooks,widgets]) (0.2.0)\n",
      "Requirement already up-to-date: notebook>=4.4.1 in /anaconda/envs/azureml_py36/lib/python3.6/site-packages (from widgetsnbextension~=3.5.0->ipywidgets>=7.0.0->azureml-widgets~=1.20.0; extra == \"notebooks\"->azureml-sdk[automl,notebooks,widgets]) (6.2.0)\n",
      "Requirement already up-to-date: pyzmq>=13 in /anaconda/envs/azureml_py36/lib/python3.6/site-packages (from jupyter-client->ipykernel->azureml-contrib-notebook~=1.20.0; extra == \"notebooks\"->azureml-sdk[automl,notebooks,widgets]) (21.0.1)\n",
      "Requirement already up-to-date: packaging in /anaconda/envs/azureml_py36/lib/python3.6/site-packages (from bleach->nbconvert<6->azureml-contrib-notebook~=1.20.0; extra == \"notebooks\"->azureml-sdk[automl,notebooks,widgets]) (20.8)\n",
      "Requirement already up-to-date: webencodings in /anaconda/envs/azureml_py36/lib/python3.6/site-packages (from bleach->nbconvert<6->azureml-contrib-notebook~=1.20.0; extra == \"notebooks\"->azureml-sdk[automl,notebooks,widgets]) (0.5.1)\n",
      "Requirement already up-to-date: textwrap3>=0.9.2 in /anaconda/envs/azureml_py36/lib/python3.6/site-packages (from ansiwrap->papermill<2->azureml-contrib-notebook~=1.20.0; extra == \"notebooks\"->azureml-sdk[automl,notebooks,widgets]) (0.9.2)\n",
      "Requirement already up-to-date: parso<0.9.0,>=0.8.0 in /anaconda/envs/azureml_py36/lib/python3.6/site-packages (from jedi>=0.10->ipython->azureml-contrib-notebook~=1.20.0; extra == \"notebooks\"->azureml-sdk[automl,notebooks,widgets]) (0.8.1)\n",
      "Requirement already up-to-date: wcwidth in /anaconda/envs/azureml_py36/lib/python3.6/site-packages (from prompt-toolkit!=3.0.0,!=3.0.1,<3.1.0,>=2.0.0->ipython->azureml-contrib-notebook~=1.20.0; extra == \"notebooks\"->azureml-sdk[automl,notebooks,widgets]) (0.2.5)\n",
      "Requirement already up-to-date: ptyprocess>=0.5 in /anaconda/envs/azureml_py36/lib/python3.6/site-packages (from pexpect; sys_platform != \"win32\"->ipython->azureml-contrib-notebook~=1.20.0; extra == \"notebooks\"->azureml-sdk[automl,notebooks,widgets]) (0.7.0)\n",
      "Requirement already up-to-date: portalocker~=1.0; platform_system != \"Windows\" in /anaconda/envs/azureml_py36/lib/python3.6/site-packages (from msal-extensions~=0.2.2->azure-identity<1.5.0,>=1.2.0->azureml-dataprep<2.8.0a,>=2.7.0a->azureml-dataset-runtime[fuse]~=1.20.0->azureml-sdk[automl,notebooks,widgets]) (1.7.1)\n",
      "Requirement already up-to-date: termcolor in /anaconda/envs/azureml_py36/lib/python3.6/site-packages (from fire->keras2onnx<=1.6.0,>=1.4.0->azureml-automl-runtime~=1.20.0->azureml-train-automl~=1.20.0; extra == \"automl\"->azureml-sdk[automl,notebooks,widgets]) (1.1.0)\n",
      "Requirement already up-to-date: shap<=0.34.0,>=0.20.0 in /anaconda/envs/azureml_py36/lib/python3.6/site-packages (from interpret-community==0.15.*->azureml-interpret~=1.20.0->azureml-train-automl-runtime~=1.20.0->azureml-train-automl~=1.20.0; extra == \"automl\"->azureml-sdk[automl,notebooks,widgets]) (0.34.0)\n",
      "Requirement already up-to-date: interpret-core[required]<=0.2.1,>=0.1.20 in /anaconda/envs/azureml_py36/lib/python3.6/site-packages (from interpret-community==0.15.*->azureml-interpret~=1.20.0->azureml-train-automl-runtime~=1.20.0->azureml-train-automl~=1.20.0; extra == \"automl\"->azureml-sdk[automl,notebooks,widgets]) (0.2.1)\n",
      "Requirement already up-to-date: liac-arff>=2.1.1 in /anaconda/envs/azureml_py36/lib/python3.6/site-packages (from azureml-model-management-sdk==1.0.1b6.post1->azureml-defaults~=1.20.0->azureml-train-automl-runtime~=1.20.0->azureml-train-automl~=1.20.0; extra == \"automl\"->azureml-sdk[automl,notebooks,widgets]) (2.5.0)\n",
      "Requirement already up-to-date: itsdangerous>=0.24 in /anaconda/envs/azureml_py36/lib/python3.6/site-packages (from flask==1.0.3->azureml-defaults~=1.20.0->azureml-train-automl-runtime~=1.20.0->azureml-train-automl~=1.20.0; extra == \"automl\"->azureml-sdk[automl,notebooks,widgets]) (1.1.0)\n",
      "Requirement already up-to-date: pyrsistent>=0.14.0 in /anaconda/envs/azureml_py36/lib/python3.6/site-packages (from jsonschema!=2.5.0,>=2.4->nbformat>=4.2.0->ipywidgets>=7.0.0->azureml-widgets~=1.20.0; extra == \"notebooks\"->azureml-sdk[automl,notebooks,widgets]) (0.17.3)\n",
      "Requirement already up-to-date: attrs>=17.4.0 in /anaconda/envs/azureml_py36/lib/python3.6/site-packages (from jsonschema!=2.5.0,>=2.4->nbformat>=4.2.0->ipywidgets>=7.0.0->azureml-widgets~=1.20.0; extra == \"notebooks\"->azureml-sdk[automl,notebooks,widgets]) (20.3.0)\n",
      "Requirement already up-to-date: Send2Trash>=1.5.0 in /anaconda/envs/azureml_py36/lib/python3.6/site-packages (from notebook>=4.4.1->widgetsnbextension~=3.5.0->ipywidgets>=7.0.0->azureml-widgets~=1.20.0; extra == \"notebooks\"->azureml-sdk[automl,notebooks,widgets]) (1.5.0)\n",
      "Requirement already up-to-date: terminado>=0.8.3 in /anaconda/envs/azureml_py36/lib/python3.6/site-packages (from notebook>=4.4.1->widgetsnbextension~=3.5.0->ipywidgets>=7.0.0->azureml-widgets~=1.20.0; extra == \"notebooks\"->azureml-sdk[automl,notebooks,widgets]) (0.9.2)\n",
      "Requirement already up-to-date: argon2-cffi in /anaconda/envs/azureml_py36/lib/python3.6/site-packages (from notebook>=4.4.1->widgetsnbextension~=3.5.0->ipywidgets>=7.0.0->azureml-widgets~=1.20.0; extra == \"notebooks\"->azureml-sdk[automl,notebooks,widgets]) (20.1.0)\n",
      "Requirement already up-to-date: prometheus-client in /anaconda/envs/azureml_py36/lib/python3.6/site-packages (from notebook>=4.4.1->widgetsnbextension~=3.5.0->ipywidgets>=7.0.0->azureml-widgets~=1.20.0; extra == \"notebooks\"->azureml-sdk[automl,notebooks,widgets]) (0.9.0)\n",
      "Requirement already up-to-date: pyparsing>=2.0.2 in /anaconda/envs/azureml_py36/lib/python3.6/site-packages (from packaging->bleach->nbconvert<6->azureml-contrib-notebook~=1.20.0; extra == \"notebooks\"->azureml-sdk[automl,notebooks,widgets]) (2.4.7)\n"
     ]
    }
   ],
   "source": [
    "# Updating SDK as suggested by mentor\n",
    "!pip install --upgrade --upgrade-strategy eager azureml-sdk[automl,widgets,notebooks]"
   ]
  },
  {
   "cell_type": "code",
   "execution_count": 3,
   "metadata": {
    "gather": {
     "logged": 1611071812999
    },
    "jupyter": {
     "outputs_hidden": false,
     "source_hidden": false
    },
    "nteract": {
     "transient": {
      "deleting": false
     }
    }
   },
   "outputs": [],
   "source": [
    "from azureml.core import Workspace, Experiment, Dataset, Datastore, Model\n",
    "from azureml.core.compute import ComputeTarget, AmlCompute\n",
    "from azureml.core.compute_target import ComputeTargetException\n",
    "from azureml.widgets import RunDetails\n",
    "from azureml.data.dataset_factory import TabularDatasetFactory\n",
    "from azureml.train.automl import AutoMLConfig\n",
    "#from azureml.automl.runtime.onnx_convert import OnnxConverter\n",
    "from azureml.interpret import ExplanationClient\n",
    "from interpret_community.widget import ExplanationDashboard\n",
    "from azureml.core.environment import Environment\n",
    "from azureml.core.model import InferenceConfig\n",
    "from azureml.core.webservice import AciWebservice, Webservice\n",
    "import pandas as pd\n",
    "import numpy as np\n",
    "import joblib\n",
    "import json\n",
    "import requests"
   ]
  },
  {
   "cell_type": "code",
   "execution_count": 4,
   "metadata": {
    "gather": {
     "logged": 1611071821702
    },
    "jupyter": {
     "outputs_hidden": false,
     "source_hidden": false
    },
    "nteract": {
     "transient": {
      "deleting": false
     }
    }
   },
   "outputs": [],
   "source": [
    "ws = Workspace.from_config()\n",
    "experiment_name = 'california-housing'\n",
    "experiment2=Experiment(ws, experiment_name)"
   ]
  },
  {
   "cell_type": "markdown",
   "metadata": {},
   "source": [
    "## Create or use a compute target"
   ]
  },
  {
   "cell_type": "code",
   "execution_count": 5,
   "metadata": {
    "gather": {
     "logged": 1611071827707
    }
   },
   "outputs": [
    {
     "name": "stdout",
     "output_type": "stream",
     "text": [
      "Using existing compute target.\n",
      "Succeeded\n",
      "AmlCompute wait for completion finished\n",
      "\n",
      "Minimum number of nodes requested have been provisioned\n"
     ]
    }
   ],
   "source": [
    "compute_name = \"nuria-p3\"\n",
    "try:\n",
    "    compute_target = ComputeTarget(workspace=ws, name=compute_name)\n",
    "    print('Using existing compute target.')\n",
    "except ComputeTargetException:\n",
    "    print('Creating compute target.')\n",
    "    cluster_type = 1\n",
    "    provisioning_config = AmlCompute.provisioning_configuration(vm_size='Standard_D12_V2', min_nodes=1, max_nodes=5)\n",
    "    compute_target = ComputeTarget.create(ws, compute_name, provisioning_config)\n",
    "\n",
    "compute_target.wait_for_completion(show_output=True)"
   ]
  },
  {
   "cell_type": "markdown",
   "metadata": {},
   "source": [
    "## Dataset\n",
    "\n",
    "### Overview\n",
    "TODO: In this markdown cell, give an overview of the dataset you are using. Also mention the task you will be performing.\n",
    "\n",
    "\n",
    "TODO: Get data. In the cell below, write code to access the data you will be using in this project. Remember that the dataset needs to be external."
   ]
  },
  {
   "cell_type": "code",
   "execution_count": 6,
   "metadata": {
    "gather": {
     "logged": 1611071835731
    }
   },
   "outputs": [],
   "source": [
    "# load data and create datasets for training and testing\n",
    "from sklearn.datasets import fetch_california_housing\n",
    "from sklearn.model_selection import train_test_split\n",
    "\n",
    "def create_datasets(x,y):\n",
    "    columns_x = ['MedInc','HouseAge','AveRooms','AveBedrms','Population','AveOccup','Latitude','Longitude']\n",
    "    x_df = pd.DataFrame(x,columns=columns_x)  \n",
    "    columns_y = ['MedHouseVal']\n",
    "    y_df = pd.DataFrame(y,columns=columns_y)  \n",
    "    x_tr,x_test,y_tr,y_test = train_test_split(x_df,y_df, test_size = 20, random_state=0)\n",
    "    return x_tr,x_test,y_tr,y_test\n",
    "  \n",
    "x,y = fetch_california_housing(return_X_y=True)\n",
    "x_train,x_test,y_train,y_test = create_datasets(x,y)\n",
    "data = pd.concat([x_train,y_train], axis=1)"
   ]
  },
  {
   "cell_type": "code",
   "execution_count": 7,
   "metadata": {},
   "outputs": [],
   "source": [
    "# Check if train dataset is already registered, if not, register it.\n",
    "found = False\n",
    "datastore=ws.get_default_datastore() \n",
    "if 'data' in ws.datasets.keys(): \n",
    "        found = True\n",
    "if not found:\n",
    "        TabularDatasetFactory.register_pandas_dataframe(data, datastore,'data')\n",
    "ds = Dataset.get_by_name(ws,'data')"
   ]
  },
  {
   "cell_type": "markdown",
   "metadata": {},
   "source": [
    "### NOTE: the method used above is experimental, if it does break in the future, use this procedure (create data directory if needed)\n",
    "                     \n",
    "`` data.to_csv('data/data_csv.csv')``                  \n",
    "`` datastore.upload(src_dir='data', target_path='data')``                                                   \n",
    "`` ds = Dataset.Tabular.from_delimited_files(path = [(datastore, ('data/data_csv.csv'))])`` "
   ]
  },
  {
   "cell_type": "markdown",
   "metadata": {},
   "source": [
    "## AutoML Configuration\n",
    "\n",
    "TODO: Explain why you chose the automl settings and cofiguration you used below."
   ]
  },
  {
   "cell_type": "code",
   "execution_count": 8,
   "metadata": {
    "gather": {
     "logged": 1610301350682
    },
    "jupyter": {
     "outputs_hidden": false,
     "source_hidden": false
    },
    "nteract": {
     "transient": {
      "deleting": false
     }
    }
   },
   "outputs": [],
   "source": [
    "# TODO: Put your automl settings here\n",
    "automl_settings = { \"experiment_timeout_minutes\": 60,\n",
    "                    \"max_concurrent_iterations\": 5,\n",
    "                    \"primary_metric\" : 'r2_score'}      \n",
    "\n",
    "# TODO: Put your automl config here\n",
    "automl_config = AutoMLConfig(compute_target=compute_target,\n",
    "                             task = 'regression',\n",
    "                             training_data = ds,\n",
    "                             label_column_name ='MedHouseVal',   \n",
    "                             path = './automl',\n",
    "                             enable_early_stopping = True,\n",
    "                             featurization = 'auto',\n",
    "                             validation_size = 0.2,\n",
    "                             debug_log = 'automl_errors.log',\n",
    "                             enable_onnx_compatible_models = True,\n",
    "                             model_explainability=True,\n",
    "                             **automl_settings)"
   ]
  },
  {
   "cell_type": "code",
   "execution_count": 9,
   "metadata": {
    "gather": {
     "logged": 1598431107951
    },
    "jupyter": {
     "outputs_hidden": false,
     "source_hidden": false
    },
    "nteract": {
     "transient": {
      "deleting": false
     }
    }
   },
   "outputs": [
    {
     "name": "stdout",
     "output_type": "stream",
     "text": [
      "Running on remote.\n"
     ]
    }
   ],
   "source": [
    "# TODO: Submit your experiment\n",
    "remote_run = experiment2.submit(automl_config)"
   ]
  },
  {
   "cell_type": "markdown",
   "metadata": {},
   "source": [
    "## Run Details\n",
    "\n",
    "OPTIONAL: Write about the different models trained and their performance. Why do you think some models did better than others?\n",
    "\n",
    "TODO: In the cell below, use the `RunDetails` widget to show the different experiments."
   ]
  },
  {
   "cell_type": "code",
   "execution_count": 10,
   "metadata": {
    "gather": {
     "logged": 1598431121770
    },
    "jupyter": {
     "outputs_hidden": false,
     "source_hidden": false
    },
    "nteract": {
     "transient": {
      "deleting": false
     }
    }
   },
   "outputs": [
    {
     "data": {
      "application/vnd.jupyter.widget-view+json": {
       "model_id": "4b811a88ff044c6a899b374cdc10f70c",
       "version_major": 2,
       "version_minor": 0
      },
      "text/plain": [
       "_AutoMLWidget(widget_settings={'childWidgetDisplay': 'popup', 'send_telemetry': False, 'log_level': 'INFO', 's…"
      ]
     },
     "metadata": {},
     "output_type": "display_data"
    },
    {
     "data": {
      "application/aml.mini.widget.v1": "{\"status\": \"Completed\", \"workbench_run_details_uri\": \"https://ml.azure.com/experiments/california-housing/runs/AutoML_776f0748-dc4e-4a18-a10e-774284fe4973?wsid=/subscriptions/48a74bb7-9950-4cc1-9caa-5d50f995cc55/resourcegroups/aml-quickstarts-135814/workspaces/quick-starts-ws-135814\", \"run_id\": \"AutoML_776f0748-dc4e-4a18-a10e-774284fe4973\", \"run_properties\": {\"run_id\": \"AutoML_776f0748-dc4e-4a18-a10e-774284fe4973\", \"created_utc\": \"2021-01-23T19:09:59.532909Z\", \"properties\": {\"num_iterations\": \"1000\", \"training_type\": \"TrainFull\", \"acquisition_function\": \"EI\", \"primary_metric\": \"r2_score\", \"train_split\": \"0.2\", \"acquisition_parameter\": \"0\", \"num_cross_validation\": null, \"target\": \"nuria-p3\", \"AMLSettingsJsonString\": \"{\\\"path\\\":null,\\\"name\\\":\\\"california-housing\\\",\\\"subscription_id\\\":\\\"48a74bb7-9950-4cc1-9caa-5d50f995cc55\\\",\\\"resource_group\\\":\\\"aml-quickstarts-135814\\\",\\\"workspace_name\\\":\\\"quick-starts-ws-135814\\\",\\\"region\\\":\\\"southcentralus\\\",\\\"compute_target\\\":\\\"nuria-p3\\\",\\\"spark_service\\\":null,\\\"azure_service\\\":\\\"remote\\\",\\\"many_models\\\":false,\\\"pipeline_fetch_max_batch_size\\\":1,\\\"iterations\\\":1000,\\\"primary_metric\\\":\\\"r2_score\\\",\\\"task_type\\\":\\\"regression\\\",\\\"data_script\\\":null,\\\"validation_size\\\":0.2,\\\"n_cross_validations\\\":null,\\\"y_min\\\":null,\\\"y_max\\\":null,\\\"num_classes\\\":null,\\\"featurization\\\":\\\"auto\\\",\\\"_ignore_package_version_incompatibilities\\\":false,\\\"is_timeseries\\\":false,\\\"max_cores_per_iteration\\\":1,\\\"max_concurrent_iterations\\\":5,\\\"iteration_timeout_minutes\\\":null,\\\"mem_in_mb\\\":null,\\\"enforce_time_on_windows\\\":false,\\\"experiment_timeout_minutes\\\":60,\\\"experiment_exit_score\\\":null,\\\"whitelist_models\\\":null,\\\"blacklist_algos\\\":[\\\"TensorFlowDNN\\\",\\\"TensorFlowLinearRegressor\\\"],\\\"supported_models\\\":[\\\"XGBoostRegressor\\\",\\\"FastLinearRegressor\\\",\\\"DecisionTree\\\",\\\"TensorFlowLinearRegressor\\\",\\\"TensorFlowDNN\\\",\\\"ElasticNet\\\",\\\"LassoLars\\\",\\\"GradientBoosting\\\",\\\"SGD\\\",\\\"KNN\\\",\\\"RandomForest\\\",\\\"LightGBM\\\",\\\"OnlineGradientDescentRegressor\\\",\\\"ExtremeRandomTrees\\\"],\\\"auto_blacklist\\\":true,\\\"blacklist_samples_reached\\\":false,\\\"exclude_nan_labels\\\":true,\\\"verbosity\\\":20,\\\"_debug_log\\\":\\\"azureml_automl.log\\\",\\\"show_warnings\\\":false,\\\"model_explainability\\\":true,\\\"service_url\\\":null,\\\"sdk_url\\\":null,\\\"sdk_packages\\\":null,\\\"enable_onnx_compatible_models\\\":true,\\\"enable_split_onnx_featurizer_estimator_models\\\":false,\\\"vm_type\\\":\\\"STANDARD_D12_V2\\\",\\\"telemetry_verbosity\\\":20,\\\"send_telemetry\\\":true,\\\"enable_dnn\\\":false,\\\"scenario\\\":\\\"SDK-1.13.0\\\",\\\"environment_label\\\":null,\\\"force_text_dnn\\\":false,\\\"enable_feature_sweeping\\\":false,\\\"enable_early_stopping\\\":true,\\\"early_stopping_n_iters\\\":10,\\\"metrics\\\":null,\\\"enable_ensembling\\\":true,\\\"enable_stack_ensembling\\\":false,\\\"ensemble_iterations\\\":15,\\\"enable_tf\\\":false,\\\"enable_subsampling\\\":null,\\\"subsample_seed\\\":null,\\\"enable_nimbusml\\\":false,\\\"enable_streaming\\\":false,\\\"force_streaming\\\":false,\\\"track_child_runs\\\":true,\\\"allowed_private_models\\\":[],\\\"label_column_name\\\":\\\"MedHouseVal\\\",\\\"weight_column_name\\\":null,\\\"cv_split_column_names\\\":null,\\\"enable_local_managed\\\":false,\\\"_local_managed_run_id\\\":null,\\\"cost_mode\\\":1,\\\"lag_length\\\":0,\\\"metric_operation\\\":\\\"maximize\\\",\\\"preprocess\\\":true}\", \"DataPrepJsonString\": \"{\\\\\\\"training_data\\\\\\\": \\\\\\\"{\\\\\\\\\\\\\\\"blocks\\\\\\\\\\\\\\\": [{\\\\\\\\\\\\\\\"id\\\\\\\\\\\\\\\": \\\\\\\\\\\\\\\"3cba0721-cbd9-440f-b72d-2b8df93b5184\\\\\\\\\\\\\\\", \\\\\\\\\\\\\\\"type\\\\\\\\\\\\\\\": \\\\\\\\\\\\\\\"Microsoft.DPrep.GetDatastoreFilesBlock\\\\\\\\\\\\\\\", \\\\\\\\\\\\\\\"arguments\\\\\\\\\\\\\\\": {\\\\\\\\\\\\\\\"datastores\\\\\\\\\\\\\\\": [{\\\\\\\\\\\\\\\"datastoreName\\\\\\\\\\\\\\\": \\\\\\\\\\\\\\\"workspaceblobstore\\\\\\\\\\\\\\\", \\\\\\\\\\\\\\\"path\\\\\\\\\\\\\\\": \\\\\\\\\\\\\\\"managed-dataset/fc4d6ecf-6725-4787-8e72-b46cf838b529/\\\\\\\\\\\\\\\", \\\\\\\\\\\\\\\"resourceGroup\\\\\\\\\\\\\\\": \\\\\\\\\\\\\\\"aml-quickstarts-135814\\\\\\\\\\\\\\\", \\\\\\\\\\\\\\\"subscription\\\\\\\\\\\\\\\": \\\\\\\\\\\\\\\"48a74bb7-9950-4cc1-9caa-5d50f995cc55\\\\\\\\\\\\\\\", \\\\\\\\\\\\\\\"workspaceName\\\\\\\\\\\\\\\": \\\\\\\\\\\\\\\"quick-starts-ws-135814\\\\\\\\\\\\\\\"}]}, \\\\\\\\\\\\\\\"localData\\\\\\\\\\\\\\\": {}, \\\\\\\\\\\\\\\"isEnabled\\\\\\\\\\\\\\\": true, \\\\\\\\\\\\\\\"name\\\\\\\\\\\\\\\": null, \\\\\\\\\\\\\\\"annotation\\\\\\\\\\\\\\\": null}, {\\\\\\\\\\\\\\\"id\\\\\\\\\\\\\\\": \\\\\\\\\\\\\\\"6c989be0-a9ba-49ad-af6f-b034aa0c25c2\\\\\\\\\\\\\\\", \\\\\\\\\\\\\\\"type\\\\\\\\\\\\\\\": \\\\\\\\\\\\\\\"Microsoft.DPrep.ReadParquetFileBlock\\\\\\\\\\\\\\\", \\\\\\\\\\\\\\\"arguments\\\\\\\\\\\\\\\": {\\\\\\\\\\\\\\\"preview\\\\\\\\\\\\\\\": false}, \\\\\\\\\\\\\\\"localData\\\\\\\\\\\\\\\": {}, \\\\\\\\\\\\\\\"isEnabled\\\\\\\\\\\\\\\": true, \\\\\\\\\\\\\\\"name\\\\\\\\\\\\\\\": null, \\\\\\\\\\\\\\\"annotation\\\\\\\\\\\\\\\": null}, {\\\\\\\\\\\\\\\"id\\\\\\\\\\\\\\\": \\\\\\\\\\\\\\\"1b5a9941-9613-46be-b8a4-81f3e5e9edf1\\\\\\\\\\\\\\\", \\\\\\\\\\\\\\\"type\\\\\\\\\\\\\\\": \\\\\\\\\\\\\\\"Microsoft.DPrep.DropColumnsBlock\\\\\\\\\\\\\\\", \\\\\\\\\\\\\\\"arguments\\\\\\\\\\\\\\\": {\\\\\\\\\\\\\\\"columns\\\\\\\\\\\\\\\": {\\\\\\\\\\\\\\\"type\\\\\\\\\\\\\\\": 0, \\\\\\\\\\\\\\\"details\\\\\\\\\\\\\\\": {\\\\\\\\\\\\\\\"selectedColumns\\\\\\\\\\\\\\\": [\\\\\\\\\\\\\\\"Path\\\\\\\\\\\\\\\"]}}}, \\\\\\\\\\\\\\\"localData\\\\\\\\\\\\\\\": {}, \\\\\\\\\\\\\\\"isEnabled\\\\\\\\\\\\\\\": true, \\\\\\\\\\\\\\\"name\\\\\\\\\\\\\\\": null, \\\\\\\\\\\\\\\"annotation\\\\\\\\\\\\\\\": null}], \\\\\\\\\\\\\\\"inspectors\\\\\\\\\\\\\\\": [], \\\\\\\\\\\\\\\"meta\\\\\\\\\\\\\\\": {\\\\\\\\\\\\\\\"savedDatasetId\\\\\\\\\\\\\\\": \\\\\\\\\\\\\\\"640c2eff-4319-4522-8d0a-97412f155f6b\\\\\\\\\\\\\\\", \\\\\\\\\\\\\\\"datasetType\\\\\\\\\\\\\\\": \\\\\\\\\\\\\\\"tabular\\\\\\\\\\\\\\\", \\\\\\\\\\\\\\\"subscriptionId\\\\\\\\\\\\\\\": \\\\\\\\\\\\\\\"48a74bb7-9950-4cc1-9caa-5d50f995cc55\\\\\\\\\\\\\\\", \\\\\\\\\\\\\\\"workspaceId\\\\\\\\\\\\\\\": \\\\\\\\\\\\\\\"b52a5bd0-b387-43eb-9424-206792716cb1\\\\\\\\\\\\\\\", \\\\\\\\\\\\\\\"workspaceLocation\\\\\\\\\\\\\\\": \\\\\\\\\\\\\\\"southcentralus\\\\\\\\\\\\\\\"}}\\\\\\\", \\\\\\\"activities\\\\\\\": 0}\", \"EnableSubsampling\": null, \"runTemplate\": \"AutoML\", \"azureml.runsource\": \"automl\", \"display_task_type\": \"regression\", \"dependencies_versions\": \"{\\\"azureml-widgets\\\": \\\"1.20.0\\\", \\\"azureml-train\\\": \\\"1.20.0\\\", \\\"azureml-train-restclients-hyperdrive\\\": \\\"1.20.0\\\", \\\"azureml-train-core\\\": \\\"1.20.0\\\", \\\"azureml-train-automl\\\": \\\"1.20.0\\\", \\\"azureml-train-automl-runtime\\\": \\\"1.20.0.post1\\\", \\\"azureml-train-automl-client\\\": \\\"1.20.0\\\", \\\"azureml-tensorboard\\\": \\\"1.19.0\\\", \\\"azureml-telemetry\\\": \\\"1.20.0\\\", \\\"azureml-sdk\\\": \\\"1.20.0\\\", \\\"azureml-samples\\\": \\\"0+unknown\\\", \\\"azureml-pipeline\\\": \\\"1.20.0\\\", \\\"azureml-pipeline-steps\\\": \\\"1.20.0\\\", \\\"azureml-pipeline-core\\\": \\\"1.20.0\\\", \\\"azureml-opendatasets\\\": \\\"1.19.0\\\", \\\"azureml-model-management-sdk\\\": \\\"1.0.1b6.post1\\\", \\\"azureml-mlflow\\\": \\\"1.19.0\\\", \\\"azureml-interpret\\\": \\\"1.20.0\\\", \\\"azureml-explain-model\\\": \\\"1.19.0\\\", \\\"azureml-defaults\\\": \\\"1.20.0\\\", \\\"azureml-dataset-runtime\\\": \\\"1.20.0\\\", \\\"azureml-dataprep\\\": \\\"2.7.3\\\", \\\"azureml-dataprep-rslex\\\": \\\"1.5.0\\\", \\\"azureml-dataprep-native\\\": \\\"27.0.0\\\", \\\"azureml-datadrift\\\": \\\"1.19.0\\\", \\\"azureml-core\\\": \\\"1.20.0\\\", \\\"azureml-contrib-services\\\": \\\"1.19.0\\\", \\\"azureml-contrib-server\\\": \\\"1.19.0\\\", \\\"azureml-contrib-reinforcementlearning\\\": \\\"1.19.0\\\", \\\"azureml-contrib-pipeline-steps\\\": \\\"1.19.0\\\", \\\"azureml-contrib-notebook\\\": \\\"1.20.0\\\", \\\"azureml-contrib-interpret\\\": \\\"1.19.0\\\", \\\"azureml-contrib-gbdt\\\": \\\"1.19.0\\\", \\\"azureml-contrib-fairness\\\": \\\"1.19.0\\\", \\\"azureml-contrib-dataset\\\": \\\"1.19.0\\\", \\\"azureml-cli-common\\\": \\\"1.19.0\\\", \\\"azureml-automl-runtime\\\": \\\"1.20.0\\\", \\\"azureml-automl-core\\\": \\\"1.20.0\\\", \\\"azureml-accel-models\\\": \\\"1.19.0\\\"}\", \"_aml_system_scenario_identification\": \"Remote.Parent\", \"ClientType\": \"SDK\", \"environment_cpu_name\": \"AzureML-AutoML\", \"environment_cpu_label\": \"prod\", \"environment_gpu_name\": \"AzureML-AutoML-GPU\", \"environment_gpu_label\": \"prod\", \"root_attribution\": \"automl\", \"attribution\": \"AutoML\", \"Orchestrator\": \"AutoML\", \"CancelUri\": \"https://southcentralus.experiments.azureml.net/jasmine/v1.0/subscriptions/48a74bb7-9950-4cc1-9caa-5d50f995cc55/resourceGroups/aml-quickstarts-135814/providers/Microsoft.MachineLearningServices/workspaces/quick-starts-ws-135814/experimentids/375e129d-0d8a-48e1-b8fb-ea00d8f20dac/cancel/AutoML_776f0748-dc4e-4a18-a10e-774284fe4973\", \"ClientSdkVersion\": \"1.20.0\", \"snapshotId\": \"00000000-0000-0000-0000-000000000000\", \"SetupRunId\": \"AutoML_776f0748-dc4e-4a18-a10e-774284fe4973_setup\", \"SetupRunContainerId\": \"dcid.AutoML_776f0748-dc4e-4a18-a10e-774284fe4973_setup\", \"FeaturizationRunJsonPath\": \"featurizer_container.json\", \"FeaturizationRunId\": \"AutoML_776f0748-dc4e-4a18-a10e-774284fe4973_featurize\", \"ProblemInfoJsonString\": \"{\\\"dataset_num_categorical\\\": 0, \\\"is_sparse\\\": false, \\\"subsampling\\\": false, \\\"dataset_classes\\\": 3659, \\\"dataset_features\\\": 8, \\\"dataset_samples\\\": 16496, \\\"single_frequency_class_detected\\\": false}\", \"ModelExplainRunId\": \"AutoML_776f0748-dc4e-4a18-a10e-774284fe4973_ModelExplain\"}, \"tags\": {\"model_explain_run\": \"best_run\", \"_aml_system_azureml.automlComponent\": \"AutoML\", \"pipeline_id\": \"\", \"score\": \"\", \"predicted_cost\": \"\", \"fit_time\": \"\", \"training_percent\": \"\", \"iteration\": \"\", \"run_preprocessor\": \"\", \"run_algorithm\": \"\", \"dynamic_whitelisting_iterations\": \"<25>;<30>;<35>;\", \"automl_best_child_run_id\": \"AutoML_776f0748-dc4e-4a18-a10e-774284fe4973_38\"}, \"end_time_utc\": \"2021-01-23T19:28:00.948236Z\", \"status\": \"Completed\", \"log_files\": {}, \"log_groups\": [], \"run_duration\": \"0:18:01\"}, \"child_runs\": [{\"run_id\": \"AutoML_776f0748-dc4e-4a18-a10e-774284fe4973_1\", \"run_number\": 7, \"metric\": null, \"status\": \"Completed\", \"run_type\": \"azureml.scriptrun\", \"training_percent\": \"100\", \"start_time\": \"2021-01-23T19:14:06.87734Z\", \"end_time\": \"2021-01-23T19:14:51.356328Z\", \"created_time\": \"2021-01-23T19:13:56.260469Z\", \"created_time_dt\": \"2021-01-23T19:13:56.260469Z\", \"duration\": \"0:00:55\", \"iteration\": \"1\", \"goal\": \"r2_score_max\", \"run_name\": \"MaxAbsScaler, XGBoostRegressor\", \"run_properties\": \"copy=True\", \"primary_metric\": 0.79454155, \"best_metric\": 0.8418665}, {\"run_id\": \"AutoML_776f0748-dc4e-4a18-a10e-774284fe4973_3\", \"run_number\": 8, \"metric\": null, \"status\": \"Completed\", \"run_type\": \"azureml.scriptrun\", \"training_percent\": \"100\", \"start_time\": \"2021-01-23T19:15:43.22923Z\", \"end_time\": \"2021-01-23T19:18:10.078258Z\", \"created_time\": \"2021-01-23T19:13:56.294257Z\", \"created_time_dt\": \"2021-01-23T19:13:56.294257Z\", \"duration\": \"0:04:13\", \"iteration\": \"3\", \"goal\": \"r2_score_max\", \"run_name\": \"MaxAbsScaler, RandomForest\", \"run_properties\": \"copy=True\", \"primary_metric\": 0.73736502, \"best_metric\": 0.8418665}, {\"run_id\": \"AutoML_776f0748-dc4e-4a18-a10e-774284fe4973_4\", \"run_number\": 9, \"metric\": null, \"status\": \"Completed\", \"run_type\": \"azureml.scriptrun\", \"training_percent\": \"100\", \"start_time\": \"2021-01-23T19:15:42.849046Z\", \"end_time\": \"2021-01-23T19:18:03.402182Z\", \"created_time\": \"2021-01-23T19:13:56.328828Z\", \"created_time_dt\": \"2021-01-23T19:13:56.328828Z\", \"duration\": \"0:04:07\", \"iteration\": \"4\", \"goal\": \"r2_score_max\", \"run_name\": \"StandardScalerWrapper, XGBoostRegressor\", \"run_properties\": \"<azureml.automl.runtime.shared.model_wrappers.StandardScalerWrapper object at 0x7fb1997fa860\", \"primary_metric\": 0.84854969, \"best_metric\": 0.84854969}, {\"run_id\": \"AutoML_776f0748-dc4e-4a18-a10e-774284fe4973_2\", \"run_number\": 10, \"metric\": null, \"status\": \"Completed\", \"run_type\": \"azureml.scriptrun\", \"training_percent\": \"100\", \"start_time\": \"2021-01-23T19:15:38.229674Z\", \"end_time\": \"2021-01-23T19:16:30.78992Z\", \"created_time\": \"2021-01-23T19:13:56.357626Z\", \"created_time_dt\": \"2021-01-23T19:13:56.357626Z\", \"duration\": \"0:02:34\", \"iteration\": \"2\", \"goal\": \"r2_score_max\", \"run_name\": \"SparseNormalizer, XGBoostRegressor\", \"run_properties\": \"<azureml.automl.runtime.shared.model_wrappers.SparseNormalizer object at 0x7f0fe469ff28\", \"primary_metric\": 0.65800568, \"best_metric\": 0.8418665}, {\"run_id\": \"AutoML_776f0748-dc4e-4a18-a10e-774284fe4973_0\", \"run_number\": 11, \"metric\": null, \"status\": \"Completed\", \"run_type\": \"azureml.scriptrun\", \"training_percent\": \"100\", \"start_time\": \"2021-01-23T19:14:54.466031Z\", \"end_time\": \"2021-01-23T19:15:36.583383Z\", \"created_time\": \"2021-01-23T19:13:56.447465Z\", \"created_time_dt\": \"2021-01-23T19:13:56.447465Z\", \"duration\": \"0:01:40\", \"iteration\": \"0\", \"goal\": \"r2_score_max\", \"run_name\": \"MaxAbsScaler, LightGBM\", \"run_properties\": \"copy=True\", \"primary_metric\": 0.8418665, \"best_metric\": 0.8418665}, {\"run_id\": \"AutoML_776f0748-dc4e-4a18-a10e-774284fe4973_5\", \"run_number\": 12, \"metric\": null, \"status\": \"Completed\", \"run_type\": \"azureml.scriptrun\", \"training_percent\": \"100\", \"start_time\": \"2021-01-23T19:15:41.210192Z\", \"end_time\": \"2021-01-23T19:17:50.498384Z\", \"created_time\": \"2021-01-23T19:14:54.235778Z\", \"created_time_dt\": \"2021-01-23T19:14:54.235778Z\", \"duration\": \"0:02:56\", \"iteration\": \"5\", \"goal\": \"r2_score_max\", \"run_name\": \"MaxAbsScaler, ElasticNet\", \"run_properties\": \"copy=True\", \"primary_metric\": 0.56449708, \"best_metric\": 0.84854969}, {\"run_id\": \"AutoML_776f0748-dc4e-4a18-a10e-774284fe4973_6\", \"run_number\": 13, \"metric\": null, \"status\": \"Completed\", \"run_type\": \"azureml.scriptrun\", \"training_percent\": \"100\", \"start_time\": \"2021-01-23T19:15:51.851147Z\", \"end_time\": \"2021-01-23T19:18:25.632681Z\", \"created_time\": \"2021-01-23T19:15:38.203648Z\", \"created_time_dt\": \"2021-01-23T19:15:38.203648Z\", \"duration\": \"0:02:47\", \"iteration\": \"6\", \"goal\": \"r2_score_max\", \"run_name\": \"MinMaxScaler, RandomForest\", \"run_properties\": \"copy=True, feature_range=(0, 1\", \"primary_metric\": 0.69539935, \"best_metric\": 0.84854969}, {\"run_id\": \"AutoML_776f0748-dc4e-4a18-a10e-774284fe4973_7\", \"run_number\": 14, \"metric\": null, \"status\": \"Completed\", \"run_type\": \"azureml.scriptrun\", \"training_percent\": \"100\", \"start_time\": \"2021-01-23T19:16:47.328754Z\", \"end_time\": \"2021-01-23T19:17:34.432747Z\", \"created_time\": \"2021-01-23T19:16:34.402825Z\", \"created_time_dt\": \"2021-01-23T19:16:34.402825Z\", \"duration\": \"0:01:00\", \"iteration\": \"7\", \"goal\": \"r2_score_max\", \"run_name\": \"StandardScalerWrapper, XGBoostRegressor\", \"run_properties\": \"<azureml.automl.runtime.shared.model_wrappers.StandardScalerWrapper object at 0x7fc975ba3630\", \"primary_metric\": 0.8430163, \"best_metric\": 0.84854969}, {\"run_id\": \"AutoML_776f0748-dc4e-4a18-a10e-774284fe4973_8\", \"run_number\": 15, \"metric\": null, \"status\": \"Completed\", \"run_type\": \"azureml.scriptrun\", \"training_percent\": \"100\", \"start_time\": \"2021-01-23T19:17:50.777081Z\", \"end_time\": \"2021-01-23T19:18:39.420138Z\", \"created_time\": \"2021-01-23T19:17:38.625117Z\", \"created_time_dt\": \"2021-01-23T19:17:38.625117Z\", \"duration\": \"0:01:00\", \"iteration\": \"8\", \"goal\": \"r2_score_max\", \"run_name\": \"MinMaxScaler, ExtremeRandomTrees\", \"run_properties\": \"copy=True, feature_range=(0, 1\", \"primary_metric\": 0.71921578, \"best_metric\": 0.84854969}, {\"run_id\": \"AutoML_776f0748-dc4e-4a18-a10e-774284fe4973_9\", \"run_number\": 16, \"metric\": null, \"status\": \"Completed\", \"run_type\": \"azureml.scriptrun\", \"training_percent\": \"100\", \"start_time\": \"2021-01-23T19:18:05.585997Z\", \"end_time\": \"2021-01-23T19:18:51.312973Z\", \"created_time\": \"2021-01-23T19:17:53.906404Z\", \"created_time_dt\": \"2021-01-23T19:17:53.906404Z\", \"duration\": \"0:00:57\", \"iteration\": \"9\", \"goal\": \"r2_score_max\", \"run_name\": \"StandardScalerWrapper, ElasticNet\", \"run_properties\": \"<azureml.automl.runtime.shared.model_wrappers.StandardScalerWrapper object at 0x7ff3e63196d8\", \"primary_metric\": 0.56630309, \"best_metric\": 0.84854969}, {\"run_id\": \"AutoML_776f0748-dc4e-4a18-a10e-774284fe4973_10\", \"run_number\": 17, \"metric\": null, \"status\": \"Completed\", \"run_type\": \"azureml.scriptrun\", \"training_percent\": \"100\", \"start_time\": \"2021-01-23T19:18:18.36116Z\", \"end_time\": \"2021-01-23T19:19:41.207367Z\", \"created_time\": \"2021-01-23T19:18:06.9991Z\", \"created_time_dt\": \"2021-01-23T19:18:06.9991Z\", \"duration\": \"0:01:34\", \"iteration\": \"10\", \"goal\": \"r2_score_max\", \"run_name\": \"MinMaxScaler, RandomForest\", \"run_properties\": \"copy=True, feature_range=(0, 1\", \"primary_metric\": 0.77009511, \"best_metric\": 0.84854969}, {\"run_id\": \"AutoML_776f0748-dc4e-4a18-a10e-774284fe4973_11\", \"run_number\": 18, \"metric\": null, \"status\": \"Completed\", \"run_type\": \"azureml.scriptrun\", \"training_percent\": \"100\", \"start_time\": \"2021-01-23T19:18:24.482024Z\", \"end_time\": \"2021-01-23T19:19:06.402409Z\", \"created_time\": \"2021-01-23T19:18:13.442348Z\", \"created_time_dt\": \"2021-01-23T19:18:13.442348Z\", \"duration\": \"0:00:52\", \"iteration\": \"11\", \"goal\": \"r2_score_max\", \"run_name\": \"MinMaxScaler, RandomForest\", \"run_properties\": \"copy=True, feature_range=(0, 1\", \"primary_metric\": 0.7393962, \"best_metric\": 0.84854969}, {\"run_id\": \"AutoML_776f0748-dc4e-4a18-a10e-774284fe4973_12\", \"run_number\": 19, \"metric\": null, \"status\": \"Completed\", \"run_type\": \"azureml.scriptrun\", \"training_percent\": \"100\", \"start_time\": \"2021-01-23T19:18:41.77702Z\", \"end_time\": \"2021-01-23T19:19:27.581298Z\", \"created_time\": \"2021-01-23T19:18:29.535526Z\", \"created_time_dt\": \"2021-01-23T19:18:29.535526Z\", \"duration\": \"0:00:58\", \"iteration\": \"12\", \"goal\": \"r2_score_max\", \"run_name\": \"StandardScalerWrapper, XGBoostRegressor\", \"run_properties\": \"<azureml.automl.runtime.shared.model_wrappers.StandardScalerWrapper object at 0x7f286862ab38\", \"primary_metric\": 0.78302028, \"best_metric\": 0.84854969}, {\"run_id\": \"AutoML_776f0748-dc4e-4a18-a10e-774284fe4973_13\", \"run_number\": 20, \"metric\": null, \"status\": \"Completed\", \"run_type\": \"azureml.scriptrun\", \"training_percent\": \"100\", \"start_time\": \"2021-01-23T19:18:53.002299Z\", \"end_time\": \"2021-01-23T19:19:37.519222Z\", \"created_time\": \"2021-01-23T19:18:43.020093Z\", \"created_time_dt\": \"2021-01-23T19:18:43.020093Z\", \"duration\": \"0:00:54\", \"iteration\": \"13\", \"goal\": \"r2_score_max\", \"run_name\": \"RobustScaler, LassoLars\", \"run_properties\": \"copy=True, quantile_range=[10, 90], with_centering=False,\\n             with_scaling=True\", \"primary_metric\": 0.60841254, \"best_metric\": 0.84854969}, {\"run_id\": \"AutoML_776f0748-dc4e-4a18-a10e-774284fe4973_14\", \"run_number\": 21, \"metric\": null, \"status\": \"Completed\", \"run_type\": \"azureml.scriptrun\", \"training_percent\": \"100\", \"start_time\": \"2021-01-23T19:19:06.898091Z\", \"end_time\": \"2021-01-23T19:19:45.996501Z\", \"created_time\": \"2021-01-23T19:18:54.705335Z\", \"created_time_dt\": \"2021-01-23T19:18:54.705335Z\", \"duration\": \"0:00:51\", \"iteration\": \"14\", \"goal\": \"r2_score_max\", \"run_name\": \"MinMaxScaler, ExtremeRandomTrees\", \"run_properties\": \"copy=True, feature_range=(0, 1\", \"primary_metric\": 0.73210515, \"best_metric\": 0.84854969}, {\"run_id\": \"AutoML_776f0748-dc4e-4a18-a10e-774284fe4973_15\", \"run_number\": 22, \"metric\": null, \"status\": \"Completed\", \"run_type\": \"azureml.scriptrun\", \"training_percent\": \"100\", \"start_time\": \"2021-01-23T19:19:22.264097Z\", \"end_time\": \"2021-01-23T19:20:09.688303Z\", \"created_time\": \"2021-01-23T19:19:09.855792Z\", \"created_time_dt\": \"2021-01-23T19:19:09.855792Z\", \"duration\": \"0:00:59\", \"iteration\": \"15\", \"goal\": \"r2_score_max\", \"run_name\": \"MaxAbsScaler, ExtremeRandomTrees\", \"run_properties\": \"copy=True\", \"primary_metric\": 0.45664612, \"best_metric\": 0.84854969}, {\"run_id\": \"AutoML_776f0748-dc4e-4a18-a10e-774284fe4973_16\", \"run_number\": 23, \"metric\": null, \"status\": \"Completed\", \"run_type\": \"azureml.scriptrun\", \"training_percent\": \"100\", \"start_time\": \"2021-01-23T19:19:43.41387Z\", \"end_time\": \"2021-01-23T19:20:31.924006Z\", \"created_time\": \"2021-01-23T19:19:31.124999Z\", \"created_time_dt\": \"2021-01-23T19:19:31.124999Z\", \"duration\": \"0:01:00\", \"iteration\": \"16\", \"goal\": \"r2_score_max\", \"run_name\": \"MinMaxScaler, ExtremeRandomTrees\", \"run_properties\": \"copy=True, feature_range=(0, 1\", \"primary_metric\": 0.70051178, \"best_metric\": 0.84854969}, {\"run_id\": \"AutoML_776f0748-dc4e-4a18-a10e-774284fe4973_17\", \"run_number\": 24, \"metric\": null, \"status\": \"Completed\", \"run_type\": \"azureml.scriptrun\", \"training_percent\": \"100\", \"start_time\": \"2021-01-23T19:19:55.467964Z\", \"end_time\": \"2021-01-23T19:20:38.352944Z\", \"created_time\": \"2021-01-23T19:19:40.776378Z\", \"created_time_dt\": \"2021-01-23T19:19:40.776378Z\", \"duration\": \"0:00:57\", \"iteration\": \"17\", \"goal\": \"r2_score_max\", \"run_name\": \"MaxAbsScaler, ElasticNet\", \"run_properties\": \"copy=True\", \"primary_metric\": 0.53021921, \"best_metric\": 0.84854969}, {\"run_id\": \"AutoML_776f0748-dc4e-4a18-a10e-774284fe4973_18\", \"run_number\": 25, \"metric\": null, \"status\": \"Completed\", \"run_type\": \"azureml.scriptrun\", \"training_percent\": \"100\", \"start_time\": \"2021-01-23T19:20:05.305605Z\", \"end_time\": \"2021-01-23T19:20:51.343043Z\", \"created_time\": \"2021-01-23T19:19:48.218738Z\", \"created_time_dt\": \"2021-01-23T19:19:48.218738Z\", \"duration\": \"0:01:03\", \"iteration\": \"18\", \"goal\": \"r2_score_max\", \"run_name\": \"MinMaxScaler, RandomForest\", \"run_properties\": \"copy=True, feature_range=(0, 1\", \"primary_metric\": 0.58227997, \"best_metric\": 0.84854969}, {\"run_id\": \"AutoML_776f0748-dc4e-4a18-a10e-774284fe4973_19\", \"run_number\": 26, \"metric\": null, \"status\": \"Completed\", \"run_type\": \"azureml.scriptrun\", \"training_percent\": \"100\", \"start_time\": \"2021-01-23T19:20:12.189812Z\", \"end_time\": \"2021-01-23T19:20:58.76291Z\", \"created_time\": \"2021-01-23T19:19:58.209609Z\", \"created_time_dt\": \"2021-01-23T19:19:58.209609Z\", \"duration\": \"0:01:00\", \"iteration\": \"19\", \"goal\": \"r2_score_max\", \"run_name\": \"MaxAbsScaler, RandomForest\", \"run_properties\": \"copy=True\", \"primary_metric\": 0.66098369, \"best_metric\": 0.84854969}, {\"run_id\": \"AutoML_776f0748-dc4e-4a18-a10e-774284fe4973_20\", \"run_number\": 27, \"metric\": null, \"status\": \"Completed\", \"run_type\": \"azureml.scriptrun\", \"training_percent\": \"100\", \"start_time\": \"2021-01-23T19:20:26.844196Z\", \"end_time\": \"2021-01-23T19:21:12.338676Z\", \"created_time\": \"2021-01-23T19:20:13.846502Z\", \"created_time_dt\": \"2021-01-23T19:20:13.846502Z\", \"duration\": \"0:00:58\", \"iteration\": \"20\", \"goal\": \"r2_score_max\", \"run_name\": \"RobustScaler, ElasticNet\", \"run_properties\": \"copy=True, quantile_range=[10, 90], with_centering=True,\\n             with_scaling=False\", \"primary_metric\": 0.6082913, \"best_metric\": 0.84854969}, {\"run_id\": \"AutoML_776f0748-dc4e-4a18-a10e-774284fe4973_21\", \"run_number\": 28, \"metric\": null, \"status\": \"Completed\", \"run_type\": \"azureml.scriptrun\", \"training_percent\": \"100\", \"start_time\": \"2021-01-23T19:20:48.115519Z\", \"end_time\": \"2021-01-23T19:22:04.178512Z\", \"created_time\": \"2021-01-23T19:20:35.215837Z\", \"created_time_dt\": \"2021-01-23T19:20:35.215837Z\", \"duration\": \"0:01:28\", \"iteration\": \"21\", \"goal\": \"r2_score_max\", \"run_name\": \"StandardScalerWrapper, RandomForest\", \"run_properties\": \"<azureml.automl.runtime.shared.model_wrappers.StandardScalerWrapper object at 0x7f6363c62438\", \"primary_metric\": 0.5744388, \"best_metric\": 0.84854969}, {\"run_id\": \"AutoML_776f0748-dc4e-4a18-a10e-774284fe4973_22\", \"run_number\": 29, \"metric\": null, \"status\": \"Completed\", \"run_type\": \"azureml.scriptrun\", \"training_percent\": \"100\", \"start_time\": \"2021-01-23T19:20:54.117619Z\", \"end_time\": \"2021-01-23T19:21:33.302008Z\", \"created_time\": \"2021-01-23T19:20:42.064152Z\", \"created_time_dt\": \"2021-01-23T19:20:42.064152Z\", \"duration\": \"0:00:51\", \"iteration\": \"22\", \"goal\": \"r2_score_max\", \"run_name\": \"MaxAbsScaler, ElasticNet\", \"run_properties\": \"copy=True\", \"primary_metric\": 0.53341579, \"best_metric\": 0.84854969}, {\"run_id\": \"AutoML_776f0748-dc4e-4a18-a10e-774284fe4973_23\", \"run_number\": 30, \"metric\": null, \"status\": \"Completed\", \"run_type\": \"azureml.scriptrun\", \"training_percent\": \"100\", \"start_time\": \"2021-01-23T19:21:07.269143Z\", \"end_time\": \"2021-01-23T19:21:57.911173Z\", \"created_time\": \"2021-01-23T19:20:55.990128Z\", \"created_time_dt\": \"2021-01-23T19:20:55.990128Z\", \"duration\": \"0:01:01\", \"iteration\": \"23\", \"goal\": \"r2_score_max\", \"run_name\": \"MinMaxScaler, LightGBM\", \"run_properties\": \"copy=True, feature_range=(0, 1\", \"primary_metric\": 0.80018121, \"best_metric\": 0.84854969}, {\"run_id\": \"AutoML_776f0748-dc4e-4a18-a10e-774284fe4973_24\", \"run_number\": 31, \"metric\": null, \"status\": \"Completed\", \"run_type\": \"azureml.scriptrun\", \"training_percent\": \"100\", \"start_time\": \"2021-01-23T19:21:14.742034Z\", \"end_time\": \"2021-01-23T19:22:00.308464Z\", \"created_time\": \"2021-01-23T19:21:02.138725Z\", \"created_time_dt\": \"2021-01-23T19:21:02.138725Z\", \"duration\": \"0:00:58\", \"iteration\": \"24\", \"goal\": \"r2_score_max\", \"run_name\": \"StandardScalerWrapper, XGBoostRegressor\", \"run_properties\": \"<azureml.automl.runtime.shared.model_wrappers.StandardScalerWrapper object at 0x7fc2dc674da0\", \"primary_metric\": 0.79582633, \"best_metric\": 0.84854969}, {\"run_id\": \"AutoML_776f0748-dc4e-4a18-a10e-774284fe4973_25\", \"run_number\": 32, \"metric\": null, \"status\": \"Completed\", \"run_type\": \"azureml.scriptrun\", \"training_percent\": \"100\", \"start_time\": \"2021-01-23T19:21:29.891397Z\", \"end_time\": \"2021-01-23T19:22:40.348767Z\", \"created_time\": \"2021-01-23T19:21:17.931367Z\", \"created_time_dt\": \"2021-01-23T19:21:17.931367Z\", \"duration\": \"0:01:22\", \"iteration\": \"25\", \"goal\": \"r2_score_max\", \"run_name\": \"SparseNormalizer, XGBoostRegressor\", \"run_properties\": \"<azureml.automl.runtime.shared.model_wrappers.SparseNormalizer object at 0x7f45b04e3320\", \"primary_metric\": 0.6550749, \"best_metric\": 0.84854969}, {\"run_id\": \"AutoML_776f0748-dc4e-4a18-a10e-774284fe4973_26\", \"run_number\": 33, \"metric\": null, \"status\": \"Completed\", \"run_type\": \"azureml.scriptrun\", \"training_percent\": \"100\", \"start_time\": \"2021-01-23T19:21:48.751331Z\", \"end_time\": \"2021-01-23T19:23:13.153321Z\", \"created_time\": \"2021-01-23T19:21:35.577221Z\", \"created_time_dt\": \"2021-01-23T19:21:35.577221Z\", \"duration\": \"0:01:37\", \"iteration\": \"26\", \"goal\": \"r2_score_max\", \"run_name\": \"MaxAbsScaler, ExtremeRandomTrees\", \"run_properties\": \"copy=True\", \"primary_metric\": 0.5116552, \"best_metric\": 0.84854969}, {\"run_id\": \"AutoML_776f0748-dc4e-4a18-a10e-774284fe4973_27\", \"run_number\": 34, \"metric\": null, \"status\": \"Completed\", \"run_type\": \"azureml.scriptrun\", \"training_percent\": \"100\", \"start_time\": \"2021-01-23T19:22:13.603693Z\", \"end_time\": \"2021-01-23T19:24:17.425145Z\", \"created_time\": \"2021-01-23T19:22:00.150445Z\", \"created_time_dt\": \"2021-01-23T19:22:00.150445Z\", \"duration\": \"0:02:17\", \"iteration\": \"27\", \"goal\": \"r2_score_max\", \"run_name\": \"MaxAbsScaler, ExtremeRandomTrees\", \"run_properties\": \"copy=True\", \"primary_metric\": 0.67689658, \"best_metric\": 0.84854969}, {\"run_id\": \"AutoML_776f0748-dc4e-4a18-a10e-774284fe4973_28\", \"run_number\": 35, \"metric\": null, \"status\": \"Completed\", \"run_type\": \"azureml.scriptrun\", \"training_percent\": \"100\", \"start_time\": \"2021-01-23T19:22:19.925093Z\", \"end_time\": \"2021-01-23T19:23:05.924538Z\", \"created_time\": \"2021-01-23T19:22:05.014192Z\", \"created_time_dt\": \"2021-01-23T19:22:05.014192Z\", \"duration\": \"0:01:00\", \"iteration\": \"28\", \"goal\": \"r2_score_max\", \"run_name\": \"SparseNormalizer, ExtremeRandomTrees\", \"run_properties\": \"<azureml.automl.runtime.shared.model_wrappers.SparseNormalizer object at 0x7f27f8975320\", \"primary_metric\": 0.50076446, \"best_metric\": 0.84854969}, {\"run_id\": \"AutoML_776f0748-dc4e-4a18-a10e-774284fe4973_29\", \"run_number\": 36, \"metric\": null, \"status\": \"Canceled\", \"run_type\": \"azureml.scriptrun\", \"training_percent\": \"100\", \"start_time\": \"2021-01-23T19:22:23.437747Z\", \"end_time\": \"2021-01-23T19:25:55.250391Z\", \"created_time\": \"2021-01-23T19:22:11.428857Z\", \"created_time_dt\": \"2021-01-23T19:22:11.428857Z\", \"duration\": \"0:03:43\", \"iteration\": \"29\", \"goal\": null, \"run_name\": \"RobustScaler, ExtremeRandomTrees\", \"run_properties\": null}, {\"run_id\": \"AutoML_776f0748-dc4e-4a18-a10e-774284fe4973_30\", \"run_number\": 37, \"metric\": null, \"status\": \"Completed\", \"run_type\": \"azureml.scriptrun\", \"training_percent\": \"100\", \"start_time\": \"2021-01-23T19:22:56.677994Z\", \"end_time\": \"2021-01-23T19:23:45.16509Z\", \"created_time\": \"2021-01-23T19:22:43.505516Z\", \"created_time_dt\": \"2021-01-23T19:22:43.505516Z\", \"duration\": \"0:01:01\", \"iteration\": \"30\", \"goal\": \"r2_score_max\", \"run_name\": \"SparseNormalizer, XGBoostRegressor\", \"run_properties\": \"<azureml.automl.runtime.shared.model_wrappers.SparseNormalizer object at 0x7f60878891d0\", \"primary_metric\": 0.25299274, \"best_metric\": 0.84854969}, {\"run_id\": \"AutoML_776f0748-dc4e-4a18-a10e-774284fe4973_31\", \"run_number\": 38, \"metric\": null, \"status\": \"Completed\", \"run_type\": \"azureml.scriptrun\", \"training_percent\": \"100\", \"start_time\": \"2021-01-23T19:23:21.444595Z\", \"end_time\": \"2021-01-23T19:24:39.674192Z\", \"created_time\": \"2021-01-23T19:23:08.273206Z\", \"created_time_dt\": \"2021-01-23T19:23:08.273206Z\", \"duration\": \"0:01:31\", \"iteration\": \"31\", \"goal\": \"r2_score_max\", \"run_name\": \"SparseNormalizer, XGBoostRegressor\", \"run_properties\": \"<azureml.automl.runtime.shared.model_wrappers.SparseNormalizer object at 0x7fc023d3a198\", \"primary_metric\": 0.67064182, \"best_metric\": 0.84854969}, {\"run_id\": \"AutoML_776f0748-dc4e-4a18-a10e-774284fe4973_32\", \"run_number\": 39, \"metric\": null, \"status\": \"Completed\", \"run_type\": \"azureml.scriptrun\", \"training_percent\": \"100\", \"start_time\": \"2021-01-23T19:23:29.699441Z\", \"end_time\": \"2021-01-23T19:24:47.511667Z\", \"created_time\": \"2021-01-23T19:23:16.728859Z\", \"created_time_dt\": \"2021-01-23T19:23:16.728859Z\", \"duration\": \"0:01:30\", \"iteration\": \"32\", \"goal\": \"r2_score_max\", \"run_name\": \"SparseNormalizer, XGBoostRegressor\", \"run_properties\": \"<azureml.automl.runtime.shared.model_wrappers.SparseNormalizer object at 0x7fca96bc7048\", \"primary_metric\": 0.6737449, \"best_metric\": 0.84854969}, {\"run_id\": \"AutoML_776f0748-dc4e-4a18-a10e-774284fe4973_33\", \"run_number\": 40, \"metric\": null, \"status\": \"Completed\", \"run_type\": \"azureml.scriptrun\", \"training_percent\": \"100\", \"start_time\": \"2021-01-23T19:24:00.182466Z\", \"end_time\": \"2021-01-23T19:25:10.668252Z\", \"created_time\": \"2021-01-23T19:23:47.377376Z\", \"created_time_dt\": \"2021-01-23T19:23:47.377376Z\", \"duration\": \"0:01:23\", \"iteration\": \"33\", \"goal\": \"r2_score_max\", \"run_name\": \"StandardScalerWrapper, RandomForest\", \"run_properties\": \"<azureml.automl.runtime.shared.model_wrappers.StandardScalerWrapper object at 0x7f2400c316d8\", \"primary_metric\": 0.77416657, \"best_metric\": 0.84854969}, {\"run_id\": \"AutoML_776f0748-dc4e-4a18-a10e-774284fe4973_34\", \"run_number\": 41, \"metric\": null, \"status\": \"Canceled\", \"run_type\": \"azureml.scriptrun\", \"training_percent\": \"100\", \"start_time\": \"2021-01-23T19:24:34.232082Z\", \"end_time\": \"2021-01-23T19:25:48.257511Z\", \"created_time\": \"2021-01-23T19:24:19.688835Z\", \"created_time_dt\": \"2021-01-23T19:24:19.688835Z\", \"duration\": \"0:01:28\", \"iteration\": \"34\", \"goal\": \"r2_score_max\", \"run_name\": \"StandardScalerWrapper, ExtremeRandomTrees\", \"run_properties\": \"<azureml.automl.runtime.shared.model_wrappers.StandardScalerWrapper object at 0x7fbffe495240\", \"primary_metric\": 0.70819039, \"best_metric\": 0.84854969}, {\"run_id\": \"AutoML_776f0748-dc4e-4a18-a10e-774284fe4973_35\", \"run_number\": 42, \"metric\": null, \"status\": \"Completed\", \"run_type\": \"azureml.scriptrun\", \"training_percent\": \"100\", \"start_time\": \"2021-01-23T19:24:57.66789Z\", \"end_time\": \"2021-01-23T19:25:46.273548Z\", \"created_time\": \"2021-01-23T19:24:43.261451Z\", \"created_time_dt\": \"2021-01-23T19:24:43.261451Z\", \"duration\": \"0:01:03\", \"iteration\": \"35\", \"goal\": \"r2_score_max\", \"run_name\": \"PCA, XGBoostRegressor\", \"run_properties\": \"copy=True, iterated_power='auto', n_components=0.6036842105263158,\\n    random_state=None, svd_solver='auto', tol=0.0, whiten=False\", \"primary_metric\": -0.00694855, \"best_metric\": 0.84854969}, {\"run_id\": \"AutoML_776f0748-dc4e-4a18-a10e-774284fe4973_36\", \"run_number\": 43, \"metric\": null, \"status\": \"Completed\", \"run_type\": \"azureml.scriptrun\", \"training_percent\": \"100\", \"start_time\": \"2021-01-23T19:25:04.672872Z\", \"end_time\": \"2021-01-23T19:25:45.055993Z\", \"created_time\": \"2021-01-23T19:24:50.215449Z\", \"created_time_dt\": \"2021-01-23T19:24:50.215449Z\", \"duration\": \"0:00:54\", \"iteration\": \"36\", \"goal\": \"r2_score_max\", \"run_name\": \"MinMaxScaler, ExtremeRandomTrees\", \"run_properties\": \"copy=True, feature_range=(0, 1\", \"primary_metric\": 0.67012213, \"best_metric\": 0.84854969}, {\"run_id\": \"AutoML_776f0748-dc4e-4a18-a10e-774284fe4973_37\", \"run_number\": 44, \"metric\": null, \"status\": \"Canceled\", \"run_type\": \"azureml.scriptrun\", \"training_percent\": \"100\", \"start_time\": \"2021-01-23T19:25:27.954835Z\", \"end_time\": \"2021-01-23T19:25:54.342837Z\", \"created_time\": \"2021-01-23T19:25:13.335627Z\", \"created_time_dt\": \"2021-01-23T19:25:13.335627Z\", \"duration\": \"0:00:41\", \"iteration\": \"37\", \"goal\": null, \"run_name\": \"StandardScalerWrapper, RandomForest\", \"run_properties\": null}, {\"run_id\": \"AutoML_776f0748-dc4e-4a18-a10e-774284fe4973_38\", \"run_number\": 45, \"metric\": null, \"status\": \"Completed\", \"run_type\": \"azureml.scriptrun\", \"training_percent\": \"100\", \"start_time\": \"2021-01-23T19:26:11.882722Z\", \"end_time\": \"2021-01-23T19:27:48.395115Z\", \"created_time\": \"2021-01-23T19:25:57.412335Z\", \"created_time_dt\": \"2021-01-23T19:25:57.412335Z\", \"duration\": \"0:01:50\", \"iteration\": \"38\", \"goal\": \"r2_score_max\", \"run_name\": \"VotingEnsemble\", \"run_properties\": \"estimators=[('4',\\n                                          Pipeline(memory=None,\\n                                                   steps=[('standardscalerwrapper',\\n                                                           <azureml.automl.runtime.shared.model_wrappers.StandardScalerWrapper object at 0x7fac5040a7b8>\", \"primary_metric\": 0.85052928, \"best_metric\": 0.85052928}], \"children_metrics\": {\"categories\": [0], \"series\": {\"r2_score\": [{\"categories\": [\"0\", \"1\", \"2\", \"3\", \"4\", \"5\", \"6\", \"7\", \"8\", \"9\", \"10\", \"11\", \"12\", \"13\", \"14\", \"15\", \"16\", \"17\", \"18\", \"19\", \"20\", \"21\", \"22\", \"23\", \"24\", \"25\", \"26\", \"27\", \"28\", \"30\", \"31\", \"32\", \"33\", \"34\", \"35\", \"36\", \"38\"], \"mode\": \"markers\", \"name\": \"r2_score\", \"stepped\": false, \"type\": \"scatter\", \"data\": [0.841866504256535, 0.7945415457798124, 0.6580056803206555, 0.7373650222571995, 0.84854969316053, 0.5644970846837554, 0.6953993503413718, 0.8430163001141958, 0.7192157815449931, 0.5663030906914184, 0.7700951117971097, 0.7393962039942483, 0.783020275551774, 0.6084125424314996, 0.7321051491356845, 0.4566461156439958, 0.700511778925667, 0.5302192082135053, 0.5822799734325443, 0.6609836912257648, 0.6082912953839973, 0.5744388013845463, 0.5334157860681635, 0.8001812085731232, 0.7958263256651362, 0.6550748965459192, 0.5116551987221022, 0.6768965764991594, 0.5007644627762918, 0.25299273769103536, 0.6706418151646404, 0.6737448980283167, 0.77416656709394, 0.7081903939012537, -0.006948547751498113, 0.6701221313770546, 0.8505292811573466]}, {\"categories\": [\"0\", \"1\", \"2\", \"3\", \"4\", \"5\", \"6\", \"7\", \"8\", \"9\", \"10\", \"11\", \"12\", \"13\", \"14\", \"15\", \"16\", \"17\", \"18\", \"19\", \"20\", \"21\", \"22\", \"23\", \"24\", \"25\", \"26\", \"27\", \"28\", \"30\", \"31\", \"32\", \"33\", \"34\", \"35\", \"36\", \"38\"], \"mode\": \"lines\", \"name\": \"r2_score_max\", \"stepped\": true, \"type\": \"scatter\", \"data\": [0.841866504256535, 0.841866504256535, 0.841866504256535, 0.841866504256535, 0.84854969316053, 0.84854969316053, 0.84854969316053, 0.84854969316053, 0.84854969316053, 0.84854969316053, 0.84854969316053, 0.84854969316053, 0.84854969316053, 0.84854969316053, 0.84854969316053, 0.84854969316053, 0.84854969316053, 0.84854969316053, 0.84854969316053, 0.84854969316053, 0.84854969316053, 0.84854969316053, 0.84854969316053, 0.84854969316053, 0.84854969316053, 0.84854969316053, 0.84854969316053, 0.84854969316053, 0.84854969316053, 0.84854969316053, 0.84854969316053, 0.84854969316053, 0.84854969316053, 0.84854969316053, 0.84854969316053, 0.84854969316053, 0.8505292811573466]}], \"normalized_median_absolute_error\": [{\"categories\": [\"0\", \"1\", \"2\", \"3\", \"4\", \"5\", \"6\", \"7\", \"8\", \"9\", \"10\", \"11\", \"12\", \"13\", \"14\", \"15\", \"16\", \"17\", \"18\", \"19\", \"20\", \"21\", \"22\", \"23\", \"24\", \"25\", \"26\", \"27\", \"28\", \"30\", \"31\", \"32\", \"33\", \"34\", \"35\", \"36\", \"38\"], \"mode\": \"markers\", \"name\": \"normalized_median_absolute_error\", \"stepped\": false, \"type\": \"scatter\", \"data\": [0.04174430298778793, 0.052503247024517474, 0.07688395945096883, 0.06506152509273455, 0.04008738219008744, 0.09210966213097439, 0.06808124041222446, 0.04145753095028286, 0.06538545554708257, 0.09291014661710839, 0.05846218083507862, 0.06596676448821463, 0.048837261408067614, 0.08530754531798783, 0.06205336224516478, 0.11379914116069216, 0.06801843750571344, 0.09818915095058241, 0.09090142011293353, 0.07519016494075025, 0.08547997623612616, 0.09444434203636126, 0.09728578636305789, 0.052315243173196684, 0.05251928242768321, 0.07487408269836532, 0.10804756339635432, 0.06504612352114011, 0.10655544064792814, 0.09969880942992064, 0.07320914449258434, 0.07420208982475304, 0.054696691094915345, 0.055339565610038687, 0.14994837679413023, 0.07344710216504487, 0.03946155168672208]}, {\"categories\": [\"0\", \"1\", \"2\", \"3\", \"4\", \"5\", \"6\", \"7\", \"8\", \"9\", \"10\", \"11\", \"12\", \"13\", \"14\", \"15\", \"16\", \"17\", \"18\", \"19\", \"20\", \"21\", \"22\", \"23\", \"24\", \"25\", \"26\", \"27\", \"28\", \"30\", \"31\", \"32\", \"33\", \"34\", \"35\", \"36\", \"38\"], \"mode\": \"lines\", \"name\": \"normalized_median_absolute_error_min\", \"stepped\": true, \"type\": \"scatter\", \"data\": [0.04174430298778793, 0.04174430298778793, 0.04174430298778793, 0.04174430298778793, 0.04008738219008744, 0.04008738219008744, 0.04008738219008744, 0.04008738219008744, 0.04008738219008744, 0.04008738219008744, 0.04008738219008744, 0.04008738219008744, 0.04008738219008744, 0.04008738219008744, 0.04008738219008744, 0.04008738219008744, 0.04008738219008744, 0.04008738219008744, 0.04008738219008744, 0.04008738219008744, 0.04008738219008744, 0.04008738219008744, 0.04008738219008744, 0.04008738219008744, 0.04008738219008744, 0.04008738219008744, 0.04008738219008744, 0.04008738219008744, 0.04008738219008744, 0.04008738219008744, 0.04008738219008744, 0.04008738219008744, 0.04008738219008744, 0.04008738219008744, 0.04008738219008744, 0.04008738219008744, 0.03946155168672208]}], \"normalized_mean_absolute_error\": [{\"categories\": [\"0\", \"1\", \"2\", \"3\", \"4\", \"5\", \"6\", \"7\", \"8\", \"9\", \"10\", \"11\", \"12\", \"13\", \"14\", \"15\", \"16\", \"17\", \"18\", \"19\", \"20\", \"21\", \"22\", \"23\", \"24\", \"25\", \"26\", \"27\", \"28\", \"30\", \"31\", \"32\", \"33\", \"34\", \"35\", \"36\", \"38\"], \"mode\": \"markers\", \"name\": \"normalized_mean_absolute_error\", \"stepped\": false, \"type\": \"scatter\", \"data\": [0.06303260906401381, 0.0739285395505017, 0.10108901578517404, 0.08655751103128607, 0.06098979929486689, 0.11542725546508874, 0.09296545471729399, 0.062452009641458216, 0.088034146043748, 0.11550495740933159, 0.07939503235501572, 0.0863637946766287, 0.07367360902360885, 0.10817478728261658, 0.08533556609684545, 0.13386633530413028, 0.09161502633824846, 0.12108897188536073, 0.11435081477795614, 0.09922265450732402, 0.10827824618086189, 0.11597871146172985, 0.12051605062365557, 0.07325945667176986, 0.07338819504300995, 0.10046817349500396, 0.12730768529225464, 0.09212957068770235, 0.12808491853361822, 0.14680038639479998, 0.09849053878907969, 0.09835439659611413, 0.07706186685188035, 0.08417841230936597, 0.18183240799440037, 0.09715356878715403, 0.06056967465760587]}, {\"categories\": [\"0\", \"1\", \"2\", \"3\", \"4\", \"5\", \"6\", \"7\", \"8\", \"9\", \"10\", \"11\", \"12\", \"13\", \"14\", \"15\", \"16\", \"17\", \"18\", \"19\", \"20\", \"21\", \"22\", \"23\", \"24\", \"25\", \"26\", \"27\", \"28\", \"30\", \"31\", \"32\", \"33\", \"34\", \"35\", \"36\", \"38\"], \"mode\": \"lines\", \"name\": \"normalized_mean_absolute_error_min\", \"stepped\": true, \"type\": \"scatter\", \"data\": [0.06303260906401381, 0.06303260906401381, 0.06303260906401381, 0.06303260906401381, 0.06098979929486689, 0.06098979929486689, 0.06098979929486689, 0.06098979929486689, 0.06098979929486689, 0.06098979929486689, 0.06098979929486689, 0.06098979929486689, 0.06098979929486689, 0.06098979929486689, 0.06098979929486689, 0.06098979929486689, 0.06098979929486689, 0.06098979929486689, 0.06098979929486689, 0.06098979929486689, 0.06098979929486689, 0.06098979929486689, 0.06098979929486689, 0.06098979929486689, 0.06098979929486689, 0.06098979929486689, 0.06098979929486689, 0.06098979929486689, 0.06098979929486689, 0.06098979929486689, 0.06098979929486689, 0.06098979929486689, 0.06098979929486689, 0.06098979929486689, 0.06098979929486689, 0.06098979929486689, 0.06056967465760587]}], \"root_mean_squared_error\": [{\"categories\": [\"0\", \"1\", \"2\", \"3\", \"4\", \"5\", \"6\", \"7\", \"8\", \"9\", \"10\", \"11\", \"12\", \"13\", \"14\", \"15\", \"16\", \"17\", \"18\", \"19\", \"20\", \"21\", \"22\", \"23\", \"24\", \"25\", \"26\", \"27\", \"28\", \"30\", \"31\", \"32\", \"33\", \"34\", \"35\", \"36\", \"38\"], \"mode\": \"markers\", \"name\": \"root_mean_squared_error\", \"stepped\": false, \"type\": \"scatter\", \"data\": [0.4518955498502235, 0.5150959519740227, 0.6645621080308031, 0.5823745812487151, 0.44224324441630497, 0.749931613911554, 0.6271790476687839, 0.4502496760124545, 0.6021607943783995, 0.7483750364389683, 0.5448792021243566, 0.5801182088820928, 0.5293412094924447, 0.7111161062684954, 0.5881773709557804, 0.837659497119257, 0.6218934773357655, 0.7788857466463689, 0.7344610634889409, 0.6616623516834342, 0.7112261890272276, 0.7413224295831374, 0.7762312971759455, 0.5079772850877142, 0.5134829184726716, 0.6674035775349162, 0.7941259960600815, 0.6459470341747283, 0.8029322000992812, 0.9821742427483943, 0.6521693117576365, 0.6490898001404857, 0.5400329348680166, 0.6138693089035999, 1.1403279484635906, 0.6526836275475072, 0.4393434846132679]}, {\"categories\": [\"0\", \"1\", \"2\", \"3\", \"4\", \"5\", \"6\", \"7\", \"8\", \"9\", \"10\", \"11\", \"12\", \"13\", \"14\", \"15\", \"16\", \"17\", \"18\", \"19\", \"20\", \"21\", \"22\", \"23\", \"24\", \"25\", \"26\", \"27\", \"28\", \"30\", \"31\", \"32\", \"33\", \"34\", \"35\", \"36\", \"38\"], \"mode\": \"lines\", \"name\": \"root_mean_squared_error_min\", \"stepped\": true, \"type\": \"scatter\", \"data\": [0.4518955498502235, 0.4518955498502235, 0.4518955498502235, 0.4518955498502235, 0.44224324441630497, 0.44224324441630497, 0.44224324441630497, 0.44224324441630497, 0.44224324441630497, 0.44224324441630497, 0.44224324441630497, 0.44224324441630497, 0.44224324441630497, 0.44224324441630497, 0.44224324441630497, 0.44224324441630497, 0.44224324441630497, 0.44224324441630497, 0.44224324441630497, 0.44224324441630497, 0.44224324441630497, 0.44224324441630497, 0.44224324441630497, 0.44224324441630497, 0.44224324441630497, 0.44224324441630497, 0.44224324441630497, 0.44224324441630497, 0.44224324441630497, 0.44224324441630497, 0.44224324441630497, 0.44224324441630497, 0.44224324441630497, 0.44224324441630497, 0.44224324441630497, 0.44224324441630497, 0.4393434846132679]}], \"spearman_correlation\": [{\"categories\": [\"0\", \"1\", \"2\", \"3\", \"4\", \"5\", \"6\", \"7\", \"8\", \"9\", \"10\", \"11\", \"12\", \"13\", \"14\", \"15\", \"16\", \"17\", \"18\", \"19\", \"20\", \"21\", \"22\", \"23\", \"24\", \"25\", \"26\", \"27\", \"28\", \"30\", \"31\", \"32\", \"33\", \"34\", \"35\", \"36\", \"38\"], \"mode\": \"markers\", \"name\": \"spearman_correlation\", \"stepped\": false, \"type\": \"scatter\", \"data\": [0.9183534497241314, 0.8925237916623209, 0.7915668220963913, 0.8692866836609004, 0.9241635922353263, 0.7583699951857704, 0.8369725397585567, 0.919759558208345, 0.8621505265675838, 0.7649424140387077, 0.8881955971109675, 0.8755378661774039, 0.8962958051272281, 0.8102281125120212, 0.8680822542679019, 0.7658185416254596, 0.8505397241711228, 0.7241422275840058, 0.770469581045422, 0.8186330056316262, 0.8107410509278663, 0.8237983705280502, 0.7270738148606636, 0.8965914845082802, 0.8930146148625939, 0.791865207713329, 0.8453970033402759, 0.846583101602782, 0.7479902264404178, 0.7530606907105049, 0.8018645693854801, 0.8039262994273051, 0.8879040213988186, 0.8595570258274984, 0.024959254540966834, 0.8314956262178984, 0.9248225685655759]}, {\"categories\": [\"0\", \"1\", \"2\", \"3\", \"4\", \"5\", \"6\", \"7\", \"8\", \"9\", \"10\", \"11\", \"12\", \"13\", \"14\", \"15\", \"16\", \"17\", \"18\", \"19\", \"20\", \"21\", \"22\", \"23\", \"24\", \"25\", \"26\", \"27\", \"28\", \"30\", \"31\", \"32\", \"33\", \"34\", \"35\", \"36\", \"38\"], \"mode\": \"lines\", \"name\": \"spearman_correlation_max\", \"stepped\": true, \"type\": \"scatter\", \"data\": [0.9183534497241314, 0.9183534497241314, 0.9183534497241314, 0.9183534497241314, 0.9241635922353263, 0.9241635922353263, 0.9241635922353263, 0.9241635922353263, 0.9241635922353263, 0.9241635922353263, 0.9241635922353263, 0.9241635922353263, 0.9241635922353263, 0.9241635922353263, 0.9241635922353263, 0.9241635922353263, 0.9241635922353263, 0.9241635922353263, 0.9241635922353263, 0.9241635922353263, 0.9241635922353263, 0.9241635922353263, 0.9241635922353263, 0.9241635922353263, 0.9241635922353263, 0.9241635922353263, 0.9241635922353263, 0.9241635922353263, 0.9241635922353263, 0.9241635922353263, 0.9241635922353263, 0.9241635922353263, 0.9241635922353263, 0.9241635922353263, 0.9241635922353263, 0.9241635922353263, 0.9248225685655759]}], \"normalized_root_mean_squared_log_error\": [{\"categories\": [\"0\", \"1\", \"2\", \"3\", \"4\", \"5\", \"6\", \"7\", \"8\", \"9\", \"10\", \"11\", \"12\", \"13\", \"14\", \"15\", \"16\", \"17\", \"18\", \"19\", \"20\", \"21\", \"22\", \"23\", \"24\", \"25\", \"26\", \"27\", \"28\", \"30\", \"31\", \"32\", \"33\", \"34\", \"35\", \"36\", \"38\"], \"mode\": \"markers\", \"name\": \"normalized_root_mean_squared_log_error\", \"stepped\": false, \"type\": \"scatter\", \"data\": [0.0842588780290189, 0.09638813940139736, 0.12939755223914734, 0.10913340880272986, 0.08166167415598663, 0.14178244751916846, 0.11739868511822595, 0.08373082794165745, 0.11090121026909255, 0.14148024975058054, 0.10183975523935529, 0.10888760744427413, 0.09521650701483002, NaN, 0.10800978942172165, 0.15786541411978156, 0.11492593452724162, 0.14890032906187334, 0.13864751765633618, 0.12344927177978414, NaN, 0.142027560035807, 0.1481349217725894, 0.09621902270666174, 0.09616110376979853, 0.12887698642192985, 0.15183475454473944, 0.11684339920660679, 0.15420780261484726, 0.172331381766954, 0.12578034293225962, 0.12573361564155344, 0.09995039714280111, 0.10969474212652784, 0.21466713188422554, 0.12111262575177364, 0.08126165211940103]}, {\"categories\": [\"0\", \"1\", \"2\", \"3\", \"4\", \"5\", \"6\", \"7\", \"8\", \"9\", \"10\", \"11\", \"12\", \"13\", \"14\", \"15\", \"16\", \"17\", \"18\", \"19\", \"20\", \"21\", \"22\", \"23\", \"24\", \"25\", \"26\", \"27\", \"28\", \"30\", \"31\", \"32\", \"33\", \"34\", \"35\", \"36\", \"38\"], \"mode\": \"lines\", \"name\": \"normalized_root_mean_squared_log_error_min\", \"stepped\": true, \"type\": \"scatter\", \"data\": [0.0842588780290189, 0.0842588780290189, 0.0842588780290189, 0.0842588780290189, 0.08166167415598663, 0.08166167415598663, 0.08166167415598663, 0.08166167415598663, 0.08166167415598663, 0.08166167415598663, 0.08166167415598663, 0.08166167415598663, 0.08166167415598663, 0.08166167415598663, 0.08166167415598663, 0.08166167415598663, 0.08166167415598663, 0.08166167415598663, 0.08166167415598663, 0.08166167415598663, 0.08166167415598663, 0.08166167415598663, 0.08166167415598663, 0.08166167415598663, 0.08166167415598663, 0.08166167415598663, 0.08166167415598663, 0.08166167415598663, 0.08166167415598663, 0.08166167415598663, 0.08166167415598663, 0.08166167415598663, 0.08166167415598663, 0.08166167415598663, 0.08166167415598663, 0.08166167415598663, 0.08126165211940103]}], \"mean_absolute_error\": [{\"categories\": [\"0\", \"1\", \"2\", \"3\", \"4\", \"5\", \"6\", \"7\", \"8\", \"9\", \"10\", \"11\", \"12\", \"13\", \"14\", \"15\", \"16\", \"17\", \"18\", \"19\", \"20\", \"21\", \"22\", \"23\", \"24\", \"25\", \"26\", \"27\", \"28\", \"30\", \"31\", \"32\", \"33\", \"34\", \"35\", \"36\", \"38\"], \"mode\": \"markers\", \"name\": \"mean_absolute_error\", \"stepped\": false, \"type\": \"scatter\", \"data\": [0.3057094146126483, 0.35855489539072427, 0.49028374833840976, 0.4198056596519581, 0.2958017463760903, 0.5598244975507897, 0.4508843146879702, 0.3028934958012652, 0.42696736899509863, 0.5602013535344064, 0.3850674948224733, 0.4188661314575427, 0.3573184772366834, 0.524649881816436, 0.4138792022810224, 0.6492544035517379, 0.44433471004103176, 0.5872839354234373, 0.5546037386893828, 0.48123185881361163, 0.5251516595421037, 0.562499070163619, 0.584505255845742, 0.3553098300472173, 0.3559342137224991, 0.4872726508142391, 0.6174448198211409, 0.4468302604267701, 0.6212144165864191, 0.7119848100225077, 0.47768108293781225, 0.4770207905790854, 0.37375159546895675, 0.4082669832686711, 0.8818908154210017, 0.47119675168907277, 0.2937641334828816]}, {\"categories\": [\"0\", \"1\", \"2\", \"3\", \"4\", \"5\", \"6\", \"7\", \"8\", \"9\", \"10\", \"11\", \"12\", \"13\", \"14\", \"15\", \"16\", \"17\", \"18\", \"19\", \"20\", \"21\", \"22\", \"23\", \"24\", \"25\", \"26\", \"27\", \"28\", \"30\", \"31\", \"32\", \"33\", \"34\", \"35\", \"36\", \"38\"], \"mode\": \"lines\", \"name\": \"mean_absolute_error_min\", \"stepped\": true, \"type\": \"scatter\", \"data\": [0.3057094146126483, 0.3057094146126483, 0.3057094146126483, 0.3057094146126483, 0.2958017463760903, 0.2958017463760903, 0.2958017463760903, 0.2958017463760903, 0.2958017463760903, 0.2958017463760903, 0.2958017463760903, 0.2958017463760903, 0.2958017463760903, 0.2958017463760903, 0.2958017463760903, 0.2958017463760903, 0.2958017463760903, 0.2958017463760903, 0.2958017463760903, 0.2958017463760903, 0.2958017463760903, 0.2958017463760903, 0.2958017463760903, 0.2958017463760903, 0.2958017463760903, 0.2958017463760903, 0.2958017463760903, 0.2958017463760903, 0.2958017463760903, 0.2958017463760903, 0.2958017463760903, 0.2958017463760903, 0.2958017463760903, 0.2958017463760903, 0.2958017463760903, 0.2958017463760903, 0.2937641334828816]}], \"normalized_root_mean_squared_error\": [{\"categories\": [\"0\", \"1\", \"2\", \"3\", \"4\", \"5\", \"6\", \"7\", \"8\", \"9\", \"10\", \"11\", \"12\", \"13\", \"14\", \"15\", \"16\", \"17\", \"18\", \"19\", \"20\", \"21\", \"22\", \"23\", \"24\", \"25\", \"26\", \"27\", \"28\", \"30\", \"31\", \"32\", \"33\", \"34\", \"35\", \"36\", \"38\"], \"mode\": \"markers\", \"name\": \"normalized_root_mean_squared_error\", \"stepped\": false, \"type\": \"scatter\", \"data\": [0.09317395595280505, 0.10620491296407493, 0.1370225500164542, 0.12007673808535123, 0.09118379809079241, 0.15462443740676413, 0.1293147343039377, 0.09283460192173527, 0.12415635283532843, 0.1543034949214577, 0.11234576396063452, 0.11961150858802495, 0.10914206735074179, 0.14662127295732708, 0.12127318463754384, 0.1727125861582544, 0.12822493048188782, 0.16059433706384074, 0.15143464634969359, 0.13642466457528718, 0.14664397033975687, 0.15284935517443998, 0.160047030151617, 0.10473715264838376, 0.10587233010846793, 0.13760841760135345, 0.16373664357262063, 0.13318440628589745, 0.1655523482582095, 0.20250931805402747, 0.1344673448269567, 0.13383239659640284, 0.11134653771902314, 0.1265704695864347, 0.23511819507210088, 0.13457338888241846, 0.09058591193711941]}, {\"categories\": [\"0\", \"1\", \"2\", \"3\", \"4\", \"5\", \"6\", \"7\", \"8\", \"9\", \"10\", \"11\", \"12\", \"13\", \"14\", \"15\", \"16\", \"17\", \"18\", \"19\", \"20\", \"21\", \"22\", \"23\", \"24\", \"25\", \"26\", \"27\", \"28\", \"30\", \"31\", \"32\", \"33\", \"34\", \"35\", \"36\", \"38\"], \"mode\": \"lines\", \"name\": \"normalized_root_mean_squared_error_min\", \"stepped\": true, \"type\": \"scatter\", \"data\": [0.09317395595280505, 0.09317395595280505, 0.09317395595280505, 0.09317395595280505, 0.09118379809079241, 0.09118379809079241, 0.09118379809079241, 0.09118379809079241, 0.09118379809079241, 0.09118379809079241, 0.09118379809079241, 0.09118379809079241, 0.09118379809079241, 0.09118379809079241, 0.09118379809079241, 0.09118379809079241, 0.09118379809079241, 0.09118379809079241, 0.09118379809079241, 0.09118379809079241, 0.09118379809079241, 0.09118379809079241, 0.09118379809079241, 0.09118379809079241, 0.09118379809079241, 0.09118379809079241, 0.09118379809079241, 0.09118379809079241, 0.09118379809079241, 0.09118379809079241, 0.09118379809079241, 0.09118379809079241, 0.09118379809079241, 0.09118379809079241, 0.09118379809079241, 0.09118379809079241, 0.09058591193711941]}], \"mean_absolute_percentage_error\": [{\"categories\": [\"0\", \"1\", \"2\", \"3\", \"4\", \"5\", \"6\", \"7\", \"8\", \"9\", \"10\", \"11\", \"12\", \"13\", \"14\", \"15\", \"16\", \"17\", \"18\", \"19\", \"20\", \"21\", \"22\", \"23\", \"24\", \"25\", \"26\", \"27\", \"28\", \"30\", \"31\", \"32\", \"33\", \"34\", \"35\", \"36\", \"38\"], \"mode\": \"markers\", \"name\": \"mean_absolute_percentage_error\", \"stepped\": false, \"type\": \"scatter\", \"data\": [17.59100588786228, 20.75116868141658, 30.523526221856535, 25.697353972201203, 16.788031244857024, 34.467908016232826, 27.255553951988137, 17.381580314289753, 25.435203642108878, 34.88660425229801, 23.430112928233118, 25.936158774672236, 19.264357306035524, 32.06182688517008, 24.232616797408475, 42.34659675839919, 26.62855980523149, 36.88029865402775, 34.574511684458706, 29.04580095424896, 32.12987810814664, 37.652294191643016, 36.57908367384608, 21.06051418593912, 20.64684513240307, 30.1339680660579, 41.210749304881496, 25.58769239632166, 41.19729974130135, 32.83046413969893, 29.74195418156953, 29.397989951891837, 22.09773304920966, 22.253767132251387, 57.934822302604815, 28.419452442977192, 16.741440540585682]}, {\"categories\": [\"0\", \"1\", \"2\", \"3\", \"4\", \"5\", \"6\", \"7\", \"8\", \"9\", \"10\", \"11\", \"12\", \"13\", \"14\", \"15\", \"16\", \"17\", \"18\", \"19\", \"20\", \"21\", \"22\", \"23\", \"24\", \"25\", \"26\", \"27\", \"28\", \"30\", \"31\", \"32\", \"33\", \"34\", \"35\", \"36\", \"38\"], \"mode\": \"lines\", \"name\": \"mean_absolute_percentage_error_min\", \"stepped\": true, \"type\": \"scatter\", \"data\": [17.59100588786228, 17.59100588786228, 17.59100588786228, 17.59100588786228, 16.788031244857024, 16.788031244857024, 16.788031244857024, 16.788031244857024, 16.788031244857024, 16.788031244857024, 16.788031244857024, 16.788031244857024, 16.788031244857024, 16.788031244857024, 16.788031244857024, 16.788031244857024, 16.788031244857024, 16.788031244857024, 16.788031244857024, 16.788031244857024, 16.788031244857024, 16.788031244857024, 16.788031244857024, 16.788031244857024, 16.788031244857024, 16.788031244857024, 16.788031244857024, 16.788031244857024, 16.788031244857024, 16.788031244857024, 16.788031244857024, 16.788031244857024, 16.788031244857024, 16.788031244857024, 16.788031244857024, 16.788031244857024, 16.741440540585682]}], \"median_absolute_error\": [{\"categories\": [\"0\", \"1\", \"2\", \"3\", \"4\", \"5\", \"6\", \"7\", \"8\", \"9\", \"10\", \"11\", \"12\", \"13\", \"14\", \"15\", \"16\", \"17\", \"18\", \"19\", \"20\", \"21\", \"22\", \"23\", \"24\", \"25\", \"26\", \"27\", \"28\", \"30\", \"31\", \"32\", \"33\", \"34\", \"35\", \"36\", \"38\"], \"mode\": \"markers\", \"name\": \"median_absolute_error\", \"stepped\": false, \"type\": \"scatter\", \"data\": [0.20246070437683122, 0.25464179813385024, 0.37288874101638786, 0.3155496979302644, 0.19442460536956785, 0.4467337035284684, 0.3301953776240969, 0.20106985425949087, 0.3171207671124614, 0.45061606929590803, 0.283542746293748, 0.3199401271031307, 0.23686169457435607, 0.4137433009431473, 0.30096004795629405, 0.5519281106121802, 0.3298907822714603, 0.4762193458933437, 0.44087370557612987, 0.3646738037659375, 0.41457959434473657, 0.45805694776319283, 0.47183800957655797, 0.2537299756948674, 0.2547195701599121, 0.3631407985687257, 0.5240328434235864, 0.31547499999999995, 0.5167960182512644, 0.4835412197113037, 0.35506581497192385, 0.35988161969184873, 0.2652800457441613, 0.2683979999999998, 0.7272526264190674, 0.3562199144425109, 0.1913893149116358]}, {\"categories\": [\"0\", \"1\", \"2\", \"3\", \"4\", \"5\", \"6\", \"7\", \"8\", \"9\", \"10\", \"11\", \"12\", \"13\", \"14\", \"15\", \"16\", \"17\", \"18\", \"19\", \"20\", \"21\", \"22\", \"23\", \"24\", \"25\", \"26\", \"27\", \"28\", \"30\", \"31\", \"32\", \"33\", \"34\", \"35\", \"36\", \"38\"], \"mode\": \"lines\", \"name\": \"median_absolute_error_min\", \"stepped\": true, \"type\": \"scatter\", \"data\": [0.20246070437683122, 0.20246070437683122, 0.20246070437683122, 0.20246070437683122, 0.19442460536956785, 0.19442460536956785, 0.19442460536956785, 0.19442460536956785, 0.19442460536956785, 0.19442460536956785, 0.19442460536956785, 0.19442460536956785, 0.19442460536956785, 0.19442460536956785, 0.19442460536956785, 0.19442460536956785, 0.19442460536956785, 0.19442460536956785, 0.19442460536956785, 0.19442460536956785, 0.19442460536956785, 0.19442460536956785, 0.19442460536956785, 0.19442460536956785, 0.19442460536956785, 0.19442460536956785, 0.19442460536956785, 0.19442460536956785, 0.19442460536956785, 0.19442460536956785, 0.19442460536956785, 0.19442460536956785, 0.19442460536956785, 0.19442460536956785, 0.19442460536956785, 0.19442460536956785, 0.1913893149116358]}], \"root_mean_squared_log_error\": [{\"categories\": [\"0\", \"1\", \"2\", \"3\", \"4\", \"5\", \"6\", \"7\", \"8\", \"9\", \"10\", \"11\", \"12\", \"13\", \"14\", \"15\", \"16\", \"17\", \"18\", \"19\", \"20\", \"21\", \"22\", \"23\", \"24\", \"25\", \"26\", \"27\", \"28\", \"30\", \"31\", \"32\", \"33\", \"34\", \"35\", \"36\", \"38\"], \"mode\": \"markers\", \"name\": \"root_mean_squared_log_error\", \"stepped\": false, \"type\": \"scatter\", \"data\": [0.1391963312397669, 0.15923396671720388, 0.2137657771432958, 0.18028925231828846, 0.13490572995163563, 0.23422572185290755, 0.19394355399797333, 0.13832398832954876, 0.1832096742872734, 0.2337264887550992, 0.1682400790904425, 0.17988318653494154, 0.15729842077134285, NaN, 0.17843302423639573, 0.26079490955899165, 0.18985855051362308, 0.24598451831590512, 0.22904679298739436, 0.2039391708972051, NaN, 0.23463064966413805, 0.24472005943555067, 0.15895458460330383, 0.15885890206267125, 0.21290579830640044, 0.25083221236389336, 0.19302621729121233, 0.2547525064971817, 0.2846928022371505, 0.20779011883140014, 0.2077129249785122, 0.16511884460939572, 0.18121657939767818, 0.35463179542642814, 0.20007901322464486, 0.13424489039133913]}, {\"categories\": [\"0\", \"1\", \"2\", \"3\", \"4\", \"5\", \"6\", \"7\", \"8\", \"9\", \"10\", \"11\", \"12\", \"13\", \"14\", \"15\", \"16\", \"17\", \"18\", \"19\", \"20\", \"21\", \"22\", \"23\", \"24\", \"25\", \"26\", \"27\", \"28\", \"30\", \"31\", \"32\", \"33\", \"34\", \"35\", \"36\", \"38\"], \"mode\": \"lines\", \"name\": \"root_mean_squared_log_error_min\", \"stepped\": true, \"type\": \"scatter\", \"data\": [0.1391963312397669, 0.1391963312397669, 0.1391963312397669, 0.1391963312397669, 0.13490572995163563, 0.13490572995163563, 0.13490572995163563, 0.13490572995163563, 0.13490572995163563, 0.13490572995163563, 0.13490572995163563, 0.13490572995163563, 0.13490572995163563, 0.13490572995163563, 0.13490572995163563, 0.13490572995163563, 0.13490572995163563, 0.13490572995163563, 0.13490572995163563, 0.13490572995163563, 0.13490572995163563, 0.13490572995163563, 0.13490572995163563, 0.13490572995163563, 0.13490572995163563, 0.13490572995163563, 0.13490572995163563, 0.13490572995163563, 0.13490572995163563, 0.13490572995163563, 0.13490572995163563, 0.13490572995163563, 0.13490572995163563, 0.13490572995163563, 0.13490572995163563, 0.13490572995163563, 0.13424489039133913]}], \"explained_variance\": [{\"categories\": [\"0\", \"1\", \"2\", \"3\", \"4\", \"5\", \"6\", \"7\", \"8\", \"9\", \"10\", \"11\", \"12\", \"13\", \"14\", \"15\", \"16\", \"17\", \"18\", \"19\", \"20\", \"21\", \"22\", \"23\", \"24\", \"25\", \"26\", \"27\", \"28\", \"30\", \"31\", \"32\", \"33\", \"34\", \"35\", \"36\", \"38\"], \"mode\": \"markers\", \"name\": \"explained_variance\", \"stepped\": false, \"type\": \"scatter\", \"data\": [0.8419237981095516, 0.7947674471064814, 0.6580622967878317, 0.7377357844130388, 0.8485874666006845, 0.564750028772069, 0.6960630967127008, 0.843072717504792, 0.7194818526326736, 0.5665648246118156, 0.7703304269170038, 0.7396344580165257, 0.7917593485322802, 0.6086037389201338, 0.7323520121051272, 0.4567767776279855, 0.7007827854950979, 0.5304681715506161, 0.5831500495242807, 0.6617318481543593, 0.6084821435377137, 0.5747379705239438, 0.5336693186580597, 0.8004111357615601, 0.796014079471328, 0.6551675323441244, 0.511789332002649, 0.6860035168401398, 0.5008948715718239, 0.48383666005622106, 0.6707191761889426, 0.6737937864761323, 0.7744606798971533, 0.7133445272873385, 0.0013297244965289057, 0.6704443142253003, 0.8505739633828067]}, {\"categories\": [\"0\", \"1\", \"2\", \"3\", \"4\", \"5\", \"6\", \"7\", \"8\", \"9\", \"10\", \"11\", \"12\", \"13\", \"14\", \"15\", \"16\", \"17\", \"18\", \"19\", \"20\", \"21\", \"22\", \"23\", \"24\", \"25\", \"26\", \"27\", \"28\", \"30\", \"31\", \"32\", \"33\", \"34\", \"35\", \"36\", \"38\"], \"mode\": \"lines\", \"name\": \"explained_variance_max\", \"stepped\": true, \"type\": \"scatter\", \"data\": [0.8419237981095516, 0.8419237981095516, 0.8419237981095516, 0.8419237981095516, 0.8485874666006845, 0.8485874666006845, 0.8485874666006845, 0.8485874666006845, 0.8485874666006845, 0.8485874666006845, 0.8485874666006845, 0.8485874666006845, 0.8485874666006845, 0.8485874666006845, 0.8485874666006845, 0.8485874666006845, 0.8485874666006845, 0.8485874666006845, 0.8485874666006845, 0.8485874666006845, 0.8485874666006845, 0.8485874666006845, 0.8485874666006845, 0.8485874666006845, 0.8485874666006845, 0.8485874666006845, 0.8485874666006845, 0.8485874666006845, 0.8485874666006845, 0.8485874666006845, 0.8485874666006845, 0.8485874666006845, 0.8485874666006845, 0.8485874666006845, 0.8485874666006845, 0.8485874666006845, 0.8505739633828067]}]}, \"metricName\": null, \"primaryMetricName\": \"r2_score\", \"showLegend\": false}, \"run_metrics\": [{\"name\": \"experiment_status\", \"run_id\": \"AutoML_776f0748-dc4e-4a18-a10e-774284fe4973\", \"categories\": [0, 1, 2, 3, 4], \"series\": [{\"data\": [\"DatasetEvaluation\", \"FeaturesGeneration\", \"DatasetFeaturization\", \"DatasetFeaturizationCompleted\", \"ModelSelection\"]}]}, {\"name\": \"experiment_status_description\", \"run_id\": \"AutoML_776f0748-dc4e-4a18-a10e-774284fe4973\", \"categories\": [0, 1, 2, 3, 4], \"series\": [{\"data\": [\"Gathering dataset statistics.\", \"Generating features for the dataset.\", \"Beginning to fit featurizers and featurize the dataset.\", \"Completed fit featurizers and featurizing the dataset.\", \"Beginning model selection.\"]}]}, {\"name\": \"spearman_correlation\", \"run_id\": \"AutoML_776f0748-dc4e-4a18-a10e-774284fe4973\", \"categories\": [0], \"series\": [{\"data\": [0.9248225685655759]}]}, {\"name\": \"mean_absolute_error\", \"run_id\": \"AutoML_776f0748-dc4e-4a18-a10e-774284fe4973\", \"categories\": [0], \"series\": [{\"data\": [0.2937641334828816]}]}, {\"name\": \"normalized_root_mean_squared_log_error\", \"run_id\": \"AutoML_776f0748-dc4e-4a18-a10e-774284fe4973\", \"categories\": [0], \"series\": [{\"data\": [0.08126165211940103]}]}, {\"name\": \"median_absolute_error\", \"run_id\": \"AutoML_776f0748-dc4e-4a18-a10e-774284fe4973\", \"categories\": [0], \"series\": [{\"data\": [0.1913893149116358]}]}, {\"name\": \"mean_absolute_percentage_error\", \"run_id\": \"AutoML_776f0748-dc4e-4a18-a10e-774284fe4973\", \"categories\": [0], \"series\": [{\"data\": [16.741440540585682]}]}, {\"name\": \"root_mean_squared_log_error\", \"run_id\": \"AutoML_776f0748-dc4e-4a18-a10e-774284fe4973\", \"categories\": [0], \"series\": [{\"data\": [0.13424489039133913]}]}, {\"name\": \"normalized_median_absolute_error\", \"run_id\": \"AutoML_776f0748-dc4e-4a18-a10e-774284fe4973\", \"categories\": [0], \"series\": [{\"data\": [0.03946155168672208]}]}, {\"name\": \"root_mean_squared_error\", \"run_id\": \"AutoML_776f0748-dc4e-4a18-a10e-774284fe4973\", \"categories\": [0], \"series\": [{\"data\": [0.4393434846132679]}]}, {\"name\": \"normalized_mean_absolute_error\", \"run_id\": \"AutoML_776f0748-dc4e-4a18-a10e-774284fe4973\", \"categories\": [0], \"series\": [{\"data\": [0.06056967465760587]}]}, {\"name\": \"normalized_root_mean_squared_error\", \"run_id\": \"AutoML_776f0748-dc4e-4a18-a10e-774284fe4973\", \"categories\": [0], \"series\": [{\"data\": [0.09058591193711941]}]}, {\"name\": \"explained_variance\", \"run_id\": \"AutoML_776f0748-dc4e-4a18-a10e-774284fe4973\", \"categories\": [0], \"series\": [{\"data\": [0.8505739633828067]}]}, {\"name\": \"r2_score\", \"run_id\": \"AutoML_776f0748-dc4e-4a18-a10e-774284fe4973\", \"categories\": [0], \"series\": [{\"data\": [0.8505292811573466]}]}], \"run_logs\": \"\\nRun is completed.\", \"graph\": {}, \"widget_settings\": {\"childWidgetDisplay\": \"popup\", \"send_telemetry\": false, \"log_level\": \"INFO\", \"sdk_version\": \"1.20.0\"}, \"loading\": false}"
     },
     "metadata": {},
     "output_type": "display_data"
    },
    {
     "data": {
      "text/plain": [
       "{'runId': 'AutoML_776f0748-dc4e-4a18-a10e-774284fe4973',\n",
       " 'target': 'nuria-p3',\n",
       " 'status': 'Completed',\n",
       " 'startTimeUtc': '2021-01-23T19:10:15.87167Z',\n",
       " 'endTimeUtc': '2021-01-23T19:28:00.948236Z',\n",
       " 'properties': {'num_iterations': '1000',\n",
       "  'training_type': 'TrainFull',\n",
       "  'acquisition_function': 'EI',\n",
       "  'primary_metric': 'r2_score',\n",
       "  'train_split': '0.2',\n",
       "  'acquisition_parameter': '0',\n",
       "  'num_cross_validation': None,\n",
       "  'target': 'nuria-p3',\n",
       "  'AMLSettingsJsonString': '{\"path\":null,\"name\":\"california-housing\",\"subscription_id\":\"48a74bb7-9950-4cc1-9caa-5d50f995cc55\",\"resource_group\":\"aml-quickstarts-135814\",\"workspace_name\":\"quick-starts-ws-135814\",\"region\":\"southcentralus\",\"compute_target\":\"nuria-p3\",\"spark_service\":null,\"azure_service\":\"remote\",\"many_models\":false,\"pipeline_fetch_max_batch_size\":1,\"iterations\":1000,\"primary_metric\":\"r2_score\",\"task_type\":\"regression\",\"data_script\":null,\"validation_size\":0.2,\"n_cross_validations\":null,\"y_min\":null,\"y_max\":null,\"num_classes\":null,\"featurization\":\"auto\",\"_ignore_package_version_incompatibilities\":false,\"is_timeseries\":false,\"max_cores_per_iteration\":1,\"max_concurrent_iterations\":5,\"iteration_timeout_minutes\":null,\"mem_in_mb\":null,\"enforce_time_on_windows\":false,\"experiment_timeout_minutes\":60,\"experiment_exit_score\":null,\"whitelist_models\":null,\"blacklist_algos\":[\"TensorFlowDNN\",\"TensorFlowLinearRegressor\"],\"supported_models\":[\"XGBoostRegressor\",\"FastLinearRegressor\",\"DecisionTree\",\"TensorFlowLinearRegressor\",\"TensorFlowDNN\",\"ElasticNet\",\"LassoLars\",\"GradientBoosting\",\"SGD\",\"KNN\",\"RandomForest\",\"LightGBM\",\"OnlineGradientDescentRegressor\",\"ExtremeRandomTrees\"],\"auto_blacklist\":true,\"blacklist_samples_reached\":false,\"exclude_nan_labels\":true,\"verbosity\":20,\"_debug_log\":\"azureml_automl.log\",\"show_warnings\":false,\"model_explainability\":true,\"service_url\":null,\"sdk_url\":null,\"sdk_packages\":null,\"enable_onnx_compatible_models\":true,\"enable_split_onnx_featurizer_estimator_models\":false,\"vm_type\":\"STANDARD_D12_V2\",\"telemetry_verbosity\":20,\"send_telemetry\":true,\"enable_dnn\":false,\"scenario\":\"SDK-1.13.0\",\"environment_label\":null,\"force_text_dnn\":false,\"enable_feature_sweeping\":false,\"enable_early_stopping\":true,\"early_stopping_n_iters\":10,\"metrics\":null,\"enable_ensembling\":true,\"enable_stack_ensembling\":false,\"ensemble_iterations\":15,\"enable_tf\":false,\"enable_subsampling\":null,\"subsample_seed\":null,\"enable_nimbusml\":false,\"enable_streaming\":false,\"force_streaming\":false,\"track_child_runs\":true,\"allowed_private_models\":[],\"label_column_name\":\"MedHouseVal\",\"weight_column_name\":null,\"cv_split_column_names\":null,\"enable_local_managed\":false,\"_local_managed_run_id\":null,\"cost_mode\":1,\"lag_length\":0,\"metric_operation\":\"maximize\",\"preprocess\":true}',\n",
       "  'DataPrepJsonString': '{\\\\\"training_data\\\\\": \\\\\"{\\\\\\\\\\\\\"blocks\\\\\\\\\\\\\": [{\\\\\\\\\\\\\"id\\\\\\\\\\\\\": \\\\\\\\\\\\\"3cba0721-cbd9-440f-b72d-2b8df93b5184\\\\\\\\\\\\\", \\\\\\\\\\\\\"type\\\\\\\\\\\\\": \\\\\\\\\\\\\"Microsoft.DPrep.GetDatastoreFilesBlock\\\\\\\\\\\\\", \\\\\\\\\\\\\"arguments\\\\\\\\\\\\\": {\\\\\\\\\\\\\"datastores\\\\\\\\\\\\\": [{\\\\\\\\\\\\\"datastoreName\\\\\\\\\\\\\": \\\\\\\\\\\\\"workspaceblobstore\\\\\\\\\\\\\", \\\\\\\\\\\\\"path\\\\\\\\\\\\\": \\\\\\\\\\\\\"managed-dataset/fc4d6ecf-6725-4787-8e72-b46cf838b529/\\\\\\\\\\\\\", \\\\\\\\\\\\\"resourceGroup\\\\\\\\\\\\\": \\\\\\\\\\\\\"aml-quickstarts-135814\\\\\\\\\\\\\", \\\\\\\\\\\\\"subscription\\\\\\\\\\\\\": \\\\\\\\\\\\\"48a74bb7-9950-4cc1-9caa-5d50f995cc55\\\\\\\\\\\\\", \\\\\\\\\\\\\"workspaceName\\\\\\\\\\\\\": \\\\\\\\\\\\\"quick-starts-ws-135814\\\\\\\\\\\\\"}]}, \\\\\\\\\\\\\"localData\\\\\\\\\\\\\": {}, \\\\\\\\\\\\\"isEnabled\\\\\\\\\\\\\": true, \\\\\\\\\\\\\"name\\\\\\\\\\\\\": null, \\\\\\\\\\\\\"annotation\\\\\\\\\\\\\": null}, {\\\\\\\\\\\\\"id\\\\\\\\\\\\\": \\\\\\\\\\\\\"6c989be0-a9ba-49ad-af6f-b034aa0c25c2\\\\\\\\\\\\\", \\\\\\\\\\\\\"type\\\\\\\\\\\\\": \\\\\\\\\\\\\"Microsoft.DPrep.ReadParquetFileBlock\\\\\\\\\\\\\", \\\\\\\\\\\\\"arguments\\\\\\\\\\\\\": {\\\\\\\\\\\\\"preview\\\\\\\\\\\\\": false}, \\\\\\\\\\\\\"localData\\\\\\\\\\\\\": {}, \\\\\\\\\\\\\"isEnabled\\\\\\\\\\\\\": true, \\\\\\\\\\\\\"name\\\\\\\\\\\\\": null, \\\\\\\\\\\\\"annotation\\\\\\\\\\\\\": null}, {\\\\\\\\\\\\\"id\\\\\\\\\\\\\": \\\\\\\\\\\\\"1b5a9941-9613-46be-b8a4-81f3e5e9edf1\\\\\\\\\\\\\", \\\\\\\\\\\\\"type\\\\\\\\\\\\\": \\\\\\\\\\\\\"Microsoft.DPrep.DropColumnsBlock\\\\\\\\\\\\\", \\\\\\\\\\\\\"arguments\\\\\\\\\\\\\": {\\\\\\\\\\\\\"columns\\\\\\\\\\\\\": {\\\\\\\\\\\\\"type\\\\\\\\\\\\\": 0, \\\\\\\\\\\\\"details\\\\\\\\\\\\\": {\\\\\\\\\\\\\"selectedColumns\\\\\\\\\\\\\": [\\\\\\\\\\\\\"Path\\\\\\\\\\\\\"]}}}, \\\\\\\\\\\\\"localData\\\\\\\\\\\\\": {}, \\\\\\\\\\\\\"isEnabled\\\\\\\\\\\\\": true, \\\\\\\\\\\\\"name\\\\\\\\\\\\\": null, \\\\\\\\\\\\\"annotation\\\\\\\\\\\\\": null}], \\\\\\\\\\\\\"inspectors\\\\\\\\\\\\\": [], \\\\\\\\\\\\\"meta\\\\\\\\\\\\\": {\\\\\\\\\\\\\"savedDatasetId\\\\\\\\\\\\\": \\\\\\\\\\\\\"640c2eff-4319-4522-8d0a-97412f155f6b\\\\\\\\\\\\\", \\\\\\\\\\\\\"datasetType\\\\\\\\\\\\\": \\\\\\\\\\\\\"tabular\\\\\\\\\\\\\", \\\\\\\\\\\\\"subscriptionId\\\\\\\\\\\\\": \\\\\\\\\\\\\"48a74bb7-9950-4cc1-9caa-5d50f995cc55\\\\\\\\\\\\\", \\\\\\\\\\\\\"workspaceId\\\\\\\\\\\\\": \\\\\\\\\\\\\"b52a5bd0-b387-43eb-9424-206792716cb1\\\\\\\\\\\\\", \\\\\\\\\\\\\"workspaceLocation\\\\\\\\\\\\\": \\\\\\\\\\\\\"southcentralus\\\\\\\\\\\\\"}}\\\\\", \\\\\"activities\\\\\": 0}',\n",
       "  'EnableSubsampling': None,\n",
       "  'runTemplate': 'AutoML',\n",
       "  'azureml.runsource': 'automl',\n",
       "  'display_task_type': 'regression',\n",
       "  'dependencies_versions': '{\"azureml-widgets\": \"1.20.0\", \"azureml-train\": \"1.20.0\", \"azureml-train-restclients-hyperdrive\": \"1.20.0\", \"azureml-train-core\": \"1.20.0\", \"azureml-train-automl\": \"1.20.0\", \"azureml-train-automl-runtime\": \"1.20.0.post1\", \"azureml-train-automl-client\": \"1.20.0\", \"azureml-tensorboard\": \"1.19.0\", \"azureml-telemetry\": \"1.20.0\", \"azureml-sdk\": \"1.20.0\", \"azureml-samples\": \"0+unknown\", \"azureml-pipeline\": \"1.20.0\", \"azureml-pipeline-steps\": \"1.20.0\", \"azureml-pipeline-core\": \"1.20.0\", \"azureml-opendatasets\": \"1.19.0\", \"azureml-model-management-sdk\": \"1.0.1b6.post1\", \"azureml-mlflow\": \"1.19.0\", \"azureml-interpret\": \"1.20.0\", \"azureml-explain-model\": \"1.19.0\", \"azureml-defaults\": \"1.20.0\", \"azureml-dataset-runtime\": \"1.20.0\", \"azureml-dataprep\": \"2.7.3\", \"azureml-dataprep-rslex\": \"1.5.0\", \"azureml-dataprep-native\": \"27.0.0\", \"azureml-datadrift\": \"1.19.0\", \"azureml-core\": \"1.20.0\", \"azureml-contrib-services\": \"1.19.0\", \"azureml-contrib-server\": \"1.19.0\", \"azureml-contrib-reinforcementlearning\": \"1.19.0\", \"azureml-contrib-pipeline-steps\": \"1.19.0\", \"azureml-contrib-notebook\": \"1.20.0\", \"azureml-contrib-interpret\": \"1.19.0\", \"azureml-contrib-gbdt\": \"1.19.0\", \"azureml-contrib-fairness\": \"1.19.0\", \"azureml-contrib-dataset\": \"1.19.0\", \"azureml-cli-common\": \"1.19.0\", \"azureml-automl-runtime\": \"1.20.0\", \"azureml-automl-core\": \"1.20.0\", \"azureml-accel-models\": \"1.19.0\"}',\n",
       "  '_aml_system_scenario_identification': 'Remote.Parent',\n",
       "  'ClientType': 'SDK',\n",
       "  'environment_cpu_name': 'AzureML-AutoML',\n",
       "  'environment_cpu_label': 'prod',\n",
       "  'environment_gpu_name': 'AzureML-AutoML-GPU',\n",
       "  'environment_gpu_label': 'prod',\n",
       "  'root_attribution': 'automl',\n",
       "  'attribution': 'AutoML',\n",
       "  'Orchestrator': 'AutoML',\n",
       "  'CancelUri': 'https://southcentralus.experiments.azureml.net/jasmine/v1.0/subscriptions/48a74bb7-9950-4cc1-9caa-5d50f995cc55/resourceGroups/aml-quickstarts-135814/providers/Microsoft.MachineLearningServices/workspaces/quick-starts-ws-135814/experimentids/375e129d-0d8a-48e1-b8fb-ea00d8f20dac/cancel/AutoML_776f0748-dc4e-4a18-a10e-774284fe4973',\n",
       "  'ClientSdkVersion': '1.20.0',\n",
       "  'snapshotId': '00000000-0000-0000-0000-000000000000',\n",
       "  'SetupRunId': 'AutoML_776f0748-dc4e-4a18-a10e-774284fe4973_setup',\n",
       "  'SetupRunContainerId': 'dcid.AutoML_776f0748-dc4e-4a18-a10e-774284fe4973_setup',\n",
       "  'FeaturizationRunJsonPath': 'featurizer_container.json',\n",
       "  'FeaturizationRunId': 'AutoML_776f0748-dc4e-4a18-a10e-774284fe4973_featurize',\n",
       "  'ProblemInfoJsonString': '{\"dataset_num_categorical\": 0, \"is_sparse\": false, \"subsampling\": false, \"dataset_classes\": 3659, \"dataset_features\": 8, \"dataset_samples\": 16496, \"single_frequency_class_detected\": false}',\n",
       "  'ModelExplainRunId': 'AutoML_776f0748-dc4e-4a18-a10e-774284fe4973_ModelExplain'},\n",
       " 'inputDatasets': [{'dataset': {'id': '640c2eff-4319-4522-8d0a-97412f155f6b'}, 'consumptionDetails': {'type': 'RunInput', 'inputName': 'training_data', 'mechanism': 'Direct'}}],\n",
       " 'outputDatasets': [],\n",
       " 'logFiles': {},\n",
       " 'submittedBy': 'ODL_User 135814'}"
      ]
     },
     "execution_count": 10,
     "metadata": {},
     "output_type": "execute_result"
    }
   ],
   "source": [
    "RunDetails(remote_run).show()\n",
    "remote_run.wait_for_completion(show_output=False)"
   ]
  },
  {
   "cell_type": "markdown",
   "metadata": {},
   "source": [
    "## Best Model\n",
    "\n",
    "TODO: In the cell below, get the best model from the automl experiments and display all the properties of the model.\n",
    "\n"
   ]
  },
  {
   "cell_type": "markdown",
   "metadata": {},
   "source": [
    "### Inspect Some Results From Experiment"
   ]
  },
  {
   "cell_type": "code",
   "execution_count": 11,
   "metadata": {},
   "outputs": [
    {
     "data": {
      "text/html": [
       "[['VotingEnsemble', 1, 0.8505292811573466], ['RandomForest', 9, nan], ['ExtremeRandomTrees', 10, 0.7321051491356845], ['XGBoostRegressor', 11, 0.84854969316053], ['LightGBM', 2, 0.841866504256535], ['ElasticNet', 5, 0.6082912953839973], ['LassoLars', 1, 0.6084125424314996]]"
      ],
      "text/plain": [
       "[['VotingEnsemble', 1, 0.8505292811573466],\n",
       " ['RandomForest', 9, nan],\n",
       " ['ExtremeRandomTrees', 10, 0.7321051491356845],\n",
       " ['XGBoostRegressor', 11, 0.84854969316053],\n",
       " ['LightGBM', 2, 0.841866504256535],\n",
       " ['ElasticNet', 5, 0.6082912953839973],\n",
       " ['LassoLars', 1, 0.6084125424314996]]"
      ]
     },
     "execution_count": 11,
     "metadata": {},
     "output_type": "execute_result"
    }
   ],
   "source": [
    "# Summary of models attempted by AUTOML\n",
    "remote_run.summary()"
   ]
  },
  {
   "cell_type": "code",
   "execution_count": 71,
   "metadata": {},
   "outputs": [
    {
     "name": "stdout",
     "output_type": "stream",
     "text": [
      "   r2_score  normalized_median_absolute_error  normalized_mean_absolute_error  \\\n",
      "0      0.79                              0.05                            0.07   \n",
      "1      0.66                              0.08                            0.10   \n",
      "2      0.74                              0.07                            0.09   \n",
      "3      0.85                              0.04                            0.06   \n",
      "4      0.56                              0.09                            0.12   \n",
      "\n",
      "   root_mean_squared_error  spearman_correlation  \\\n",
      "0                     0.52                  0.89   \n",
      "1                     0.66                  0.79   \n",
      "2                     0.58                  0.87   \n",
      "3                     0.44                  0.92   \n",
      "4                     0.75                  0.76   \n",
      "\n",
      "   normalized_root_mean_squared_log_error  mean_absolute_error  \\\n",
      "0                                    0.10                 0.36   \n",
      "1                                    0.13                 0.49   \n",
      "2                                    0.11                 0.42   \n",
      "3                                    0.08                 0.30   \n",
      "4                                    0.14                 0.56   \n",
      "\n",
      "   normalized_root_mean_squared_error  mean_absolute_percentage_error  \\\n",
      "0                                0.11                           20.75   \n",
      "1                                0.14                           30.52   \n",
      "2                                0.12                           25.70   \n",
      "3                                0.09                           16.79   \n",
      "4                                0.15                           34.47   \n",
      "\n",
      "   median_absolute_error  root_mean_squared_log_error  explained_variance  \\\n",
      "0                   0.25                         0.16                0.79   \n",
      "1                   0.37                         0.21                0.66   \n",
      "2                   0.32                         0.18                0.74   \n",
      "3                   0.19                         0.13                0.85   \n",
      "4                   0.45                         0.23                0.56   \n",
      "\n",
      "                                          Run ID  \n",
      "0  AutoML_776f0748-dc4e-4a18-a10e-774284fe4973_1  \n",
      "1  AutoML_776f0748-dc4e-4a18-a10e-774284fe4973_2  \n",
      "2  AutoML_776f0748-dc4e-4a18-a10e-774284fe4973_3  \n",
      "3  AutoML_776f0748-dc4e-4a18-a10e-774284fe4973_4  \n",
      "4  AutoML_776f0748-dc4e-4a18-a10e-774284fe4973_5  \n"
     ]
    }
   ],
   "source": [
    "# Get all metrics for all iteartions  (I will print only 5, to save space)\n",
    "\n",
    "N = 45             # change for number of iterations in the experiment\n",
    "list_metrics = []\n",
    "for i in range(N):\n",
    "    try:\n",
    "        r, m = remote_run.get_output(iteration = i + 1)\n",
    "        temp = r.get_metrics()\n",
    "        temp.pop('residuals', 'No Key found') \n",
    "        temp.pop('predicted_true', 'No Key found') \n",
    "        temp['Run ID'] = r.id\n",
    "        list_metrics.append(temp)\n",
    "    except:    \n",
    "        pass                              ## this skips failed iterations\n",
    "out = pd.DataFrame(list_metrics)\n",
    "print(out.head())"
   ]
  },
  {
   "cell_type": "markdown",
   "metadata": {},
   "source": [
    "### Retieve Best Model"
   ]
  },
  {
   "cell_type": "code",
   "execution_count": 13,
   "metadata": {},
   "outputs": [
    {
     "name": "stdout",
     "output_type": "stream",
     "text": [
      "{'experiment_status': ['DatasetEvaluation', 'FeaturesGeneration', 'DatasetFeaturization', 'DatasetFeaturizationCompleted', 'ModelSelection'], 'experiment_status_description': ['Gathering dataset statistics.', 'Generating features for the dataset.', 'Beginning to fit featurizers and featurize the dataset.', 'Completed fit featurizers and featurizing the dataset.', 'Beginning model selection.'], 'spearman_correlation': 0.9248225685655759, 'mean_absolute_error': 0.2937641334828816, 'normalized_root_mean_squared_log_error': 0.08126165211940103, 'median_absolute_error': 0.1913893149116358, 'mean_absolute_percentage_error': 16.741440540585682, 'root_mean_squared_log_error': 0.13424489039133913, 'normalized_median_absolute_error': 0.03946155168672208, 'root_mean_squared_error': 0.4393434846132679, 'normalized_mean_absolute_error': 0.06056967465760587, 'normalized_root_mean_squared_error': 0.09058591193711941, 'explained_variance': 0.8505739633828067, 'r2_score': 0.8505292811573466}\n"
     ]
    }
   ],
   "source": [
    "# Get best model metrics\n",
    "best_metrics = remote_run.get_metrics()\n",
    "print(best_metrics)"
   ]
  },
  {
   "cell_type": "code",
   "execution_count": 14,
   "metadata": {
    "gather": {
     "logged": 1598431425670
    },
    "jupyter": {
     "outputs_hidden": false,
     "source_hidden": false
    },
    "nteract": {
     "transient": {
      "deleting": false
     }
    }
   },
   "outputs": [],
   "source": [
    "# Retrive best model\n",
    "best_run, fitted_model = remote_run.get_output()"
   ]
  },
  {
   "cell_type": "code",
   "execution_count": 15,
   "metadata": {},
   "outputs": [
    {
     "name": "stdout",
     "output_type": "stream",
     "text": [
      "Run(Experiment: california-housing,\n",
      "Id: AutoML_776f0748-dc4e-4a18-a10e-774284fe4973_38,\n",
      "Type: azureml.scriptrun,\n",
      "Status: Completed)\n"
     ]
    }
   ],
   "source": [
    "# RunID of the best model\n",
    "print(best_run)"
   ]
  },
  {
   "cell_type": "code",
   "execution_count": 16,
   "metadata": {},
   "outputs": [
    {
     "name": "stdout",
     "output_type": "stream",
     "text": [
      "RegressionPipeline(pipeline=Pipeline(memory=None,\n",
      "                                     steps=[('datatransformer',\n",
      "                                             DataTransformer(enable_dnn=None,\n",
      "                                                             enable_feature_sweeping=None,\n",
      "                                                             feature_sweeping_config=None,\n",
      "                                                             feature_sweeping_timeout=None,\n",
      "                                                             featurization_config=None,\n",
      "                                                             force_text_dnn=None,\n",
      "                                                             is_cross_validation=None,\n",
      "                                                             is_onnx_compatible=None,\n",
      "                                                             logger=None,\n",
      "                                                             observer=None,\n",
      "                                                             task=None,\n",
      "                                                             working_dir=None)),\n",
      "                                            ('pre...\n",
      "                                                                                                                          min_child_samples=20,\n",
      "                                                                                                                          min_child_weight=0.001,\n",
      "                                                                                                                          min_split_gain=0.0,\n",
      "                                                                                                                          n_estimators=100,\n",
      "                                                                                                                          n_jobs=1,\n",
      "                                                                                                                          num_leaves=31,\n",
      "                                                                                                                          objective=None,\n",
      "                                                                                                                          random_state=None,\n",
      "                                                                                                                          reg_alpha=0.0,\n",
      "                                                                                                                          reg_lambda=0.0,\n",
      "                                                                                                                          silent=True,\n",
      "                                                                                                                          subsample=1.0,\n",
      "                                                                                                                          subsample_for_bin=200000,\n",
      "                                                                                                                          subsample_freq=0,\n",
      "                                                                                                                          verbose=-1))],\n",
      "                                                                                                verbose=False))],\n",
      "                                                                          weights=[0.6153846153846154,\n",
      "                                                                                   0.15384615384615385,\n",
      "                                                                                   0.23076923076923078]))],\n",
      "                                     verbose=False),\n",
      "                   stddev=None)\n"
     ]
    }
   ],
   "source": [
    "# Best Model\n",
    "print(fitted_model)"
   ]
  },
  {
   "cell_type": "code",
   "execution_count": 17,
   "metadata": {},
   "outputs": [
    {
     "data": {
      "text/html": [
       "[('datatransformer', DataTransformer(enable_dnn=None, enable_feature_sweeping=None,\n",
       "                feature_sweeping_config=None, feature_sweeping_timeout=None,\n",
       "                featurization_config=None, force_text_dnn=None,\n",
       "                is_cross_validation=None, is_onnx_compatible=None, logger=None,\n",
       "                observer=None, task=None, working_dir=None)), ('prefittedsoftvotingregressor', PreFittedSoftVotingRegressor(estimators=[('4',\n",
       "                                          Pipeline(memory=None,\n",
       "                                                   steps=[('standardscalerwrapper',\n",
       "                                                           <azureml.automl.runtime.shared.model_wrappers.StandardScalerWrapper object at 0x7f20b46aa278>),\n",
       "                                                          ('xgboostregressor',\n",
       "                                                           XGBoostRegressor(base_score=0.5,\n",
       "                                                                            booster='gbtree',\n",
       "                                                                            colsample_bylevel=1,\n",
       "                                                                            colsample_bynode=1,\n",
       "                                                                            colsample_bytree=0.9,\n",
       "                                                                            eta=0.5,\n",
       "                                                                            gamma=0,\n",
       "                                                                            importance_typ...\n",
       "                                                                             learning_rate=0.1,\n",
       "                                                                             max_depth=-1,\n",
       "                                                                             min_child_samples=20,\n",
       "                                                                             min_child_weight=0.001,\n",
       "                                                                             min_split_gain=0.0,\n",
       "                                                                             n_estimators=100,\n",
       "                                                                             n_jobs=1,\n",
       "                                                                             num_leaves=31,\n",
       "                                                                             objective=None,\n",
       "                                                                             random_state=None,\n",
       "                                                                             reg_alpha=0.0,\n",
       "                                                                             reg_lambda=0.0,\n",
       "                                                                             silent=True,\n",
       "                                                                             subsample=1.0,\n",
       "                                                                             subsample_for_bin=200000,\n",
       "                                                                             subsample_freq=0,\n",
       "                                                                             verbose=-1))],\n",
       "                                                   verbose=False))],\n",
       "                             weights=[0.6153846153846154, 0.15384615384615385,\n",
       "                                      0.23076923076923078]))]"
      ],
      "text/plain": [
       "[('datatransformer',\n",
       "  DataTransformer(enable_dnn=None, enable_feature_sweeping=None,\n",
       "                  feature_sweeping_config=None, feature_sweeping_timeout=None,\n",
       "                  featurization_config=None, force_text_dnn=None,\n",
       "                  is_cross_validation=None, is_onnx_compatible=None, logger=None,\n",
       "                  observer=None, task=None, working_dir=None)),\n",
       " ('prefittedsoftvotingregressor',\n",
       "  PreFittedSoftVotingRegressor(estimators=[('4',\n",
       "                                            Pipeline(memory=None,\n",
       "                                                     steps=[('standardscalerwrapper',\n",
       "                                                             <azureml.automl.runtime.shared.model_wrappers.StandardScalerWrapper object at 0x7f20b46aa278>),\n",
       "                                                            ('xgboostregressor',\n",
       "                                                             XGBoostRegressor(base_score=0.5,\n",
       "                                                                              booster='gbtree',\n",
       "                                                                              colsample_bylevel=1,\n",
       "                                                                              colsample_bynode=1,\n",
       "                                                                              colsample_bytree=0.9,\n",
       "                                                                              eta=0.5,\n",
       "                                                                              gamma=0,\n",
       "                                                                              importance_typ...\n",
       "                                                                               learning_rate=0.1,\n",
       "                                                                               max_depth=-1,\n",
       "                                                                               min_child_samples=20,\n",
       "                                                                               min_child_weight=0.001,\n",
       "                                                                               min_split_gain=0.0,\n",
       "                                                                               n_estimators=100,\n",
       "                                                                               n_jobs=1,\n",
       "                                                                               num_leaves=31,\n",
       "                                                                               objective=None,\n",
       "                                                                               random_state=None,\n",
       "                                                                               reg_alpha=0.0,\n",
       "                                                                               reg_lambda=0.0,\n",
       "                                                                               silent=True,\n",
       "                                                                               subsample=1.0,\n",
       "                                                                               subsample_for_bin=200000,\n",
       "                                                                               subsample_freq=0,\n",
       "                                                                               verbose=-1))],\n",
       "                                                     verbose=False))],\n",
       "                               weights=[0.6153846153846154, 0.15384615384615385,\n",
       "                                        0.23076923076923078]))]"
      ]
     },
     "execution_count": 17,
     "metadata": {},
     "output_type": "execute_result"
    }
   ],
   "source": [
    "fitted_model.steps"
   ]
  },
  {
   "cell_type": "code",
   "execution_count": 18,
   "metadata": {},
   "outputs": [
    {
     "data": {
      "text/html": [
       "[{'RawFeatureName': 'MedInc', 'TypeDetected': 'Numeric', 'Dropped': 'No', 'EngineeredFeatureCount': 1, 'Transformations': ['MeanImputer']}, {'RawFeatureName': 'HouseAge', 'TypeDetected': 'Numeric', 'Dropped': 'No', 'EngineeredFeatureCount': 1, 'Transformations': ['MeanImputer']}, {'RawFeatureName': 'AveRooms', 'TypeDetected': 'Numeric', 'Dropped': 'No', 'EngineeredFeatureCount': 1, 'Transformations': ['MeanImputer']}, {'RawFeatureName': 'AveBedrms', 'TypeDetected': 'Numeric', 'Dropped': 'No', 'EngineeredFeatureCount': 1, 'Transformations': ['MeanImputer']}, {'RawFeatureName': 'Population', 'TypeDetected': 'Numeric', 'Dropped': 'No', 'EngineeredFeatureCount': 1, 'Transformations': ['MeanImputer']}, {'RawFeatureName': 'AveOccup', 'TypeDetected': 'Numeric', 'Dropped': 'No', 'EngineeredFeatureCount': 1, 'Transformations': ['MeanImputer']}, {'RawFeatureName': 'Latitude', 'TypeDetected': 'Numeric', 'Dropped': 'No', 'EngineeredFeatureCount': 1, 'Transformations': ['MeanImputer']}, {'RawFeatureName': 'Longitude', 'TypeDetected': 'Numeric', 'Dropped': 'No', 'EngineeredFeatureCount': 1, 'Transformations': ['MeanImputer']}]"
      ],
      "text/plain": [
       "[{'RawFeatureName': 'MedInc',\n",
       "  'TypeDetected': 'Numeric',\n",
       "  'Dropped': 'No',\n",
       "  'EngineeredFeatureCount': 1,\n",
       "  'Transformations': ['MeanImputer']},\n",
       " {'RawFeatureName': 'HouseAge',\n",
       "  'TypeDetected': 'Numeric',\n",
       "  'Dropped': 'No',\n",
       "  'EngineeredFeatureCount': 1,\n",
       "  'Transformations': ['MeanImputer']},\n",
       " {'RawFeatureName': 'AveRooms',\n",
       "  'TypeDetected': 'Numeric',\n",
       "  'Dropped': 'No',\n",
       "  'EngineeredFeatureCount': 1,\n",
       "  'Transformations': ['MeanImputer']},\n",
       " {'RawFeatureName': 'AveBedrms',\n",
       "  'TypeDetected': 'Numeric',\n",
       "  'Dropped': 'No',\n",
       "  'EngineeredFeatureCount': 1,\n",
       "  'Transformations': ['MeanImputer']},\n",
       " {'RawFeatureName': 'Population',\n",
       "  'TypeDetected': 'Numeric',\n",
       "  'Dropped': 'No',\n",
       "  'EngineeredFeatureCount': 1,\n",
       "  'Transformations': ['MeanImputer']},\n",
       " {'RawFeatureName': 'AveOccup',\n",
       "  'TypeDetected': 'Numeric',\n",
       "  'Dropped': 'No',\n",
       "  'EngineeredFeatureCount': 1,\n",
       "  'Transformations': ['MeanImputer']},\n",
       " {'RawFeatureName': 'Latitude',\n",
       "  'TypeDetected': 'Numeric',\n",
       "  'Dropped': 'No',\n",
       "  'EngineeredFeatureCount': 1,\n",
       "  'Transformations': ['MeanImputer']},\n",
       " {'RawFeatureName': 'Longitude',\n",
       "  'TypeDetected': 'Numeric',\n",
       "  'Dropped': 'No',\n",
       "  'EngineeredFeatureCount': 1,\n",
       "  'Transformations': ['MeanImputer']}]"
      ]
     },
     "execution_count": 18,
     "metadata": {},
     "output_type": "execute_result"
    }
   ],
   "source": [
    "fitted_model.named_steps['datatransformer'].get_featurization_summary()"
   ]
  },
  {
   "cell_type": "markdown",
   "metadata": {},
   "source": [
    "### Save and Register Best Model"
   ]
  },
  {
   "cell_type": "code",
   "execution_count": 19,
   "metadata": {
    "gather": {
     "logged": 1598431426111
    },
    "jupyter": {
     "outputs_hidden": false,
     "source_hidden": false
    },
    "nteract": {
     "transient": {
      "deleting": false
     }
    }
   },
   "outputs": [
    {
     "data": {
      "text/html": [
       "['automl/best-automl.joblib']"
      ],
      "text/plain": [
       "['automl/best-automl.joblib']"
      ]
     },
     "execution_count": 19,
     "metadata": {},
     "output_type": "execute_result"
    }
   ],
   "source": [
    "#TODO: Save the best model\n",
    "joblib.dump(fitted_model, filename='automl/best-automl.joblib')"
   ]
  },
  {
   "cell_type": "code",
   "execution_count": 20,
   "metadata": {},
   "outputs": [],
   "source": [
    "# register model\n",
    "model = remote_run.register_model(model_name='best-automl')"
   ]
  },
  {
   "cell_type": "markdown",
   "metadata": {},
   "source": [
    "### Try Best Model on the Test Dataset"
   ]
  },
  {
   "cell_type": "code",
   "execution_count": 23,
   "metadata": {},
   "outputs": [
    {
     "name": "stdout",
     "output_type": "stream",
     "text": [
      "Collecting seaborn\n",
      "  Downloading seaborn-0.11.1-py3-none-any.whl (285 kB)\n",
      "\u001b[K     |████████████████████████████████| 285 kB 6.1 MB/s eta 0:00:01\n",
      "\u001b[?25hRequirement already satisfied: pandas>=0.23 in /anaconda/envs/azureml_py36/lib/python3.6/site-packages (from seaborn) (0.25.3)\n",
      "Requirement already satisfied: numpy>=1.15 in /anaconda/envs/azureml_py36/lib/python3.6/site-packages (from seaborn) (1.19.5)\n",
      "Requirement already satisfied: scipy>=1.0 in /anaconda/envs/azureml_py36/lib/python3.6/site-packages (from seaborn) (1.5.2)\n",
      "Requirement already satisfied: matplotlib>=2.2 in /anaconda/envs/azureml_py36/lib/python3.6/site-packages (from seaborn) (3.2.1)\n",
      "Requirement already satisfied: pytz>=2017.2 in /anaconda/envs/azureml_py36/lib/python3.6/site-packages (from pandas>=0.23->seaborn) (2020.5)\n",
      "Requirement already satisfied: python-dateutil>=2.6.1 in /anaconda/envs/azureml_py36/lib/python3.6/site-packages (from pandas>=0.23->seaborn) (2.8.1)\n",
      "Requirement already satisfied: kiwisolver>=1.0.1 in /anaconda/envs/azureml_py36/lib/python3.6/site-packages (from matplotlib>=2.2->seaborn) (1.3.1)\n",
      "Requirement already satisfied: cycler>=0.10 in /anaconda/envs/azureml_py36/lib/python3.6/site-packages (from matplotlib>=2.2->seaborn) (0.10.0)\n",
      "Requirement already satisfied: pyparsing!=2.0.4,!=2.1.2,!=2.1.6,>=2.0.1 in /anaconda/envs/azureml_py36/lib/python3.6/site-packages (from matplotlib>=2.2->seaborn) (2.4.7)\n",
      "Requirement already satisfied: six>=1.5 in /anaconda/envs/azureml_py36/lib/python3.6/site-packages (from python-dateutil>=2.6.1->pandas>=0.23->seaborn) (1.15.0)\n",
      "Installing collected packages: seaborn\n",
      "Successfully installed seaborn-0.11.1\n"
     ]
    }
   ],
   "source": [
    "!pip install seaborn\n",
    "import matplotlib.pyplot as plt\n",
    "import seaborn as sns\n",
    "sns.set_theme(style=\"whitegrid\")"
   ]
  },
  {
   "cell_type": "code",
   "execution_count": 25,
   "metadata": {},
   "outputs": [
    {
     "name": "stdout",
     "output_type": "stream",
     "text": [
      "R2 score for test data:  0.9249371922582913\n"
     ]
    }
   ],
   "source": [
    "from sklearn.metrics import r2_score\n",
    "try:\n",
    "    y_pred = fitted_model.predict(x_test)\n",
    "    residuals = y_test['MedHouseVal'] - y_pred\n",
    "    r2 = r2_score(y_test, y_pred)\n",
    "    print('R2 score for test data: ',r2)\n",
    "except Exception as e:\n",
    "    print(str(e))"
   ]
  },
  {
   "cell_type": "code",
   "execution_count": 26,
   "metadata": {},
   "outputs": [
    {
     "data": {
      "image/png": "[encoded data removed]",
      "text/plain": [
       "<Figure size 432x432 with 1 Axes>"
      ]
     },
     "metadata": {},
     "output_type": "display_data"
    }
   ],
   "source": [
    "# Plot actual vs. fitted values for the test dataset\n",
    "plt.figure(figsize=(6, 6))\n",
    "ax = sns.scatterplot(x=y_test['MedHouseVal'], y=y_pred, color='r')\n",
    "ax.set_xlabel('Actual House Prices',fontsize = 15)\n",
    "ax.set_ylabel('Predicted House Prices',fontsize = 15)\n",
    "plt.show()"
   ]
  },
  {
   "cell_type": "code",
   "execution_count": 27,
   "metadata": {},
   "outputs": [
    {
     "data": {
      "image/png": "[encoded data removed]",
      "text/plain": [
       "<Figure size 432x432 with 1 Axes>"
      ]
     },
     "metadata": {},
     "output_type": "display_data"
    }
   ],
   "source": [
    "# Distribution of the residuals\n",
    "plt.figure(figsize=(6, 6))\n",
    "ax = sns.histplot(data=residuals, kde=True, color='r')\n",
    "plt.show()"
   ]
  },
  {
   "cell_type": "markdown",
   "metadata": {},
   "source": [
    "## Model Deployment\n",
    "\n",
    "Remember you have to deploy only one of the two models you trained.. Perform the steps in the rest of this notebook only if you wish to deploy this model.\n",
    "\n",
    "TODO: In the cell below, register the model, create an inference config and deploy the model as a web service."
   ]
  },
  {
   "cell_type": "code",
   "execution_count": 28,
   "metadata": {},
   "outputs": [],
   "source": [
    "# Retrive the registered model\n",
    "model = Model(ws, 'best-automl')"
   ]
  },
  {
   "cell_type": "code",
   "execution_count": 29,
   "metadata": {},
   "outputs": [],
   "source": [
    "# Environment\n",
    "try:\n",
    "    best_run.download_file('outputs/conda_env_v_1_0_0.yml', 'automl/auto_conda_env.yml')  ## si no funciona reemplazar automl por .\n",
    "    env = Environment.from_conda_specification('myenv','automl/auto_conda_env.yml')\n",
    "except Exception as e:\n",
    "    print(str(e))"
   ]
  },
  {
   "cell_type": "code",
   "execution_count": 30,
   "metadata": {},
   "outputs": [],
   "source": [
    "# Scoring file\n",
    "try:\n",
    "    best_run.download_file('outputs/scoring_file_v_1_0_0.py', 'automl/score.py')  \n",
    "except Exception as e:\n",
    "    print(str(e)) "
   ]
  },
  {
   "cell_type": "code",
   "execution_count": 31,
   "metadata": {},
   "outputs": [],
   "source": [
    "# inference config\n",
    "inference_config = InferenceConfig(entry_script='automl/score.py', environment=env)\n",
    "\n",
    "# deployment config\n",
    "deployment_config = AciWebservice.deploy_configuration(cpu_cores = 1, memory_gb = 1, auth_enabled=True, enable_app_insights=True)"
   ]
  },
  {
   "cell_type": "code",
   "execution_count": 32,
   "metadata": {},
   "outputs": [
    {
     "name": "stdout",
     "output_type": "stream",
     "text": [
      "Tips: You can try get_logs(): https://aka.ms/debugimage#dockerlog or local deployment: https://aka.ms/debugimage#debug-locally to debug if deployment takes longer than 10 minutes.\n",
      "Running...................................................................................................................................................................................................\n",
      "Succeeded\n",
      "ACI service creation operation finished, operation \"Succeeded\"\n",
      "Healthy\n"
     ]
    }
   ],
   "source": [
    "# deploy\n",
    "try:\n",
    "    service = Model.deploy(ws, \"credit-card-default\", [model], inference_config, deployment_config, overwrite=True)\n",
    "    service.wait_for_deployment(show_output = True)\n",
    "    print(service.state)\n",
    "except Exception as e:\n",
    "    print(str(e))"
   ]
  },
  {
   "cell_type": "markdown",
   "metadata": {
    "gather": {
     "logged": 1598431657736
    },
    "jupyter": {
     "outputs_hidden": false,
     "source_hidden": false
    },
    "nteract": {
     "transient": {
      "deleting": false
     }
    }
   },
   "source": [
    "TODO: In the cell below, send a request to the web service you deployed to test it."
   ]
  },
  {
   "cell_type": "markdown",
   "metadata": {},
   "source": [
    "### Get service information"
   ]
  },
  {
   "cell_type": "code",
   "execution_count": 33,
   "metadata": {},
   "outputs": [
    {
     "name": "stdout",
     "output_type": "stream",
     "text": [
      "URI:  http://229b5023-c503-4a23-abb5-37e57d5dc296.southcentralus.azurecontainer.io/score\n"
     ]
    }
   ],
   "source": [
    "scoring_uri = service.scoring_uri\n",
    "print('URI: ', scoring_uri)"
   ]
  },
  {
   "cell_type": "code",
   "execution_count": 34,
   "metadata": {},
   "outputs": [
    {
     "name": "stdout",
     "output_type": "stream",
     "text": [
      "KEYS:  ('zRJ5dv0jGWsGb7QzrkE6ub70q0whiaHO', 'YQipMsqNByUgYUSCBSRMKgsGVCkeVEuM')\n"
     ]
    }
   ],
   "source": [
    "keys = service.get_keys()\n",
    "print('KEYS: ', keys)"
   ]
  },
  {
   "cell_type": "code",
   "execution_count": 35,
   "metadata": {},
   "outputs": [
    {
     "name": "stdout",
     "output_type": "stream",
     "text": [
      "http://229b5023-c503-4a23-abb5-37e57d5dc296.southcentralus.azurecontainer.io/swagger.json\n"
     ]
    }
   ],
   "source": [
    "swag = service.swagger_uri\n",
    "print(swag)"
   ]
  },
  {
   "cell_type": "code",
   "execution_count": 36,
   "metadata": {
    "scrolled": true
   },
   "outputs": [],
   "source": [
    "serv = service.serialize()\n",
    "#print(serv)"
   ]
  },
  {
   "cell_type": "markdown",
   "metadata": {},
   "source": [
    "### send request with service.run()"
   ]
  },
  {
   "cell_type": "code",
   "execution_count": 37,
   "metadata": {},
   "outputs": [
    {
     "name": "stdout",
     "output_type": "stream",
     "text": [
      "{\"result\": [1.4886813481923338, 2.722584992734672, 1.5964280007294387, 0.8582793302758631, 4.39310051299731, 1.7561601664875992, 2.538168762199376, 3.7360052954853167, 3.056147606907876, 2.0676987811934278]}\n"
     ]
    }
   ],
   "source": [
    "test = x_test[0:10]\n",
    "input_payload = json.dumps({'data': test.to_numpy().tolist()})\n",
    "output = service.run(input_payload)\n",
    "print(output)"
   ]
  },
  {
   "cell_type": "markdown",
   "metadata": {},
   "source": [
    "### send request to the endpoint"
   ]
  },
  {
   "cell_type": "code",
   "execution_count": 38,
   "metadata": {},
   "outputs": [],
   "source": [
    "# prepare data\n",
    "x_test_json = test[0:10].to_json(orient='records')     ## si no funciona hacer primero test = x_test[0:10] y poner test en el json\n",
    "data = \"{\\\"data\\\": \" + x_test_json +\"}\""
   ]
  },
  {
   "cell_type": "code",
   "execution_count": 39,
   "metadata": {},
   "outputs": [],
   "source": [
    "headers = {'Content-Type':'application/json',  'Authorization':('Bearer '+ keys[0])}"
   ]
  },
  {
   "cell_type": "code",
   "execution_count": 40,
   "metadata": {},
   "outputs": [
    {
     "name": "stdout",
     "output_type": "stream",
     "text": [
      "<Response [200]>\n"
     ]
    }
   ],
   "source": [
    "# send request\n",
    "resp = requests.post(scoring_uri, data, headers=headers)\n",
    "print(resp)"
   ]
  },
  {
   "cell_type": "code",
   "execution_count": 41,
   "metadata": {},
   "outputs": [
    {
     "name": "stdout",
     "output_type": "stream",
     "text": [
      "result: [1.4886813481923338, 2.722584992734672, 1.5964280007294387, 0.8582793302758631, 4.39310051299731, 1.7561601664875992, 2.538168762199376, 3.7360052954853167, 3.056147606907876, 2.0676987811934278]\n"
     ]
    }
   ],
   "source": [
    "y_pred = json.loads(json.loads(resp.text))['result']\n",
    "print('result:', y_pred)"
   ]
  },
  {
   "cell_type": "markdown",
   "metadata": {
    "gather": {
     "logged": 1598432765711
    },
    "jupyter": {
     "outputs_hidden": false,
     "source_hidden": false
    },
    "nteract": {
     "transient": {
      "deleting": false
     }
    }
   },
   "source": [
    "TODO: In the cell below, print the logs of the web service and delete the service"
   ]
  },
  {
   "cell_type": "code",
   "execution_count": 42,
   "metadata": {
    "jupyter": {
     "outputs_hidden": false,
     "source_hidden": false
    },
    "nteract": {
     "transient": {
      "deleting": false
     }
    }
   },
   "outputs": [
    {
     "name": "stdout",
     "output_type": "stream",
     "text": [
      "2021-01-23T19:55:18,771185830+00:00 - rsyslog/run \n",
      "2021-01-23T19:55:18,772483043+00:00 - gunicorn/run \n",
      "2021-01-23T19:55:18,772672045+00:00 - iot-server/run \n",
      "2021-01-23T19:55:18,774673364+00:00 - nginx/run \n",
      "/usr/sbin/nginx: /azureml-envs/azureml_fc7e1840225416a471556263041ca33e/lib/libcrypto.so.1.0.0: no version information available (required by /usr/sbin/nginx)\n",
      "/usr/sbin/nginx: /azureml-envs/azureml_fc7e1840225416a471556263041ca33e/lib/libcrypto.so.1.0.0: no version information available (required by /usr/sbin/nginx)\n",
      "/usr/sbin/nginx: /azureml-envs/azureml_fc7e1840225416a471556263041ca33e/lib/libssl.so.1.0.0: no version information available (required by /usr/sbin/nginx)\n",
      "/usr/sbin/nginx: /azureml-envs/azureml_fc7e1840225416a471556263041ca33e/lib/libssl.so.1.0.0: no version information available (required by /usr/sbin/nginx)\n",
      "/usr/sbin/nginx: /azureml-envs/azureml_fc7e1840225416a471556263041ca33e/lib/libssl.so.1.0.0: no version information available (required by /usr/sbin/nginx)\n",
      "rsyslogd: /azureml-envs/azureml_fc7e1840225416a471556263041ca33e/lib/libuuid.so.1: no version information available (required by rsyslogd)\n",
      "EdgeHubConnectionString and IOTEDGE_IOTHUBHOSTNAME are not set. Exiting...\n",
      "2021-01-23T19:55:18,961079407+00:00 - iot-server/finish 1 0\n",
      "2021-01-23T19:55:18,962125218+00:00 - Exit code 1 is normal. Not restarting iot-server.\n",
      "Starting gunicorn 19.9.0\n",
      "Listening at: http://127.0.0.1:31311 (10)\n",
      "Using worker: sync\n",
      "worker timeout is set to 300\n",
      "Booting worker with pid: 41\n",
      "SPARK_HOME not set. Skipping PySpark Initialization.\n",
      "Generating new fontManager, this may take some time...\n",
      "Initializing logger\n",
      "2021-01-23 19:55:20,063 | root | INFO | Starting up app insights client\n",
      "2021-01-23 19:55:20,063 | root | INFO | Starting up request id generator\n",
      "2021-01-23 19:55:20,063 | root | INFO | Starting up app insight hooks\n",
      "2021-01-23 19:55:20,064 | root | INFO | Invoking user's init function\n",
      "2021-01-23 19:55:21,959 | azureml.core | WARNING | Failure while loading azureml_run_type_providers. Failed to load entrypoint automl = azureml.train.automl.run:AutoMLRun._from_run_dto with exception cannot import name 'RunType'.\n",
      "Failure while loading azureml_run_type_providers. Failed to load entrypoint automl = azureml.train.automl.run:AutoMLRun._from_run_dto with exception cannot import name 'RunType'.\n",
      "2021-01-23 19:55:21,987 | root | INFO | Users's init has completed successfully\n",
      "2021-01-23 19:55:21,990 | root | INFO | Skipping middleware: dbg_model_info as it's not enabled.\n",
      "2021-01-23 19:55:21,990 | root | INFO | Skipping middleware: dbg_resource_usage as it's not enabled.\n",
      "2021-01-23 19:55:21,992 | root | INFO | Scoring timeout is found from os.environ: 60000 ms\n",
      "2021-01-23 19:55:38,723 | root | INFO | 200\n",
      "127.0.0.1 - - [23/Jan/2021:19:55:38 +0000] \"GET /swagger.json HTTP/1.0\" 200 2530 \"-\" \"Go-http-client/1.1\"\n",
      "2021-01-23 19:55:44,680 | root | INFO | 200\n",
      "127.0.0.1 - - [23/Jan/2021:19:55:44 +0000] \"GET /swagger.json HTTP/1.0\" 200 2530 \"-\" \"Go-http-client/1.1\"\n",
      "2021-01-23 19:56:02,919 | root | INFO | Validation Request Content-Type\n",
      "2021-01-23 19:56:02,919 | root | INFO | Scoring Timer is set to 60.0 seconds\n",
      "2021-01-23 19:56:02,957 | root | INFO | 200\n",
      "127.0.0.1 - - [23/Jan/2021:19:56:02 +0000] \"POST /score HTTP/1.0\" 200 211 \"-\" \"python-requests/2.25.1\"\n",
      "2021-01-23 19:56:07,904 | root | INFO | Validation Request Content-Type\n",
      "2021-01-23 19:56:07,905 | root | INFO | Scoring Timer is set to 60.0 seconds\n",
      "2021-01-23 19:56:07,946 | root | INFO | 200\n",
      "127.0.0.1 - - [23/Jan/2021:19:56:07 +0000] \"POST /score HTTP/1.0\" 200 211 \"-\" \"python-requests/2.25.1\"\n",
      "\n"
     ]
    }
   ],
   "source": [
    "print(service.get_logs())"
   ]
  },
  {
   "cell_type": "markdown",
   "metadata": {},
   "source": [
    "### Best Model Explanation"
   ]
  },
  {
   "cell_type": "code",
   "execution_count": 43,
   "metadata": {},
   "outputs": [],
   "source": [
    "# Get model explanation data\n",
    "client = ExplanationClient.from_run(best_run)\n",
    "global_explanation = client.download_model_explanation(raw=True)\n",
    "local_importance_values = global_explanation.local_importance_values\n",
    "expected_values = global_explanation.expected_values\n",
    "global_importance_values = global_explanation.get_ranked_global_values()\n",
    "global_importance_names = global_explanation.get_ranked_global_names()\n",
    "\n",
    "\"\"\"\n",
    "# We could get the 4 most important features this way:\n",
    "global_explanation_top4 = client.download_model_explanation(top_k=4)\n",
    "global_importance_values = global_explanation_top4.get_ranked_global_values()\n",
    "global_importance_names = global_explanation_top4.get_ranked_global_names()\n",
    "\"\"\"\n",
    "\n",
    "# Get engineered features explanation\n",
    "engineered_explanations = client.download_model_explanation(raw=False)"
   ]
  },
  {
   "cell_type": "code",
   "execution_count": 44,
   "metadata": {},
   "outputs": [
    {
     "name": "stdout",
     "output_type": "stream",
     "text": [
      "global importance names: ['MedInc', 'Latitude', 'Longitude', 'AveOccup', 'AveRooms', 'HouseAge', 'AveBedrms', 'Population']\n",
      "global importance values: [0.4971023254470026, 0.36922816470166486, 0.31033175630905185, 0.2313138176945397, 0.07158789640786735, 0.06351042533327844, 0.03920306468271914, 0.017580008662414447]\n",
      "\n",
      "Engineered Features Explanation\n",
      "{'MedInc_MeanImputer': 0.4971023254470026, 'Latitude_MeanImputer': 0.36922816470166486, 'Longitude_MeanImputer': 0.31033175630905185, 'AveOccup_MeanImputer': 0.2313138176945397, 'AveRooms_MeanImputer': 0.07158789640786735, 'HouseAge_MeanImputer': 0.06351042533327844, 'AveBedrms_MeanImputer': 0.03920306468271914, 'Population_MeanImputer': 0.017580008662414447}\n"
     ]
    }
   ],
   "source": [
    "# Print global values\n",
    "print('global importance names: {}'.format(global_importance_names))\n",
    "print('global importance values: {}'.format(global_importance_values))\n",
    "print('\\nEngineered Features Explanation')\n",
    "print(engineered_explanations.get_feature_importance_dict())\n"
   ]
  },
  {
   "cell_type": "markdown",
   "metadata": {},
   "source": [
    "## UNCOMMENT AND RUN THIS AT THE END, AFTER HAVING DOCUMENTED AND SAVED EVERYTHING"
   ]
  },
  {
   "cell_type": "code",
   "execution_count": 72,
   "metadata": {},
   "outputs": [],
   "source": [
    "# Delete web service\n",
    "service.delete()"
   ]
  },
  {
   "cell_type": "code",
   "execution_count": 73,
   "metadata": {},
   "outputs": [
    {
     "name": "stdout",
     "output_type": "stream",
     "text": [
      "Current provisioning state of AmlCompute is \"Deleting\"\n",
      "\n"
     ]
    }
   ],
   "source": [
    "# Delete cluster\n",
    "compute_target.delete()"
   ]
  },
  {
   "cell_type": "code",
   "execution_count": null,
   "metadata": {},
   "outputs": [],
   "source": []
  }
 ],
 "metadata": {
  "kernel_info": {
   "name": "python3-azureml"
  },
  "kernelspec": {
   "display_name": "Python 3.6 - AzureML",
   "language": "python",
   "name": "python3-azureml"
  },
  "language_info": {
   "codemirror_mode": {
    "name": "ipython",
    "version": 3
   },
   "file_extension": ".py",
   "mimetype": "text/x-python",
   "name": "python",
   "nbconvert_exporter": "python",
   "pygments_lexer": "ipython3",
   "version": "3.6.9"
  },
  "nteract": {
   "version": "nteract-front-end@1.0.0"
  }
 },
 "nbformat": 4,
 "nbformat_minor": 4
}
